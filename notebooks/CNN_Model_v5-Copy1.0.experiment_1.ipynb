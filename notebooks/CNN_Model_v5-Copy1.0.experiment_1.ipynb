{
 "cells": [
  {
   "cell_type": "code",
   "execution_count": 1,
   "metadata": {},
   "outputs": [],
   "source": [
    "from __future__ import absolute_import, division, print_function, unicode_literals\n",
    "\n",
    "import tensorflow as tf\n",
    "from tensorflow import keras\n",
    "\n",
    "tf.keras.backend.clear_session()"
   ]
  },
  {
   "cell_type": "code",
   "execution_count": 2,
   "metadata": {},
   "outputs": [
    {
     "name": "stderr",
     "output_type": "stream",
     "text": [
      "Using TensorFlow backend.\n"
     ]
    }
   ],
   "source": [
    "from src.models import base_model, cnn_model\n",
    "from src import custom_losses, custom_metrics, optimizers\n",
    "from src.data import data"
   ]
  },
  {
   "cell_type": "code",
   "execution_count": 3,
   "metadata": {},
   "outputs": [],
   "source": [
    "from importlib import reload"
   ]
  },
  {
   "cell_type": "code",
   "execution_count": 4,
   "metadata": {},
   "outputs": [],
   "source": [
    "paths = data.PATH()\n",
    "\n",
    "dataset_path = f'{paths.PROCESSED_DATA_PATH}/REI-Dataset/'\n",
    "\n",
    "batch_size = 64\n",
    "n_classes = 6\n",
    "epochs = 100\n",
    "img_size = 128\n",
    "n_channels = 3\n",
    "\n",
    "model = cnn_model.CNN_Model(batch_size, n_classes, epochs, img_size, n_channels)\n",
    "\n",
    "train_generator, validation_generator = model.get_image_data_generator(dataset_path, train=True, validation=True)\n",
    "weights = model.get_class_weights(train_generator.classes, model)\n",
    "#model.compile(loss=custom_losses.weighted_categorical_crossentropy(weights), metrics=['categorical_accuracy'],)\n",
    "model.compile(loss='categorical_crossentropy', metrics=['categorical_accuracy'],)\n",
    "\n",
    "model.show_summary()"
   ]
  },
  {
   "cell_type": "code",
   "execution_count": 11,
   "metadata": {},
   "outputs": [],
   "source": [
    "steps_per_epoch, validation_steps = len(train_generator.classes), len(validation_generator.classes)"
   ]
  },
  {
   "cell_type": "code",
   "execution_count": null,
   "metadata": {
    "scrolled": true
   },
   "outputs": [
    {
     "name": "stderr",
     "output_type": "stream",
     "text": [
      "W1129 21:51:43.495237 140462834751296 deprecation_wrapper.py:119] From /home/ifranco/Documents/facultad/tesis/tf_real_estate_images_classification/src/models/base_model.py:356: The name tf.global_variables_initializer is deprecated. Please use tf.compat.v1.global_variables_initializer instead.\n",
      "\n",
      "W1129 21:51:43.497032 140462834751296 deprecation_wrapper.py:119] From /home/ifranco/Documents/facultad/tesis/tf_real_estate_images_classification/src/models/base_model.py:357: The name tf.local_variables_initializer is deprecated. Please use tf.compat.v1.local_variables_initializer instead.\n",
      "\n",
      "W1129 21:51:43.498769 140462834751296 deprecation_wrapper.py:119] From /home/ifranco/Documents/facultad/tesis/tf_real_estate_images_classification/src/models/base_model.py:358: The name tf.keras.backend.get_session is deprecated. Please use tf.compat.v1.keras.backend.get_session instead.\n",
      "\n"
     ]
    },
    {
     "name": "stdout",
     "output_type": "stream",
     "text": [
      "class_weights [1.31949153 1.24162679 0.61687797 1.09957627 0.973125   1.13815789]\n",
      "**** Class weights ****\n",
      "[1.31949153 1.24162679 0.61687797 1.09957627 0.973125   1.13815789]\n",
      "*** ** *** *** *** ** ***\n"
     ]
    },
    {
     "name": "stderr",
     "output_type": "stream",
     "text": [
      "W1129 21:51:46.132597 140462834751296 deprecation_wrapper.py:119] From /home/ifranco/Documents/facultad/tesis/tesis_env/lib/python3.6/site-packages/keras/backend/tensorflow_backend.py:422: The name tf.global_variables is deprecated. Please use tf.compat.v1.global_variables instead.\n",
      "\n"
     ]
    },
    {
     "name": "stdout",
     "output_type": "stream",
     "text": [
      "Epoch 1/100\n",
      "  15/4671 [..............................] - ETA: 1:15:24 - loss: 43.4952 - categorical_accuracy: 0.3833"
     ]
    }
   ],
   "source": [
    "model.fit_from_generator(path=dataset_path,\n",
    "                         train_steps_per_epoch=steps_per_epoch, validation_steps_per_epoch=validation_steps, \n",
    "                         train_generator=train_generator, validation_generator=validation_generator,\n",
    "                         evaluate_net=True, use_model_check_point=False, use_early_stop=True, weighted=True)"
   ]
  },
  {
   "cell_type": "code",
   "execution_count": null,
   "metadata": {},
   "outputs": [],
   "source": []
  },
  {
   "cell_type": "code",
   "execution_count": null,
   "metadata": {},
   "outputs": [],
   "source": []
  },
  {
   "cell_type": "code",
   "execution_count": 11,
   "metadata": {},
   "outputs": [
    {
     "name": "stderr",
     "output_type": "stream",
     "text": [
      "W1120 13:19:48.617811 139851605960512 deprecation_wrapper.py:119] From /home/ifranco/Documents/facultad/tesis/tf_real_estate_images_classification/src/models/base_model.py:363: The name tf.global_variables_initializer is deprecated. Please use tf.compat.v1.global_variables_initializer instead.\n",
      "\n",
      "W1120 13:19:48.621908 139851605960512 deprecation_wrapper.py:119] From /home/ifranco/Documents/facultad/tesis/tf_real_estate_images_classification/src/models/base_model.py:364: The name tf.local_variables_initializer is deprecated. Please use tf.compat.v1.local_variables_initializer instead.\n",
      "\n",
      "W1120 13:19:48.625436 139851605960512 deprecation_wrapper.py:119] From /home/ifranco/Documents/facultad/tesis/tf_real_estate_images_classification/src/models/base_model.py:365: The name tf.keras.backend.get_session is deprecated. Please use tf.compat.v1.keras.backend.get_session instead.\n",
      "\n"
     ]
    },
    {
     "name": "stdout",
     "output_type": "stream",
     "text": [
      "class_weights [1.31949153 1.24162679 0.61687797 1.09957627 0.973125   1.13815789]\n",
      "**** Class weights ****\n",
      "[1.31949153 1.24162679 0.61687797 1.09957627 0.973125   1.13815789]\n",
      "*** ** *** *** *** ** ***\n"
     ]
    },
    {
     "name": "stderr",
     "output_type": "stream",
     "text": [
      "W1120 13:19:48.962043 139851605960512 deprecation.py:323] From /home/ifranco/Documents/facultad/tesis/tesis_env/lib/python3.6/site-packages/tensorflow/python/ops/math_grad.py:1250: add_dispatch_support.<locals>.wrapper (from tensorflow.python.ops.array_ops) is deprecated and will be removed in a future version.\n",
      "Instructions for updating:\n",
      "Use tf.where in 2.0, which has the same broadcast rule as np.where\n",
      "W1120 13:19:51.578617 139851605960512 deprecation_wrapper.py:119] From /home/ifranco/Documents/facultad/tesis/tesis_env/lib/python3.6/site-packages/keras/backend/tensorflow_backend.py:422: The name tf.global_variables is deprecated. Please use tf.compat.v1.global_variables instead.\n",
      "\n"
     ]
    },
    {
     "name": "stdout",
     "output_type": "stream",
     "text": [
      "Epoch 1/100\n",
      "4671/4671 [==============================] - 1583s 339ms/step - loss: 18.9216 - categorical_accuracy: 0.3767 - val_loss: 15.0004 - val_categorical_accuracy: 0.4223\n",
      "Epoch 2/100\n",
      "4671/4671 [==============================] - 1699s 364ms/step - loss: 17.8841 - categorical_accuracy: 0.4281 - val_loss: 18.0811 - val_categorical_accuracy: 0.4606\n",
      "Epoch 3/100\n",
      "4671/4671 [==============================] - 1711s 366ms/step - loss: 16.1629 - categorical_accuracy: 0.4931 - val_loss: 12.0412 - val_categorical_accuracy: 0.5846\n",
      "Epoch 4/100\n",
      "4671/4671 [==============================] - 1586s 340ms/step - loss: 11.1776 - categorical_accuracy: 0.6617 - val_loss: 4.5609 - val_categorical_accuracy: 0.7690\n",
      "Epoch 5/100\n",
      "4671/4671 [==============================] - 1654s 354ms/step - loss: 2.3377 - categorical_accuracy: 0.8679 - val_loss: 1.8800 - val_categorical_accuracy: 0.8077\n",
      "Epoch 6/100\n",
      "4671/4671 [==============================] - 1607s 344ms/step - loss: 1.5125 - categorical_accuracy: 0.9342 - val_loss: 1.7446 - val_categorical_accuracy: 0.7957\n",
      "Epoch 7/100\n",
      "4671/4671 [==============================] - 1825s 391ms/step - loss: 1.2179 - categorical_accuracy: 0.9554 - val_loss: 1.6520 - val_categorical_accuracy: 0.8468\n",
      "Epoch 8/100\n",
      "4671/4671 [==============================] - 1715s 367ms/step - loss: 1.1583 - categorical_accuracy: 0.9648 - val_loss: 1.6671 - val_categorical_accuracy: 0.8485\n",
      "Epoch 9/100\n",
      "4671/4671 [==============================] - 1741s 373ms/step - loss: 1.0202 - categorical_accuracy: 0.9724 - val_loss: 1.8476 - val_categorical_accuracy: 0.8401\n",
      "Epoch 10/100\n",
      "4671/4671 [==============================] - 1908s 408ms/step - loss: 0.9184 - categorical_accuracy: 0.9773 - val_loss: 1.3247 - val_categorical_accuracy: 0.8419\n",
      "Epoch 11/100\n",
      "4671/4671 [==============================] - 1627s 348ms/step - loss: 0.8634 - categorical_accuracy: 0.9801 - val_loss: 2.0329 - val_categorical_accuracy: 0.8452\n",
      "Epoch 12/100\n",
      "4671/4671 [==============================] - 1542s 330ms/step - loss: 0.8370 - categorical_accuracy: 0.9818 - val_loss: 1.4426 - val_categorical_accuracy: 0.8454\n",
      "Epoch 13/100\n",
      "4671/4671 [==============================] - 1538s 329ms/step - loss: 0.8307 - categorical_accuracy: 0.9837 - val_loss: 0.8708 - val_categorical_accuracy: 0.8598\n",
      "Epoch 14/100\n",
      "4671/4671 [==============================] - 1546s 331ms/step - loss: 0.7407 - categorical_accuracy: 0.9859 - val_loss: 1.9649 - val_categorical_accuracy: 0.8612\n",
      "Epoch 15/100\n",
      "4671/4671 [==============================] - 1545s 331ms/step - loss: 0.7225 - categorical_accuracy: 0.9867 - val_loss: 1.0265 - val_categorical_accuracy: 0.8634\n",
      "Epoch 16/100\n",
      "4671/4671 [==============================] - 1550s 332ms/step - loss: 0.6769 - categorical_accuracy: 0.9880 - val_loss: 1.2469 - val_categorical_accuracy: 0.8431\n",
      "Epoch 17/100\n",
      "4671/4671 [==============================] - 1548s 332ms/step - loss: 0.6586 - categorical_accuracy: 0.9889 - val_loss: 1.0058 - val_categorical_accuracy: 0.8402\n",
      "Epoch 18/100\n",
      "4671/4671 [==============================] - 1552s 332ms/step - loss: 0.6524 - categorical_accuracy: 0.9889 - val_loss: 1.9562 - val_categorical_accuracy: 0.8259\n",
      "Found 562 images belonging to 6 classes.\n",
      "Found 626 images belonging to 1 classes.\n",
      "Found 562 images belonging to 6 classes.\n",
      "Scores: [1.2056670188903809, 0.8255270719528198]\n",
      "weights [1.31949153 1.24162679 0.61687797 1.09957627 0.973125   1.13815789]\n"
     ]
    }
   ],
   "source": [
    "model.fit_from_generator(path=dataset_path,\n",
    "                         train_steps_per_epoch=steps_per_epoch, validation_steps_per_epoch=validation_steps, \n",
    "                         train_generator=train_generator, validation_generator=validation_generator,\n",
    "                         evaluate_net=True, use_model_check_point=False, use_early_stop=True, weighted=True)"
   ]
  }
 ],
 "metadata": {
  "kernelspec": {
   "display_name": "Python 3",
   "language": "python",
   "name": "python3"
  },
  "language_info": {
   "codemirror_mode": {
    "name": "ipython",
    "version": 3
   },
   "file_extension": ".py",
   "mimetype": "text/x-python",
   "name": "python",
   "nbconvert_exporter": "python",
   "pygments_lexer": "ipython3",
   "version": "3.6.8"
  }
 },
 "nbformat": 4,
 "nbformat_minor": 2
}
