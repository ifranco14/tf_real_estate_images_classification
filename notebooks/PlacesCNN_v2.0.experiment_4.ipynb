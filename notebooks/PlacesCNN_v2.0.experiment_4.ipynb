{
 "cells": [
  {
   "cell_type": "code",
   "execution_count": 1,
   "metadata": {},
   "outputs": [],
   "source": [
    "from __future__ import absolute_import, division, print_function, unicode_literals\n",
    "\n",
    "import tensorflow as tf\n",
    "from tensorflow import keras\n",
    "\n",
    "tf.keras.backend.clear_session()"
   ]
  },
  {
   "cell_type": "code",
   "execution_count": 2,
   "metadata": {},
   "outputs": [
    {
     "name": "stderr",
     "output_type": "stream",
     "text": [
      "Using TensorFlow backend.\n"
     ]
    }
   ],
   "source": [
    "from src.models import places_ontop_model\n",
    "from src import custom_losses, custom_metrics, optimizers\n",
    "from src.data import data"
   ]
  },
  {
   "cell_type": "code",
   "execution_count": 3,
   "metadata": {},
   "outputs": [],
   "source": [
    "batch_size = 32\n",
    "n_classes = 6\n",
    "epochs = 100\n",
    "img_size = 224\n",
    "n_channels = 3"
   ]
  },
  {
   "cell_type": "code",
   "execution_count": 4,
   "metadata": {},
   "outputs": [
    {
     "name": "stderr",
     "output_type": "stream",
     "text": [
      "WARNING: Logging before flag parsing goes to stderr.\n",
      "W1214 21:11:50.796258 140408119064384 deprecation_wrapper.py:119] From /home/ifranco/Documents/facultad/tesis/tesis_env/lib/python3.6/site-packages/keras/backend/tensorflow_backend.py:4070: The name tf.nn.max_pool is deprecated. Please use tf.nn.max_pool2d instead.\n",
      "\n"
     ]
    }
   ],
   "source": [
    "model = places_ontop_model.PlacesOntop_Model(batch_size, n_classes, epochs, img_size, n_channels,)"
   ]
  },
  {
   "cell_type": "code",
   "execution_count": 5,
   "metadata": {},
   "outputs": [],
   "source": [
    "from src.data import data"
   ]
  },
  {
   "cell_type": "code",
   "execution_count": 6,
   "metadata": {},
   "outputs": [],
   "source": [
    "paths = data.PATH()\n",
    "dataset_path = f'{paths.PROCESSED_DATA_PATH}/'\n",
    "dataset = 'vision_based_dataset'\n",
    "test_dataset_path = f'{dataset_path}/{dataset}/'"
   ]
  },
  {
   "cell_type": "code",
   "execution_count": 7,
   "metadata": {},
   "outputs": [
    {
     "name": "stdout",
     "output_type": "stream",
     "text": [
      "Found 114361 images belonging to 6 classes.\n",
      "Found 6305 images belonging to 6 classes.\n",
      "Found 6328 images belonging to 6 classes.\n"
     ]
    }
   ],
   "source": [
    "train_generator, validation_generator, test_generator = model.get_image_data_generator(test_dataset_path, train=True, validation=True, test=True, class_mode_test='categorical')"
   ]
  },
  {
   "cell_type": "code",
   "execution_count": 8,
   "metadata": {},
   "outputs": [],
   "source": [
    "weights = model.get_class_weights(train_generator.classes, model)\n",
    "model.compile(loss=custom_losses.weighted_categorical_crossentropy(weights), metrics=['categorical_accuracy'],)\n",
    "# model.model.compile(optimizer='adam', loss=custom_losses.weighted_categorical_crossentropy(weights), metrics=['categorical_accuracy'],)\n",
    "# instance_model.compile(optimizer='adam', loss=custom_losses.weighted_categorical_crossentropy(weights), metrics=['categorical_accuracy'],)"
   ]
  },
  {
   "cell_type": "code",
   "execution_count": 9,
   "metadata": {},
   "outputs": [
    {
     "name": "stderr",
     "output_type": "stream",
     "text": [
      "W1214 21:11:59.681414 140408119064384 callbacks.py:875] `period` argument is deprecated. Please use `save_freq` to specify the frequency in number of samples seen.\n",
      "W1214 21:11:59.681923 140408119064384 deprecation_wrapper.py:119] From /home/ifranco/Documents/facultad/tesis/tf_real_estate_images_classification/src/models/base_model.py:352: The name tf.global_variables_initializer is deprecated. Please use tf.compat.v1.global_variables_initializer instead.\n",
      "\n",
      "W1214 21:11:59.683989 140408119064384 deprecation_wrapper.py:119] From /home/ifranco/Documents/facultad/tesis/tf_real_estate_images_classification/src/models/base_model.py:353: The name tf.local_variables_initializer is deprecated. Please use tf.compat.v1.local_variables_initializer instead.\n",
      "\n",
      "W1214 21:11:59.686134 140408119064384 deprecation_wrapper.py:119] From /home/ifranco/Documents/facultad/tesis/tf_real_estate_images_classification/src/models/base_model.py:354: The name tf.keras.backend.get_session is deprecated. Please use tf.compat.v1.keras.backend.get_session instead.\n",
      "\n"
     ]
    },
    {
     "name": "stdout",
     "output_type": "stream",
     "text": [
      "class_weights [2.09728947 0.87794411 1.08704042 0.8524606  0.87239869 0.87343812]\n",
      "**** Class weights ****\n",
      "[2.09728947 0.87794411 1.08704042 0.8524606  0.87239869 0.87343812]\n",
      "*** ** *** *** *** ** ***\n"
     ]
    },
    {
     "name": "stderr",
     "output_type": "stream",
     "text": [
      "W1214 21:12:00.050947 140408119064384 deprecation.py:323] From /home/ifranco/Documents/facultad/tesis/tesis_env/lib/python3.6/site-packages/tensorflow/python/ops/math_grad.py:1250: add_dispatch_support.<locals>.wrapper (from tensorflow.python.ops.array_ops) is deprecated and will be removed in a future version.\n",
      "Instructions for updating:\n",
      "Use tf.where in 2.0, which has the same broadcast rule as np.where\n",
      "W1214 21:12:05.100664 140408119064384 deprecation_wrapper.py:119] From /home/ifranco/Documents/facultad/tesis/tesis_env/lib/python3.6/site-packages/keras/backend/tensorflow_backend.py:422: The name tf.global_variables is deprecated. Please use tf.compat.v1.global_variables instead.\n",
      "\n"
     ]
    },
    {
     "name": "stdout",
     "output_type": "stream",
     "text": [
      "Epoch 1/100\n",
      "3574/3574 [==============================] - 1486s 416ms/step - loss: 1.8244 - categorical_accuracy: 0.1581 - val_loss: 1.5794 - val_categorical_accuracy: 0.0761\n",
      "Epoch 2/100\n",
      "3574/3574 [==============================] - 1480s 414ms/step - loss: 1.7923 - categorical_accuracy: 0.1569 - val_loss: 1.5586 - val_categorical_accuracy: 0.0761\n",
      "Epoch 3/100\n",
      "3574/3574 [==============================] - 1474s 412ms/step - loss: 1.7919 - categorical_accuracy: 0.1464 - val_loss: 1.5691 - val_categorical_accuracy: 0.1865\n",
      "Epoch 4/100\n",
      "3574/3574 [==============================] - 1472s 412ms/step - loss: 1.7919 - categorical_accuracy: 0.1774 - val_loss: 1.5564 - val_categorical_accuracy: 0.1894\n",
      "Epoch 5/100\n",
      "3574/3574 [==============================] - 1474s 413ms/step - loss: 1.7919 - categorical_accuracy: 0.1604 - val_loss: 1.5801 - val_categorical_accuracy: 0.1865\n",
      "Epoch 6/100\n",
      "3574/3574 [==============================] - 1473s 412ms/step - loss: 1.7919 - categorical_accuracy: 0.1604 - val_loss: 1.5640 - val_categorical_accuracy: 0.1981\n",
      "Epoch 7/100\n",
      "3574/3574 [==============================] - 1474s 412ms/step - loss: 1.7919 - categorical_accuracy: 0.1694 - val_loss: 1.5524 - val_categorical_accuracy: 0.1981\n",
      "Epoch 8/100\n",
      "3574/3574 [==============================] - 1474s 412ms/step - loss: 1.7919 - categorical_accuracy: 0.1631 - val_loss: 1.5547 - val_categorical_accuracy: 0.1894\n",
      "Epoch 9/100\n",
      "3574/3574 [==============================] - 1471s 412ms/step - loss: 1.7919 - categorical_accuracy: 0.1571 - val_loss: 1.5674 - val_categorical_accuracy: 0.1532\n",
      "Epoch 10/100\n",
      "3574/3574 [==============================] - 1467s 410ms/step - loss: 1.7919 - categorical_accuracy: 0.1626 - val_loss: 1.5700 - val_categorical_accuracy: 0.1981\n",
      "Epoch 11/100\n",
      "3574/3574 [==============================] - 1463s 409ms/step - loss: 1.7919 - categorical_accuracy: 0.1727 - val_loss: 1.5626 - val_categorical_accuracy: 0.1865\n",
      "Epoch 12/100\n",
      "3574/3574 [==============================] - 1464s 410ms/step - loss: 1.7919 - categorical_accuracy: 0.1722 - val_loss: 1.5683 - val_categorical_accuracy: 0.1981\n",
      "Epoch 13/100\n",
      "3574/3574 [==============================] - 1464s 410ms/step - loss: 1.7919 - categorical_accuracy: 0.1659 - val_loss: 1.5809 - val_categorical_accuracy: 0.1981\n",
      "Epoch 14/100\n",
      "3574/3574 [==============================] - 1464s 410ms/step - loss: 1.7919 - categorical_accuracy: 0.1613 - val_loss: 1.5605 - val_categorical_accuracy: 0.1967\n",
      "Epoch 15/100\n",
      "3574/3574 [==============================] - 1465s 410ms/step - loss: 1.7919 - categorical_accuracy: 0.1697 - val_loss: 1.5633 - val_categorical_accuracy: 0.1967\n",
      "Epoch 16/100\n",
      "3574/3574 [==============================] - 1463s 409ms/step - loss: 1.7919 - categorical_accuracy: 0.1537 - val_loss: 1.5530 - val_categorical_accuracy: 0.1894\n",
      "Epoch 17/100\n",
      "3574/3574 [==============================] - 1464s 410ms/step - loss: 1.7919 - categorical_accuracy: 0.1449 - val_loss: 1.5639 - val_categorical_accuracy: 0.1865\n",
      "Epoch 18/100\n",
      "3574/3574 [==============================] - 1463s 409ms/step - loss: 1.7919 - categorical_accuracy: 0.1793 - val_loss: 1.5565 - val_categorical_accuracy: 0.1981\n",
      "Epoch 19/100\n",
      "3574/3574 [==============================] - 1463s 409ms/step - loss: 1.7919 - categorical_accuracy: 0.1714 - val_loss: 1.5740 - val_categorical_accuracy: 0.1865\n",
      "Epoch 20/100\n",
      "3574/3574 [==============================] - 1465s 410ms/step - loss: 1.7919 - categorical_accuracy: 0.1497 - val_loss: 1.5758 - val_categorical_accuracy: 0.1967\n",
      "Epoch 21/100\n",
      "3574/3574 [==============================] - 1465s 410ms/step - loss: 1.7919 - categorical_accuracy: 0.1538 - val_loss: 1.5558 - val_categorical_accuracy: 0.0761\n",
      "Epoch 22/100\n",
      "3574/3574 [==============================] - 1465s 410ms/step - loss: 1.7919 - categorical_accuracy: 0.1645 - val_loss: 1.5761 - val_categorical_accuracy: 0.1532\n",
      "Epoch 23/100\n",
      "3574/3574 [==============================] - 1465s 410ms/step - loss: 1.7919 - categorical_accuracy: 0.1626 - val_loss: 1.5737 - val_categorical_accuracy: 0.1865\n",
      "Epoch 24/100\n",
      "3574/3574 [==============================] - 1463s 409ms/step - loss: 1.7919 - categorical_accuracy: 0.1661 - val_loss: 1.5655 - val_categorical_accuracy: 0.1981\n",
      "Epoch 25/100\n",
      "3574/3574 [==============================] - 1466s 410ms/step - loss: 1.7919 - categorical_accuracy: 0.1813 - val_loss: 1.5804 - val_categorical_accuracy: 0.1967\n",
      "Epoch 26/100\n",
      "3574/3574 [==============================] - 1463s 409ms/step - loss: 1.7919 - categorical_accuracy: 0.1673 - val_loss: 1.5723 - val_categorical_accuracy: 0.0761\n",
      "Epoch 27/100\n",
      "3574/3574 [==============================] - 1464s 410ms/step - loss: 1.7919 - categorical_accuracy: 0.1701 - val_loss: 1.5535 - val_categorical_accuracy: 0.0761\n",
      "Epoch 28/100\n",
      "3574/3574 [==============================] - 1462s 409ms/step - loss: 1.7919 - categorical_accuracy: 0.1343 - val_loss: 1.5422 - val_categorical_accuracy: 0.1894\n",
      "Epoch 29/100\n",
      "3574/3574 [==============================] - 1465s 410ms/step - loss: 1.7919 - categorical_accuracy: 0.1682 - val_loss: 1.5871 - val_categorical_accuracy: 0.1967\n",
      "Epoch 30/100\n",
      "3574/3574 [==============================] - 1465s 410ms/step - loss: 1.7919 - categorical_accuracy: 0.1603 - val_loss: 1.5681 - val_categorical_accuracy: 0.0761\n",
      "Epoch 31/100\n",
      "3574/3574 [==============================] - 1464s 410ms/step - loss: 1.7919 - categorical_accuracy: 0.1481 - val_loss: 1.5807 - val_categorical_accuracy: 0.1967\n",
      "Epoch 32/100\n",
      "3574/3574 [==============================] - 1464s 410ms/step - loss: 1.7919 - categorical_accuracy: 0.1635 - val_loss: 1.5871 - val_categorical_accuracy: 0.1981\n",
      "Epoch 33/100\n",
      "3574/3574 [==============================] - 1463s 409ms/step - loss: 1.7919 - categorical_accuracy: 0.1777 - val_loss: 1.5660 - val_categorical_accuracy: 0.1967\n",
      "Epoch 34/100\n",
      "3574/3574 [==============================] - 1464s 410ms/step - loss: 1.7919 - categorical_accuracy: 0.1593 - val_loss: 1.5550 - val_categorical_accuracy: 0.0761\n",
      "Epoch 35/100\n",
      "3574/3574 [==============================] - 1467s 410ms/step - loss: 1.7919 - categorical_accuracy: 0.1656 - val_loss: 1.5690 - val_categorical_accuracy: 0.1981\n",
      "Epoch 36/100\n",
      "3574/3574 [==============================] - 1468s 411ms/step - loss: 1.7919 - categorical_accuracy: 0.1615 - val_loss: 1.5703 - val_categorical_accuracy: 0.0761\n",
      "Epoch 37/100\n",
      "3574/3574 [==============================] - 1455s 407ms/step - loss: 1.7919 - categorical_accuracy: 0.1488 - val_loss: 1.5818 - val_categorical_accuracy: 0.1981\n",
      "Epoch 38/100\n",
      "3574/3574 [==============================] - 1461s 409ms/step - loss: 1.7919 - categorical_accuracy: 0.1585 - val_loss: 1.5700 - val_categorical_accuracy: 0.1532\n",
      "Epoch 39/100\n",
      "3574/3574 [==============================] - 1464s 410ms/step - loss: 1.7919 - categorical_accuracy: 0.1589 - val_loss: 1.5614 - val_categorical_accuracy: 0.1981\n",
      "Epoch 40/100\n",
      "3574/3574 [==============================] - 1460s 409ms/step - loss: 1.7919 - categorical_accuracy: 0.1567 - val_loss: 1.5542 - val_categorical_accuracy: 0.0761\n",
      "Epoch 41/100\n",
      "3574/3574 [==============================] - 1477s 413ms/step - loss: 1.7919 - categorical_accuracy: 0.1485 - val_loss: 1.5446 - val_categorical_accuracy: 0.1894\n",
      "Epoch 42/100\n",
      "3574/3574 [==============================] - 1466s 410ms/step - loss: 1.7919 - categorical_accuracy: 0.1762 - val_loss: 1.5729 - val_categorical_accuracy: 0.1981\n",
      "Epoch 43/100\n",
      "3574/3574 [==============================] - 1470s 411ms/step - loss: 1.7919 - categorical_accuracy: 0.1598 - val_loss: 1.5551 - val_categorical_accuracy: 0.0761\n",
      "Epoch 44/100\n",
      "2339/3574 [==================>...........] - ETA: 8:13 - loss: 1.7912 - categorical_accuracy: 0.1545"
     ]
    },
    {
     "ename": "KeyboardInterrupt",
     "evalue": "",
     "output_type": "error",
     "traceback": [
      "\u001b[0;31m---------------------------------------------------------------------------\u001b[0m",
      "\u001b[0;31mKeyboardInterrupt\u001b[0m                         Traceback (most recent call last)",
      "\u001b[0;32m<ipython-input-9-a9850df68622>\u001b[0m in \u001b[0;36m<module>\u001b[0;34m\u001b[0m\n\u001b[1;32m      3\u001b[0m                          \u001b[0mtest_generator\u001b[0m\u001b[0;34m=\u001b[0m\u001b[0mtest_generator\u001b[0m\u001b[0;34m,\u001b[0m\u001b[0;34m\u001b[0m\u001b[0;34m\u001b[0m\u001b[0m\n\u001b[1;32m      4\u001b[0m                          \u001b[0mevaluate_net\u001b[0m\u001b[0;34m=\u001b[0m\u001b[0;32mFalse\u001b[0m\u001b[0;34m,\u001b[0m \u001b[0muse_model_check_point\u001b[0m\u001b[0;34m=\u001b[0m\u001b[0;32mTrue\u001b[0m\u001b[0;34m,\u001b[0m \u001b[0muse_early_stop\u001b[0m\u001b[0;34m=\u001b[0m\u001b[0;32mTrue\u001b[0m\u001b[0;34m,\u001b[0m \u001b[0mweighted\u001b[0m\u001b[0;34m=\u001b[0m\u001b[0;32mTrue\u001b[0m\u001b[0;34m,\u001b[0m\u001b[0;34m\u001b[0m\u001b[0;34m\u001b[0m\u001b[0m\n\u001b[0;32m----> 5\u001b[0;31m                          show_activations=False,)\n\u001b[0m",
      "\u001b[0;32m~/Documents/facultad/tesis/tf_real_estate_images_classification/src/models/base_model.py\u001b[0m in \u001b[0;36mfit_from_generator\u001b[0;34m(self, path, weighted, train_generator, validation_generator, evaluate_net, use_early_stop, use_model_check_point, log_training, n_workers, show_activations, test_generator)\u001b[0m\n\u001b[1;32m    373\u001b[0m             \u001b[0mworkers\u001b[0m\u001b[0;34m=\u001b[0m\u001b[0;36m1\u001b[0m\u001b[0;34m,\u001b[0m\u001b[0;34m\u001b[0m\u001b[0;34m\u001b[0m\u001b[0m\n\u001b[1;32m    374\u001b[0m             \u001b[0muse_multiprocessing\u001b[0m\u001b[0;34m=\u001b[0m\u001b[0;32mFalse\u001b[0m\u001b[0;34m,\u001b[0m\u001b[0;34m\u001b[0m\u001b[0;34m\u001b[0m\u001b[0m\n\u001b[0;32m--> 375\u001b[0;31m             \u001b[0mshuffle\u001b[0m\u001b[0;34m=\u001b[0m\u001b[0;32mTrue\u001b[0m\u001b[0;34m,\u001b[0m\u001b[0;34m\u001b[0m\u001b[0;34m\u001b[0m\u001b[0m\n\u001b[0m\u001b[1;32m    376\u001b[0m             \u001b[0;31m# class_weight=class_weights,\u001b[0m\u001b[0;34m\u001b[0m\u001b[0;34m\u001b[0m\u001b[0;34m\u001b[0m\u001b[0m\n\u001b[1;32m    377\u001b[0m             \u001b[0;31m# callbacks=callbacks if len(callbacks) > 0 else None,\u001b[0m\u001b[0;34m\u001b[0m\u001b[0;34m\u001b[0m\u001b[0;34m\u001b[0m\u001b[0m\n",
      "\u001b[0;32m~/Documents/facultad/tesis/tesis_env/lib/python3.6/site-packages/keras/legacy/interfaces.py\u001b[0m in \u001b[0;36mwrapper\u001b[0;34m(*args, **kwargs)\u001b[0m\n\u001b[1;32m     89\u001b[0m                 warnings.warn('Update your `' + object_name + '` call to the ' +\n\u001b[1;32m     90\u001b[0m                               'Keras 2 API: ' + signature, stacklevel=2)\n\u001b[0;32m---> 91\u001b[0;31m             \u001b[0;32mreturn\u001b[0m \u001b[0mfunc\u001b[0m\u001b[0;34m(\u001b[0m\u001b[0;34m*\u001b[0m\u001b[0margs\u001b[0m\u001b[0;34m,\u001b[0m \u001b[0;34m**\u001b[0m\u001b[0mkwargs\u001b[0m\u001b[0;34m)\u001b[0m\u001b[0;34m\u001b[0m\u001b[0;34m\u001b[0m\u001b[0m\n\u001b[0m\u001b[1;32m     92\u001b[0m         \u001b[0mwrapper\u001b[0m\u001b[0;34m.\u001b[0m\u001b[0m_original_function\u001b[0m \u001b[0;34m=\u001b[0m \u001b[0mfunc\u001b[0m\u001b[0;34m\u001b[0m\u001b[0;34m\u001b[0m\u001b[0m\n\u001b[1;32m     93\u001b[0m         \u001b[0;32mreturn\u001b[0m \u001b[0mwrapper\u001b[0m\u001b[0;34m\u001b[0m\u001b[0;34m\u001b[0m\u001b[0m\n",
      "\u001b[0;32m~/Documents/facultad/tesis/tesis_env/lib/python3.6/site-packages/keras/engine/training.py\u001b[0m in \u001b[0;36mfit_generator\u001b[0;34m(self, generator, steps_per_epoch, epochs, verbose, callbacks, validation_data, validation_steps, validation_freq, class_weight, max_queue_size, workers, use_multiprocessing, shuffle, initial_epoch)\u001b[0m\n\u001b[1;32m   1730\u001b[0m             \u001b[0muse_multiprocessing\u001b[0m\u001b[0;34m=\u001b[0m\u001b[0muse_multiprocessing\u001b[0m\u001b[0;34m,\u001b[0m\u001b[0;34m\u001b[0m\u001b[0;34m\u001b[0m\u001b[0m\n\u001b[1;32m   1731\u001b[0m             \u001b[0mshuffle\u001b[0m\u001b[0;34m=\u001b[0m\u001b[0mshuffle\u001b[0m\u001b[0;34m,\u001b[0m\u001b[0;34m\u001b[0m\u001b[0;34m\u001b[0m\u001b[0m\n\u001b[0;32m-> 1732\u001b[0;31m             initial_epoch=initial_epoch)\n\u001b[0m\u001b[1;32m   1733\u001b[0m \u001b[0;34m\u001b[0m\u001b[0m\n\u001b[1;32m   1734\u001b[0m     \u001b[0;34m@\u001b[0m\u001b[0minterfaces\u001b[0m\u001b[0;34m.\u001b[0m\u001b[0mlegacy_generator_methods_support\u001b[0m\u001b[0;34m\u001b[0m\u001b[0;34m\u001b[0m\u001b[0m\n",
      "\u001b[0;32m~/Documents/facultad/tesis/tesis_env/lib/python3.6/site-packages/keras/engine/training_generator.py\u001b[0m in \u001b[0;36mfit_generator\u001b[0;34m(model, generator, steps_per_epoch, epochs, verbose, callbacks, validation_data, validation_steps, validation_freq, class_weight, max_queue_size, workers, use_multiprocessing, shuffle, initial_epoch)\u001b[0m\n\u001b[1;32m    218\u001b[0m                                             \u001b[0msample_weight\u001b[0m\u001b[0;34m=\u001b[0m\u001b[0msample_weight\u001b[0m\u001b[0;34m,\u001b[0m\u001b[0;34m\u001b[0m\u001b[0;34m\u001b[0m\u001b[0m\n\u001b[1;32m    219\u001b[0m                                             \u001b[0mclass_weight\u001b[0m\u001b[0;34m=\u001b[0m\u001b[0mclass_weight\u001b[0m\u001b[0;34m,\u001b[0m\u001b[0;34m\u001b[0m\u001b[0;34m\u001b[0m\u001b[0m\n\u001b[0;32m--> 220\u001b[0;31m                                             reset_metrics=False)\n\u001b[0m\u001b[1;32m    221\u001b[0m \u001b[0;34m\u001b[0m\u001b[0m\n\u001b[1;32m    222\u001b[0m                 \u001b[0mouts\u001b[0m \u001b[0;34m=\u001b[0m \u001b[0mto_list\u001b[0m\u001b[0;34m(\u001b[0m\u001b[0mouts\u001b[0m\u001b[0;34m)\u001b[0m\u001b[0;34m\u001b[0m\u001b[0;34m\u001b[0m\u001b[0m\n",
      "\u001b[0;32m~/Documents/facultad/tesis/tesis_env/lib/python3.6/site-packages/keras/engine/training.py\u001b[0m in \u001b[0;36mtrain_on_batch\u001b[0;34m(self, x, y, sample_weight, class_weight, reset_metrics)\u001b[0m\n\u001b[1;32m   1512\u001b[0m             \u001b[0mins\u001b[0m \u001b[0;34m=\u001b[0m \u001b[0mx\u001b[0m \u001b[0;34m+\u001b[0m \u001b[0my\u001b[0m \u001b[0;34m+\u001b[0m \u001b[0msample_weights\u001b[0m\u001b[0;34m\u001b[0m\u001b[0;34m\u001b[0m\u001b[0m\n\u001b[1;32m   1513\u001b[0m         \u001b[0mself\u001b[0m\u001b[0;34m.\u001b[0m\u001b[0m_make_train_function\u001b[0m\u001b[0;34m(\u001b[0m\u001b[0;34m)\u001b[0m\u001b[0;34m\u001b[0m\u001b[0;34m\u001b[0m\u001b[0m\n\u001b[0;32m-> 1514\u001b[0;31m         \u001b[0moutputs\u001b[0m \u001b[0;34m=\u001b[0m \u001b[0mself\u001b[0m\u001b[0;34m.\u001b[0m\u001b[0mtrain_function\u001b[0m\u001b[0;34m(\u001b[0m\u001b[0mins\u001b[0m\u001b[0;34m)\u001b[0m\u001b[0;34m\u001b[0m\u001b[0;34m\u001b[0m\u001b[0m\n\u001b[0m\u001b[1;32m   1515\u001b[0m \u001b[0;34m\u001b[0m\u001b[0m\n\u001b[1;32m   1516\u001b[0m         \u001b[0;32mif\u001b[0m \u001b[0mreset_metrics\u001b[0m\u001b[0;34m:\u001b[0m\u001b[0;34m\u001b[0m\u001b[0;34m\u001b[0m\u001b[0m\n",
      "\u001b[0;32m~/Documents/facultad/tesis/tesis_env/lib/python3.6/site-packages/tensorflow/python/keras/backend.py\u001b[0m in \u001b[0;36m__call__\u001b[0;34m(self, inputs)\u001b[0m\n\u001b[1;32m   3290\u001b[0m \u001b[0;34m\u001b[0m\u001b[0m\n\u001b[1;32m   3291\u001b[0m     fetched = self._callable_fn(*array_vals,\n\u001b[0;32m-> 3292\u001b[0;31m                                 run_metadata=self.run_metadata)\n\u001b[0m\u001b[1;32m   3293\u001b[0m     \u001b[0mself\u001b[0m\u001b[0;34m.\u001b[0m\u001b[0m_call_fetch_callbacks\u001b[0m\u001b[0;34m(\u001b[0m\u001b[0mfetched\u001b[0m\u001b[0;34m[\u001b[0m\u001b[0;34m-\u001b[0m\u001b[0mlen\u001b[0m\u001b[0;34m(\u001b[0m\u001b[0mself\u001b[0m\u001b[0;34m.\u001b[0m\u001b[0m_fetches\u001b[0m\u001b[0;34m)\u001b[0m\u001b[0;34m:\u001b[0m\u001b[0;34m]\u001b[0m\u001b[0;34m)\u001b[0m\u001b[0;34m\u001b[0m\u001b[0;34m\u001b[0m\u001b[0m\n\u001b[1;32m   3294\u001b[0m     output_structure = nest.pack_sequence_as(\n",
      "\u001b[0;32m~/Documents/facultad/tesis/tesis_env/lib/python3.6/site-packages/tensorflow/python/client/session.py\u001b[0m in \u001b[0;36m__call__\u001b[0;34m(self, *args, **kwargs)\u001b[0m\n\u001b[1;32m   1456\u001b[0m         ret = tf_session.TF_SessionRunCallable(self._session._session,\n\u001b[1;32m   1457\u001b[0m                                                \u001b[0mself\u001b[0m\u001b[0;34m.\u001b[0m\u001b[0m_handle\u001b[0m\u001b[0;34m,\u001b[0m \u001b[0margs\u001b[0m\u001b[0;34m,\u001b[0m\u001b[0;34m\u001b[0m\u001b[0;34m\u001b[0m\u001b[0m\n\u001b[0;32m-> 1458\u001b[0;31m                                                run_metadata_ptr)\n\u001b[0m\u001b[1;32m   1459\u001b[0m         \u001b[0;32mif\u001b[0m \u001b[0mrun_metadata\u001b[0m\u001b[0;34m:\u001b[0m\u001b[0;34m\u001b[0m\u001b[0;34m\u001b[0m\u001b[0m\n\u001b[1;32m   1460\u001b[0m           \u001b[0mproto_data\u001b[0m \u001b[0;34m=\u001b[0m \u001b[0mtf_session\u001b[0m\u001b[0;34m.\u001b[0m\u001b[0mTF_GetBuffer\u001b[0m\u001b[0;34m(\u001b[0m\u001b[0mrun_metadata_ptr\u001b[0m\u001b[0;34m)\u001b[0m\u001b[0;34m\u001b[0m\u001b[0;34m\u001b[0m\u001b[0m\n",
      "\u001b[0;31mKeyboardInterrupt\u001b[0m: "
     ]
    }
   ],
   "source": [
    "model.fit_from_generator(path=f'{dataset_path}/{dataset}', \n",
    "                         train_generator=train_generator, validation_generator=validation_generator,\n",
    "                         test_generator=test_generator,\n",
    "                         evaluate_net=False, use_model_check_point=True, use_early_stop=True, weighted=True,\n",
    "                         show_activations=False,)"
   ]
  },
  {
   "cell_type": "code",
   "execution_count": 11,
   "metadata": {},
   "outputs": [],
   "source": [
    "model.model_is_trained = True"
   ]
  },
  {
   "cell_type": "code",
   "execution_count": 12,
   "metadata": {},
   "outputs": [
    {
     "name": "stdout",
     "output_type": "stream",
     "text": [
      "weights [2.09728947 0.87794411 1.08704042 0.8524606  0.87239869 0.87343812]\n"
     ]
    }
   ],
   "source": [
    "model.save_model()"
   ]
  },
  {
   "cell_type": "code",
   "execution_count": 17,
   "metadata": {},
   "outputs": [
    {
     "ename": "TypeError",
     "evalue": "predict_from_generator() missing 1 required positional argument: 'path'",
     "output_type": "error",
     "traceback": [
      "\u001b[0;31m---------------------------------------------------------------------------\u001b[0m",
      "\u001b[0;31mTypeError\u001b[0m                                 Traceback (most recent call last)",
      "\u001b[0;32m<ipython-input-17-a61bb5334137>\u001b[0m in \u001b[0;36m<module>\u001b[0;34m\u001b[0m\n\u001b[0;32m----> 1\u001b[0;31m \u001b[0mmodel\u001b[0m\u001b[0;34m.\u001b[0m\u001b[0mpredict_from_generator\u001b[0m\u001b[0;34m(\u001b[0m\u001b[0;34m)\u001b[0m\u001b[0;34m\u001b[0m\u001b[0;34m\u001b[0m\u001b[0m\n\u001b[0m",
      "\u001b[0;31mTypeError\u001b[0m: predict_from_generator() missing 1 required positional argument: 'path'"
     ]
    }
   ],
   "source": [
    "model.predict_from_generator()"
   ]
  }
 ],
 "metadata": {
  "kernelspec": {
   "display_name": "Python 3",
   "language": "python",
   "name": "python3"
  },
  "language_info": {
   "codemirror_mode": {
    "name": "ipython",
    "version": 3
   },
   "file_extension": ".py",
   "mimetype": "text/x-python",
   "name": "python",
   "nbconvert_exporter": "python",
   "pygments_lexer": "ipython3",
   "version": "3.6.8"
  }
 },
 "nbformat": 4,
 "nbformat_minor": 2
}
