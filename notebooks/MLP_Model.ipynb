{
 "cells": [
  {
   "cell_type": "code",
   "execution_count": 1,
   "metadata": {},
   "outputs": [],
   "source": [
    "from __future__ import absolute_import, division, print_function, unicode_literals\n",
    "\n",
    "import tensorflow as tf\n",
    "\n",
    "tf.keras.backend.clear_session()"
   ]
  },
  {
   "cell_type": "code",
   "execution_count": 2,
   "metadata": {},
   "outputs": [
    {
     "name": "stderr",
     "output_type": "stream",
     "text": [
      "Using TensorFlow backend.\n"
     ]
    }
   ],
   "source": [
    "from src.models import mlp_model\n",
    "from src import custom_losses, custom_metrics, optimizers\n",
    "from src.data import data"
   ]
  },
  {
   "cell_type": "code",
   "execution_count": 3,
   "metadata": {},
   "outputs": [],
   "source": [
    "batch_size = 32\n",
    "n_classes = 6\n",
    "epochs = 10\n",
    "img_size = 128\n",
    "n_channels = 3\n",
    "steps_per_epoch = 5000"
   ]
  },
  {
   "cell_type": "code",
   "execution_count": 4,
   "metadata": {},
   "outputs": [],
   "source": [
    "paths = data.PATH()\n",
    "\n",
    "dataset_path = f'{paths.PROCESSED_DATA_PATH}/REI-Dataset/'"
   ]
  },
  {
   "cell_type": "code",
   "execution_count": 5,
   "metadata": {
    "scrolled": false
   },
   "outputs": [
    {
     "name": "stderr",
     "output_type": "stream",
     "text": [
      "WARNING: Logging before flag parsing goes to stderr.\n",
      "W1110 11:42:03.817344 140170844899136 deprecation_wrapper.py:119] From /home/ifranco/Documents/facultad/tesis/tesis_env/lib/python3.6/site-packages/keras/backend/tensorflow_backend.py:74: The name tf.get_default_graph is deprecated. Please use tf.compat.v1.get_default_graph instead.\n",
      "\n",
      "W1110 11:42:03.826175 140170844899136 deprecation_wrapper.py:119] From /home/ifranco/Documents/facultad/tesis/tesis_env/lib/python3.6/site-packages/keras/backend/tensorflow_backend.py:517: The name tf.placeholder is deprecated. Please use tf.compat.v1.placeholder instead.\n",
      "\n",
      "W1110 11:42:03.849975 140170844899136 deprecation_wrapper.py:119] From /home/ifranco/Documents/facultad/tesis/tesis_env/lib/python3.6/site-packages/keras/backend/tensorflow_backend.py:4138: The name tf.random_uniform is deprecated. Please use tf.random.uniform instead.\n",
      "\n",
      "W1110 11:42:03.878975 140170844899136 deprecation_wrapper.py:119] From /home/ifranco/Documents/facultad/tesis/tesis_env/lib/python3.6/site-packages/keras/backend/tensorflow_backend.py:133: The name tf.placeholder_with_default is deprecated. Please use tf.compat.v1.placeholder_with_default instead.\n",
      "\n",
      "W1110 11:42:03.895858 140170844899136 deprecation.py:506] From /home/ifranco/Documents/facultad/tesis/tesis_env/lib/python3.6/site-packages/keras/backend/tensorflow_backend.py:3445: calling dropout (from tensorflow.python.ops.nn_ops) with keep_prob is deprecated and will be removed in a future version.\n",
      "Instructions for updating:\n",
      "Please use `rate` instead of `keep_prob`. Rate should be set to `rate = 1 - keep_prob`.\n",
      "W1110 11:42:03.966139 140170844899136 deprecation_wrapper.py:119] From /home/ifranco/Documents/facultad/tesis/tesis_env/lib/python3.6/site-packages/keras/optimizers.py:790: The name tf.train.Optimizer is deprecated. Please use tf.compat.v1.train.Optimizer instead.\n",
      "\n",
      "W1110 11:42:03.982592 140170844899136 deprecation_wrapper.py:119] From /home/ifranco/Documents/facultad/tesis/tesis_env/lib/python3.6/site-packages/keras/backend/tensorflow_backend.py:1521: The name tf.log is deprecated. Please use tf.math.log instead.\n",
      "\n"
     ]
    },
    {
     "name": "stdout",
     "output_type": "stream",
     "text": [
      "Found 4672 images belonging to 6 classes.\n",
      "Found 1187 images belonging to 6 classes.\n"
     ]
    },
    {
     "name": "stderr",
     "output_type": "stream",
     "text": [
      "W1110 11:42:04.573471 140170844899136 deprecation.py:323] From /home/ifranco/Documents/facultad/tesis/tesis_env/lib/python3.6/site-packages/tensorflow/python/ops/math_grad.py:1250: add_dispatch_support.<locals>.wrapper (from tensorflow.python.ops.array_ops) is deprecated and will be removed in a future version.\n",
      "Instructions for updating:\n",
      "Use tf.where in 2.0, which has the same broadcast rule as np.where\n"
     ]
    },
    {
     "name": "stdout",
     "output_type": "stream",
     "text": [
      "Epoch 1/10\n",
      "1000/1000 [==============================] - 186s 186ms/step - loss: 7.2241 - acc: 0.1799 - val_loss: 1.7810 - val_acc: 0.1369\n",
      "Epoch 2/10\n",
      "1000/1000 [==============================] - 181s 181ms/step - loss: 1.7929 - acc: 0.1779 - val_loss: 1.7890 - val_acc: 0.1394\n",
      "Epoch 3/10\n",
      "1000/1000 [==============================] - 197s 197ms/step - loss: 1.7914 - acc: 0.1792 - val_loss: 1.7842 - val_acc: 0.1340\n",
      "Epoch 4/10\n",
      "1000/1000 [==============================] - 203s 203ms/step - loss: 1.7914 - acc: 0.1783 - val_loss: 1.7839 - val_acc: 0.2859\n",
      "Epoch 5/10\n",
      "1000/1000 [==============================] - 219s 219ms/step - loss: 1.7918 - acc: 0.1592 - val_loss: 1.7838 - val_acc: 0.2843\n",
      "Epoch 6/10\n",
      "1000/1000 [==============================] - 218s 218ms/step - loss: 1.7924 - acc: 0.1484 - val_loss: 1.7860 - val_acc: 0.1470\n",
      "Epoch 7/10\n",
      "1000/1000 [==============================] - 226s 226ms/step - loss: 1.7923 - acc: 0.1596 - val_loss: 1.7831 - val_acc: 0.1356\n",
      "Epoch 8/10\n",
      "1000/1000 [==============================] - 213s 213ms/step - loss: 1.7917 - acc: 0.1534 - val_loss: 1.7846 - val_acc: 0.1478\n",
      "Epoch 9/10\n",
      "1000/1000 [==============================] - 202s 202ms/step - loss: 1.7913 - acc: 0.1560 - val_loss: 1.7841 - val_acc: 0.2855\n",
      "Epoch 10/10\n",
      "1000/1000 [==============================] - 208s 208ms/step - loss: 1.7930 - acc: 0.1457 - val_loss: 1.7839 - val_acc: 0.1307\n"
     ]
    }
   ],
   "source": [
    "model = mlp_model.MLP_Model(batch_size, n_classes, epochs, img_size, n_channels)\n",
    "\n",
    "weights = [1.34021801, 1.23012112, 0.62094631, 1.06812986, 0.98192518, 1.14173998]\n",
    "model.compile(loss=custom_losses.weighted_categorical_crossentropy(weights), metrics=['accuracy'])\n",
    "model.fit_from_generator(path=dataset_path,)"
   ]
  },
  {
   "cell_type": "code",
   "execution_count": 6,
   "metadata": {},
   "outputs": [],
   "source": [
    "model.model.save('../models/mlp_model_2018-11-10.hd5')"
   ]
  },
  {
   "cell_type": "code",
   "execution_count": null,
   "metadata": {},
   "outputs": [],
   "source": []
  }
 ],
 "metadata": {
  "kernelspec": {
   "display_name": "Python 3",
   "language": "python",
   "name": "python3"
  },
  "language_info": {
   "codemirror_mode": {
    "name": "ipython",
    "version": 3
   },
   "file_extension": ".py",
   "mimetype": "text/x-python",
   "name": "python",
   "nbconvert_exporter": "python",
   "pygments_lexer": "ipython3",
   "version": "3.6.8"
  }
 },
 "nbformat": 4,
 "nbformat_minor": 2
}
