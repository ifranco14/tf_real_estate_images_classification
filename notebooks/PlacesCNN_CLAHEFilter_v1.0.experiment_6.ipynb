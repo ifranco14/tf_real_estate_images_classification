{
 "cells": [
  {
   "cell_type": "code",
   "execution_count": 1,
   "metadata": {},
   "outputs": [],
   "source": [
    "from __future__ import absolute_import, division, print_function, unicode_literals\n",
    "\n",
    "import tensorflow as tf\n",
    "from tensorflow import keras\n",
    "\n",
    "tf.keras.backend.clear_session()"
   ]
  },
  {
   "cell_type": "code",
   "execution_count": 2,
   "metadata": {},
   "outputs": [
    {
     "name": "stderr",
     "output_type": "stream",
     "text": [
      "Using TensorFlow backend.\n"
     ]
    }
   ],
   "source": [
    "from src.models import places_ontop_model, base_model\n",
    "from src import custom_losses, custom_metrics, optimizers\n",
    "from src.data import data"
   ]
  },
  {
   "cell_type": "code",
   "execution_count": 3,
   "metadata": {},
   "outputs": [],
   "source": [
    "batch_size = 128\n",
    "n_classes = 6\n",
    "epochs = 50\n",
    "img_size = 224\n",
    "n_channels = 3"
   ]
  },
  {
   "cell_type": "code",
   "execution_count": 4,
   "metadata": {},
   "outputs": [
    {
     "name": "stderr",
     "output_type": "stream",
     "text": [
      "WARNING: Logging before flag parsing goes to stderr.\n",
      "W0116 19:13:59.226642 140125060183872 deprecation_wrapper.py:119] From /home/ifranco/Documents/facultad/tesis/tesis_env/lib/python3.6/site-packages/keras/backend/tensorflow_backend.py:4070: The name tf.nn.max_pool is deprecated. Please use tf.nn.max_pool2d instead.\n",
      "\n"
     ]
    }
   ],
   "source": [
    "model = places_ontop_model.PlacesOntop_Model(batch_size, n_classes, epochs, img_size, n_channels, version=15)"
   ]
  },
  {
   "cell_type": "code",
   "execution_count": 6,
   "metadata": {},
   "outputs": [],
   "source": [
    "paths = data.PATH()\n",
    "dataset_path = f'{paths.PROCESSED_DATA_PATH}/'\n",
    "dataset = 'clahe_vision_based_dataset'\n",
    "test_dataset_path = f'{dataset_path}/{dataset}/'"
   ]
  },
  {
   "cell_type": "code",
   "execution_count": 7,
   "metadata": {},
   "outputs": [
    {
     "name": "stdout",
     "output_type": "stream",
     "text": [
      "Found 114355 images belonging to 6 classes.\n",
      "Found 6305 images belonging to 6 classes.\n",
      "Found 6328 images belonging to 6 classes.\n"
     ]
    }
   ],
   "source": [
    "train_generator, validation_generator, test_generator = model.get_image_data_generator(test_dataset_path, train=True, validation=True, test=True, class_mode_validation='categorical', class_mode_test='categorical')"
   ]
  },
  {
   "cell_type": "code",
   "execution_count": 8,
   "metadata": {},
   "outputs": [],
   "source": [
    "weights = model.get_class_weights(train_generator.classes, model)\n",
    "model.compile(loss=custom_losses.weighted_categorical_crossentropy(weights), metrics=['categorical_accuracy'],)\n",
    "# model.model.compile(optimizer='adam', loss=custom_losses.weighted_categorical_crossentropy(weights), metrics=['categorical_accuracy'],)\n",
    "# instance_model.compile(optimizer='adam', loss=custom_losses.weighted_categorical_crossentropy(weights), metrics=['categorical_accuracy'],)"
   ]
  },
  {
   "cell_type": "code",
   "execution_count": 9,
   "metadata": {},
   "outputs": [
    {
     "name": "stdout",
     "output_type": "stream",
     "text": [
      "##### PlacesOntop_Model #####\n",
      "Model: \"model_1\"\n",
      "_________________________________________________________________\n",
      "Layer (type)                 Output Shape              Param #   \n",
      "=================================================================\n",
      "input_1 (InputLayer)         (None, 224, 224, 3)       0         \n",
      "_________________________________________________________________\n",
      "block1_conv1 (Conv2D)        (None, 224, 224, 64)      1792      \n",
      "_________________________________________________________________\n",
      "block1_conv2 (Conv2D)        (None, 224, 224, 64)      36928     \n",
      "_________________________________________________________________\n",
      "block1_pool (MaxPooling2D)   (None, 112, 112, 64)      0         \n",
      "_________________________________________________________________\n",
      "block2_conv1 (Conv2D)        (None, 112, 112, 128)     73856     \n",
      "_________________________________________________________________\n",
      "block2_conv2 (Conv2D)        (None, 112, 112, 128)     147584    \n",
      "_________________________________________________________________\n",
      "block2_pool (MaxPooling2D)   (None, 56, 56, 128)       0         \n",
      "_________________________________________________________________\n",
      "block3_conv1 (Conv2D)        (None, 56, 56, 256)       295168    \n",
      "_________________________________________________________________\n",
      "block3_conv2 (Conv2D)        (None, 56, 56, 256)       590080    \n",
      "_________________________________________________________________\n",
      "block3_conv3 (Conv2D)        (None, 56, 56, 256)       590080    \n",
      "_________________________________________________________________\n",
      "block3_pool (MaxPooling2D)   (None, 28, 28, 256)       0         \n",
      "_________________________________________________________________\n",
      "block4_conv1 (Conv2D)        (None, 28, 28, 512)       1180160   \n",
      "_________________________________________________________________\n",
      "block4_conv2 (Conv2D)        (None, 28, 28, 512)       2359808   \n",
      "_________________________________________________________________\n",
      "block4_conv3 (Conv2D)        (None, 28, 28, 512)       2359808   \n",
      "_________________________________________________________________\n",
      "block4_pool (MaxPooling2D)   (None, 14, 14, 512)       0         \n",
      "_________________________________________________________________\n",
      "block5_conv1 (Conv2D)        (None, 14, 14, 512)       2359808   \n",
      "_________________________________________________________________\n",
      "block5_conv2 (Conv2D)        (None, 14, 14, 512)       2359808   \n",
      "_________________________________________________________________\n",
      "block5_conv3 (Conv2D)        (None, 14, 14, 512)       2359808   \n",
      "_________________________________________________________________\n",
      "block5_pool (MaxPooling2D)   (None, 7, 7, 512)         0         \n",
      "_________________________________________________________________\n",
      "global_max_pooling2d_1 (Glob (None, 512)               0         \n",
      "_________________________________________________________________\n",
      "fc1 (Dense)                  (None, 256)               131328    \n",
      "_________________________________________________________________\n",
      "drop_fc1 (Dropout)           (None, 256)               0         \n",
      "_________________________________________________________________\n",
      "predictions (Dense)          (None, 6)                 1542      \n",
      "=================================================================\n",
      "Total params: 14,847,558\n",
      "Trainable params: 7,212,294\n",
      "Non-trainable params: 7,635,264\n",
      "_________________________________________________________________\n",
      "\n"
     ]
    }
   ],
   "source": [
    "model.show_summary()"
   ]
  },
  {
   "cell_type": "code",
   "execution_count": 10,
   "metadata": {},
   "outputs": [
    {
     "name": "stderr",
     "output_type": "stream",
     "text": [
      "W0116 19:14:10.703165 140125060183872 callbacks.py:875] `period` argument is deprecated. Please use `save_freq` to specify the frequency in number of samples seen.\n",
      "W0116 19:14:10.704168 140125060183872 deprecation_wrapper.py:119] From /home/ifranco/Documents/facultad/tesis/tf_real_estate_images_classification/src/models/base_model.py:382: The name tf.global_variables_initializer is deprecated. Please use tf.compat.v1.global_variables_initializer instead.\n",
      "\n",
      "W0116 19:14:10.707253 140125060183872 deprecation_wrapper.py:119] From /home/ifranco/Documents/facultad/tesis/tf_real_estate_images_classification/src/models/base_model.py:383: The name tf.local_variables_initializer is deprecated. Please use tf.compat.v1.local_variables_initializer instead.\n",
      "\n",
      "W0116 19:14:10.709219 140125060183872 deprecation_wrapper.py:119] From /home/ifranco/Documents/facultad/tesis/tf_real_estate_images_classification/src/models/base_model.py:384: The name tf.keras.backend.get_session is deprecated. Please use tf.compat.v1.keras.backend.get_session instead.\n",
      "\n"
     ]
    },
    {
     "name": "stdout",
     "output_type": "stream",
     "text": [
      "class_weights [2.09787195 0.87801938 1.08698338 0.85241588 0.87235292 0.8733923 ]\n",
      "**** Class weights ****\n",
      "[2.09787195 0.87801938 1.08698338 0.85241588 0.87235292 0.8733923 ]\n",
      "*** ** *** *** *** ** ***\n"
     ]
    },
    {
     "name": "stderr",
     "output_type": "stream",
     "text": [
      "W0116 19:14:10.907874 140125060183872 deprecation.py:323] From /home/ifranco/Documents/facultad/tesis/tesis_env/lib/python3.6/site-packages/tensorflow/python/ops/math_grad.py:1250: add_dispatch_support.<locals>.wrapper (from tensorflow.python.ops.array_ops) is deprecated and will be removed in a future version.\n",
      "Instructions for updating:\n",
      "Use tf.where in 2.0, which has the same broadcast rule as np.where\n",
      "W0116 19:14:11.785876 140125060183872 deprecation_wrapper.py:119] From /home/ifranco/Documents/facultad/tesis/tesis_env/lib/python3.6/site-packages/keras/backend/tensorflow_backend.py:422: The name tf.global_variables is deprecated. Please use tf.compat.v1.global_variables instead.\n",
      "\n"
     ]
    },
    {
     "name": "stdout",
     "output_type": "stream",
     "text": [
      "Epoch 1/50\n",
      "894/894 [==============================] - 531s 594ms/step - loss: 1.5370 - categorical_accuracy: 0.3187 - val_loss: 1.2942 - val_categorical_accuracy: 0.3822\n",
      "Epoch 2/50\n",
      "894/894 [==============================] - 528s 590ms/step - loss: 1.3524 - categorical_accuracy: 0.4085 - val_loss: 1.2321 - val_categorical_accuracy: 0.4495\n",
      "Epoch 3/50\n",
      "894/894 [==============================] - 534s 598ms/step - loss: 1.2958 - categorical_accuracy: 0.4395 - val_loss: 1.2632 - val_categorical_accuracy: 0.4696\n",
      "Epoch 4/50\n",
      "894/894 [==============================] - 535s 598ms/step - loss: 1.2505 - categorical_accuracy: 0.4682 - val_loss: 1.2635 - val_categorical_accuracy: 0.5045\n",
      "Epoch 5/50\n",
      "894/894 [==============================] - 539s 603ms/step - loss: 1.2107 - categorical_accuracy: 0.4925 - val_loss: 1.2660 - val_categorical_accuracy: 0.4839\n",
      "Epoch 6/50\n",
      "894/894 [==============================] - 539s 603ms/step - loss: 1.1801 - categorical_accuracy: 0.5115 - val_loss: 1.2688 - val_categorical_accuracy: 0.5299\n",
      "Epoch 7/50\n",
      "894/894 [==============================] - 538s 602ms/step - loss: 1.1477 - categorical_accuracy: 0.5278 - val_loss: 1.2824 - val_categorical_accuracy: 0.5480\n",
      "Epoch 8/50\n",
      "894/894 [==============================] - 538s 602ms/step - loss: 1.1209 - categorical_accuracy: 0.5417 - val_loss: 1.2943 - val_categorical_accuracy: 0.5684\n",
      "Epoch 9/50\n",
      "894/894 [==============================] - 535s 599ms/step - loss: 1.0973 - categorical_accuracy: 0.5546 - val_loss: 1.2253 - val_categorical_accuracy: 0.5681\n",
      "Epoch 10/50\n",
      "894/894 [==============================] - 535s 598ms/step - loss: 1.0716 - categorical_accuracy: 0.5682 - val_loss: 1.1864 - val_categorical_accuracy: 0.5841\n",
      "Epoch 11/50\n",
      "894/894 [==============================] - 536s 599ms/step - loss: 1.0495 - categorical_accuracy: 0.5772 - val_loss: 1.2224 - val_categorical_accuracy: 0.5775\n",
      "Epoch 12/50\n",
      "894/894 [==============================] - 536s 599ms/step - loss: 1.0283 - categorical_accuracy: 0.5881 - val_loss: 1.2932 - val_categorical_accuracy: 0.6105\n",
      "Epoch 13/50\n",
      "894/894 [==============================] - 535s 599ms/step - loss: 1.0062 - categorical_accuracy: 0.5999 - val_loss: 1.2358 - val_categorical_accuracy: 0.6081\n",
      "Epoch 14/50\n",
      "893/894 [============================>.] - ETA: 0s - loss: 0.9922 - categorical_accuracy: 0.6055Epoch 14/50\n",
      "894/894 [==============================] - 535s 599ms/step - loss: 0.9920 - categorical_accuracy: 0.6055 - val_loss: 1.2074 - val_categorical_accuracy: 0.6092\n",
      "Epoch 15/50\n",
      "894/894 [==============================] - 536s 599ms/step - loss: 0.9714 - categorical_accuracy: 0.6131 - val_loss: 1.1416 - val_categorical_accuracy: 0.6200\n",
      "Epoch 16/50\n",
      "894/894 [==============================] - 536s 599ms/step - loss: 0.9545 - categorical_accuracy: 0.6209 - val_loss: 1.2981 - val_categorical_accuracy: 0.6205\n",
      "Epoch 17/50\n",
      "894/894 [==============================] - 535s 599ms/step - loss: 0.9371 - categorical_accuracy: 0.6297 - val_loss: 1.2722 - val_categorical_accuracy: 0.6214\n",
      "Epoch 18/50\n",
      "894/894 [==============================] - 536s 600ms/step - loss: 0.9222 - categorical_accuracy: 0.6371 - val_loss: 1.2953 - val_categorical_accuracy: 0.6298\n",
      "Epoch 19/50\n",
      "894/894 [==============================] - 533s 596ms/step - loss: 0.9054 - categorical_accuracy: 0.6444 - val_loss: 1.4131 - val_categorical_accuracy: 0.6251\n",
      "Epoch 20/50\n",
      "893/894 [============================>.] - ETA: 0s - loss: 0.8846 - categorical_accuracy: 0.6505Epoch 20/50\n",
      "894/894 [==============================] - 533s 597ms/step - loss: 0.8846 - categorical_accuracy: 0.6505 - val_loss: 1.2096 - val_categorical_accuracy: 0.6343\n",
      "Epoch 21/50\n",
      "894/894 [==============================] - 534s 597ms/step - loss: 0.8695 - categorical_accuracy: 0.6567 - val_loss: 1.1994 - val_categorical_accuracy: 0.6308\n",
      "Epoch 22/50\n",
      "893/894 [============================>.] - ETA: 0s - loss: 0.8521 - categorical_accuracy: 0.6612Epoch 22/50\n",
      "894/894 [==============================] - 536s 599ms/step - loss: 0.8521 - categorical_accuracy: 0.6613 - val_loss: 1.2240 - val_categorical_accuracy: 0.6371\n",
      "Epoch 23/50\n",
      "894/894 [==============================] - 545s 609ms/step - loss: 0.8366 - categorical_accuracy: 0.6694 - val_loss: 1.4047 - val_categorical_accuracy: 0.6339\n",
      "Epoch 24/50\n",
      "894/894 [==============================] - 539s 602ms/step - loss: 0.8177 - categorical_accuracy: 0.6757 - val_loss: 1.2174 - val_categorical_accuracy: 0.6420\n",
      "Epoch 25/50\n",
      "894/894 [==============================] - 531s 594ms/step - loss: 0.8021 - categorical_accuracy: 0.6820 - val_loss: 1.1015 - val_categorical_accuracy: 0.6400\n",
      "Epoch 26/50\n",
      "894/894 [==============================] - 532s 595ms/step - loss: 0.7836 - categorical_accuracy: 0.6903 - val_loss: 1.0922 - val_categorical_accuracy: 0.6479\n",
      "Epoch 27/50\n",
      "894/894 [==============================] - 551s 617ms/step - loss: 0.7667 - categorical_accuracy: 0.6955 - val_loss: 1.2405 - val_categorical_accuracy: 0.6409\n",
      "Epoch 28/50\n",
      "894/894 [==============================] - 555s 621ms/step - loss: 0.7481 - categorical_accuracy: 0.7027 - val_loss: 0.9149 - val_categorical_accuracy: 0.6436\n",
      "Epoch 29/50\n",
      "894/894 [==============================] - 531s 594ms/step - loss: 0.7269 - categorical_accuracy: 0.7115 - val_loss: 1.3220 - val_categorical_accuracy: 0.6389\n",
      "Epoch 30/50\n",
      "894/894 [==============================] - 542s 607ms/step - loss: 0.7146 - categorical_accuracy: 0.7157 - val_loss: 0.9737 - val_categorical_accuracy: 0.6436\n",
      "Epoch 31/50\n",
      "894/894 [==============================] - 544s 608ms/step - loss: 0.6962 - categorical_accuracy: 0.7218 - val_loss: 1.2847 - val_categorical_accuracy: 0.6331\n",
      "Epoch 32/50\n",
      "894/894 [==============================] - 525s 588ms/step - loss: 0.6811 - categorical_accuracy: 0.7263 - val_loss: 1.2503 - val_categorical_accuracy: 0.6523\n",
      "Epoch 33/50\n",
      "894/894 [==============================] - 530s 593ms/step - loss: 0.6606 - categorical_accuracy: 0.7343 - val_loss: 1.0314 - val_categorical_accuracy: 0.6558\n",
      "Epoch 34/50\n",
      "894/894 [==============================] - 528s 590ms/step - loss: 0.6464 - categorical_accuracy: 0.7393 - val_loss: 1.0746 - val_categorical_accuracy: 0.6427\n",
      "Epoch 35/50\n",
      "894/894 [==============================] - 540s 604ms/step - loss: 0.6374 - categorical_accuracy: 0.7430 - val_loss: 1.3840 - val_categorical_accuracy: 0.6489\n",
      "Epoch 36/50\n",
      "894/894 [==============================] - 526s 589ms/step - loss: 0.6194 - categorical_accuracy: 0.7509 - val_loss: 1.1431 - val_categorical_accuracy: 0.6425\n",
      "Epoch 37/50\n",
      "894/894 [==============================] - 524s 586ms/step - loss: 0.6006 - categorical_accuracy: 0.7577 - val_loss: 1.0947 - val_categorical_accuracy: 0.6422\n",
      "Epoch 38/50\n",
      "893/894 [============================>.] - ETA: 0s - loss: 0.5873 - categorical_accuracy: 0.7625Epoch 38/50\n",
      "894/894 [==============================] - 545s 609ms/step - loss: 0.5875 - categorical_accuracy: 0.7624 - val_loss: 1.2315 - val_categorical_accuracy: 0.6270\n",
      "Epoch 39/50\n",
      "894/894 [==============================] - 547s 612ms/step - loss: 0.5703 - categorical_accuracy: 0.7696 - val_loss: 1.0459 - val_categorical_accuracy: 0.6403\n",
      "Epoch 40/50\n",
      "893/894 [============================>.] - ETA: 0s - loss: 0.5617 - categorical_accuracy: 0.7726Epoch 40/50\n",
      "894/894 [==============================] - 544s 609ms/step - loss: 0.5618 - categorical_accuracy: 0.7725 - val_loss: 1.1373 - val_categorical_accuracy: 0.6512\n",
      "Epoch 41/50\n",
      "893/894 [============================>.] - ETA: 0s - loss: 0.5422 - categorical_accuracy: 0.7806Epoch 41/50\n",
      "894/894 [==============================] - 546s 610ms/step - loss: 0.5422 - categorical_accuracy: 0.7805 - val_loss: 1.2997 - val_categorical_accuracy: 0.6311\n",
      "Epoch 42/50\n",
      "894/894 [==============================] - 555s 620ms/step - loss: 0.5313 - categorical_accuracy: 0.7838 - val_loss: 1.0106 - val_categorical_accuracy: 0.6411\n",
      "Epoch 43/50\n",
      "894/894 [==============================] - 545s 610ms/step - loss: 0.5153 - categorical_accuracy: 0.7910 - val_loss: 1.3060 - val_categorical_accuracy: 0.6292\n",
      "Epoch 44/50\n",
      "893/894 [============================>.] - ETA: 0s - loss: 0.5083 - categorical_accuracy: 0.7932Epoch 44/50\n",
      "894/894 [==============================] - 542s 607ms/step - loss: 0.5083 - categorical_accuracy: 0.7932 - val_loss: 1.2916 - val_categorical_accuracy: 0.6397\n"
     ]
    },
    {
     "name": "stdout",
     "output_type": "stream",
     "text": [
      "Epoch 45/50\n",
      "894/894 [==============================] - 545s 610ms/step - loss: 0.5018 - categorical_accuracy: 0.7979 - val_loss: 1.2042 - val_categorical_accuracy: 0.6384\n",
      "Epoch 46/50\n",
      "894/894 [==============================] - 523s 585ms/step - loss: 0.4750 - categorical_accuracy: 0.8079 - val_loss: 0.9746 - val_categorical_accuracy: 0.6443\n",
      "Epoch 47/50\n",
      "894/894 [==============================] - 524s 586ms/step - loss: 0.4724 - categorical_accuracy: 0.8081 - val_loss: 1.3545 - val_categorical_accuracy: 0.6285\n",
      "Epoch 48/50\n",
      "894/894 [==============================] - 535s 598ms/step - loss: 0.4652 - categorical_accuracy: 0.8112 - val_loss: 1.1164 - val_categorical_accuracy: 0.6311\n",
      "Epoch 49/50\n",
      "894/894 [==============================] - 537s 601ms/step - loss: 0.4486 - categorical_accuracy: 0.8182 - val_loss: 0.9940 - val_categorical_accuracy: 0.6392\n",
      "Epoch 50/50\n",
      "893/894 [============================>.] - ETA: 0s - loss: 0.4380 - categorical_accuracy: 0.8213Epoch 50/50\n",
      "894/894 [==============================] - 539s 603ms/step - loss: 0.4381 - categorical_accuracy: 0.8212 - val_loss: 0.9908 - val_categorical_accuracy: 0.6370\n",
      "Evaluating generator with 6305 images\n",
      "Scores: [0.9908118844032288, 0.6369547843933105]\n",
      "\n",
      "Evaluating generator with 6328 images\n",
      "Scores: [1.002641201019287, 0.637958288192749]\n",
      "\n",
      "weights [2.09787195 0.87801938 1.08698338 0.85241588 0.87235292 0.8733923 ]\n"
     ]
    }
   ],
   "source": [
    "model.fit_from_generator(path=f'{dataset_path}/{dataset}', \n",
    "                         train_generator=train_generator, validation_generator=validation_generator,\n",
    "                         test_generator=test_generator,\n",
    "                         evaluate_net=False, use_model_check_point=True, use_early_stop=False, weighted=True,\n",
    "                         show_activations=False, n_workers=3)"
   ]
  },
  {
   "cell_type": "code",
   "execution_count": null,
   "metadata": {},
   "outputs": [],
   "source": []
  },
  {
   "cell_type": "code",
   "execution_count": 3,
   "metadata": {},
   "outputs": [
    {
     "name": "stderr",
     "output_type": "stream",
     "text": [
      "WARNING: Logging before flag parsing goes to stderr.\n",
      "W0117 17:02:04.748543 140305813108544 deprecation_wrapper.py:119] From /home/ifranco/Documents/facultad/tesis/tf_real_estate_images_classification/src/models/base_model.py:111: The name tf.global_variables_initializer is deprecated. Please use tf.compat.v1.global_variables_initializer instead.\n",
      "\n",
      "W0117 17:02:04.750764 140305813108544 deprecation_wrapper.py:119] From /home/ifranco/Documents/facultad/tesis/tf_real_estate_images_classification/src/models/base_model.py:112: The name tf.local_variables_initializer is deprecated. Please use tf.compat.v1.local_variables_initializer instead.\n",
      "\n",
      "W0117 17:02:04.752749 140305813108544 deprecation_wrapper.py:119] From /home/ifranco/Documents/facultad/tesis/tf_real_estate_images_classification/src/models/base_model.py:113: The name tf.keras.backend.get_session is deprecated. Please use tf.compat.v1.keras.backend.get_session instead.\n",
      "\n"
     ]
    },
    {
     "name": "stdout",
     "output_type": "stream",
     "text": [
      "Found 6305 images belonging to 6 classes.\n",
      "Found 6328 images belonging to 6 classes.\n",
      "Found 114355 images belonging to 6 classes.\n"
     ]
    }
   ],
   "source": [
    "path = '/home/ifranco/Documents/facultad/tesis/tf_real_estate_images_classification//models/PlacesOntop_Model/2020-01-16__19_13__exp6/'\n",
    "\n",
    "model = base_model.BaseModel.load_model(path)\n",
    "\n",
    "paths = data.PATH()\n",
    "\n",
    "dataset = 'clahe_vision_based_dataset'\n",
    "\n",
    "dataset_path = f'{paths.PROCESSED_DATA_PATH}/'\n",
    "test_dataset_path = f'{dataset_path}/{dataset}/'\n",
    "\n",
    "validation_generator, test_generator = model.get_image_data_generator(test_dataset_path, train=False, validation=True, test=True, class_mode_validation='categorical', class_mode_test='categorical')\n",
    "\n",
    "train_generator = model.get_image_data_generator(f'{test_dataset_path}', train=True, validation=False)\n",
    "weights = model.get_class_weights(train_generator.classes, model)\n",
    "model.model.load_weights('/home/ifranco/Documents/facultad/tesis/tf_real_estate_images_classification//models/PlacesOntop_Model/2020-01-16__19_13__exp6/weights.33-1.03.hdf5')\n",
    "model.compile(loss=custom_losses.weighted_categorical_crossentropy(weights), metrics=['categorical_accuracy'],)"
   ]
  },
  {
   "cell_type": "code",
   "execution_count": 4,
   "metadata": {},
   "outputs": [
    {
     "name": "stdout",
     "output_type": "stream",
     "text": [
      "Evaluating generator with 6305 images\n",
      "Scores: [1.0455730617046357, 0.6558287]\n",
      "\n"
     ]
    }
   ],
   "source": [
    "model.scores = model.evaluate_from_generator(f'{dataset_path}/{dataset}', test_generator=validation_generator)"
   ]
  },
  {
   "cell_type": "code",
   "execution_count": 5,
   "metadata": {},
   "outputs": [
    {
     "name": "stdout",
     "output_type": "stream",
     "text": [
      "Evaluating generator with 6328 images\n",
      "Scores: [1.0577949979901313, 0.642225]\n",
      "\n"
     ]
    }
   ],
   "source": [
    "model.scores_test = model.evaluate_from_generator(f'{dataset_path}/{dataset}', test_generator=test_generator)"
   ]
  },
  {
   "cell_type": "code",
   "execution_count": null,
   "metadata": {},
   "outputs": [],
   "source": []
  },
  {
   "cell_type": "code",
   "execution_count": null,
   "metadata": {},
   "outputs": [],
   "source": []
  },
  {
   "cell_type": "code",
   "execution_count": null,
   "metadata": {},
   "outputs": [],
   "source": [
    "path = '/home/ifranco/Documents/facultad/tesis/tf_real_estate_images_classification//models/PlacesOntop_Model/2020-01-16__19_13__exp6/'\n",
    "\n",
    "model = base_model.BaseModel.load_model(path)\n",
    "\n",
    "paths = data.PATH()\n",
    "\n",
    "dataset = 'clahe_vision_based_dataset'\n",
    "right_dataset = 'right_clahe_vision_based_dataset'\n",
    "\n",
    "dataset_path = f'{paths.PROCESSED_DATA_PATH}/'\n",
    "test_dataset_path = f'{dataset_path}/{right_dataset}/'\n",
    "\n",
    "test_generator = model.get_image_data_generator(test_dataset_path, train=False, validation=False, test=True, class_mode_test='categorical')\n",
    "\n",
    "train_generator = model.get_image_data_generator(f'{dataset_path}/{dataset}/', train=True, validation=False)\n",
    "weights = model.get_class_weights(train_generator.classes, model)\n",
    "model.model.load_weights('/home/ifranco/Documents/facultad/tesis/tf_real_estate_images_classification//models/PlacesOntop_Model/2020-01-16__19_13__exp6/weights.33-1.03.hdf5')\n",
    "model.compile(loss=custom_losses.weighted_categorical_crossentropy(weights), metrics=['categorical_accuracy'],)"
   ]
  },
  {
   "cell_type": "code",
   "execution_count": null,
   "metadata": {},
   "outputs": [],
   "source": [
    "model.scores_test = model.evaluate_from_generator(f'{dataset_path}/{dataset}', test_generator=test_generator)"
   ]
  }
 ],
 "metadata": {
  "kernelspec": {
   "display_name": "Python 3",
   "language": "python",
   "name": "python3"
  },
  "language_info": {
   "codemirror_mode": {
    "name": "ipython",
    "version": 3
   },
   "file_extension": ".py",
   "mimetype": "text/x-python",
   "name": "python",
   "nbconvert_exporter": "python",
   "pygments_lexer": "ipython3",
   "version": "3.6.8"
  }
 },
 "nbformat": 4,
 "nbformat_minor": 2
}
