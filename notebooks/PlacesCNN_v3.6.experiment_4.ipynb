{
 "cells": [
  {
   "cell_type": "code",
   "execution_count": 1,
   "metadata": {},
   "outputs": [],
   "source": [
    "from __future__ import absolute_import, division, print_function, unicode_literals\n",
    "\n",
    "import tensorflow as tf\n",
    "from tensorflow import keras\n",
    "\n",
    "tf.keras.backend.clear_session()"
   ]
  },
  {
   "cell_type": "code",
   "execution_count": 2,
   "metadata": {},
   "outputs": [
    {
     "name": "stderr",
     "output_type": "stream",
     "text": [
      "Using TensorFlow backend.\n"
     ]
    }
   ],
   "source": [
    "from src.models import places_ontop_model\n",
    "from src import custom_losses, custom_metrics, optimizers\n",
    "from src.data import data"
   ]
  },
  {
   "cell_type": "code",
   "execution_count": 3,
   "metadata": {},
   "outputs": [],
   "source": [
    "batch_size = 128\n",
    "n_classes = 6\n",
    "epochs = 25\n",
    "img_size = 224\n",
    "n_channels = 3"
   ]
  },
  {
   "cell_type": "code",
   "execution_count": 4,
   "metadata": {},
   "outputs": [
    {
     "name": "stderr",
     "output_type": "stream",
     "text": [
      "WARNING: Logging before flag parsing goes to stderr.\n",
      "W0107 17:50:39.609743 140395868272448 deprecation_wrapper.py:119] From /home/ifranco/Documents/facultad/tesis/tesis_env/lib/python3.6/site-packages/keras/backend/tensorflow_backend.py:4070: The name tf.nn.max_pool is deprecated. Please use tf.nn.max_pool2d instead.\n",
      "\n"
     ]
    }
   ],
   "source": [
    "model = places_ontop_model.PlacesOntop_Model(batch_size, n_classes, epochs, img_size, n_channels, version=11)"
   ]
  },
  {
   "cell_type": "code",
   "execution_count": 5,
   "metadata": {},
   "outputs": [],
   "source": [
    "from src.data import data"
   ]
  },
  {
   "cell_type": "code",
   "execution_count": 6,
   "metadata": {},
   "outputs": [],
   "source": [
    "paths = data.PATH()\n",
    "dataset_path = f'{paths.PROCESSED_DATA_PATH}/'\n",
    "dataset = 'vision_based_dataset'\n",
    "test_dataset_path = f'{dataset_path}/{dataset}/'"
   ]
  },
  {
   "cell_type": "code",
   "execution_count": 7,
   "metadata": {},
   "outputs": [
    {
     "name": "stdout",
     "output_type": "stream",
     "text": [
      "Found 114361 images belonging to 6 classes.\n",
      "Found 6305 images belonging to 6 classes.\n",
      "Found 6328 images belonging to 6 classes.\n"
     ]
    }
   ],
   "source": [
    "train_generator, validation_generator, test_generator = model.get_image_data_generator(test_dataset_path, train=True, validation=True, test=True, class_mode_validation='categorical', class_mode_test='categorical')"
   ]
  },
  {
   "cell_type": "code",
   "execution_count": 8,
   "metadata": {},
   "outputs": [],
   "source": [
    "weights = model.get_class_weights(train_generator.classes, model)\n",
    "model.compile(loss=custom_losses.weighted_categorical_crossentropy(weights), metrics=['categorical_accuracy'],)\n",
    "# model.model.compile(optimizer='adam', loss=custom_losses.weighted_categorical_crossentropy(weights), metrics=['categorical_accuracy'],)\n",
    "# instance_model.compile(optimizer='adam', loss=custom_losses.weighted_categorical_crossentropy(weights), metrics=['categorical_accuracy'],)"
   ]
  },
  {
   "cell_type": "code",
   "execution_count": 9,
   "metadata": {},
   "outputs": [
    {
     "name": "stdout",
     "output_type": "stream",
     "text": [
      "##### PlacesOntop_Model #####\n",
      "Model: \"model_1\"\n",
      "_________________________________________________________________\n",
      "Layer (type)                 Output Shape              Param #   \n",
      "=================================================================\n",
      "input_1 (InputLayer)         (None, 224, 224, 3)       0         \n",
      "_________________________________________________________________\n",
      "block1_conv1 (Conv2D)        (None, 224, 224, 64)      1792      \n",
      "_________________________________________________________________\n",
      "block1_conv2 (Conv2D)        (None, 224, 224, 64)      36928     \n",
      "_________________________________________________________________\n",
      "block1_pool (MaxPooling2D)   (None, 112, 112, 64)      0         \n",
      "_________________________________________________________________\n",
      "block2_conv1 (Conv2D)        (None, 112, 112, 128)     73856     \n",
      "_________________________________________________________________\n",
      "block2_conv2 (Conv2D)        (None, 112, 112, 128)     147584    \n",
      "_________________________________________________________________\n",
      "block2_pool (MaxPooling2D)   (None, 56, 56, 128)       0         \n",
      "_________________________________________________________________\n",
      "block3_conv1 (Conv2D)        (None, 56, 56, 256)       295168    \n",
      "_________________________________________________________________\n",
      "block3_conv2 (Conv2D)        (None, 56, 56, 256)       590080    \n",
      "_________________________________________________________________\n",
      "block3_conv3 (Conv2D)        (None, 56, 56, 256)       590080    \n",
      "_________________________________________________________________\n",
      "block3_pool (MaxPooling2D)   (None, 28, 28, 256)       0         \n",
      "_________________________________________________________________\n",
      "block4_conv1 (Conv2D)        (None, 28, 28, 512)       1180160   \n",
      "_________________________________________________________________\n",
      "block4_conv2 (Conv2D)        (None, 28, 28, 512)       2359808   \n",
      "_________________________________________________________________\n",
      "block4_conv3 (Conv2D)        (None, 28, 28, 512)       2359808   \n",
      "_________________________________________________________________\n",
      "block4_pool (MaxPooling2D)   (None, 14, 14, 512)       0         \n",
      "_________________________________________________________________\n",
      "block5_conv1 (Conv2D)        (None, 14, 14, 512)       2359808   \n",
      "_________________________________________________________________\n",
      "block5_conv2 (Conv2D)        (None, 14, 14, 512)       2359808   \n",
      "_________________________________________________________________\n",
      "block5_conv3 (Conv2D)        (None, 14, 14, 512)       2359808   \n",
      "_________________________________________________________________\n",
      "block5_pool (MaxPooling2D)   (None, 7, 7, 512)         0         \n",
      "_________________________________________________________________\n",
      "global_max_pooling2d_1 (Glob (None, 512)               0         \n",
      "_________________________________________________________________\n",
      "fc1 (Dense)                  (None, 128)               65664     \n",
      "_________________________________________________________________\n",
      "drop_fc1 (Dropout)           (None, 128)               0         \n",
      "_________________________________________________________________\n",
      "predictions (Dense)          (None, 6)                 774       \n",
      "=================================================================\n",
      "Total params: 14,781,126\n",
      "Trainable params: 66,438\n",
      "Non-trainable params: 14,714,688\n",
      "_________________________________________________________________\n",
      "\n"
     ]
    }
   ],
   "source": [
    "model.show_summary()"
   ]
  },
  {
   "cell_type": "code",
   "execution_count": 10,
   "metadata": {},
   "outputs": [
    {
     "name": "stderr",
     "output_type": "stream",
     "text": [
      "W0107 17:50:53.917682 140395868272448 callbacks.py:875] `period` argument is deprecated. Please use `save_freq` to specify the frequency in number of samples seen.\n",
      "W0107 17:50:53.918590 140395868272448 deprecation_wrapper.py:119] From /home/ifranco/Documents/facultad/tesis/tf_real_estate_images_classification/src/models/base_model.py:354: The name tf.global_variables_initializer is deprecated. Please use tf.compat.v1.global_variables_initializer instead.\n",
      "\n",
      "W0107 17:50:53.921384 140395868272448 deprecation_wrapper.py:119] From /home/ifranco/Documents/facultad/tesis/tf_real_estate_images_classification/src/models/base_model.py:355: The name tf.local_variables_initializer is deprecated. Please use tf.compat.v1.local_variables_initializer instead.\n",
      "\n",
      "W0107 17:50:53.925212 140395868272448 deprecation_wrapper.py:119] From /home/ifranco/Documents/facultad/tesis/tf_real_estate_images_classification/src/models/base_model.py:356: The name tf.keras.backend.get_session is deprecated. Please use tf.compat.v1.keras.backend.get_session instead.\n",
      "\n"
     ]
    },
    {
     "name": "stdout",
     "output_type": "stream",
     "text": [
      "class_weights [2.09728947 0.87794411 1.08704042 0.8524606  0.87239869 0.87343812]\n",
      "**** Class weights ****\n",
      "[2.09728947 0.87794411 1.08704042 0.8524606  0.87239869 0.87343812]\n",
      "*** ** *** *** *** ** ***\n"
     ]
    },
    {
     "name": "stderr",
     "output_type": "stream",
     "text": [
      "W0107 17:50:54.117807 140395868272448 deprecation.py:323] From /home/ifranco/Documents/facultad/tesis/tesis_env/lib/python3.6/site-packages/tensorflow/python/ops/math_grad.py:1250: add_dispatch_support.<locals>.wrapper (from tensorflow.python.ops.array_ops) is deprecated and will be removed in a future version.\n",
      "Instructions for updating:\n",
      "Use tf.where in 2.0, which has the same broadcast rule as np.where\n",
      "W0107 17:50:54.432130 140395868272448 deprecation_wrapper.py:119] From /home/ifranco/Documents/facultad/tesis/tesis_env/lib/python3.6/site-packages/keras/backend/tensorflow_backend.py:422: The name tf.global_variables is deprecated. Please use tf.compat.v1.global_variables instead.\n",
      "\n"
     ]
    },
    {
     "name": "stdout",
     "output_type": "stream",
     "text": [
      "Epoch 1/25\n",
      "894/894 [==============================] - 670s 749ms/step - loss: 1.7895 - categorical_accuracy: 0.1620 - val_loss: 1.5631 - val_categorical_accuracy: 0.2056\n",
      "Epoch 2/25\n",
      "894/894 [==============================] - 731s 817ms/step - loss: 1.7750 - categorical_accuracy: 0.1973 - val_loss: 1.5444 - val_categorical_accuracy: 0.1891\n",
      "Epoch 3/25\n",
      "894/894 [==============================] - 731s 817ms/step - loss: 1.7523 - categorical_accuracy: 0.2194 - val_loss: 1.5555 - val_categorical_accuracy: 0.2274\n",
      "Epoch 4/25\n",
      "894/894 [==============================] - 641s 717ms/step - loss: 1.7315 - categorical_accuracy: 0.2364 - val_loss: 1.5412 - val_categorical_accuracy: 0.2615\n",
      "Epoch 5/25\n",
      "894/894 [==============================] - 708s 792ms/step - loss: 1.7145 - categorical_accuracy: 0.2470 - val_loss: 1.5289 - val_categorical_accuracy: 0.2669\n",
      "Epoch 6/25\n",
      "894/894 [==============================] - 727s 813ms/step - loss: 1.7000 - categorical_accuracy: 0.2541 - val_loss: 1.5229 - val_categorical_accuracy: 0.2687\n",
      "Epoch 7/25\n",
      "894/894 [==============================] - 721s 807ms/step - loss: 1.6869 - categorical_accuracy: 0.2595 - val_loss: 1.5305 - val_categorical_accuracy: 0.2736\n",
      "Epoch 8/25\n",
      "894/894 [==============================] - 718s 803ms/step - loss: 1.6763 - categorical_accuracy: 0.2634 - val_loss: 1.5086 - val_categorical_accuracy: 0.2793\n",
      "Epoch 9/25\n",
      "894/894 [==============================] - 715s 800ms/step - loss: 1.6662 - categorical_accuracy: 0.2668 - val_loss: 1.5168 - val_categorical_accuracy: 0.2812\n",
      "Epoch 10/25\n",
      "894/894 [==============================] - 722s 808ms/step - loss: 1.6595 - categorical_accuracy: 0.2672 - val_loss: 1.5072 - val_categorical_accuracy: 0.2855\n",
      "Epoch 11/25\n",
      "894/894 [==============================] - 716s 800ms/step - loss: 1.6528 - categorical_accuracy: 0.2709 - val_loss: 1.4845 - val_categorical_accuracy: 0.2890\n",
      "Epoch 12/25\n",
      "894/894 [==============================] - 716s 801ms/step - loss: 1.6461 - categorical_accuracy: 0.2730 - val_loss: 1.4840 - val_categorical_accuracy: 0.2895\n",
      "Epoch 13/25\n",
      "894/894 [==============================] - 716s 801ms/step - loss: 1.6402 - categorical_accuracy: 0.2749 - val_loss: 1.4966 - val_categorical_accuracy: 0.2898\n",
      "Epoch 14/25\n",
      "894/894 [==============================] - 715s 800ms/step - loss: 1.6353 - categorical_accuracy: 0.2750 - val_loss: 1.5022 - val_categorical_accuracy: 0.2896\n",
      "Epoch 15/25\n",
      "894/894 [==============================] - 718s 803ms/step - loss: 1.6303 - categorical_accuracy: 0.2780 - val_loss: 1.5001 - val_categorical_accuracy: 0.2983\n",
      "Epoch 16/25\n",
      "894/894 [==============================] - 715s 800ms/step - loss: 1.6238 - categorical_accuracy: 0.2820 - val_loss: 1.4892 - val_categorical_accuracy: 0.2947\n",
      "Epoch 17/25\n",
      "894/894 [==============================] - 715s 799ms/step - loss: 1.6192 - categorical_accuracy: 0.2838 - val_loss: 1.4811 - val_categorical_accuracy: 0.3004\n",
      "Epoch 18/25\n",
      "894/894 [==============================] - 718s 803ms/step - loss: 1.6150 - categorical_accuracy: 0.2860 - val_loss: 1.4894 - val_categorical_accuracy: 0.3009\n",
      "Epoch 19/25\n",
      "894/894 [==============================] - 716s 801ms/step - loss: 1.6114 - categorical_accuracy: 0.2870 - val_loss: 1.4789 - val_categorical_accuracy: 0.3053\n",
      "Epoch 20/25\n",
      "894/894 [==============================] - 716s 801ms/step - loss: 1.6065 - categorical_accuracy: 0.2892 - val_loss: 1.4853 - val_categorical_accuracy: 0.3063\n",
      "Epoch 21/25\n",
      "894/894 [==============================] - 709s 793ms/step - loss: 1.6033 - categorical_accuracy: 0.2913 - val_loss: 1.4813 - val_categorical_accuracy: 0.3115\n",
      "Epoch 22/25\n",
      "894/894 [==============================] - 709s 793ms/step - loss: 1.6012 - categorical_accuracy: 0.2919 - val_loss: 1.5000 - val_categorical_accuracy: 0.3129\n",
      "Epoch 23/25\n",
      "894/894 [==============================] - 707s 791ms/step - loss: 1.5951 - categorical_accuracy: 0.2956 - val_loss: 1.4760 - val_categorical_accuracy: 0.3153\n",
      "Epoch 24/25\n",
      "894/894 [==============================] - 710s 795ms/step - loss: 1.5925 - categorical_accuracy: 0.2971 - val_loss: 1.4593 - val_categorical_accuracy: 0.3153\n",
      "Epoch 25/25\n",
      "894/894 [==============================] - 712s 796ms/step - loss: 1.5894 - categorical_accuracy: 0.2991 - val_loss: 1.4887 - val_categorical_accuracy: 0.3169\n",
      "Evaluating generator with 6305 images\n",
      "Scores: [1.4887253046035767, 0.3168913424015045]\n",
      "\n",
      "Evaluating generator with 6328 images\n",
      "Scores: [1.4812520742416382, 0.3207964599132538]\n",
      "\n",
      "weights [2.09728947 0.87794411 1.08704042 0.8524606  0.87239869 0.87343812]\n"
     ]
    }
   ],
   "source": [
    "model.fit_from_generator(path=f'{dataset_path}/{dataset}', \n",
    "                         train_generator=train_generator, validation_generator=validation_generator,\n",
    "                         test_generator=test_generator,\n",
    "                         evaluate_net=False, use_model_check_point=True, use_early_stop=False, weighted=True,\n",
    "                         show_activations=False, n_workers=4)"
   ]
  },
  {
   "cell_type": "code",
   "execution_count": null,
   "metadata": {},
   "outputs": [],
   "source": []
  },
  {
   "cell_type": "code",
   "execution_count": 12,
   "metadata": {},
   "outputs": [
    {
     "data": {
      "text/plain": [
       "'/home/ifranco/Documents/facultad/tesis/tf_real_estate_images_classification//models/PlacesOntop_Model/2020-01-05__18_54/'"
      ]
     },
     "execution_count": 12,
     "metadata": {},
     "output_type": "execute_result"
    }
   ],
   "source": [
    "model.model_path"
   ]
  },
  {
   "cell_type": "code",
   "execution_count": 13,
   "metadata": {},
   "outputs": [],
   "source": [
    "model = model.load_model(model.model_path)"
   ]
  },
  {
   "cell_type": "code",
   "execution_count": null,
   "metadata": {},
   "outputs": [],
   "source": []
  },
  {
   "cell_type": "code",
   "execution_count": 11,
   "metadata": {},
   "outputs": [],
   "source": [
    "model.model_is_trained = True"
   ]
  },
  {
   "cell_type": "code",
   "execution_count": 12,
   "metadata": {},
   "outputs": [
    {
     "name": "stdout",
     "output_type": "stream",
     "text": [
      "weights [2.09728947 0.87794411 1.08704042 0.8524606  0.87239869 0.87343812]\n"
     ]
    }
   ],
   "source": [
    "model.save_model()"
   ]
  },
  {
   "cell_type": "markdown",
   "metadata": {},
   "source": [
    "### Notas:\n",
    "#### - Probar configuraciones 6, 7, 8 y 9.\n",
    "#### - Comparar mejor resultado con notebook placescnn_v2.1\n",
    "#### - Probar configuraciones desfrizando bloques convolutivos de la red"
   ]
  },
  {
   "cell_type": "code",
   "execution_count": null,
   "metadata": {},
   "outputs": [],
   "source": []
  },
  {
   "cell_type": "code",
   "execution_count": null,
   "metadata": {},
   "outputs": [],
   "source": []
  },
  {
   "cell_type": "code",
   "execution_count": 10,
   "metadata": {},
   "outputs": [
    {
     "name": "stderr",
     "output_type": "stream",
     "text": [
      "W1215 16:28:29.501663 140671186286400 callbacks.py:875] `period` argument is deprecated. Please use `save_freq` to specify the frequency in number of samples seen.\n",
      "W1215 16:28:29.502433 140671186286400 deprecation_wrapper.py:119] From /home/ifranco/Documents/facultad/tesis/tf_real_estate_images_classification/src/models/base_model.py:352: The name tf.global_variables_initializer is deprecated. Please use tf.compat.v1.global_variables_initializer instead.\n",
      "\n",
      "W1215 16:28:29.507600 140671186286400 deprecation_wrapper.py:119] From /home/ifranco/Documents/facultad/tesis/tf_real_estate_images_classification/src/models/base_model.py:353: The name tf.local_variables_initializer is deprecated. Please use tf.compat.v1.local_variables_initializer instead.\n",
      "\n",
      "W1215 16:28:29.512035 140671186286400 deprecation_wrapper.py:119] From /home/ifranco/Documents/facultad/tesis/tf_real_estate_images_classification/src/models/base_model.py:354: The name tf.keras.backend.get_session is deprecated. Please use tf.compat.v1.keras.backend.get_session instead.\n",
      "\n"
     ]
    },
    {
     "name": "stdout",
     "output_type": "stream",
     "text": [
      "class_weights [2.09728947 0.87794411 1.08704042 0.8524606  0.87239869 0.87343812]\n",
      "**** Class weights ****\n",
      "[2.09728947 0.87794411 1.08704042 0.8524606  0.87239869 0.87343812]\n",
      "*** ** *** *** *** ** ***\n"
     ]
    },
    {
     "name": "stderr",
     "output_type": "stream",
     "text": [
      "W1215 16:28:29.750370 140671186286400 deprecation.py:323] From /home/ifranco/Documents/facultad/tesis/tesis_env/lib/python3.6/site-packages/tensorflow/python/ops/math_grad.py:1250: add_dispatch_support.<locals>.wrapper (from tensorflow.python.ops.array_ops) is deprecated and will be removed in a future version.\n",
      "Instructions for updating:\n",
      "Use tf.where in 2.0, which has the same broadcast rule as np.where\n",
      "W1215 16:28:30.482717 140671186286400 deprecation_wrapper.py:119] From /home/ifranco/Documents/facultad/tesis/tesis_env/lib/python3.6/site-packages/keras/backend/tensorflow_backend.py:422: The name tf.global_variables is deprecated. Please use tf.compat.v1.global_variables instead.\n",
      "\n"
     ]
    },
    {
     "name": "stdout",
     "output_type": "stream",
     "text": [
      "Epoch 1/100\n",
      "894/894 [==============================] - 1038s 1s/step - loss: 2.4015 - categorical_accuracy: 0.2928 - val_loss: 2.1764 - val_categorical_accuracy: 0.3545\n",
      "Epoch 2/100\n",
      "894/894 [==============================] - 1060s 1s/step - loss: 2.2469 - categorical_accuracy: 0.3689 - val_loss: 2.0527 - val_categorical_accuracy: 0.4125\n",
      "Epoch 3/100\n",
      "894/894 [==============================] - 1051s 1s/step - loss: 2.1950 - categorical_accuracy: 0.3923 - val_loss: 2.1657 - val_categorical_accuracy: 0.4208\n",
      "Epoch 4/100\n",
      "894/894 [==============================] - 1051s 1s/step - loss: 2.1688 - categorical_accuracy: 0.4039 - val_loss: 2.0708 - val_categorical_accuracy: 0.4346\n",
      "Epoch 5/100\n",
      "894/894 [==============================] - 1047s 1s/step - loss: 2.1490 - categorical_accuracy: 0.4133 - val_loss: 2.0666 - val_categorical_accuracy: 0.4411\n",
      "Epoch 6/100\n",
      "894/894 [==============================] - 1049s 1s/step - loss: 2.1337 - categorical_accuracy: 0.4212 - val_loss: 2.1136 - val_categorical_accuracy: 0.4385\n",
      "Epoch 7/100\n",
      "894/894 [==============================] - 1046s 1s/step - loss: 2.1223 - categorical_accuracy: 0.4254 - val_loss: 2.0854 - val_categorical_accuracy: 0.4525\n",
      "Evaluating generator with 6305 images\n",
      "Scores: [2.085378885269165, 0.45249801874160767]\n",
      "\n",
      "Evaluating generator with 6328 images\n",
      "Scores: [2.1083033084869385, 0.4454804062843323]\n",
      "\n",
      "weights [2.09728947 0.87794411 1.08704042 0.8524606  0.87239869 0.87343812]\n"
     ]
    }
   ],
   "source": [
    "model.fit_from_generator(path=f'{dataset_path}/{dataset}', \n",
    "                         train_generator=train_generator, validation_generator=validation_generator,\n",
    "                         test_generator=test_generator,\n",
    "                         evaluate_net=False, use_model_check_point=True, use_early_stop=True, weighted=True,\n",
    "                         show_activations=False,)"
   ]
  },
  {
   "cell_type": "code",
   "execution_count": 11,
   "metadata": {},
   "outputs": [],
   "source": [
    "model.model_is_trained = True"
   ]
  },
  {
   "cell_type": "code",
   "execution_count": 12,
   "metadata": {},
   "outputs": [
    {
     "name": "stdout",
     "output_type": "stream",
     "text": [
      "weights [2.09728947 0.87794411 1.08704042 0.8524606  0.87239869 0.87343812]\n"
     ]
    }
   ],
   "source": [
    "model.save_model()"
   ]
  },
  {
   "cell_type": "code",
   "execution_count": 17,
   "metadata": {},
   "outputs": [
    {
     "ename": "TypeError",
     "evalue": "predict_from_generator() missing 1 required positional argument: 'path'",
     "output_type": "error",
     "traceback": [
      "\u001b[0;31m---------------------------------------------------------------------------\u001b[0m",
      "\u001b[0;31mTypeError\u001b[0m                                 Traceback (most recent call last)",
      "\u001b[0;32m<ipython-input-17-a61bb5334137>\u001b[0m in \u001b[0;36m<module>\u001b[0;34m\u001b[0m\n\u001b[0;32m----> 1\u001b[0;31m \u001b[0mmodel\u001b[0m\u001b[0;34m.\u001b[0m\u001b[0mpredict_from_generator\u001b[0m\u001b[0;34m(\u001b[0m\u001b[0;34m)\u001b[0m\u001b[0;34m\u001b[0m\u001b[0;34m\u001b[0m\u001b[0m\n\u001b[0m",
      "\u001b[0;31mTypeError\u001b[0m: predict_from_generator() missing 1 required positional argument: 'path'"
     ]
    }
   ],
   "source": [
    "model.predict_from_generator()"
   ]
  }
 ],
 "metadata": {
  "kernelspec": {
   "display_name": "Python 3",
   "language": "python",
   "name": "python3"
  },
  "language_info": {
   "codemirror_mode": {
    "name": "ipython",
    "version": 3
   },
   "file_extension": ".py",
   "mimetype": "text/x-python",
   "name": "python",
   "nbconvert_exporter": "python",
   "pygments_lexer": "ipython3",
   "version": "3.6.8"
  }
 },
 "nbformat": 4,
 "nbformat_minor": 2
}
