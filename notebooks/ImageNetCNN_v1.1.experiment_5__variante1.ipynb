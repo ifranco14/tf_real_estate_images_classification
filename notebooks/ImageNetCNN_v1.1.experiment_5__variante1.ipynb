{
 "cells": [
  {
   "cell_type": "code",
   "execution_count": 11,
   "metadata": {},
   "outputs": [],
   "source": [
    "from __future__ import absolute_import, division, print_function, unicode_literals\n",
    "\n",
    "import tensorflow as tf\n",
    "from tensorflow import keras\n",
    "\n",
    "tf.keras.backend.clear_session()"
   ]
  },
  {
   "cell_type": "code",
   "execution_count": 12,
   "metadata": {},
   "outputs": [],
   "source": [
    "from src.models import imagenet_ontop_model\n",
    "from src import custom_losses, custom_metrics, optimizers\n",
    "from src.data import data"
   ]
  },
  {
   "cell_type": "code",
   "execution_count": 13,
   "metadata": {},
   "outputs": [],
   "source": [
    "batch_size = 128\n",
    "n_classes = 6\n",
    "epochs = 50\n",
    "img_size = 224\n",
    "n_channels = 3"
   ]
  },
  {
   "cell_type": "code",
   "execution_count": 14,
   "metadata": {},
   "outputs": [],
   "source": [
    "model = imagenet_ontop_model.ImageNetOntop_Model(batch_size, n_classes, epochs, img_size, n_channels, version=1)"
   ]
  },
  {
   "cell_type": "code",
   "execution_count": 15,
   "metadata": {},
   "outputs": [],
   "source": [
    "from src.data import data"
   ]
  },
  {
   "cell_type": "code",
   "execution_count": null,
   "metadata": {},
   "outputs": [],
   "source": []
  },
  {
   "cell_type": "code",
   "execution_count": 16,
   "metadata": {},
   "outputs": [],
   "source": [
    "paths = data.PATH()\n",
    "dataset_path = f'{paths.PROCESSED_DATA_PATH}/'\n",
    "dataset = 'vision_based_dataset'\n",
    "test_dataset_path = f'{dataset_path}/{dataset}/'"
   ]
  },
  {
   "cell_type": "code",
   "execution_count": 17,
   "metadata": {},
   "outputs": [
    {
     "name": "stdout",
     "output_type": "stream",
     "text": [
      "Found 114361 images belonging to 6 classes.\n",
      "Found 6305 images belonging to 6 classes.\n",
      "Found 6328 images belonging to 6 classes.\n"
     ]
    }
   ],
   "source": [
    "train_generator, validation_generator, test_generator = model.get_image_data_generator(test_dataset_path, train=True, validation=True, test=True, class_mode_validation='categorical', class_mode_test='categorical')"
   ]
  },
  {
   "cell_type": "code",
   "execution_count": 18,
   "metadata": {},
   "outputs": [],
   "source": [
    "weights = model.get_class_weights(train_generator.classes, model)\n",
    "model.compile(loss=custom_losses.weighted_categorical_crossentropy(weights), metrics=['categorical_accuracy'],)\n",
    "# model.model.compile(optimizer='adam', loss=custom_losses.weighted_categorical_crossentropy(weights), metrics=['categorical_accuracy'],)\n",
    "# instance_model.compile(optimizer='adam', loss=custom_losses.weighted_categorical_crossentropy(weights), metrics=['categorical_accuracy'],)"
   ]
  },
  {
   "cell_type": "code",
   "execution_count": 19,
   "metadata": {},
   "outputs": [
    {
     "name": "stdout",
     "output_type": "stream",
     "text": [
      "##### ImageNetOntop_Model #####\n",
      "Model: \"model_1\"\n",
      "_________________________________________________________________\n",
      "Layer (type)                 Output Shape              Param #   \n",
      "=================================================================\n",
      "input_1 (InputLayer)         (None, 224, 224, 3)       0         \n",
      "_________________________________________________________________\n",
      "block1_conv1 (Conv2D)        (None, 224, 224, 64)      1792      \n",
      "_________________________________________________________________\n",
      "block1_conv2 (Conv2D)        (None, 224, 224, 64)      36928     \n",
      "_________________________________________________________________\n",
      "block1_pool (MaxPooling2D)   (None, 112, 112, 64)      0         \n",
      "_________________________________________________________________\n",
      "block2_conv1 (Conv2D)        (None, 112, 112, 128)     73856     \n",
      "_________________________________________________________________\n",
      "block2_conv2 (Conv2D)        (None, 112, 112, 128)     147584    \n",
      "_________________________________________________________________\n",
      "block2_pool (MaxPooling2D)   (None, 56, 56, 128)       0         \n",
      "_________________________________________________________________\n",
      "block3_conv1 (Conv2D)        (None, 56, 56, 256)       295168    \n",
      "_________________________________________________________________\n",
      "block3_conv2 (Conv2D)        (None, 56, 56, 256)       590080    \n",
      "_________________________________________________________________\n",
      "block3_conv3 (Conv2D)        (None, 56, 56, 256)       590080    \n",
      "_________________________________________________________________\n",
      "block3_pool (MaxPooling2D)   (None, 28, 28, 256)       0         \n",
      "_________________________________________________________________\n",
      "block4_conv1 (Conv2D)        (None, 28, 28, 512)       1180160   \n",
      "_________________________________________________________________\n",
      "block4_conv2 (Conv2D)        (None, 28, 28, 512)       2359808   \n",
      "_________________________________________________________________\n",
      "block4_conv3 (Conv2D)        (None, 28, 28, 512)       2359808   \n",
      "_________________________________________________________________\n",
      "block4_pool (MaxPooling2D)   (None, 14, 14, 512)       0         \n",
      "_________________________________________________________________\n",
      "block5_conv1 (Conv2D)        (None, 14, 14, 512)       2359808   \n",
      "_________________________________________________________________\n",
      "block5_conv2 (Conv2D)        (None, 14, 14, 512)       2359808   \n",
      "_________________________________________________________________\n",
      "block5_conv3 (Conv2D)        (None, 14, 14, 512)       2359808   \n",
      "_________________________________________________________________\n",
      "block5_pool (MaxPooling2D)   (None, 7, 7, 512)         0         \n",
      "_________________________________________________________________\n",
      "flatten (Flatten)            (None, 25088)             0         \n",
      "_________________________________________________________________\n",
      "fc1 (Dense)                  (None, 512)               12845568  \n",
      "_________________________________________________________________\n",
      "drop_fc1 (Dropout)           (None, 512)               0         \n",
      "_________________________________________________________________\n",
      "predictions (Dense)          (None, 6)                 3078      \n",
      "=================================================================\n",
      "Total params: 27,563,334\n",
      "Trainable params: 12,848,646\n",
      "Non-trainable params: 14,714,688\n",
      "_________________________________________________________________\n",
      "\n"
     ]
    }
   ],
   "source": [
    "model.show_summary()"
   ]
  },
  {
   "cell_type": "code",
   "execution_count": 20,
   "metadata": {},
   "outputs": [
    {
     "name": "stderr",
     "output_type": "stream",
     "text": [
      "W0110 09:03:52.729542 140642816886592 callbacks.py:875] `period` argument is deprecated. Please use `save_freq` to specify the frequency in number of samples seen.\n"
     ]
    },
    {
     "name": "stdout",
     "output_type": "stream",
     "text": [
      "class_weights [2.09728947 0.87794411 1.08704042 0.8524606  0.87239869 0.87343812]\n",
      "**** Class weights ****\n",
      "[2.09728947 0.87794411 1.08704042 0.8524606  0.87239869 0.87343812]\n",
      "*** ** *** *** *** ** ***\n",
      "Epoch 1/50\n",
      "894/894 [==============================] - 763s 854ms/step - loss: 1.6385 - categorical_accuracy: 0.2834 - val_loss: 1.3204 - val_categorical_accuracy: 0.3603\n",
      "Epoch 2/50\n",
      "894/894 [==============================] - 831s 929ms/step - loss: 1.4738 - categorical_accuracy: 0.3702 - val_loss: 1.3151 - val_categorical_accuracy: 0.4035\n",
      "Epoch 3/50\n",
      "894/894 [==============================] - 841s 941ms/step - loss: 1.4153 - categorical_accuracy: 0.3940 - val_loss: 1.3545 - val_categorical_accuracy: 0.4243\n",
      "Epoch 4/50\n",
      "894/894 [==============================] - 920s 1s/step - loss: 1.3849 - categorical_accuracy: 0.4081 - val_loss: 1.3305 - val_categorical_accuracy: 0.4276\n",
      "Epoch 5/50\n",
      "894/894 [==============================] - 834s 933ms/step - loss: 1.3631 - categorical_accuracy: 0.4198 - val_loss: 1.3661 - val_categorical_accuracy: 0.4230\n",
      "Epoch 6/50\n",
      "894/894 [==============================] - 906s 1s/step - loss: 1.3459 - categorical_accuracy: 0.4272 - val_loss: 1.3081 - val_categorical_accuracy: 0.4547\n",
      "Epoch 7/50\n",
      "894/894 [==============================] - 833s 932ms/step - loss: 1.3324 - categorical_accuracy: 0.4355 - val_loss: 1.3723 - val_categorical_accuracy: 0.4485\n",
      "Epoch 8/50\n",
      "894/894 [==============================] - 838s 938ms/step - loss: 1.3199 - categorical_accuracy: 0.4430 - val_loss: 1.3151 - val_categorical_accuracy: 0.4531\n",
      "Epoch 9/50\n",
      "894/894 [==============================] - 919s 1s/step - loss: 1.3079 - categorical_accuracy: 0.4481 - val_loss: 1.3322 - val_categorical_accuracy: 0.4653\n",
      "Epoch 10/50\n",
      "894/894 [==============================] - 987s 1s/step - loss: 1.2978 - categorical_accuracy: 0.4527 - val_loss: 1.3297 - val_categorical_accuracy: 0.4709\n",
      "Epoch 11/50\n",
      "894/894 [==============================] - 948s 1s/step - loss: 1.2882 - categorical_accuracy: 0.4587 - val_loss: 1.2378 - val_categorical_accuracy: 0.4757\n",
      "Epoch 12/50\n",
      "894/894 [==============================] - 809s 905ms/step - loss: 1.2809 - categorical_accuracy: 0.4620 - val_loss: 1.2260 - val_categorical_accuracy: 0.4828\n",
      "Epoch 13/50\n",
      "894/894 [==============================] - 942s 1s/step - loss: 1.2721 - categorical_accuracy: 0.4652 - val_loss: 1.2809 - val_categorical_accuracy: 0.4798\n",
      "Epoch 14/50\n",
      "894/894 [==============================] - 859s 961ms/step - loss: 1.2638 - categorical_accuracy: 0.4700 - val_loss: 1.2625 - val_categorical_accuracy: 0.4877\n",
      "Epoch 15/50\n",
      "894/894 [==============================] - 818s 915ms/step - loss: 1.2563 - categorical_accuracy: 0.4740 - val_loss: 1.3267 - val_categorical_accuracy: 0.4817\n",
      "Epoch 16/50\n",
      "894/894 [==============================] - 937s 1s/step - loss: 1.2529 - categorical_accuracy: 0.4756 - val_loss: 1.2977 - val_categorical_accuracy: 0.4956\n",
      "Epoch 17/50\n",
      "894/894 [==============================] - 921s 1s/step - loss: 1.2479 - categorical_accuracy: 0.4792 - val_loss: 1.1907 - val_categorical_accuracy: 0.4902\n",
      "Epoch 18/50\n",
      "894/894 [==============================] - 1036s 1s/step - loss: 1.2389 - categorical_accuracy: 0.4845 - val_loss: 1.3112 - val_categorical_accuracy: 0.4874\n",
      "Epoch 19/50\n",
      "894/894 [==============================] - 925s 1s/step - loss: 1.2343 - categorical_accuracy: 0.4865 - val_loss: 1.2488 - val_categorical_accuracy: 0.5061\n",
      "Epoch 20/50\n",
      "894/894 [==============================] - 914s 1s/step - loss: 1.2273 - categorical_accuracy: 0.4882 - val_loss: 1.1357 - val_categorical_accuracy: 0.4945\n",
      "Epoch 21/50\n",
      "894/894 [==============================] - 799s 893ms/step - loss: 1.2228 - categorical_accuracy: 0.4920 - val_loss: 1.1957 - val_categorical_accuracy: 0.5048\n",
      "Epoch 22/50\n",
      "894/894 [==============================] - 995s 1s/step - loss: 1.2153 - categorical_accuracy: 0.4960 - val_loss: 1.1817 - val_categorical_accuracy: 0.5112\n",
      "Epoch 23/50\n",
      "894/894 [==============================] - 979s 1s/step - loss: 1.2114 - categorical_accuracy: 0.4969 - val_loss: 1.1768 - val_categorical_accuracy: 0.5080\n",
      "Epoch 24/50\n",
      "894/894 [==============================] - 846s 946ms/step - loss: 1.2047 - categorical_accuracy: 0.5018 - val_loss: 1.3087 - val_categorical_accuracy: 0.5048\n",
      "Epoch 25/50\n",
      "894/894 [==============================] - 860s 962ms/step - loss: 1.2037 - categorical_accuracy: 0.5019 - val_loss: 1.2952 - val_categorical_accuracy: 0.5061\n",
      "Evaluating generator with 6305 images\n",
      "Scores: [1.295221209526062, 0.5061062574386597]\n",
      "\n",
      "Evaluating generator with 6328 images\n",
      "Scores: [1.361310362815857, 0.502212405204773]\n",
      "\n",
      "weights [2.09728947 0.87794411 1.08704042 0.8524606  0.87239869 0.87343812]\n"
     ]
    }
   ],
   "source": [
    "model.fit_from_generator(path=f'{dataset_path}/{dataset}', \n",
    "                         train_generator=train_generator, validation_generator=validation_generator,\n",
    "                         test_generator=test_generator,\n",
    "                         evaluate_net=False, use_model_check_point=True, use_early_stop=True, weighted=True,\n",
    "                         show_activations=False, n_workers=2)"
   ]
  },
  {
   "cell_type": "code",
   "execution_count": null,
   "metadata": {},
   "outputs": [],
   "source": []
  },
  {
   "cell_type": "code",
   "execution_count": 12,
   "metadata": {},
   "outputs": [
    {
     "data": {
      "text/plain": [
       "'/home/ifranco/Documents/facultad/tesis/tf_real_estate_images_classification//models/PlacesOntop_Model/2020-01-05__18_54/'"
      ]
     },
     "execution_count": 12,
     "metadata": {},
     "output_type": "execute_result"
    }
   ],
   "source": [
    "model.model_path"
   ]
  },
  {
   "cell_type": "code",
   "execution_count": 13,
   "metadata": {},
   "outputs": [],
   "source": [
    "model = model.load_model(model.model_path)"
   ]
  },
  {
   "cell_type": "code",
   "execution_count": null,
   "metadata": {},
   "outputs": [],
   "source": []
  },
  {
   "cell_type": "code",
   "execution_count": 11,
   "metadata": {},
   "outputs": [],
   "source": [
    "model.model_is_trained = True"
   ]
  },
  {
   "cell_type": "code",
   "execution_count": 12,
   "metadata": {},
   "outputs": [
    {
     "name": "stdout",
     "output_type": "stream",
     "text": [
      "weights [2.09728947 0.87794411 1.08704042 0.8524606  0.87239869 0.87343812]\n"
     ]
    }
   ],
   "source": [
    "model.save_model()"
   ]
  }
 ],
 "metadata": {
  "kernelspec": {
   "display_name": "Python 3",
   "language": "python",
   "name": "python3"
  },
  "language_info": {
   "codemirror_mode": {
    "name": "ipython",
    "version": 3
   },
   "file_extension": ".py",
   "mimetype": "text/x-python",
   "name": "python",
   "nbconvert_exporter": "python",
   "pygments_lexer": "ipython3",
   "version": "3.6.8"
  }
 },
 "nbformat": 4,
 "nbformat_minor": 2
}
