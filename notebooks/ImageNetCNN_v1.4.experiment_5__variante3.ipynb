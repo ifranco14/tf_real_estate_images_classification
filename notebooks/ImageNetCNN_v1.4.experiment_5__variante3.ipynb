{
 "cells": [
  {
   "cell_type": "code",
   "execution_count": 1,
   "metadata": {},
   "outputs": [],
   "source": [
    "from __future__ import absolute_import, division, print_function, unicode_literals\n",
    "\n",
    "import tensorflow as tf\n",
    "from tensorflow import keras\n",
    "\n",
    "tf.keras.backend.clear_session()"
   ]
  },
  {
   "cell_type": "code",
   "execution_count": 2,
   "metadata": {},
   "outputs": [
    {
     "name": "stderr",
     "output_type": "stream",
     "text": [
      "Using TensorFlow backend.\n"
     ]
    }
   ],
   "source": [
    "from src.models import imagenet_ontop_model\n",
    "from src import custom_losses, custom_metrics, optimizers\n",
    "from src.data import data"
   ]
  },
  {
   "cell_type": "code",
   "execution_count": 3,
   "metadata": {},
   "outputs": [],
   "source": [
    "batch_size = 128\n",
    "n_classes = 6\n",
    "epochs = 32\n",
    "img_size = 224\n",
    "n_channels = 3"
   ]
  },
  {
   "cell_type": "code",
   "execution_count": 4,
   "metadata": {},
   "outputs": [
    {
     "name": "stderr",
     "output_type": "stream",
     "text": [
      "WARNING: Logging before flag parsing goes to stderr.\n",
      "W0111 11:03:02.926789 140362206168896 deprecation_wrapper.py:119] From /home/ifranco/Documents/facultad/tesis/tesis_env/lib/python3.6/site-packages/keras/backend/tensorflow_backend.py:4070: The name tf.nn.max_pool is deprecated. Please use tf.nn.max_pool2d instead.\n",
      "\n"
     ]
    }
   ],
   "source": [
    "model = imagenet_ontop_model.ImageNetOntop_Model(batch_size, n_classes, epochs, img_size, n_channels, version=5)"
   ]
  },
  {
   "cell_type": "code",
   "execution_count": 5,
   "metadata": {},
   "outputs": [],
   "source": [
    "from src.data import data"
   ]
  },
  {
   "cell_type": "code",
   "execution_count": 6,
   "metadata": {},
   "outputs": [],
   "source": [
    "paths = data.PATH()\n",
    "dataset_path = f'{paths.PROCESSED_DATA_PATH}/'\n",
    "dataset = 'vision_based_dataset'\n",
    "test_dataset_path = f'{dataset_path}/{dataset}/'"
   ]
  },
  {
   "cell_type": "code",
   "execution_count": 7,
   "metadata": {},
   "outputs": [
    {
     "name": "stdout",
     "output_type": "stream",
     "text": [
      "Found 114361 images belonging to 6 classes.\n",
      "Found 6305 images belonging to 6 classes.\n",
      "Found 6328 images belonging to 6 classes.\n"
     ]
    }
   ],
   "source": [
    "train_generator, validation_generator, test_generator = model.get_image_data_generator(test_dataset_path, train=True, validation=True, test=True, class_mode_validation='categorical', class_mode_test='categorical')"
   ]
  },
  {
   "cell_type": "code",
   "execution_count": 8,
   "metadata": {},
   "outputs": [],
   "source": [
    "weights = model.get_class_weights(train_generator.classes, model)\n",
    "model.compile(loss=custom_losses.weighted_categorical_crossentropy(weights), metrics=['categorical_accuracy'],)\n",
    "# model.model.compile(optimizer='adam', loss=custom_losses.weighted_categorical_crossentropy(weights), metrics=['categorical_accuracy'],)\n",
    "# instance_model.compile(optimizer='adam', loss=custom_losses.weighted_categorical_crossentropy(weights), metrics=['categorical_accuracy'],)"
   ]
  },
  {
   "cell_type": "code",
   "execution_count": 9,
   "metadata": {},
   "outputs": [
    {
     "name": "stdout",
     "output_type": "stream",
     "text": [
      "##### ImageNetOntop_Model #####\n",
      "Model: \"model_1\"\n",
      "_________________________________________________________________\n",
      "Layer (type)                 Output Shape              Param #   \n",
      "=================================================================\n",
      "input_1 (InputLayer)         (None, 224, 224, 3)       0         \n",
      "_________________________________________________________________\n",
      "block1_conv1 (Conv2D)        (None, 224, 224, 64)      1792      \n",
      "_________________________________________________________________\n",
      "block1_conv2 (Conv2D)        (None, 224, 224, 64)      36928     \n",
      "_________________________________________________________________\n",
      "block1_pool (MaxPooling2D)   (None, 112, 112, 64)      0         \n",
      "_________________________________________________________________\n",
      "block2_conv1 (Conv2D)        (None, 112, 112, 128)     73856     \n",
      "_________________________________________________________________\n",
      "block2_conv2 (Conv2D)        (None, 112, 112, 128)     147584    \n",
      "_________________________________________________________________\n",
      "block2_pool (MaxPooling2D)   (None, 56, 56, 128)       0         \n",
      "_________________________________________________________________\n",
      "block3_conv1 (Conv2D)        (None, 56, 56, 256)       295168    \n",
      "_________________________________________________________________\n",
      "block3_conv2 (Conv2D)        (None, 56, 56, 256)       590080    \n",
      "_________________________________________________________________\n",
      "block3_conv3 (Conv2D)        (None, 56, 56, 256)       590080    \n",
      "_________________________________________________________________\n",
      "block3_pool (MaxPooling2D)   (None, 28, 28, 256)       0         \n",
      "_________________________________________________________________\n",
      "block4_conv1 (Conv2D)        (None, 28, 28, 512)       1180160   \n",
      "_________________________________________________________________\n",
      "block4_conv2 (Conv2D)        (None, 28, 28, 512)       2359808   \n",
      "_________________________________________________________________\n",
      "block4_conv3 (Conv2D)        (None, 28, 28, 512)       2359808   \n",
      "_________________________________________________________________\n",
      "block4_pool (MaxPooling2D)   (None, 14, 14, 512)       0         \n",
      "_________________________________________________________________\n",
      "block5_conv1 (Conv2D)        (None, 14, 14, 512)       2359808   \n",
      "_________________________________________________________________\n",
      "block5_conv2 (Conv2D)        (None, 14, 14, 512)       2359808   \n",
      "_________________________________________________________________\n",
      "block5_conv3 (Conv2D)        (None, 14, 14, 512)       2359808   \n",
      "_________________________________________________________________\n",
      "block5_pool (MaxPooling2D)   (None, 7, 7, 512)         0         \n",
      "_________________________________________________________________\n",
      "flatten (Flatten)            (None, 25088)             0         \n",
      "_________________________________________________________________\n",
      "fc1 (Dense)                  (None, 1024)              25691136  \n",
      "_________________________________________________________________\n",
      "drop_fc1 (Dropout)           (None, 1024)              0         \n",
      "_________________________________________________________________\n",
      "predictions (Dense)          (None, 6)                 6150      \n",
      "=================================================================\n",
      "Total params: 40,411,974\n",
      "Trainable params: 32,776,710\n",
      "Non-trainable params: 7,635,264\n",
      "_________________________________________________________________\n",
      "\n"
     ]
    }
   ],
   "source": [
    "model.show_summary()"
   ]
  },
  {
   "cell_type": "code",
   "execution_count": 10,
   "metadata": {},
   "outputs": [
    {
     "name": "stderr",
     "output_type": "stream",
     "text": [
      "W0111 11:03:30.113381 140362206168896 callbacks.py:875] `period` argument is deprecated. Please use `save_freq` to specify the frequency in number of samples seen.\n",
      "W0111 11:03:30.114282 140362206168896 deprecation_wrapper.py:119] From /home/ifranco/Documents/facultad/tesis/tf_real_estate_images_classification/src/models/base_model.py:354: The name tf.global_variables_initializer is deprecated. Please use tf.compat.v1.global_variables_initializer instead.\n",
      "\n",
      "W0111 11:03:30.117120 140362206168896 deprecation_wrapper.py:119] From /home/ifranco/Documents/facultad/tesis/tf_real_estate_images_classification/src/models/base_model.py:355: The name tf.local_variables_initializer is deprecated. Please use tf.compat.v1.local_variables_initializer instead.\n",
      "\n",
      "W0111 11:03:30.119852 140362206168896 deprecation_wrapper.py:119] From /home/ifranco/Documents/facultad/tesis/tf_real_estate_images_classification/src/models/base_model.py:356: The name tf.keras.backend.get_session is deprecated. Please use tf.compat.v1.keras.backend.get_session instead.\n",
      "\n"
     ]
    },
    {
     "name": "stdout",
     "output_type": "stream",
     "text": [
      "class_weights [2.09728947 0.87794411 1.08704042 0.8524606  0.87239869 0.87343812]\n",
      "**** Class weights ****\n",
      "[2.09728947 0.87794411 1.08704042 0.8524606  0.87239869 0.87343812]\n",
      "*** ** *** *** *** ** ***\n"
     ]
    },
    {
     "name": "stderr",
     "output_type": "stream",
     "text": [
      "W0111 11:03:30.349427 140362206168896 deprecation.py:323] From /home/ifranco/Documents/facultad/tesis/tesis_env/lib/python3.6/site-packages/tensorflow/python/ops/math_grad.py:1250: add_dispatch_support.<locals>.wrapper (from tensorflow.python.ops.array_ops) is deprecated and will be removed in a future version.\n",
      "Instructions for updating:\n",
      "Use tf.where in 2.0, which has the same broadcast rule as np.where\n",
      "W0111 11:03:31.949759 140362206168896 deprecation_wrapper.py:119] From /home/ifranco/Documents/facultad/tesis/tesis_env/lib/python3.6/site-packages/keras/backend/tensorflow_backend.py:422: The name tf.global_variables is deprecated. Please use tf.compat.v1.global_variables instead.\n",
      "\n"
     ]
    },
    {
     "name": "stdout",
     "output_type": "stream",
     "text": [
      "Epoch 1/32\n",
      "894/894 [==============================] - 661s 739ms/step - loss: 1.4500 - categorical_accuracy: 0.3716 - val_loss: 1.3713 - val_categorical_accuracy: 0.4259\n",
      "Epoch 2/32\n",
      "894/894 [==============================] - 797s 891ms/step - loss: 1.3074 - categorical_accuracy: 0.4487 - val_loss: 1.3449 - val_categorical_accuracy: 0.4760\n",
      "Epoch 3/32\n",
      "894/894 [==============================] - 817s 914ms/step - loss: 1.2556 - categorical_accuracy: 0.4771 - val_loss: 1.2965 - val_categorical_accuracy: 0.5004\n",
      "Epoch 4/32\n",
      "894/894 [==============================] - 793s 887ms/step - loss: 1.2117 - categorical_accuracy: 0.5010 - val_loss: 1.3225 - val_categorical_accuracy: 0.5148\n",
      "Epoch 5/32\n",
      "894/894 [==============================] - 802s 897ms/step - loss: 1.1764 - categorical_accuracy: 0.5197 - val_loss: 1.1625 - val_categorical_accuracy: 0.5237\n",
      "Epoch 6/32\n",
      "894/894 [==============================] - 791s 885ms/step - loss: 1.1461 - categorical_accuracy: 0.5325 - val_loss: 1.0972 - val_categorical_accuracy: 0.5594\n",
      "Epoch 7/32\n",
      "894/894 [==============================] - 779s 871ms/step - loss: 1.1151 - categorical_accuracy: 0.5506 - val_loss: 1.1523 - val_categorical_accuracy: 0.5526\n",
      "Epoch 8/32\n",
      "894/894 [==============================] - 823s 920ms/step - loss: 1.0838 - categorical_accuracy: 0.5628 - val_loss: 1.0150 - val_categorical_accuracy: 0.5653\n",
      "Epoch 9/32\n",
      "894/894 [==============================] - 792s 886ms/step - loss: 1.0593 - categorical_accuracy: 0.5752 - val_loss: 1.1482 - val_categorical_accuracy: 0.5621\n",
      "Epoch 10/32\n",
      "894/894 [==============================] - 801s 896ms/step - loss: 1.0375 - categorical_accuracy: 0.5853 - val_loss: 1.0287 - val_categorical_accuracy: 0.5830\n",
      "Epoch 11/32\n",
      "894/894 [==============================] - 807s 903ms/step - loss: 1.0162 - categorical_accuracy: 0.5941 - val_loss: 1.0278 - val_categorical_accuracy: 0.5927\n",
      "Epoch 12/32\n",
      "894/894 [==============================] - 811s 907ms/step - loss: 0.9982 - categorical_accuracy: 0.6026 - val_loss: 1.1486 - val_categorical_accuracy: 0.5845\n",
      "Epoch 13/32\n",
      "894/894 [==============================] - 788s 881ms/step - loss: 0.9777 - categorical_accuracy: 0.6119 - val_loss: 1.0246 - val_categorical_accuracy: 0.5794\n",
      "Epoch 14/32\n",
      "894/894 [==============================] - 798s 893ms/step - loss: 0.9596 - categorical_accuracy: 0.6197 - val_loss: 0.9130 - val_categorical_accuracy: 0.6057\n",
      "Epoch 15/32\n",
      "894/894 [==============================] - 764s 855ms/step - loss: 0.9373 - categorical_accuracy: 0.6264 - val_loss: 1.1383 - val_categorical_accuracy: 0.5978\n",
      "Epoch 16/32\n",
      "894/894 [==============================] - 778s 871ms/step - loss: 0.9173 - categorical_accuracy: 0.6346 - val_loss: 1.0551 - val_categorical_accuracy: 0.6133\n",
      "Epoch 17/32\n",
      "894/894 [==============================] - 770s 862ms/step - loss: 0.8997 - categorical_accuracy: 0.6418 - val_loss: 0.9331 - val_categorical_accuracy: 0.6073\n",
      "Epoch 18/32\n",
      "894/894 [==============================] - 810s 906ms/step - loss: 0.8767 - categorical_accuracy: 0.6509 - val_loss: 0.9473 - val_categorical_accuracy: 0.6094\n",
      "Epoch 19/32\n",
      "894/894 [==============================] - 857s 959ms/step - loss: 0.8616 - categorical_accuracy: 0.6556 - val_loss: 0.9762 - val_categorical_accuracy: 0.6176\n",
      "Epoch 20/32\n",
      "894/894 [==============================] - 856s 957ms/step - loss: 0.8384 - categorical_accuracy: 0.6650 - val_loss: 1.1452 - val_categorical_accuracy: 0.6141\n",
      "Epoch 21/32\n",
      "894/894 [==============================] - 864s 966ms/step - loss: 0.8192 - categorical_accuracy: 0.6720 - val_loss: 1.1622 - val_categorical_accuracy: 0.6254\n",
      "Epoch 22/32\n",
      "894/894 [==============================] - 862s 964ms/step - loss: 0.7973 - categorical_accuracy: 0.6801 - val_loss: 1.1694 - val_categorical_accuracy: 0.6189\n",
      "Epoch 23/32\n",
      "894/894 [==============================] - 861s 963ms/step - loss: 0.7800 - categorical_accuracy: 0.6866 - val_loss: 1.1475 - val_categorical_accuracy: 0.6197\n",
      "Epoch 24/32\n",
      "894/894 [==============================] - 853s 954ms/step - loss: 0.7643 - categorical_accuracy: 0.6914 - val_loss: 1.0166 - val_categorical_accuracy: 0.6178\n",
      "Epoch 25/32\n",
      "894/894 [==============================] - 820s 918ms/step - loss: 0.7452 - categorical_accuracy: 0.6994 - val_loss: 1.2170 - val_categorical_accuracy: 0.6265\n",
      "Epoch 26/32\n",
      "894/894 [==============================] - 692s 774ms/step - loss: 0.7302 - categorical_accuracy: 0.7053 - val_loss: 1.1676 - val_categorical_accuracy: 0.6225\n",
      "Epoch 27/32\n",
      "894/894 [==============================] - 689s 770ms/step - loss: 0.7122 - categorical_accuracy: 0.7120 - val_loss: 1.0890 - val_categorical_accuracy: 0.6259\n",
      "Epoch 28/32\n",
      "894/894 [==============================] - 686s 768ms/step - loss: 0.6967 - categorical_accuracy: 0.7195 - val_loss: 1.1436 - val_categorical_accuracy: 0.6230\n",
      "Epoch 29/32\n",
      "894/894 [==============================] - 686s 768ms/step - loss: 0.6789 - categorical_accuracy: 0.7258 - val_loss: 1.1003 - val_categorical_accuracy: 0.6239\n",
      "Epoch 30/32\n",
      "894/894 [==============================] - 689s 771ms/step - loss: 0.6620 - categorical_accuracy: 0.7312 - val_loss: 0.9791 - val_categorical_accuracy: 0.6259\n",
      "Epoch 31/32\n",
      "894/894 [==============================] - 685s 766ms/step - loss: 0.6476 - categorical_accuracy: 0.7358 - val_loss: 1.0986 - val_categorical_accuracy: 0.6273\n",
      "Epoch 32/32\n",
      "894/894 [==============================] - 685s 767ms/step - loss: 0.6336 - categorical_accuracy: 0.7415 - val_loss: 1.0734 - val_categorical_accuracy: 0.6227\n",
      "Evaluating generator with 6305 images\n",
      "Scores: [1.0733630657196045, 0.6226804256439209]\n",
      "\n",
      "Evaluating generator with 6328 images\n",
      "Scores: [1.2700296640396118, 0.625]\n",
      "\n",
      "weights [2.09728947 0.87794411 1.08704042 0.8524606  0.87239869 0.87343812]\n"
     ]
    }
   ],
   "source": [
    "model.fit_from_generator(path=f'{dataset_path}/{dataset}', \n",
    "                         train_generator=train_generator, validation_generator=validation_generator,\n",
    "                         test_generator=test_generator,\n",
    "                         evaluate_net=False, use_model_check_point=True, use_early_stop=False, weighted=True,\n",
    "                         show_activations=False, n_workers=2)"
   ]
  },
  {
   "cell_type": "code",
   "execution_count": null,
   "metadata": {},
   "outputs": [],
   "source": []
  },
  {
   "cell_type": "code",
   "execution_count": 12,
   "metadata": {},
   "outputs": [
    {
     "data": {
      "text/plain": [
       "'/home/ifranco/Documents/facultad/tesis/tf_real_estate_images_classification//models/PlacesOntop_Model/2020-01-05__18_54/'"
      ]
     },
     "execution_count": 12,
     "metadata": {},
     "output_type": "execute_result"
    }
   ],
   "source": [
    "model.model_path"
   ]
  },
  {
   "cell_type": "code",
   "execution_count": 13,
   "metadata": {},
   "outputs": [],
   "source": [
    "model = model.load_model(model.model_path)"
   ]
  },
  {
   "cell_type": "code",
   "execution_count": null,
   "metadata": {},
   "outputs": [],
   "source": []
  },
  {
   "cell_type": "code",
   "execution_count": 11,
   "metadata": {},
   "outputs": [],
   "source": [
    "model.model_is_trained = True"
   ]
  },
  {
   "cell_type": "code",
   "execution_count": 12,
   "metadata": {},
   "outputs": [
    {
     "name": "stdout",
     "output_type": "stream",
     "text": [
      "weights [2.09728947 0.87794411 1.08704042 0.8524606  0.87239869 0.87343812]\n"
     ]
    }
   ],
   "source": [
    "model.save_model()"
   ]
  }
 ],
 "metadata": {
  "kernelspec": {
   "display_name": "Python 3",
   "language": "python",
   "name": "python3"
  },
  "language_info": {
   "codemirror_mode": {
    "name": "ipython",
    "version": 3
   },
   "file_extension": ".py",
   "mimetype": "text/x-python",
   "name": "python",
   "nbconvert_exporter": "python",
   "pygments_lexer": "ipython3",
   "version": "3.6.8"
  }
 },
 "nbformat": 4,
 "nbformat_minor": 2
}
