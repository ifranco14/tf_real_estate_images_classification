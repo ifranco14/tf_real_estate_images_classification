{
 "cells": [
  {
   "cell_type": "code",
   "execution_count": 1,
   "metadata": {},
   "outputs": [],
   "source": [
    "from __future__ import absolute_import, division, print_function, unicode_literals\n",
    "\n",
    "import tensorflow as tf\n",
    "from tensorflow import keras\n",
    "\n",
    "tf.keras.backend.clear_session()"
   ]
  },
  {
   "cell_type": "code",
   "execution_count": 2,
   "metadata": {},
   "outputs": [
    {
     "name": "stderr",
     "output_type": "stream",
     "text": [
      "Using TensorFlow backend.\n"
     ]
    }
   ],
   "source": [
    "from src.models import imagenet_ontop_model\n",
    "from src import custom_losses, custom_metrics, optimizers\n",
    "from src.data import data"
   ]
  },
  {
   "cell_type": "code",
   "execution_count": 3,
   "metadata": {},
   "outputs": [],
   "source": [
    "batch_size = 128\n",
    "n_classes = 6\n",
    "epochs = 32\n",
    "img_size = 224\n",
    "n_channels = 3"
   ]
  },
  {
   "cell_type": "code",
   "execution_count": 4,
   "metadata": {},
   "outputs": [
    {
     "name": "stderr",
     "output_type": "stream",
     "text": [
      "WARNING: Logging before flag parsing goes to stderr.\n",
      "W0112 01:33:23.794656 139644359190336 deprecation_wrapper.py:119] From /home/ifranco/Documents/facultad/tesis/tesis_env/lib/python3.6/site-packages/keras/backend/tensorflow_backend.py:4070: The name tf.nn.max_pool is deprecated. Please use tf.nn.max_pool2d instead.\n",
      "\n"
     ]
    }
   ],
   "source": [
    "model = imagenet_ontop_model.ImageNetOntop_Model(batch_size, n_classes, epochs, img_size, n_channels, version=6)"
   ]
  },
  {
   "cell_type": "code",
   "execution_count": 5,
   "metadata": {},
   "outputs": [],
   "source": [
    "from src.data import data"
   ]
  },
  {
   "cell_type": "code",
   "execution_count": 6,
   "metadata": {},
   "outputs": [],
   "source": [
    "paths = data.PATH()\n",
    "dataset_path = f'{paths.PROCESSED_DATA_PATH}/'\n",
    "dataset = 'vision_based_dataset'\n",
    "test_dataset_path = f'{dataset_path}/{dataset}/'"
   ]
  },
  {
   "cell_type": "code",
   "execution_count": 7,
   "metadata": {},
   "outputs": [
    {
     "name": "stdout",
     "output_type": "stream",
     "text": [
      "Found 114361 images belonging to 6 classes.\n",
      "Found 6305 images belonging to 6 classes.\n",
      "Found 6328 images belonging to 6 classes.\n"
     ]
    }
   ],
   "source": [
    "train_generator, validation_generator, test_generator = model.get_image_data_generator(test_dataset_path, train=True, validation=True, test=True, class_mode_validation='categorical', class_mode_test='categorical')"
   ]
  },
  {
   "cell_type": "code",
   "execution_count": 8,
   "metadata": {},
   "outputs": [],
   "source": [
    "weights = model.get_class_weights(train_generator.classes, model)\n",
    "model.compile(loss=custom_losses.weighted_categorical_crossentropy(weights), metrics=['categorical_accuracy'],)\n",
    "# model.model.compile(optimizer='adam', loss=custom_losses.weighted_categorical_crossentropy(weights), metrics=['categorical_accuracy'],)\n",
    "# instance_model.compile(optimizer='adam', loss=custom_losses.weighted_categorical_crossentropy(weights), metrics=['categorical_accuracy'],)"
   ]
  },
  {
   "cell_type": "code",
   "execution_count": 9,
   "metadata": {},
   "outputs": [
    {
     "name": "stdout",
     "output_type": "stream",
     "text": [
      "##### ImageNetOntop_Model #####\n",
      "Model: \"model_1\"\n",
      "_________________________________________________________________\n",
      "Layer (type)                 Output Shape              Param #   \n",
      "=================================================================\n",
      "input_1 (InputLayer)         (None, 224, 224, 3)       0         \n",
      "_________________________________________________________________\n",
      "block1_conv1 (Conv2D)        (None, 224, 224, 64)      1792      \n",
      "_________________________________________________________________\n",
      "block1_conv2 (Conv2D)        (None, 224, 224, 64)      36928     \n",
      "_________________________________________________________________\n",
      "block1_pool (MaxPooling2D)   (None, 112, 112, 64)      0         \n",
      "_________________________________________________________________\n",
      "block2_conv1 (Conv2D)        (None, 112, 112, 128)     73856     \n",
      "_________________________________________________________________\n",
      "block2_conv2 (Conv2D)        (None, 112, 112, 128)     147584    \n",
      "_________________________________________________________________\n",
      "block2_pool (MaxPooling2D)   (None, 56, 56, 128)       0         \n",
      "_________________________________________________________________\n",
      "block3_conv1 (Conv2D)        (None, 56, 56, 256)       295168    \n",
      "_________________________________________________________________\n",
      "block3_conv2 (Conv2D)        (None, 56, 56, 256)       590080    \n",
      "_________________________________________________________________\n",
      "block3_conv3 (Conv2D)        (None, 56, 56, 256)       590080    \n",
      "_________________________________________________________________\n",
      "block3_pool (MaxPooling2D)   (None, 28, 28, 256)       0         \n",
      "_________________________________________________________________\n",
      "block4_conv1 (Conv2D)        (None, 28, 28, 512)       1180160   \n",
      "_________________________________________________________________\n",
      "block4_conv2 (Conv2D)        (None, 28, 28, 512)       2359808   \n",
      "_________________________________________________________________\n",
      "block4_conv3 (Conv2D)        (None, 28, 28, 512)       2359808   \n",
      "_________________________________________________________________\n",
      "block4_pool (MaxPooling2D)   (None, 14, 14, 512)       0         \n",
      "_________________________________________________________________\n",
      "block5_conv1 (Conv2D)        (None, 14, 14, 512)       2359808   \n",
      "_________________________________________________________________\n",
      "block5_conv2 (Conv2D)        (None, 14, 14, 512)       2359808   \n",
      "_________________________________________________________________\n",
      "block5_conv3 (Conv2D)        (None, 14, 14, 512)       2359808   \n",
      "_________________________________________________________________\n",
      "block5_pool (MaxPooling2D)   (None, 7, 7, 512)         0         \n",
      "_________________________________________________________________\n",
      "flatten (Flatten)            (None, 25088)             0         \n",
      "_________________________________________________________________\n",
      "fc1 (Dense)                  (None, 1024)              25691136  \n",
      "_________________________________________________________________\n",
      "drop_fc1 (Dropout)           (None, 1024)              0         \n",
      "_________________________________________________________________\n",
      "predictions (Dense)          (None, 6)                 6150      \n",
      "=================================================================\n",
      "Total params: 40,411,974\n",
      "Trainable params: 38,676,486\n",
      "Non-trainable params: 1,735,488\n",
      "_________________________________________________________________\n",
      "\n"
     ]
    }
   ],
   "source": [
    "model.show_summary()"
   ]
  },
  {
   "cell_type": "code",
   "execution_count": 10,
   "metadata": {},
   "outputs": [
    {
     "name": "stderr",
     "output_type": "stream",
     "text": [
      "W0112 01:33:30.519277 139644359190336 callbacks.py:875] `period` argument is deprecated. Please use `save_freq` to specify the frequency in number of samples seen.\n",
      "W0112 01:33:30.520334 139644359190336 deprecation_wrapper.py:119] From /home/ifranco/Documents/facultad/tesis/tf_real_estate_images_classification/src/models/base_model.py:354: The name tf.global_variables_initializer is deprecated. Please use tf.compat.v1.global_variables_initializer instead.\n",
      "\n",
      "W0112 01:33:30.528848 139644359190336 deprecation_wrapper.py:119] From /home/ifranco/Documents/facultad/tesis/tf_real_estate_images_classification/src/models/base_model.py:355: The name tf.local_variables_initializer is deprecated. Please use tf.compat.v1.local_variables_initializer instead.\n",
      "\n",
      "W0112 01:33:30.532559 139644359190336 deprecation_wrapper.py:119] From /home/ifranco/Documents/facultad/tesis/tf_real_estate_images_classification/src/models/base_model.py:356: The name tf.keras.backend.get_session is deprecated. Please use tf.compat.v1.keras.backend.get_session instead.\n",
      "\n"
     ]
    },
    {
     "name": "stdout",
     "output_type": "stream",
     "text": [
      "class_weights [2.09728947 0.87794411 1.08704042 0.8524606  0.87239869 0.87343812]\n",
      "**** Class weights ****\n",
      "[2.09728947 0.87794411 1.08704042 0.8524606  0.87239869 0.87343812]\n",
      "*** ** *** *** *** ** ***\n"
     ]
    },
    {
     "name": "stderr",
     "output_type": "stream",
     "text": [
      "W0112 01:33:30.809778 139644359190336 deprecation.py:323] From /home/ifranco/Documents/facultad/tesis/tesis_env/lib/python3.6/site-packages/tensorflow/python/ops/math_grad.py:1250: add_dispatch_support.<locals>.wrapper (from tensorflow.python.ops.array_ops) is deprecated and will be removed in a future version.\n",
      "Instructions for updating:\n",
      "Use tf.where in 2.0, which has the same broadcast rule as np.where\n",
      "W0112 01:33:32.943931 139644359190336 deprecation_wrapper.py:119] From /home/ifranco/Documents/facultad/tesis/tesis_env/lib/python3.6/site-packages/keras/backend/tensorflow_backend.py:422: The name tf.global_variables is deprecated. Please use tf.compat.v1.global_variables instead.\n",
      "\n"
     ]
    },
    {
     "name": "stdout",
     "output_type": "stream",
     "text": [
      "Epoch 1/32\n",
      "894/894 [==============================] - 833s 932ms/step - loss: 1.7923 - categorical_accuracy: 0.1684 - val_loss: 1.5632 - val_categorical_accuracy: 0.1967\n",
      "Epoch 2/32\n",
      "894/894 [==============================] - 943s 1s/step - loss: 1.7919 - categorical_accuracy: 0.1674 - val_loss: 1.5705 - val_categorical_accuracy: 0.1865\n",
      "Epoch 3/32\n",
      "894/894 [==============================] - 915s 1s/step - loss: 1.7918 - categorical_accuracy: 0.1794 - val_loss: 1.5787 - val_categorical_accuracy: 0.1865\n",
      "Epoch 4/32\n",
      "894/894 [==============================] - 896s 1s/step - loss: 1.7919 - categorical_accuracy: 0.1821 - val_loss: 1.5656 - val_categorical_accuracy: 0.1865\n",
      "Epoch 5/32\n",
      "894/894 [==============================] - 791s 884ms/step - loss: 1.7918 - categorical_accuracy: 0.1577 - val_loss: 1.5619 - val_categorical_accuracy: 0.1981\n",
      "Epoch 6/32\n",
      "894/894 [==============================] - 738s 825ms/step - loss: 1.7918 - categorical_accuracy: 0.1682 - val_loss: 1.5845 - val_categorical_accuracy: 0.0761\n",
      "Epoch 7/32\n",
      "894/894 [==============================] - 740s 827ms/step - loss: 1.7918 - categorical_accuracy: 0.1509 - val_loss: 1.5564 - val_categorical_accuracy: 0.1894\n",
      "Epoch 8/32\n",
      "894/894 [==============================] - 735s 822ms/step - loss: 1.7919 - categorical_accuracy: 0.1727 - val_loss: 1.5658 - val_categorical_accuracy: 0.1967\n",
      "Epoch 9/32\n",
      "894/894 [==============================] - 737s 824ms/step - loss: 1.7918 - categorical_accuracy: 0.1741 - val_loss: 1.5674 - val_categorical_accuracy: 0.1981\n",
      "Epoch 10/32\n",
      "894/894 [==============================] - 731s 817ms/step - loss: 1.7919 - categorical_accuracy: 0.1792 - val_loss: 1.5689 - val_categorical_accuracy: 0.1865\n",
      "Epoch 11/32\n",
      "894/894 [==============================] - 736s 824ms/step - loss: 1.7918 - categorical_accuracy: 0.1771 - val_loss: 1.5723 - val_categorical_accuracy: 0.1532\n",
      "Epoch 12/32\n",
      "894/894 [==============================] - 739s 826ms/step - loss: 1.7919 - categorical_accuracy: 0.1361 - val_loss: 1.5604 - val_categorical_accuracy: 0.1967\n",
      "Epoch 13/32\n",
      "894/894 [==============================] - 738s 825ms/step - loss: 1.7919 - categorical_accuracy: 0.1733 - val_loss: 1.5702 - val_categorical_accuracy: 0.1865\n",
      "Epoch 14/32\n",
      "894/894 [==============================] - 739s 827ms/step - loss: 1.7919 - categorical_accuracy: 0.1595 - val_loss: 1.5668 - val_categorical_accuracy: 0.1967\n",
      "Epoch 15/32\n",
      "894/894 [==============================] - 735s 822ms/step - loss: 1.7918 - categorical_accuracy: 0.1699 - val_loss: 1.5717 - val_categorical_accuracy: 0.1981\n",
      "Epoch 16/32\n",
      "894/894 [==============================] - 733s 820ms/step - loss: 1.7918 - categorical_accuracy: 0.1524 - val_loss: 1.5669 - val_categorical_accuracy: 0.1981\n",
      "Epoch 17/32\n",
      "894/894 [==============================] - 739s 826ms/step - loss: 1.7918 - categorical_accuracy: 0.1840 - val_loss: 1.5658 - val_categorical_accuracy: 0.1967\n",
      "Epoch 18/32\n",
      "894/894 [==============================] - 740s 828ms/step - loss: 1.7918 - categorical_accuracy: 0.1705 - val_loss: 1.5764 - val_categorical_accuracy: 0.1981\n",
      "Epoch 19/32\n",
      "894/894 [==============================] - 738s 826ms/step - loss: 1.7918 - categorical_accuracy: 0.1467 - val_loss: 1.5641 - val_categorical_accuracy: 0.1981\n",
      "Epoch 20/32\n",
      "894/894 [==============================] - 743s 831ms/step - loss: 1.7918 - categorical_accuracy: 0.1793 - val_loss: 1.5633 - val_categorical_accuracy: 0.1865\n",
      "Epoch 21/32\n",
      "894/894 [==============================] - 731s 818ms/step - loss: 1.7918 - categorical_accuracy: 0.1712 - val_loss: 1.5668 - val_categorical_accuracy: 0.0761\n",
      "Epoch 22/32\n",
      "894/894 [==============================] - 738s 826ms/step - loss: 1.7918 - categorical_accuracy: 0.1312 - val_loss: 1.5694 - val_categorical_accuracy: 0.1532\n",
      "Epoch 23/32\n",
      "894/894 [==============================] - 735s 823ms/step - loss: 1.7919 - categorical_accuracy: 0.1716 - val_loss: 1.5612 - val_categorical_accuracy: 0.1532\n",
      "Epoch 24/32\n",
      "894/894 [==============================] - 748s 837ms/step - loss: 1.7918 - categorical_accuracy: 0.1615 - val_loss: 1.5797 - val_categorical_accuracy: 0.1967\n",
      "Epoch 25/32\n",
      "894/894 [==============================] - 742s 830ms/step - loss: 1.7917 - categorical_accuracy: 0.1661 - val_loss: 1.5670 - val_categorical_accuracy: 0.1967\n",
      "Epoch 26/32\n",
      "894/894 [==============================] - 743s 831ms/step - loss: 1.7918 - categorical_accuracy: 0.1630 - val_loss: 1.5601 - val_categorical_accuracy: 0.1894\n",
      "Epoch 27/32\n",
      "894/894 [==============================] - 739s 827ms/step - loss: 1.7918 - categorical_accuracy: 0.1707 - val_loss: 1.5704 - val_categorical_accuracy: 0.1865\n",
      "Epoch 28/32\n",
      "894/894 [==============================] - 736s 824ms/step - loss: 1.7918 - categorical_accuracy: 0.1717 - val_loss: 1.5558 - val_categorical_accuracy: 0.1894\n",
      "Epoch 29/32\n",
      "894/894 [==============================] - 739s 827ms/step - loss: 1.7919 - categorical_accuracy: 0.1657 - val_loss: 1.5646 - val_categorical_accuracy: 0.1967\n",
      "Epoch 30/32\n",
      "894/894 [==============================] - 742s 830ms/step - loss: 1.7919 - categorical_accuracy: 0.1462 - val_loss: 1.5696 - val_categorical_accuracy: 0.1981\n",
      "Epoch 31/32\n",
      "894/894 [==============================] - 741s 829ms/step - loss: 1.7919 - categorical_accuracy: 0.1596 - val_loss: 1.5720 - val_categorical_accuracy: 0.1532\n",
      "Epoch 32/32\n",
      "894/894 [==============================] - 738s 826ms/step - loss: 1.7917 - categorical_accuracy: 0.1427 - val_loss: 1.5694 - val_categorical_accuracy: 0.1865\n",
      "Evaluating generator with 6305 images\n",
      "Scores: [1.5693873167037964, 0.18651863932609558]\n",
      "\n",
      "Evaluating generator with 6328 images\n",
      "Scores: [1.5693873167037964, 0.19121365249156952]\n",
      "\n",
      "weights [2.09728947 0.87794411 1.08704042 0.8524606  0.87239869 0.87343812]\n"
     ]
    }
   ],
   "source": [
    "model.fit_from_generator(path=f'{dataset_path}/{dataset}', \n",
    "                         train_generator=train_generator, validation_generator=validation_generator,\n",
    "                         test_generator=test_generator,\n",
    "                         evaluate_net=False, use_model_check_point=True, use_early_stop=False, weighted=True,\n",
    "                         show_activations=False, n_workers=2)"
   ]
  },
  {
   "cell_type": "code",
   "execution_count": null,
   "metadata": {},
   "outputs": [],
   "source": []
  },
  {
   "cell_type": "code",
   "execution_count": 12,
   "metadata": {},
   "outputs": [
    {
     "data": {
      "text/plain": [
       "'/home/ifranco/Documents/facultad/tesis/tf_real_estate_images_classification//models/PlacesOntop_Model/2020-01-05__18_54/'"
      ]
     },
     "execution_count": 12,
     "metadata": {},
     "output_type": "execute_result"
    }
   ],
   "source": [
    "model.model_path"
   ]
  },
  {
   "cell_type": "code",
   "execution_count": 13,
   "metadata": {},
   "outputs": [],
   "source": [
    "model = model.load_model(model.model_path)"
   ]
  },
  {
   "cell_type": "code",
   "execution_count": null,
   "metadata": {},
   "outputs": [],
   "source": []
  },
  {
   "cell_type": "code",
   "execution_count": 11,
   "metadata": {},
   "outputs": [],
   "source": [
    "model.model_is_trained = True"
   ]
  },
  {
   "cell_type": "code",
   "execution_count": 12,
   "metadata": {},
   "outputs": [
    {
     "name": "stdout",
     "output_type": "stream",
     "text": [
      "weights [2.09728947 0.87794411 1.08704042 0.8524606  0.87239869 0.87343812]\n"
     ]
    }
   ],
   "source": [
    "model.save_model()"
   ]
  }
 ],
 "metadata": {
  "kernelspec": {
   "display_name": "Python 3",
   "language": "python",
   "name": "python3"
  },
  "language_info": {
   "codemirror_mode": {
    "name": "ipython",
    "version": 3
   },
   "file_extension": ".py",
   "mimetype": "text/x-python",
   "name": "python",
   "nbconvert_exporter": "python",
   "pygments_lexer": "ipython3",
   "version": "3.6.8"
  }
 },
 "nbformat": 4,
 "nbformat_minor": 2
}
