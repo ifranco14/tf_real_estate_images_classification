{
 "cells": [
  {
   "cell_type": "code",
   "execution_count": 1,
   "metadata": {},
   "outputs": [],
   "source": [
    "from __future__ import absolute_import, division, print_function, unicode_literals\n",
    "\n",
    "import tensorflow as tf\n",
    "from tensorflow import keras\n",
    "\n",
    "tf.keras.backend.clear_session()"
   ]
  },
  {
   "cell_type": "code",
   "execution_count": 2,
   "metadata": {},
   "outputs": [
    {
     "name": "stderr",
     "output_type": "stream",
     "text": [
      "Using TensorFlow backend.\n"
     ]
    }
   ],
   "source": [
    "from src.models import imagenet_ontop_model\n",
    "from src import custom_losses, custom_metrics, optimizers\n",
    "from src.data import data"
   ]
  },
  {
   "cell_type": "code",
   "execution_count": 3,
   "metadata": {},
   "outputs": [],
   "source": [
    "batch_size = 64\n",
    "n_classes = 6\n",
    "epochs = 256\n",
    "img_size = 224\n",
    "n_channels = 3"
   ]
  },
  {
   "cell_type": "code",
   "execution_count": 4,
   "metadata": {},
   "outputs": [
    {
     "name": "stderr",
     "output_type": "stream",
     "text": [
      "WARNING: Logging before flag parsing goes to stderr.\n",
      "W1226 18:56:09.143518 139726529505088 deprecation_wrapper.py:119] From /home/ifranco/Documents/facultad/tesis/tesis_env/lib/python3.6/site-packages/keras/backend/tensorflow_backend.py:4070: The name tf.nn.max_pool is deprecated. Please use tf.nn.max_pool2d instead.\n",
      "\n"
     ]
    }
   ],
   "source": [
    "model = imagenet_ontop_model.ImageNetOntop_Model(batch_size, n_classes, epochs, img_size, n_channels,)"
   ]
  },
  {
   "cell_type": "code",
   "execution_count": 5,
   "metadata": {},
   "outputs": [],
   "source": [
    "from src.data import data"
   ]
  },
  {
   "cell_type": "code",
   "execution_count": 6,
   "metadata": {},
   "outputs": [],
   "source": [
    "paths = data.PATH()\n",
    "dataset_path = f'{paths.PROCESSED_DATA_PATH}/'\n",
    "dataset = 'vision_based_dataset'\n",
    "test_dataset_path = f'{dataset_path}/{dataset}/'"
   ]
  },
  {
   "cell_type": "code",
   "execution_count": null,
   "metadata": {},
   "outputs": [],
   "source": []
  },
  {
   "cell_type": "code",
   "execution_count": 7,
   "metadata": {},
   "outputs": [
    {
     "name": "stdout",
     "output_type": "stream",
     "text": [
      "Found 114361 images belonging to 6 classes.\n",
      "Found 6305 images belonging to 6 classes.\n",
      "Found 6328 images belonging to 6 classes.\n"
     ]
    }
   ],
   "source": [
    "train_generator, validation_generator, test_generator = model.get_image_data_generator(test_dataset_path, train=True, validation=True, test=True, class_mode_test='categorical')"
   ]
  },
  {
   "cell_type": "code",
   "execution_count": 8,
   "metadata": {},
   "outputs": [],
   "source": [
    "from src import optimizers"
   ]
  },
  {
   "cell_type": "code",
   "execution_count": 9,
   "metadata": {},
   "outputs": [
    {
     "name": "stderr",
     "output_type": "stream",
     "text": [
      "W1226 18:56:22.386904 139726529505088 deprecation_wrapper.py:119] From /home/ifranco/Documents/facultad/tesis/tf_real_estate_images_classification/src/optimizers.py:9: The name tf.train.AdamOptimizer is deprecated. Please use tf.compat.v1.train.AdamOptimizer instead.\n",
      "\n"
     ]
    }
   ],
   "source": [
    "opt = optimizers.get_adam_optimizer(learning_rate=0.005,)"
   ]
  },
  {
   "cell_type": "code",
   "execution_count": 10,
   "metadata": {},
   "outputs": [],
   "source": [
    "weights = model.get_class_weights(train_generator.classes, model)\n",
    "model.compile(optimizer=opt, loss=custom_losses.weighted_categorical_crossentropy(weights), metrics=['categorical_accuracy'],)\n",
    "# model.model.compile(optimizer='adam', loss=custom_losses.weighted_categorical_crossentropy(weights), metrics=['categorical_accuracy'],)\n",
    "# instance_model.compile(optimizer='adam', loss=custom_losses.weighted_categorical_crossentropy(weights), metrics=['categorical_accuracy'],)"
   ]
  },
  {
   "cell_type": "code",
   "execution_count": 11,
   "metadata": {},
   "outputs": [
    {
     "name": "stdout",
     "output_type": "stream",
     "text": [
      "##### ImageNetOntop_Model #####\n",
      "Model: \"model_1\"\n",
      "_________________________________________________________________\n",
      "Layer (type)                 Output Shape              Param #   \n",
      "=================================================================\n",
      "input_1 (InputLayer)         (None, 224, 224, 3)       0         \n",
      "_________________________________________________________________\n",
      "block1_conv1 (Conv2D)        (None, 224, 224, 64)      1792      \n",
      "_________________________________________________________________\n",
      "block1_conv2 (Conv2D)        (None, 224, 224, 64)      36928     \n",
      "_________________________________________________________________\n",
      "block1_pool (MaxPooling2D)   (None, 112, 112, 64)      0         \n",
      "_________________________________________________________________\n",
      "block2_conv1 (Conv2D)        (None, 112, 112, 128)     73856     \n",
      "_________________________________________________________________\n",
      "block2_conv2 (Conv2D)        (None, 112, 112, 128)     147584    \n",
      "_________________________________________________________________\n",
      "block2_pool (MaxPooling2D)   (None, 56, 56, 128)       0         \n",
      "_________________________________________________________________\n",
      "block3_conv1 (Conv2D)        (None, 56, 56, 256)       295168    \n",
      "_________________________________________________________________\n",
      "block3_conv2 (Conv2D)        (None, 56, 56, 256)       590080    \n",
      "_________________________________________________________________\n",
      "block3_conv3 (Conv2D)        (None, 56, 56, 256)       590080    \n",
      "_________________________________________________________________\n",
      "block3_pool (MaxPooling2D)   (None, 28, 28, 256)       0         \n",
      "_________________________________________________________________\n",
      "block4_conv1 (Conv2D)        (None, 28, 28, 512)       1180160   \n",
      "_________________________________________________________________\n",
      "block4_conv2 (Conv2D)        (None, 28, 28, 512)       2359808   \n",
      "_________________________________________________________________\n",
      "block4_conv3 (Conv2D)        (None, 28, 28, 512)       2359808   \n",
      "_________________________________________________________________\n",
      "block4_pool (MaxPooling2D)   (None, 14, 14, 512)       0         \n",
      "_________________________________________________________________\n",
      "block5_conv1 (Conv2D)        (None, 14, 14, 512)       2359808   \n",
      "_________________________________________________________________\n",
      "block5_conv2 (Conv2D)        (None, 14, 14, 512)       2359808   \n",
      "_________________________________________________________________\n",
      "block5_conv3 (Conv2D)        (None, 14, 14, 512)       2359808   \n",
      "_________________________________________________________________\n",
      "block5_pool (MaxPooling2D)   (None, 7, 7, 512)         0         \n",
      "_________________________________________________________________\n",
      "flatten (Flatten)            (None, 25088)             0         \n",
      "_________________________________________________________________\n",
      "fc1 (Dense)                  (None, 4096)              102764544 \n",
      "_________________________________________________________________\n",
      "drop_fc1 (Dropout)           (None, 4096)              0         \n",
      "_________________________________________________________________\n",
      "fc2 (Dense)                  (None, 2048)              8390656   \n",
      "_________________________________________________________________\n",
      "drop_fc2 (Dropout)           (None, 2048)              0         \n",
      "_________________________________________________________________\n",
      "predictions (Dense)          (None, 6)                 12294     \n",
      "=================================================================\n",
      "Total params: 125,882,182\n",
      "Trainable params: 111,167,494\n",
      "Non-trainable params: 14,714,688\n",
      "_________________________________________________________________\n",
      "\n"
     ]
    }
   ],
   "source": [
    "model.show_summary()"
   ]
  },
  {
   "cell_type": "code",
   "execution_count": null,
   "metadata": {},
   "outputs": [],
   "source": []
  },
  {
   "cell_type": "code",
   "execution_count": null,
   "metadata": {},
   "outputs": [],
   "source": []
  },
  {
   "cell_type": "code",
   "execution_count": 12,
   "metadata": {},
   "outputs": [
    {
     "name": "stderr",
     "output_type": "stream",
     "text": [
      "W1226 18:56:38.126584 139726529505088 callbacks.py:875] `period` argument is deprecated. Please use `save_freq` to specify the frequency in number of samples seen.\n",
      "W1226 18:56:38.127141 139726529505088 deprecation_wrapper.py:119] From /home/ifranco/Documents/facultad/tesis/tf_real_estate_images_classification/src/models/base_model.py:352: The name tf.global_variables_initializer is deprecated. Please use tf.compat.v1.global_variables_initializer instead.\n",
      "\n",
      "W1226 18:56:38.128997 139726529505088 deprecation_wrapper.py:119] From /home/ifranco/Documents/facultad/tesis/tf_real_estate_images_classification/src/models/base_model.py:353: The name tf.local_variables_initializer is deprecated. Please use tf.compat.v1.local_variables_initializer instead.\n",
      "\n",
      "W1226 18:56:38.130729 139726529505088 deprecation_wrapper.py:119] From /home/ifranco/Documents/facultad/tesis/tf_real_estate_images_classification/src/models/base_model.py:354: The name tf.keras.backend.get_session is deprecated. Please use tf.compat.v1.keras.backend.get_session instead.\n",
      "\n"
     ]
    },
    {
     "name": "stdout",
     "output_type": "stream",
     "text": [
      "class_weights [2.09728947 0.87794411 1.08704042 0.8524606  0.87239869 0.87343812]\n",
      "**** Class weights ****\n",
      "[2.09728947 0.87794411 1.08704042 0.8524606  0.87239869 0.87343812]\n",
      "*** ** *** *** *** ** ***\n"
     ]
    },
    {
     "name": "stderr",
     "output_type": "stream",
     "text": [
      "W1226 18:56:38.396963 139726529505088 deprecation.py:323] From /home/ifranco/Documents/facultad/tesis/tesis_env/lib/python3.6/site-packages/tensorflow/python/ops/math_grad.py:1250: add_dispatch_support.<locals>.wrapper (from tensorflow.python.ops.array_ops) is deprecated and will be removed in a future version.\n",
      "Instructions for updating:\n",
      "Use tf.where in 2.0, which has the same broadcast rule as np.where\n",
      "W1226 18:56:38.625794 139726529505088 deprecation_wrapper.py:119] From /home/ifranco/Documents/facultad/tesis/tesis_env/lib/python3.6/site-packages/keras/backend/tensorflow_backend.py:422: The name tf.global_variables is deprecated. Please use tf.compat.v1.global_variables instead.\n",
      "\n",
      "W1226 18:56:38.626511 139726529505088 deprecation_wrapper.py:119] From /home/ifranco/Documents/facultad/tesis/tesis_env/lib/python3.6/site-packages/keras/backend/tensorflow_backend.py:431: The name tf.is_variable_initialized is deprecated. Please use tf.compat.v1.is_variable_initialized instead.\n",
      "\n",
      "W1226 18:56:38.680959 139726529505088 deprecation_wrapper.py:119] From /home/ifranco/Documents/facultad/tesis/tesis_env/lib/python3.6/site-packages/keras/backend/tensorflow_backend.py:438: The name tf.variables_initializer is deprecated. Please use tf.compat.v1.variables_initializer instead.\n",
      "\n"
     ]
    },
    {
     "name": "stdout",
     "output_type": "stream",
     "text": [
      "Epoch 1/256\n",
      "1787/1787 [==============================] - 1025s 574ms/step - loss: 1.9944 - categorical_accuracy: 0.1553 - val_loss: 1.5776 - val_categorical_accuracy: 0.0761\n",
      "Epoch 2/256\n",
      "1787/1787 [==============================] - 1016s 569ms/step - loss: 1.8018 - categorical_accuracy: 0.1537 - val_loss: 1.5651 - val_categorical_accuracy: 0.1967\n",
      "Epoch 3/256\n",
      "1787/1787 [==============================] - 1014s 568ms/step - loss: 1.8035 - categorical_accuracy: 0.1566 - val_loss: 1.5745 - val_categorical_accuracy: 0.1981\n",
      "Epoch 4/256\n",
      "1787/1787 [==============================] - 1021s 571ms/step - loss: 1.8027 - categorical_accuracy: 0.1597 - val_loss: 1.5630 - val_categorical_accuracy: 0.1967\n",
      "Epoch 5/256\n",
      "1787/1787 [==============================] - 1018s 570ms/step - loss: 1.8024 - categorical_accuracy: 0.1647 - val_loss: 1.5925 - val_categorical_accuracy: 0.0761\n",
      "Epoch 6/256\n",
      "1787/1787 [==============================] - 1018s 569ms/step - loss: 1.8024 - categorical_accuracy: 0.1563 - val_loss: 1.6302 - val_categorical_accuracy: 0.1532\n",
      "Epoch 7/256\n",
      "1787/1787 [==============================] - 1021s 571ms/step - loss: 1.8023 - categorical_accuracy: 0.1639 - val_loss: 1.5937 - val_categorical_accuracy: 0.1865\n",
      "Epoch 8/256\n",
      "1787/1787 [==============================] - 1021s 572ms/step - loss: 1.8024 - categorical_accuracy: 0.1632 - val_loss: 1.5753 - val_categorical_accuracy: 0.1981\n",
      "Epoch 9/256\n",
      "1787/1787 [==============================] - 1022s 572ms/step - loss: 1.8024 - categorical_accuracy: 0.1528 - val_loss: 1.5863 - val_categorical_accuracy: 0.1865\n",
      "Epoch 10/256\n",
      "1787/1787 [==============================] - 1022s 572ms/step - loss: 1.8023 - categorical_accuracy: 0.1640 - val_loss: 1.5875 - val_categorical_accuracy: 0.1981\n",
      "Epoch 11/256\n",
      "1787/1787 [==============================] - 1021s 572ms/step - loss: 1.8023 - categorical_accuracy: 0.1671 - val_loss: 1.5938 - val_categorical_accuracy: 0.0761\n",
      "Epoch 12/256\n",
      "1787/1787 [==============================] - 1021s 571ms/step - loss: 1.8022 - categorical_accuracy: 0.1617 - val_loss: 1.5777 - val_categorical_accuracy: 0.1865\n",
      "Epoch 13/256\n",
      "1787/1787 [==============================] - 1022s 572ms/step - loss: 1.8023 - categorical_accuracy: 0.1575 - val_loss: 1.5625 - val_categorical_accuracy: 0.1532\n",
      "Epoch 14/256\n",
      "1787/1787 [==============================] - 1025s 574ms/step - loss: 1.8024 - categorical_accuracy: 0.1631 - val_loss: 1.5629 - val_categorical_accuracy: 0.0761\n",
      "Epoch 15/256\n",
      "1787/1787 [==============================] - 1021s 572ms/step - loss: 1.8023 - categorical_accuracy: 0.1514 - val_loss: 1.5689 - val_categorical_accuracy: 0.1967\n",
      "Epoch 16/256\n",
      "1787/1787 [==============================] - 1022s 572ms/step - loss: 1.8023 - categorical_accuracy: 0.1596 - val_loss: 1.5945 - val_categorical_accuracy: 0.1981\n",
      "Epoch 17/256\n",
      "1787/1787 [==============================] - 1032s 577ms/step - loss: 1.8023 - categorical_accuracy: 0.1652 - val_loss: 1.5767 - val_categorical_accuracy: 0.1865\n",
      "Epoch 18/256\n",
      "1787/1787 [==============================] - 1021s 571ms/step - loss: 1.8023 - categorical_accuracy: 0.1540 - val_loss: 1.6053 - val_categorical_accuracy: 0.0761\n",
      "Epoch 19/256\n",
      "1787/1787 [==============================] - 1025s 574ms/step - loss: 1.8024 - categorical_accuracy: 0.1615 - val_loss: 1.5391 - val_categorical_accuracy: 0.1894\n",
      "Epoch 20/256\n",
      "1787/1787 [==============================] - 1023s 572ms/step - loss: 1.8024 - categorical_accuracy: 0.1640 - val_loss: 1.5937 - val_categorical_accuracy: 0.1532\n",
      "Epoch 21/256\n",
      "1787/1787 [==============================] - 1027s 575ms/step - loss: 1.8022 - categorical_accuracy: 0.1623 - val_loss: 1.5874 - val_categorical_accuracy: 0.0761\n",
      "Epoch 22/256\n",
      "1787/1787 [==============================] - 1025s 574ms/step - loss: 1.8023 - categorical_accuracy: 0.1574 - val_loss: 1.5460 - val_categorical_accuracy: 0.1967\n",
      "Epoch 23/256\n",
      "1787/1787 [==============================] - 1029s 576ms/step - loss: 1.8023 - categorical_accuracy: 0.1610 - val_loss: 1.6039 - val_categorical_accuracy: 0.1865\n",
      "Epoch 24/256\n",
      "1787/1787 [==============================] - 1029s 576ms/step - loss: 1.8022 - categorical_accuracy: 0.1624 - val_loss: 1.5993 - val_categorical_accuracy: 0.1967\n",
      "Epoch 25/256\n",
      "1787/1787 [==============================] - 1026s 574ms/step - loss: 1.8024 - categorical_accuracy: 0.1691 - val_loss: 1.5671 - val_categorical_accuracy: 0.1967\n",
      "Epoch 26/256\n",
      "1787/1787 [==============================] - 1026s 574ms/step - loss: 1.8023 - categorical_accuracy: 0.1643 - val_loss: 1.5376 - val_categorical_accuracy: 0.1894\n",
      "Epoch 27/256\n",
      "1787/1787 [==============================] - 1026s 574ms/step - loss: 1.8024 - categorical_accuracy: 0.1642 - val_loss: 1.5641 - val_categorical_accuracy: 0.0761\n",
      "Epoch 28/256\n",
      "1787/1787 [==============================] - 1027s 575ms/step - loss: 1.8024 - categorical_accuracy: 0.1657 - val_loss: 1.5718 - val_categorical_accuracy: 0.1967\n",
      "Epoch 29/256\n",
      "1787/1787 [==============================] - 1026s 574ms/step - loss: 1.8023 - categorical_accuracy: 0.1648 - val_loss: 1.5547 - val_categorical_accuracy: 0.1967\n",
      "Epoch 30/256\n",
      "1787/1787 [==============================] - 1028s 575ms/step - loss: 1.8023 - categorical_accuracy: 0.1604 - val_loss: 1.5747 - val_categorical_accuracy: 0.1981\n",
      "Epoch 31/256\n",
      "1787/1787 [==============================] - 1030s 576ms/step - loss: 1.8024 - categorical_accuracy: 0.1648 - val_loss: 1.5772 - val_categorical_accuracy: 0.1981\n",
      "Epoch 32/256\n",
      "1787/1787 [==============================] - 1027s 575ms/step - loss: 1.8024 - categorical_accuracy: 0.1625 - val_loss: 1.5500 - val_categorical_accuracy: 0.1532\n",
      "Epoch 33/256\n",
      "1787/1787 [==============================] - 1027s 575ms/step - loss: 1.8023 - categorical_accuracy: 0.1590 - val_loss: 1.5455 - val_categorical_accuracy: 0.1894\n",
      "Epoch 34/256\n",
      "1787/1787 [==============================] - 1027s 575ms/step - loss: 1.8023 - categorical_accuracy: 0.1594 - val_loss: 1.5699 - val_categorical_accuracy: 0.0761\n",
      "Epoch 35/256\n",
      "1787/1787 [==============================] - 1030s 576ms/step - loss: 1.8023 - categorical_accuracy: 0.1581 - val_loss: 1.5581 - val_categorical_accuracy: 0.1894\n",
      "Epoch 36/256\n",
      "1787/1787 [==============================] - 1028s 575ms/step - loss: 1.8024 - categorical_accuracy: 0.1552 - val_loss: 1.5701 - val_categorical_accuracy: 0.0761\n",
      "Epoch 37/256\n",
      "1787/1787 [==============================] - 1028s 576ms/step - loss: 1.8023 - categorical_accuracy: 0.1574 - val_loss: 1.5596 - val_categorical_accuracy: 0.1894\n",
      "Epoch 38/256\n",
      "1787/1787 [==============================] - 1030s 576ms/step - loss: 1.8024 - categorical_accuracy: 0.1509 - val_loss: 1.6070 - val_categorical_accuracy: 0.1981\n",
      "Epoch 39/256\n",
      "1787/1787 [==============================] - 1027s 574ms/step - loss: 1.8023 - categorical_accuracy: 0.1510 - val_loss: 1.6220 - val_categorical_accuracy: 0.1865\n",
      "Epoch 40/256\n",
      "1787/1787 [==============================] - 1030s 576ms/step - loss: 1.8022 - categorical_accuracy: 0.1583 - val_loss: 1.6087 - val_categorical_accuracy: 0.1981\n",
      "Epoch 41/256\n",
      "1787/1787 [==============================] - 1019s 570ms/step - loss: 1.8023 - categorical_accuracy: 0.1661 - val_loss: 1.5824 - val_categorical_accuracy: 0.0761\n",
      "Epoch 42/256\n",
      "1787/1787 [==============================] - 1020s 571ms/step - loss: 1.8023 - categorical_accuracy: 0.1534 - val_loss: 1.5904 - val_categorical_accuracy: 0.1532\n",
      "Epoch 43/256\n",
      "1787/1787 [==============================] - 1021s 572ms/step - loss: 1.8024 - categorical_accuracy: 0.1539 - val_loss: 1.5667 - val_categorical_accuracy: 0.1981\n",
      "Epoch 44/256\n",
      "1787/1787 [==============================] - 1018s 570ms/step - loss: 1.8023 - categorical_accuracy: 0.1661 - val_loss: 1.5382 - val_categorical_accuracy: 0.1865\n",
      "Epoch 45/256\n",
      "1787/1787 [==============================] - 1024s 573ms/step - loss: 1.8024 - categorical_accuracy: 0.1560 - val_loss: 1.5418 - val_categorical_accuracy: 0.1894\n",
      "Epoch 46/256\n",
      "1787/1787 [==============================] - 1018s 570ms/step - loss: 1.8023 - categorical_accuracy: 0.1673 - val_loss: 1.5687 - val_categorical_accuracy: 0.1532\n",
      "Epoch 47/256\n",
      " 295/1787 [===>..........................] - ETA: 13:23 - loss: 1.8028 - categorical_accuracy: 0.1731"
     ]
    },
    {
     "name": "stderr",
     "output_type": "stream",
     "text": [
      "E1227 08:04:29.408194 139726529505088 ultratb.py:155] Internal Python error in the inspect module.\n",
      "Below is the traceback from this internal error.\n",
      "\n"
     ]
    },
    {
     "name": "stdout",
     "output_type": "stream",
     "text": [
      "Traceback (most recent call last):\n",
      "  File \"/home/ifranco/Documents/facultad/tesis/tesis_env/lib/python3.6/site-packages/IPython/core/interactiveshell.py\", line 3325, in run_code\n",
      "    exec(code_obj, self.user_global_ns, self.user_ns)\n",
      "  File \"<ipython-input-12-c953f0d95abd>\", line 5, in <module>\n",
      "    show_activations=False,)\n",
      "  File \"/home/ifranco/Documents/facultad/tesis/tf_real_estate_images_classification/src/models/base_model.py\", line 377, in fit_from_generator\n",
      "    callbacks=callbacks if callbacks else None,\n",
      "  File \"/home/ifranco/Documents/facultad/tesis/tesis_env/lib/python3.6/site-packages/keras/legacy/interfaces.py\", line 91, in wrapper\n",
      "    return func(*args, **kwargs)\n",
      "  File \"/home/ifranco/Documents/facultad/tesis/tesis_env/lib/python3.6/site-packages/keras/engine/training.py\", line 1732, in fit_generator\n",
      "    initial_epoch=initial_epoch)\n",
      "  File \"/home/ifranco/Documents/facultad/tesis/tesis_env/lib/python3.6/site-packages/keras/engine/training_generator.py\", line 185, in fit_generator\n",
      "    generator_output = next(output_generator)\n",
      "  File \"/home/ifranco/Documents/facultad/tesis/tesis_env/lib/python3.6/site-packages/keras/utils/data_utils.py\", line 610, in get\n",
      "    inputs = future.get(timeout=30)\n",
      "  File \"/usr/lib/python3.6/multiprocessing/pool.py\", line 638, in get\n",
      "    self.wait(timeout)\n",
      "  File \"/usr/lib/python3.6/multiprocessing/pool.py\", line 635, in wait\n",
      "    self._event.wait(timeout)\n",
      "  File \"/usr/lib/python3.6/threading.py\", line 551, in wait\n",
      "    signaled = self._cond.wait(timeout)\n",
      "  File \"/usr/lib/python3.6/threading.py\", line 299, in wait\n",
      "    gotit = waiter.acquire(True, timeout)\n",
      "KeyboardInterrupt\n",
      "\n",
      "During handling of the above exception, another exception occurred:\n",
      "\n",
      "Traceback (most recent call last):\n",
      "  File \"/home/ifranco/Documents/facultad/tesis/tesis_env/lib/python3.6/site-packages/IPython/core/interactiveshell.py\", line 2039, in showtraceback\n",
      "    stb = value._render_traceback_()\n",
      "AttributeError: 'KeyboardInterrupt' object has no attribute '_render_traceback_'\n",
      "\n",
      "During handling of the above exception, another exception occurred:\n",
      "\n",
      "Traceback (most recent call last):\n",
      "  File \"/home/ifranco/Documents/facultad/tesis/tesis_env/lib/python3.6/site-packages/IPython/core/ultratb.py\", line 1101, in get_records\n",
      "    return _fixed_getinnerframes(etb, number_of_lines_of_context, tb_offset)\n",
      "  File \"/home/ifranco/Documents/facultad/tesis/tesis_env/lib/python3.6/site-packages/IPython/core/ultratb.py\", line 319, in wrapped\n",
      "    return f(*args, **kwargs)\n",
      "  File \"/home/ifranco/Documents/facultad/tesis/tesis_env/lib/python3.6/site-packages/IPython/core/ultratb.py\", line 353, in _fixed_getinnerframes\n",
      "    records = fix_frame_records_filenames(inspect.getinnerframes(etb, context))\n",
      "  File \"/usr/lib/python3.6/inspect.py\", line 1490, in getinnerframes\n",
      "    frameinfo = (tb.tb_frame,) + getframeinfo(tb, context)\n",
      "  File \"/usr/lib/python3.6/inspect.py\", line 1448, in getframeinfo\n",
      "    filename = getsourcefile(frame) or getfile(frame)\n",
      "  File \"/usr/lib/python3.6/inspect.py\", line 696, in getsourcefile\n",
      "    if getattr(getmodule(object, filename), '__loader__', None) is not None:\n",
      "  File \"/usr/lib/python3.6/inspect.py\", line 742, in getmodule\n",
      "    os.path.realpath(f)] = module.__name__\n",
      "  File \"/home/ifranco/Documents/facultad/tesis/tesis_env/lib/python3.6/posixpath.py\", line 395, in realpath\n",
      "    path, ok = _joinrealpath(filename[:0], filename, {})\n",
      "  File \"/home/ifranco/Documents/facultad/tesis/tesis_env/lib/python3.6/posixpath.py\", line 429, in _joinrealpath\n",
      "    if not islink(newpath):\n",
      "KeyboardInterrupt\n"
     ]
    },
    {
     "ename": "KeyboardInterrupt",
     "evalue": "",
     "output_type": "error",
     "traceback": [
      "\u001b[0;31m---------------------------------------------------------------------------\u001b[0m"
     ]
    }
   ],
   "source": [
    "model.fit_from_generator(path=f'{dataset_path}/{dataset}', \n",
    "                         train_generator=train_generator, validation_generator=validation_generator,\n",
    "                         test_generator=test_generator,\n",
    "                         evaluate_net=False, use_model_check_point=True, use_early_stop=False, weighted=True,\n",
    "                         show_activations=False,)"
   ]
  },
  {
   "cell_type": "code",
   "execution_count": null,
   "metadata": {},
   "outputs": [],
   "source": []
  },
  {
   "cell_type": "code",
   "execution_count": 13,
   "metadata": {},
   "outputs": [],
   "source": [
    "model.model_is_trained = True"
   ]
  },
  {
   "cell_type": "code",
   "execution_count": 16,
   "metadata": {},
   "outputs": [],
   "source": [
    "# model.model = None"
   ]
  },
  {
   "cell_type": "code",
   "execution_count": 14,
   "metadata": {},
   "outputs": [
    {
     "name": "stdout",
     "output_type": "stream",
     "text": [
      "weights [2.09728947 0.87794411 1.08704042 0.8524606  0.87239869 0.87343812]\n"
     ]
    },
    {
     "ename": "TypeError",
     "evalue": "can't pickle _thread.RLock objects",
     "output_type": "error",
     "traceback": [
      "\u001b[0;31m---------------------------------------------------------------------------\u001b[0m",
      "\u001b[0;31mTypeError\u001b[0m                                 Traceback (most recent call last)",
      "\u001b[0;32m<ipython-input-14-c243abf94a75>\u001b[0m in \u001b[0;36m<module>\u001b[0;34m\u001b[0m\n\u001b[0;32m----> 1\u001b[0;31m \u001b[0mmodel\u001b[0m\u001b[0;34m.\u001b[0m\u001b[0msave_model\u001b[0m\u001b[0;34m(\u001b[0m\u001b[0;34m)\u001b[0m\u001b[0;34m\u001b[0m\u001b[0;34m\u001b[0m\u001b[0m\n\u001b[0m",
      "\u001b[0;32m~/Documents/facultad/tesis/tf_real_estate_images_classification/src/models/base_model.py\u001b[0m in \u001b[0;36msave_model\u001b[0;34m(self)\u001b[0m\n\u001b[1;32m    140\u001b[0m \u001b[0;34m\u001b[0m\u001b[0m\n\u001b[1;32m    141\u001b[0m         \u001b[0mfilehandler\u001b[0m \u001b[0;34m=\u001b[0m \u001b[0mopen\u001b[0m\u001b[0;34m(\u001b[0m\u001b[0;34mf'{self.model_path}/instance.pkl'\u001b[0m\u001b[0;34m,\u001b[0m \u001b[0;34m'wb'\u001b[0m\u001b[0;34m)\u001b[0m\u001b[0;34m\u001b[0m\u001b[0;34m\u001b[0m\u001b[0m\n\u001b[0;32m--> 142\u001b[0;31m         \u001b[0mpickle\u001b[0m\u001b[0;34m.\u001b[0m\u001b[0mdump\u001b[0m\u001b[0;34m(\u001b[0m\u001b[0mself\u001b[0m\u001b[0;34m,\u001b[0m \u001b[0mfilehandler\u001b[0m\u001b[0;34m)\u001b[0m\u001b[0;34m\u001b[0m\u001b[0;34m\u001b[0m\u001b[0m\n\u001b[0m\u001b[1;32m    143\u001b[0m         \u001b[0mfilehandler\u001b[0m\u001b[0;34m.\u001b[0m\u001b[0mclose\u001b[0m\u001b[0;34m(\u001b[0m\u001b[0;34m)\u001b[0m\u001b[0;34m\u001b[0m\u001b[0;34m\u001b[0m\u001b[0m\n\u001b[1;32m    144\u001b[0m \u001b[0;34m\u001b[0m\u001b[0m\n",
      "\u001b[0;31mTypeError\u001b[0m: can't pickle _thread.RLock objects"
     ]
    }
   ],
   "source": [
    "model.save_model()"
   ]
  },
  {
   "cell_type": "code",
   "execution_count": null,
   "metadata": {},
   "outputs": [],
   "source": []
  }
 ],
 "metadata": {
  "kernelspec": {
   "display_name": "Python 3",
   "language": "python",
   "name": "python3"
  },
  "language_info": {
   "codemirror_mode": {
    "name": "ipython",
    "version": 3
   },
   "file_extension": ".py",
   "mimetype": "text/x-python",
   "name": "python",
   "nbconvert_exporter": "python",
   "pygments_lexer": "ipython3",
   "version": "3.6.8"
  }
 },
 "nbformat": 4,
 "nbformat_minor": 2
}
