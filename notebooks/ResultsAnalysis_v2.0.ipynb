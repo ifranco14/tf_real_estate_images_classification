{
 "cells": [
  {
   "cell_type": "code",
   "execution_count": 1,
   "metadata": {},
   "outputs": [
    {
     "name": "stderr",
     "output_type": "stream",
     "text": [
      "Using TensorFlow backend.\n"
     ]
    }
   ],
   "source": [
    "from __future__ import absolute_import, division, print_function, unicode_literals\n",
    "\n",
    "import tensorflow as tf\n",
    "from tensorflow import keras\n",
    "\n",
    "tf.keras.backend.clear_session()\n",
    "import os\n",
    "from src.models import base_model\n",
    "from src import custom_losses, custom_metrics, optimizers\n",
    "from src.data import data"
   ]
  },
  {
   "cell_type": "code",
   "execution_count": 2,
   "metadata": {},
   "outputs": [],
   "source": [
    "from sklearn.metrics import accuracy_score"
   ]
  },
  {
   "cell_type": "code",
   "execution_count": 3,
   "metadata": {},
   "outputs": [
    {
     "data": {
      "text/html": [
       "        <script type=\"text/javascript\">\n",
       "        window.PlotlyConfig = {MathJaxConfig: 'local'};\n",
       "        if (window.MathJax) {MathJax.Hub.Config({SVG: {font: \"STIX-Web\"}});}\n",
       "        if (typeof require !== 'undefined') {\n",
       "        require.undef(\"plotly\");\n",
       "        requirejs.config({\n",
       "            paths: {\n",
       "                'plotly': ['https://cdn.plot.ly/plotly-latest.min']\n",
       "            }\n",
       "        });\n",
       "        require(['plotly'], function(Plotly) {\n",
       "            window._Plotly = Plotly;\n",
       "        });\n",
       "        }\n",
       "        </script>\n",
       "        "
      ]
     },
     "metadata": {},
     "output_type": "display_data"
    }
   ],
   "source": [
    "from src.visualization import visualize as viz"
   ]
  },
  {
   "cell_type": "code",
   "execution_count": 13,
   "metadata": {},
   "outputs": [],
   "source": [
    "def load_model(path, dataset = 'right_vision_based_dataset'):\n",
    "    model = base_model.BaseModel.load_model(path)\n",
    "\n",
    "    paths = data.PATH()\n",
    "\n",
    "    dataset_path = f'{paths.PROCESSED_DATA_PATH}/'\n",
    "    test_dataset_path = f'{dataset_path}/{dataset.replace(\"right_\", \"\")}/'\n",
    "     \n",
    "\n",
    "    test_generator = model.get_image_data_generator(\n",
    "        f'{dataset_path}/{dataset}', train=False, validation=False, test=True, \n",
    "        class_mode_test='categorical')\n",
    "\n",
    "    train_generator = model.get_image_data_generator(f'{test_dataset_path}', train=True, validation=False)\n",
    "    weights = model.get_class_weights(train_generator.classes, model)\n",
    "    w = sorted([f.replace('weights.', '') for f in os.listdir(path) if f.startswith('weights.')], reverse=True)[0]\n",
    "    print(f'model best weights file >> weights.{w}')\n",
    "    model.model.load_weights(f'{path}/weights.{w}')\n",
    "    model.compile(loss=custom_losses.weighted_categorical_crossentropy(weights), metrics=['categorical_accuracy'],)\n",
    "    \n",
    "    model.evaluate_from_generator(f'{dataset_path}/{dataset}', test_generator=test_generator)\n",
    "    \n",
    "    return model, test_generator, test_generator, test_dataset_path"
   ]
  },
  {
   "cell_type": "code",
   "execution_count": 14,
   "metadata": {},
   "outputs": [],
   "source": [
    "import numpy as np\n",
    "import pandas as pd\n",
    "\n",
    "\n",
    "def get_label_prediction(pred_proba):\n",
    "    label_prediction = np.argmax(pred_proba, axis=1)\n",
    "    return label_prediction\n",
    "\n",
    "def get_prediction_confidence(pred_proba):\n",
    "    confidence = np.max(pred_proba, axis=1)\n",
    "    return confidence\n",
    "\n",
    "def get_y_true_from_generator(generator, return_filename=False):\n",
    "    y_true = [f.split('/')[1] for f in generator.filenames]\n",
    "    \n",
    "    if return_filename:\n",
    "        filenames = [f.split('/')[0] for f in generator.filenames]\n",
    "        return y_true, filenames\n",
    "    return y_true\n",
    "\n",
    "def get_pred_label_and_confidence(pred_proba, generator):\n",
    "    classes = list(generator.class_indices.keys())\n",
    "    label_prediction, pred_confidence = (\n",
    "        get_label_prediction(pred_proba),\n",
    "        get_prediction_confidence(pred_proba))\n",
    "    \n",
    "    return [(classes[l], pred_confidence[idx]) for idx, l in enumerate(label_prediction)]\n",
    "\n",
    "def get_df_pred(model, generator, dataset_path):\n",
    "    pred_proba = model.predict_from_generator(dataset_path, \n",
    "                                              test_generator=generator, \n",
    "                                              return_pred_proba=True,\n",
    "                                              batch_size=model.batch_size)\n",
    "    \n",
    "    y_pred = get_pred_label_and_confidence(pred_proba, generator)\n",
    "    filenames, y_true = get_y_true_from_generator(generator, \n",
    "                                                  return_filename=True)\n",
    "    return pd.DataFrame({\n",
    "        'y_true': y_true,\n",
    "        'y_pred': [i[0] for i in y_pred],\n",
    "        'y_pred_proba': [i[1] for i in y_pred],\n",
    "        'filename': filenames\n",
    "        })"
   ]
  },
  {
   "cell_type": "code",
   "execution_count": 15,
   "metadata": {},
   "outputs": [],
   "source": [
    "def print_error_by_category(df_pred_test):\n",
    "    d = df_pred_test.loc[(df_pred_test.y_true != df_pred_test.y_pred)].copy()\n",
    "    d = d.groupby('y_true').size().reset_index().sort_values(0)\n",
    "    d['pct'] = d[0] / df_pred_test.loc[(df_pred_test.y_true != df_pred_test.y_pred)].shape[0]\n",
    "    print(d.to_latex(index=False))\n",
    "    return d"
   ]
  },
  {
   "cell_type": "code",
   "execution_count": 16,
   "metadata": {},
   "outputs": [],
   "source": [
    "def print_pred_proba_error_by_category(df_pred_test):\n",
    "    d = df_pred_test.loc[(df_pred_test.y_true != df_pred_test.y_pred)].copy()\n",
    "    d = d.groupby('y_true').agg({\n",
    "        'y_pred_proba': ['mean','median','std','min','max']\n",
    "    }).reset_index()\n",
    "    \n",
    "    print(d.round(2).to_latex(index=False))\n",
    "    \n",
    "    return d"
   ]
  },
  {
   "cell_type": "code",
   "execution_count": 17,
   "metadata": {},
   "outputs": [],
   "source": [
    "def get_error_by_threshold(df_pred_test):\n",
    "    errors = []\n",
    "    errors_pct = []\n",
    "    rights = []\n",
    "    counts = []\n",
    "    df = df_pred_test.copy()\n",
    "    total_errors = df_pred_test[(df_pred_test.y_true != df_pred_test.y_pred)].shape[0]\n",
    "    for th in np.arange(0, 1, .05):\n",
    "        d = df[(df_pred_test.y_pred_proba >= th)]\n",
    "        counts.append(d.shape[0])\n",
    "        df_err = df_pred_test[((df_pred_test.y_true != df_pred_test.y_pred) \n",
    "                               & (df_pred_test.y_pred_proba >= th))]\n",
    "        err = df_err.shape[0]\n",
    "        err_pct = err / total_errors\n",
    "        err_diff = df_pred_test[(df_pred_test.y_true != df_pred_test.y_pred)].shape[0] - err\n",
    "        acc = accuracy_score(d['y_true'], d['y_pred'])\n",
    "        errors.append(err)\n",
    "        errors_pct.append(err_pct)\n",
    "        rights.append(acc)\n",
    "        \n",
    "    return errors, errors_pct, rights, counts"
   ]
  },
  {
   "cell_type": "code",
   "execution_count": 18,
   "metadata": {},
   "outputs": [],
   "source": [
    "def plot_errors_and_pct_series(errors, pct, counts, experiment=''):\n",
    "    x = np.arange(0, 1, .05)\n",
    "    colors = viz.get_random_colors(3, 4)\n",
    "    fig = viz.make_subplots(specs=[[{\"secondary_y\": True}]])\n",
    "    \n",
    "    trace1_x_axis_name = 'Cantidad de casos que se predicen'\n",
    "    trace1 = viz.get_series_trace(\n",
    "            x, counts, line_color=colors[0],\n",
    "            name=trace1_x_axis_name,\n",
    "            show_legend=True,\n",
    "            mode=None,\n",
    "            opacity=1,\n",
    "            line_width=2.5)\n",
    "    fig.add_trace(trace1)\n",
    "    \n",
    "    trace2_x_axis_name = 'Exactitud categórica'\n",
    "    trace2 = viz.get_series_trace(\n",
    "            x, pct, line_color=colors[1],\n",
    "            name=trace2_x_axis_name,\n",
    "            show_legend=True,\n",
    "            mode=None,\n",
    "            opacity=1,\n",
    "            line_width=2.5)\n",
    "    fig.add_trace(trace2, secondary_y=True)\n",
    "    \n",
    "    trace3_x_axis_name = 'Porcentaje sobre el total de errores'\n",
    "    trace3 = viz.get_series_trace(\n",
    "            x, errors, line_color=colors[2],\n",
    "            name=trace3_x_axis_name,\n",
    "            show_legend=True,\n",
    "            mode=None,\n",
    "            opacity=1,\n",
    "            line_width=2.5)\n",
    "    fig.add_trace(trace3, secondary_y=True)\n",
    "\n",
    "    # Add figure title\n",
    "    fig.update_layout(\n",
    "        #title_text=\"Error count and percentage of total errors of experiment {experiment} model\"\n",
    "        title_text=f\"Cantidad de casos, porcentaje de errores y exactitud categórica por umbral - modelo del exp. {experiment}\"\n",
    "    )\n",
    "\n",
    "    # Set x-axis title\n",
    "    fig.update_xaxes(title_text=\"Umbral\")\n",
    "\n",
    "    # Set y-axes titles\n",
    "    fig.update_yaxes(title_text=trace1_x_axis_name, secondary_y=False)\n",
    "    fig.update_yaxes(title_text='Porcentaje', secondary_y=True)\n",
    "\n",
    "    fig.show()"
   ]
  },
  {
   "cell_type": "code",
   "execution_count": 19,
   "metadata": {},
   "outputs": [],
   "source": [
    "def plot_distribution_of_features_by_label(df, features=[],\n",
    "                                            show_legend=False,\n",
    "                                            exp=''):\n",
    "    '''\n",
    "    Plots the distribution of the features by the y_true label, separating\n",
    "    the true positives from the false positives cases.\n",
    "    '''\n",
    "    import pandas as pd\n",
    "    import numpy as np\n",
    "    import warnings\n",
    "    warnings.filterwarnings('ignore')\n",
    "\n",
    "    import math\n",
    "    from plotly.offline import download_plotlyjs, init_notebook_mode, plot, iplot\n",
    "    try:\n",
    "        init_notebook_mode(connected=True)\n",
    "    except:\n",
    "        pass\n",
    "    import plotly.graph_objs as go\n",
    "    from plotly.subplots import make_subplots\n",
    "    \n",
    "    assert 'y_true' in df.columns, (\n",
    "        'The provided dataframe must have `y_true` column')\n",
    "    assert 'y_pred' in df.columns, (\n",
    "        'The provided dataframe must have `y_pred` column')\n",
    "\n",
    "    df['right_predicted'] = df['y_pred'] == df['y_true']\n",
    "\n",
    "    if not features:\n",
    "        features = [c for c in df.columns\n",
    "                    if c not in\n",
    "                    ['y_true', 'y_pred', 'right_predicted', 'probs',\n",
    "                     'label']\n",
    "                    ]\n",
    "\n",
    "    n_rows = math.ceil(len(features) / 2)\n",
    "\n",
    "    fig = make_subplots(rows=n_rows, cols=1,\n",
    "                        subplot_titles=[f'Modelo del experimento {exp} - {f}'\n",
    "                                        for f in features])\n",
    "\n",
    "    df_right_pred = df.loc[df.right_predicted]\n",
    "    df_wrong_pred = df.loc[~df.right_predicted]\n",
    "\n",
    "    hover_template = '<br>'.join([f'{col}'+'=%{customdata['+f'{idx}'+']}'\n",
    "                                  for idx, col in enumerate(df.columns)])\n",
    "\n",
    "    row_n = 1\n",
    "    col_n = 1\n",
    "    for idx, feature in enumerate(features):\n",
    "        for label in df.y_true.unique():\n",
    "            df_right_label = df_right_pred.loc[df_right_pred.y_pred == label]\n",
    "            fig.add_trace(viz.get_box_plot_trace(\n",
    "                y=df_right_label[feature],\n",
    "                name=f'|label: {label} - predicción correcta|',\n",
    "                marker_color='green',\n",
    "                box_mean=True,\n",
    "                box_points='all', # can also be outliers/suspectedoutliers/False\n",
    "                jitter=0.3,\n",
    "                point_pos=-1.8,\n",
    "                custom_data=df_right_label.values,\n",
    "                hover_template=hover_template\n",
    "            ), row=row_n, col=col_n)\n",
    "\n",
    "            df_wrong_label = df_wrong_pred.loc[df_wrong_pred.y_pred == label]\n",
    "            fig.add_trace(viz.get_box_plot_trace(\n",
    "                y=df_wrong_label[feature],\n",
    "                name=f'|label: {label} - predicción incorrecta|',\n",
    "                marker_color='red',\n",
    "                box_mean=True,\n",
    "                box_points='all', # can also be outliers/suspectedoutliers/False\n",
    "                jitter=0.3,\n",
    "                point_pos=-1.8,\n",
    "                custom_data=df_wrong_label.values,\n",
    "                hover_template=hover_template\n",
    "            ), row=row_n, col=col_n)\n",
    "        fig.update_xaxes(title_text=\"y_true\", row=row_n, col=col_n)\n",
    "        fig.update_yaxes(title_text=feature, row=row_n, col=col_n)\n",
    "\n",
    "        if idx % 2 != 0:\n",
    "            row_n += 1\n",
    "\n",
    "        col_n = 1 if col_n == 2 else 2\n",
    "\n",
    "    fig.update_layout(\n",
    "        #title=('Distribution of features: True Positives and False '\n",
    "        #       +'Positives by ground truth label'),\n",
    "        title=('Distribución de probabilidades asignadas a la categoría elegida '\n",
    "              + 'para casos predichos correcta e incorrectamente'),\n",
    "        yaxis=dict(\n",
    "            autorange=True,\n",
    "            showgrid=True,\n",
    "            zeroline=True,\n",
    "            gridcolor='rgb(255, 255, 255)',\n",
    "            gridwidth=1,\n",
    "            zerolinecolor='rgb(255, 255, 255)',\n",
    "            zerolinewidth=2,\n",
    "        ),\n",
    "        margin=dict(\n",
    "            l=40,\n",
    "            r=30,\n",
    "            b=80,\n",
    "            t=100,\n",
    "        ),\n",
    "        showlegend=show_legend\n",
    "    )\n",
    "    fig.show()\n"
   ]
  },
  {
   "cell_type": "code",
   "execution_count": 20,
   "metadata": {},
   "outputs": [],
   "source": [
    "path1 = '/home/ifranco/Documents/facultad/tesis/tf_real_estate_images_classification//models/CNN_Model/exp_2__vision_based_dataset__2019-11-28__00_45/'\n",
    "dataset1 = 'right_vision_based_dataset'\n",
    "\n",
    "path2 = '/home/ifranco/Documents/facultad/tesis/tf_real_estate_images_classification//models/PlacesOntop_Model/2020-01-16__19_13__exp6/'\n",
    "dataset2 = 'right_clahe_vision_based_dataset'"
   ]
  },
  {
   "cell_type": "code",
   "execution_count": 21,
   "metadata": {
    "scrolled": false
   },
   "outputs": [
    {
     "name": "stderr",
     "output_type": "stream",
     "text": [
      "WARNING: Logging before flag parsing goes to stderr.\n",
      "W0118 02:38:17.084002 139785397008192 deprecation.py:506] From /home/ifranco/Documents/facultad/tesis/tesis_env/lib/python3.6/site-packages/tensorflow/python/ops/init_ops.py:97: calling VarianceScaling.__init__ (from tensorflow.python.ops.init_ops) with dtype is deprecated and will be removed in a future version.\n",
      "Instructions for updating:\n",
      "Call initializer instance with the dtype argument instead of passing it to the constructor\n",
      "W0118 02:38:17.084912 139785397008192 deprecation.py:506] From /home/ifranco/Documents/facultad/tesis/tesis_env/lib/python3.6/site-packages/tensorflow/python/ops/init_ops.py:97: calling Constant.__init__ (from tensorflow.python.ops.init_ops) with dtype is deprecated and will be removed in a future version.\n",
      "Instructions for updating:\n",
      "Call initializer instance with the dtype argument instead of passing it to the constructor\n",
      "W0118 02:38:17.115346 139785397008192 deprecation.py:506] From /home/ifranco/Documents/facultad/tesis/tesis_env/lib/python3.6/site-packages/tensorflow/python/ops/init_ops.py:97: calling Zeros.__init__ (from tensorflow.python.ops.init_ops) with dtype is deprecated and will be removed in a future version.\n",
      "Instructions for updating:\n",
      "Call initializer instance with the dtype argument instead of passing it to the constructor\n",
      "W0118 02:38:17.116502 139785397008192 deprecation.py:506] From /home/ifranco/Documents/facultad/tesis/tesis_env/lib/python3.6/site-packages/tensorflow/python/ops/init_ops.py:97: calling Ones.__init__ (from tensorflow.python.ops.init_ops) with dtype is deprecated and will be removed in a future version.\n",
      "Instructions for updating:\n",
      "Call initializer instance with the dtype argument instead of passing it to the constructor\n",
      "W0118 02:38:17.480982 139785397008192 deprecation_wrapper.py:119] From /home/ifranco/Documents/facultad/tesis/tf_real_estate_images_classification/src/models/base_model.py:111: The name tf.global_variables_initializer is deprecated. Please use tf.compat.v1.global_variables_initializer instead.\n",
      "\n",
      "W0118 02:38:17.484771 139785397008192 deprecation_wrapper.py:119] From /home/ifranco/Documents/facultad/tesis/tf_real_estate_images_classification/src/models/base_model.py:112: The name tf.local_variables_initializer is deprecated. Please use tf.compat.v1.local_variables_initializer instead.\n",
      "\n",
      "W0118 02:38:17.488035 139785397008192 deprecation_wrapper.py:119] From /home/ifranco/Documents/facultad/tesis/tf_real_estate_images_classification/src/models/base_model.py:113: The name tf.keras.backend.get_session is deprecated. Please use tf.compat.v1.keras.backend.get_session instead.\n",
      "\n"
     ]
    },
    {
     "name": "stdout",
     "output_type": "stream",
     "text": [
      "Found 150 images belonging to 6 classes.\n",
      "Found 114361 images belonging to 6 classes.\n",
      "model best weights file >> weights.04-1.00.hdf5\n",
      "Evaluating generator with 150 images\n",
      "Scores: [0.7036148309707642, 0.94]\n",
      "\n",
      "Found 6305 images belonging to 6 classes.\n",
      "3.0\n",
      "\\begin{tabular}{lrrrrr}\n",
      "\\toprule\n",
      "      y\\_true & \\multicolumn{5}{l}{y\\_pred\\_proba} \\\\\n",
      "             &         mean & median &   std &   min &   max \\\\\n",
      "\\midrule\n",
      "    bathroom &         0.71 &   0.71 &  0.07 &  0.66 &  0.76 \\\\\n",
      "     bedroom &         0.59 &   0.50 &  0.23 &  0.42 &  0.85 \\\\\n",
      " dining\\_room &         0.92 &   0.92 &   NaN &  0.92 &  0.92 \\\\\n",
      "     kitchen &         0.61 &   0.61 &   NaN &  0.61 &  0.61 \\\\\n",
      "  livingRoom &         0.85 &   0.85 &  0.07 &  0.80 &  0.90 \\\\\n",
      "\\bottomrule\n",
      "\\end{tabular}\n",
      "\n",
      "\\begin{tabular}{lrr}\n",
      "\\toprule\n",
      "      y\\_true &  0 &       pct \\\\\n",
      "\\midrule\n",
      " dining\\_room &  1 &  0.111111 \\\\\n",
      "     kitchen &  1 &  0.111111 \\\\\n",
      "    bathroom &  2 &  0.222222 \\\\\n",
      "  livingRoom &  2 &  0.222222 \\\\\n",
      "     bedroom &  3 &  0.333333 \\\\\n",
      "\\bottomrule\n",
      "\\end{tabular}\n",
      "\n",
      "['sandybrown' 'slategrey' 'orangered']\n"
     ]
    },
    {
     "data": {
      "application/vnd.plotly.v1+json": {
       "config": {
        "plotlyServerURL": "https://plot.ly"
       },
       "data": [
        {
         "line": {
          "color": "sandybrown",
          "width": 2.5
         },
         "name": "Cantidad de casos que se predicen",
         "opacity": 1,
         "showlegend": true,
         "type": "scatter",
         "x": [
          0,
          0.05,
          0.1,
          0.15000000000000002,
          0.2,
          0.25,
          0.30000000000000004,
          0.35000000000000003,
          0.4,
          0.45,
          0.5,
          0.55,
          0.6000000000000001,
          0.65,
          0.7000000000000001,
          0.75,
          0.8,
          0.8500000000000001,
          0.9,
          0.9500000000000001
         ],
         "y": [
          150,
          150,
          150,
          150,
          150,
          150,
          150,
          150,
          150,
          149,
          148,
          146,
          144,
          143,
          140,
          137,
          133,
          125,
          111,
          92
         ]
        },
        {
         "line": {
          "color": "slategrey",
          "width": 2.5
         },
         "name": "Exactitud categórica",
         "opacity": 1,
         "showlegend": true,
         "type": "scatter",
         "x": [
          0,
          0.05,
          0.1,
          0.15000000000000002,
          0.2,
          0.25,
          0.30000000000000004,
          0.35000000000000003,
          0.4,
          0.45,
          0.5,
          0.55,
          0.6000000000000001,
          0.65,
          0.7000000000000001,
          0.75,
          0.8,
          0.8500000000000001,
          0.9,
          0.9500000000000001
         ],
         "xaxis": "x",
         "y": [
          0.94,
          0.94,
          0.94,
          0.94,
          0.94,
          0.94,
          0.94,
          0.94,
          0.94,
          0.9463087248322147,
          0.9459459459459459,
          0.952054794520548,
          0.9513888888888888,
          0.958041958041958,
          0.9642857142857143,
          0.9635036496350365,
          0.9699248120300752,
          0.984,
          0.9819819819819819,
          1
         ],
         "yaxis": "y2"
        },
        {
         "line": {
          "color": "orangered",
          "width": 2.5
         },
         "name": "Porcentaje sobre el total de errores",
         "opacity": 1,
         "showlegend": true,
         "type": "scatter",
         "x": [
          0,
          0.05,
          0.1,
          0.15000000000000002,
          0.2,
          0.25,
          0.30000000000000004,
          0.35000000000000003,
          0.4,
          0.45,
          0.5,
          0.55,
          0.6000000000000001,
          0.65,
          0.7000000000000001,
          0.75,
          0.8,
          0.8500000000000001,
          0.9,
          0.9500000000000001
         ],
         "xaxis": "x",
         "y": [
          1,
          1,
          1,
          1,
          1,
          1,
          1,
          1,
          1,
          0.8888888888888888,
          0.8888888888888888,
          0.7777777777777778,
          0.7777777777777778,
          0.6666666666666666,
          0.5555555555555556,
          0.5555555555555556,
          0.4444444444444444,
          0.2222222222222222,
          0.2222222222222222,
          0
         ],
         "yaxis": "y2"
        }
       ],
       "layout": {
        "template": {
         "data": {
          "bar": [
           {
            "error_x": {
             "color": "#2a3f5f"
            },
            "error_y": {
             "color": "#2a3f5f"
            },
            "marker": {
             "line": {
              "color": "#E5ECF6",
              "width": 0.5
             }
            },
            "type": "bar"
           }
          ],
          "barpolar": [
           {
            "marker": {
             "line": {
              "color": "#E5ECF6",
              "width": 0.5
             }
            },
            "type": "barpolar"
           }
          ],
          "carpet": [
           {
            "aaxis": {
             "endlinecolor": "#2a3f5f",
             "gridcolor": "white",
             "linecolor": "white",
             "minorgridcolor": "white",
             "startlinecolor": "#2a3f5f"
            },
            "baxis": {
             "endlinecolor": "#2a3f5f",
             "gridcolor": "white",
             "linecolor": "white",
             "minorgridcolor": "white",
             "startlinecolor": "#2a3f5f"
            },
            "type": "carpet"
           }
          ],
          "choropleth": [
           {
            "colorbar": {
             "outlinewidth": 0,
             "ticks": ""
            },
            "type": "choropleth"
           }
          ],
          "contour": [
           {
            "colorbar": {
             "outlinewidth": 0,
             "ticks": ""
            },
            "colorscale": [
             [
              0,
              "#0d0887"
             ],
             [
              0.1111111111111111,
              "#46039f"
             ],
             [
              0.2222222222222222,
              "#7201a8"
             ],
             [
              0.3333333333333333,
              "#9c179e"
             ],
             [
              0.4444444444444444,
              "#bd3786"
             ],
             [
              0.5555555555555556,
              "#d8576b"
             ],
             [
              0.6666666666666666,
              "#ed7953"
             ],
             [
              0.7777777777777778,
              "#fb9f3a"
             ],
             [
              0.8888888888888888,
              "#fdca26"
             ],
             [
              1,
              "#f0f921"
             ]
            ],
            "type": "contour"
           }
          ],
          "contourcarpet": [
           {
            "colorbar": {
             "outlinewidth": 0,
             "ticks": ""
            },
            "type": "contourcarpet"
           }
          ],
          "heatmap": [
           {
            "colorbar": {
             "outlinewidth": 0,
             "ticks": ""
            },
            "colorscale": [
             [
              0,
              "#0d0887"
             ],
             [
              0.1111111111111111,
              "#46039f"
             ],
             [
              0.2222222222222222,
              "#7201a8"
             ],
             [
              0.3333333333333333,
              "#9c179e"
             ],
             [
              0.4444444444444444,
              "#bd3786"
             ],
             [
              0.5555555555555556,
              "#d8576b"
             ],
             [
              0.6666666666666666,
              "#ed7953"
             ],
             [
              0.7777777777777778,
              "#fb9f3a"
             ],
             [
              0.8888888888888888,
              "#fdca26"
             ],
             [
              1,
              "#f0f921"
             ]
            ],
            "type": "heatmap"
           }
          ],
          "heatmapgl": [
           {
            "colorbar": {
             "outlinewidth": 0,
             "ticks": ""
            },
            "colorscale": [
             [
              0,
              "#0d0887"
             ],
             [
              0.1111111111111111,
              "#46039f"
             ],
             [
              0.2222222222222222,
              "#7201a8"
             ],
             [
              0.3333333333333333,
              "#9c179e"
             ],
             [
              0.4444444444444444,
              "#bd3786"
             ],
             [
              0.5555555555555556,
              "#d8576b"
             ],
             [
              0.6666666666666666,
              "#ed7953"
             ],
             [
              0.7777777777777778,
              "#fb9f3a"
             ],
             [
              0.8888888888888888,
              "#fdca26"
             ],
             [
              1,
              "#f0f921"
             ]
            ],
            "type": "heatmapgl"
           }
          ],
          "histogram": [
           {
            "marker": {
             "colorbar": {
              "outlinewidth": 0,
              "ticks": ""
             }
            },
            "type": "histogram"
           }
          ],
          "histogram2d": [
           {
            "colorbar": {
             "outlinewidth": 0,
             "ticks": ""
            },
            "colorscale": [
             [
              0,
              "#0d0887"
             ],
             [
              0.1111111111111111,
              "#46039f"
             ],
             [
              0.2222222222222222,
              "#7201a8"
             ],
             [
              0.3333333333333333,
              "#9c179e"
             ],
             [
              0.4444444444444444,
              "#bd3786"
             ],
             [
              0.5555555555555556,
              "#d8576b"
             ],
             [
              0.6666666666666666,
              "#ed7953"
             ],
             [
              0.7777777777777778,
              "#fb9f3a"
             ],
             [
              0.8888888888888888,
              "#fdca26"
             ],
             [
              1,
              "#f0f921"
             ]
            ],
            "type": "histogram2d"
           }
          ],
          "histogram2dcontour": [
           {
            "colorbar": {
             "outlinewidth": 0,
             "ticks": ""
            },
            "colorscale": [
             [
              0,
              "#0d0887"
             ],
             [
              0.1111111111111111,
              "#46039f"
             ],
             [
              0.2222222222222222,
              "#7201a8"
             ],
             [
              0.3333333333333333,
              "#9c179e"
             ],
             [
              0.4444444444444444,
              "#bd3786"
             ],
             [
              0.5555555555555556,
              "#d8576b"
             ],
             [
              0.6666666666666666,
              "#ed7953"
             ],
             [
              0.7777777777777778,
              "#fb9f3a"
             ],
             [
              0.8888888888888888,
              "#fdca26"
             ],
             [
              1,
              "#f0f921"
             ]
            ],
            "type": "histogram2dcontour"
           }
          ],
          "mesh3d": [
           {
            "colorbar": {
             "outlinewidth": 0,
             "ticks": ""
            },
            "type": "mesh3d"
           }
          ],
          "parcoords": [
           {
            "line": {
             "colorbar": {
              "outlinewidth": 0,
              "ticks": ""
             }
            },
            "type": "parcoords"
           }
          ],
          "pie": [
           {
            "automargin": true,
            "type": "pie"
           }
          ],
          "scatter": [
           {
            "marker": {
             "colorbar": {
              "outlinewidth": 0,
              "ticks": ""
             }
            },
            "type": "scatter"
           }
          ],
          "scatter3d": [
           {
            "line": {
             "colorbar": {
              "outlinewidth": 0,
              "ticks": ""
             }
            },
            "marker": {
             "colorbar": {
              "outlinewidth": 0,
              "ticks": ""
             }
            },
            "type": "scatter3d"
           }
          ],
          "scattercarpet": [
           {
            "marker": {
             "colorbar": {
              "outlinewidth": 0,
              "ticks": ""
             }
            },
            "type": "scattercarpet"
           }
          ],
          "scattergeo": [
           {
            "marker": {
             "colorbar": {
              "outlinewidth": 0,
              "ticks": ""
             }
            },
            "type": "scattergeo"
           }
          ],
          "scattergl": [
           {
            "marker": {
             "colorbar": {
              "outlinewidth": 0,
              "ticks": ""
             }
            },
            "type": "scattergl"
           }
          ],
          "scattermapbox": [
           {
            "marker": {
             "colorbar": {
              "outlinewidth": 0,
              "ticks": ""
             }
            },
            "type": "scattermapbox"
           }
          ],
          "scatterpolar": [
           {
            "marker": {
             "colorbar": {
              "outlinewidth": 0,
              "ticks": ""
             }
            },
            "type": "scatterpolar"
           }
          ],
          "scatterpolargl": [
           {
            "marker": {
             "colorbar": {
              "outlinewidth": 0,
              "ticks": ""
             }
            },
            "type": "scatterpolargl"
           }
          ],
          "scatterternary": [
           {
            "marker": {
             "colorbar": {
              "outlinewidth": 0,
              "ticks": ""
             }
            },
            "type": "scatterternary"
           }
          ],
          "surface": [
           {
            "colorbar": {
             "outlinewidth": 0,
             "ticks": ""
            },
            "colorscale": [
             [
              0,
              "#0d0887"
             ],
             [
              0.1111111111111111,
              "#46039f"
             ],
             [
              0.2222222222222222,
              "#7201a8"
             ],
             [
              0.3333333333333333,
              "#9c179e"
             ],
             [
              0.4444444444444444,
              "#bd3786"
             ],
             [
              0.5555555555555556,
              "#d8576b"
             ],
             [
              0.6666666666666666,
              "#ed7953"
             ],
             [
              0.7777777777777778,
              "#fb9f3a"
             ],
             [
              0.8888888888888888,
              "#fdca26"
             ],
             [
              1,
              "#f0f921"
             ]
            ],
            "type": "surface"
           }
          ],
          "table": [
           {
            "cells": {
             "fill": {
              "color": "#EBF0F8"
             },
             "line": {
              "color": "white"
             }
            },
            "header": {
             "fill": {
              "color": "#C8D4E3"
             },
             "line": {
              "color": "white"
             }
            },
            "type": "table"
           }
          ]
         },
         "layout": {
          "annotationdefaults": {
           "arrowcolor": "#2a3f5f",
           "arrowhead": 0,
           "arrowwidth": 1
          },
          "coloraxis": {
           "colorbar": {
            "outlinewidth": 0,
            "ticks": ""
           }
          },
          "colorscale": {
           "diverging": [
            [
             0,
             "#8e0152"
            ],
            [
             0.1,
             "#c51b7d"
            ],
            [
             0.2,
             "#de77ae"
            ],
            [
             0.3,
             "#f1b6da"
            ],
            [
             0.4,
             "#fde0ef"
            ],
            [
             0.5,
             "#f7f7f7"
            ],
            [
             0.6,
             "#e6f5d0"
            ],
            [
             0.7,
             "#b8e186"
            ],
            [
             0.8,
             "#7fbc41"
            ],
            [
             0.9,
             "#4d9221"
            ],
            [
             1,
             "#276419"
            ]
           ],
           "sequential": [
            [
             0,
             "#0d0887"
            ],
            [
             0.1111111111111111,
             "#46039f"
            ],
            [
             0.2222222222222222,
             "#7201a8"
            ],
            [
             0.3333333333333333,
             "#9c179e"
            ],
            [
             0.4444444444444444,
             "#bd3786"
            ],
            [
             0.5555555555555556,
             "#d8576b"
            ],
            [
             0.6666666666666666,
             "#ed7953"
            ],
            [
             0.7777777777777778,
             "#fb9f3a"
            ],
            [
             0.8888888888888888,
             "#fdca26"
            ],
            [
             1,
             "#f0f921"
            ]
           ],
           "sequentialminus": [
            [
             0,
             "#0d0887"
            ],
            [
             0.1111111111111111,
             "#46039f"
            ],
            [
             0.2222222222222222,
             "#7201a8"
            ],
            [
             0.3333333333333333,
             "#9c179e"
            ],
            [
             0.4444444444444444,
             "#bd3786"
            ],
            [
             0.5555555555555556,
             "#d8576b"
            ],
            [
             0.6666666666666666,
             "#ed7953"
            ],
            [
             0.7777777777777778,
             "#fb9f3a"
            ],
            [
             0.8888888888888888,
             "#fdca26"
            ],
            [
             1,
             "#f0f921"
            ]
           ]
          },
          "colorway": [
           "#636efa",
           "#EF553B",
           "#00cc96",
           "#ab63fa",
           "#FFA15A",
           "#19d3f3",
           "#FF6692",
           "#B6E880",
           "#FF97FF",
           "#FECB52"
          ],
          "font": {
           "color": "#2a3f5f"
          },
          "geo": {
           "bgcolor": "white",
           "lakecolor": "white",
           "landcolor": "#E5ECF6",
           "showlakes": true,
           "showland": true,
           "subunitcolor": "white"
          },
          "hoverlabel": {
           "align": "left"
          },
          "hovermode": "closest",
          "mapbox": {
           "style": "light"
          },
          "paper_bgcolor": "white",
          "plot_bgcolor": "#E5ECF6",
          "polar": {
           "angularaxis": {
            "gridcolor": "white",
            "linecolor": "white",
            "ticks": ""
           },
           "bgcolor": "#E5ECF6",
           "radialaxis": {
            "gridcolor": "white",
            "linecolor": "white",
            "ticks": ""
           }
          },
          "scene": {
           "xaxis": {
            "backgroundcolor": "#E5ECF6",
            "gridcolor": "white",
            "gridwidth": 2,
            "linecolor": "white",
            "showbackground": true,
            "ticks": "",
            "zerolinecolor": "white"
           },
           "yaxis": {
            "backgroundcolor": "#E5ECF6",
            "gridcolor": "white",
            "gridwidth": 2,
            "linecolor": "white",
            "showbackground": true,
            "ticks": "",
            "zerolinecolor": "white"
           },
           "zaxis": {
            "backgroundcolor": "#E5ECF6",
            "gridcolor": "white",
            "gridwidth": 2,
            "linecolor": "white",
            "showbackground": true,
            "ticks": "",
            "zerolinecolor": "white"
           }
          },
          "shapedefaults": {
           "line": {
            "color": "#2a3f5f"
           }
          },
          "ternary": {
           "aaxis": {
            "gridcolor": "white",
            "linecolor": "white",
            "ticks": ""
           },
           "baxis": {
            "gridcolor": "white",
            "linecolor": "white",
            "ticks": ""
           },
           "bgcolor": "#E5ECF6",
           "caxis": {
            "gridcolor": "white",
            "linecolor": "white",
            "ticks": ""
           }
          },
          "title": {
           "x": 0.05
          },
          "xaxis": {
           "automargin": true,
           "gridcolor": "white",
           "linecolor": "white",
           "ticks": "",
           "title": {
            "standoff": 15
           },
           "zerolinecolor": "white",
           "zerolinewidth": 2
          },
          "yaxis": {
           "automargin": true,
           "gridcolor": "white",
           "linecolor": "white",
           "ticks": "",
           "title": {
            "standoff": 15
           },
           "zerolinecolor": "white",
           "zerolinewidth": 2
          }
         }
        },
        "title": {
         "text": "Cantidad de casos, porcentaje de errores y exactitud categórica por umbral - modelo del exp. 2 (subconjunto)"
        },
        "xaxis": {
         "anchor": "y",
         "domain": [
          0,
          0.94
         ],
         "title": {
          "text": "Umbral"
         }
        },
        "yaxis": {
         "anchor": "x",
         "domain": [
          0,
          1
         ],
         "title": {
          "text": "Cantidad de casos que se predicen"
         }
        },
        "yaxis2": {
         "anchor": "x",
         "overlaying": "y",
         "side": "right",
         "title": {
          "text": "Porcentaje"
         }
        }
       }
      },
      "text/html": [
       "<div>\n",
       "        \n",
       "        \n",
       "            <div id=\"0a6a3cdc-6557-4616-bd49-0f6ce547898e\" class=\"plotly-graph-div\" style=\"height:525px; width:100%;\"></div>\n",
       "            <script type=\"text/javascript\">\n",
       "                require([\"plotly\"], function(Plotly) {\n",
       "                    window.PLOTLYENV=window.PLOTLYENV || {};\n",
       "                    \n",
       "                if (document.getElementById(\"0a6a3cdc-6557-4616-bd49-0f6ce547898e\")) {\n",
       "                    Plotly.newPlot(\n",
       "                        '0a6a3cdc-6557-4616-bd49-0f6ce547898e',\n",
       "                        [{\"line\": {\"color\": \"sandybrown\", \"width\": 2.5}, \"name\": \"Cantidad de casos que se predicen\", \"opacity\": 1, \"showlegend\": true, \"type\": \"scatter\", \"x\": [0.0, 0.05, 0.1, 0.15000000000000002, 0.2, 0.25, 0.30000000000000004, 0.35000000000000003, 0.4, 0.45, 0.5, 0.55, 0.6000000000000001, 0.65, 0.7000000000000001, 0.75, 0.8, 0.8500000000000001, 0.9, 0.9500000000000001], \"y\": [150, 150, 150, 150, 150, 150, 150, 150, 150, 149, 148, 146, 144, 143, 140, 137, 133, 125, 111, 92]}, {\"line\": {\"color\": \"slategrey\", \"width\": 2.5}, \"name\": \"Exactitud categ\\u00f3rica\", \"opacity\": 1, \"showlegend\": true, \"type\": \"scatter\", \"x\": [0.0, 0.05, 0.1, 0.15000000000000002, 0.2, 0.25, 0.30000000000000004, 0.35000000000000003, 0.4, 0.45, 0.5, 0.55, 0.6000000000000001, 0.65, 0.7000000000000001, 0.75, 0.8, 0.8500000000000001, 0.9, 0.9500000000000001], \"xaxis\": \"x\", \"y\": [0.94, 0.94, 0.94, 0.94, 0.94, 0.94, 0.94, 0.94, 0.94, 0.9463087248322147, 0.9459459459459459, 0.952054794520548, 0.9513888888888888, 0.958041958041958, 0.9642857142857143, 0.9635036496350365, 0.9699248120300752, 0.984, 0.9819819819819819, 1.0], \"yaxis\": \"y2\"}, {\"line\": {\"color\": \"orangered\", \"width\": 2.5}, \"name\": \"Porcentaje sobre el total de errores\", \"opacity\": 1, \"showlegend\": true, \"type\": \"scatter\", \"x\": [0.0, 0.05, 0.1, 0.15000000000000002, 0.2, 0.25, 0.30000000000000004, 0.35000000000000003, 0.4, 0.45, 0.5, 0.55, 0.6000000000000001, 0.65, 0.7000000000000001, 0.75, 0.8, 0.8500000000000001, 0.9, 0.9500000000000001], \"xaxis\": \"x\", \"y\": [1.0, 1.0, 1.0, 1.0, 1.0, 1.0, 1.0, 1.0, 1.0, 0.8888888888888888, 0.8888888888888888, 0.7777777777777778, 0.7777777777777778, 0.6666666666666666, 0.5555555555555556, 0.5555555555555556, 0.4444444444444444, 0.2222222222222222, 0.2222222222222222, 0.0], \"yaxis\": \"y2\"}],\n",
       "                        {\"template\": {\"data\": {\"bar\": [{\"error_x\": {\"color\": \"#2a3f5f\"}, \"error_y\": {\"color\": \"#2a3f5f\"}, \"marker\": {\"line\": {\"color\": \"#E5ECF6\", \"width\": 0.5}}, \"type\": \"bar\"}], \"barpolar\": [{\"marker\": {\"line\": {\"color\": \"#E5ECF6\", \"width\": 0.5}}, \"type\": \"barpolar\"}], \"carpet\": [{\"aaxis\": {\"endlinecolor\": \"#2a3f5f\", \"gridcolor\": \"white\", \"linecolor\": \"white\", \"minorgridcolor\": \"white\", \"startlinecolor\": \"#2a3f5f\"}, \"baxis\": {\"endlinecolor\": \"#2a3f5f\", \"gridcolor\": \"white\", \"linecolor\": \"white\", \"minorgridcolor\": \"white\", \"startlinecolor\": \"#2a3f5f\"}, \"type\": \"carpet\"}], \"choropleth\": [{\"colorbar\": {\"outlinewidth\": 0, \"ticks\": \"\"}, \"type\": \"choropleth\"}], \"contour\": [{\"colorbar\": {\"outlinewidth\": 0, \"ticks\": \"\"}, \"colorscale\": [[0.0, \"#0d0887\"], [0.1111111111111111, \"#46039f\"], [0.2222222222222222, \"#7201a8\"], [0.3333333333333333, \"#9c179e\"], [0.4444444444444444, \"#bd3786\"], [0.5555555555555556, \"#d8576b\"], [0.6666666666666666, \"#ed7953\"], [0.7777777777777778, \"#fb9f3a\"], [0.8888888888888888, \"#fdca26\"], [1.0, \"#f0f921\"]], \"type\": \"contour\"}], \"contourcarpet\": [{\"colorbar\": {\"outlinewidth\": 0, \"ticks\": \"\"}, \"type\": \"contourcarpet\"}], \"heatmap\": [{\"colorbar\": {\"outlinewidth\": 0, \"ticks\": \"\"}, \"colorscale\": [[0.0, \"#0d0887\"], [0.1111111111111111, \"#46039f\"], [0.2222222222222222, \"#7201a8\"], [0.3333333333333333, \"#9c179e\"], [0.4444444444444444, \"#bd3786\"], [0.5555555555555556, \"#d8576b\"], [0.6666666666666666, \"#ed7953\"], [0.7777777777777778, \"#fb9f3a\"], [0.8888888888888888, \"#fdca26\"], [1.0, \"#f0f921\"]], \"type\": \"heatmap\"}], \"heatmapgl\": [{\"colorbar\": {\"outlinewidth\": 0, \"ticks\": \"\"}, \"colorscale\": [[0.0, \"#0d0887\"], [0.1111111111111111, \"#46039f\"], [0.2222222222222222, \"#7201a8\"], [0.3333333333333333, \"#9c179e\"], [0.4444444444444444, \"#bd3786\"], [0.5555555555555556, \"#d8576b\"], [0.6666666666666666, \"#ed7953\"], [0.7777777777777778, \"#fb9f3a\"], [0.8888888888888888, \"#fdca26\"], [1.0, \"#f0f921\"]], \"type\": \"heatmapgl\"}], \"histogram\": [{\"marker\": {\"colorbar\": {\"outlinewidth\": 0, \"ticks\": \"\"}}, \"type\": \"histogram\"}], \"histogram2d\": [{\"colorbar\": {\"outlinewidth\": 0, \"ticks\": \"\"}, \"colorscale\": [[0.0, \"#0d0887\"], [0.1111111111111111, \"#46039f\"], [0.2222222222222222, \"#7201a8\"], [0.3333333333333333, \"#9c179e\"], [0.4444444444444444, \"#bd3786\"], [0.5555555555555556, \"#d8576b\"], [0.6666666666666666, \"#ed7953\"], [0.7777777777777778, \"#fb9f3a\"], [0.8888888888888888, \"#fdca26\"], [1.0, \"#f0f921\"]], \"type\": \"histogram2d\"}], \"histogram2dcontour\": [{\"colorbar\": {\"outlinewidth\": 0, \"ticks\": \"\"}, \"colorscale\": [[0.0, \"#0d0887\"], [0.1111111111111111, \"#46039f\"], [0.2222222222222222, \"#7201a8\"], [0.3333333333333333, \"#9c179e\"], [0.4444444444444444, \"#bd3786\"], [0.5555555555555556, \"#d8576b\"], [0.6666666666666666, \"#ed7953\"], [0.7777777777777778, \"#fb9f3a\"], [0.8888888888888888, \"#fdca26\"], [1.0, \"#f0f921\"]], \"type\": \"histogram2dcontour\"}], \"mesh3d\": [{\"colorbar\": {\"outlinewidth\": 0, \"ticks\": \"\"}, \"type\": \"mesh3d\"}], \"parcoords\": [{\"line\": {\"colorbar\": {\"outlinewidth\": 0, \"ticks\": \"\"}}, \"type\": \"parcoords\"}], \"pie\": [{\"automargin\": true, \"type\": \"pie\"}], \"scatter\": [{\"marker\": {\"colorbar\": {\"outlinewidth\": 0, \"ticks\": \"\"}}, \"type\": \"scatter\"}], \"scatter3d\": [{\"line\": {\"colorbar\": {\"outlinewidth\": 0, \"ticks\": \"\"}}, \"marker\": {\"colorbar\": {\"outlinewidth\": 0, \"ticks\": \"\"}}, \"type\": \"scatter3d\"}], \"scattercarpet\": [{\"marker\": {\"colorbar\": {\"outlinewidth\": 0, \"ticks\": \"\"}}, \"type\": \"scattercarpet\"}], \"scattergeo\": [{\"marker\": {\"colorbar\": {\"outlinewidth\": 0, \"ticks\": \"\"}}, \"type\": \"scattergeo\"}], \"scattergl\": [{\"marker\": {\"colorbar\": {\"outlinewidth\": 0, \"ticks\": \"\"}}, \"type\": \"scattergl\"}], \"scattermapbox\": [{\"marker\": {\"colorbar\": {\"outlinewidth\": 0, \"ticks\": \"\"}}, \"type\": \"scattermapbox\"}], \"scatterpolar\": [{\"marker\": {\"colorbar\": {\"outlinewidth\": 0, \"ticks\": \"\"}}, \"type\": \"scatterpolar\"}], \"scatterpolargl\": [{\"marker\": {\"colorbar\": {\"outlinewidth\": 0, \"ticks\": \"\"}}, \"type\": \"scatterpolargl\"}], \"scatterternary\": [{\"marker\": {\"colorbar\": {\"outlinewidth\": 0, \"ticks\": \"\"}}, \"type\": \"scatterternary\"}], \"surface\": [{\"colorbar\": {\"outlinewidth\": 0, \"ticks\": \"\"}, \"colorscale\": [[0.0, \"#0d0887\"], [0.1111111111111111, \"#46039f\"], [0.2222222222222222, \"#7201a8\"], [0.3333333333333333, \"#9c179e\"], [0.4444444444444444, \"#bd3786\"], [0.5555555555555556, \"#d8576b\"], [0.6666666666666666, \"#ed7953\"], [0.7777777777777778, \"#fb9f3a\"], [0.8888888888888888, \"#fdca26\"], [1.0, \"#f0f921\"]], \"type\": \"surface\"}], \"table\": [{\"cells\": {\"fill\": {\"color\": \"#EBF0F8\"}, \"line\": {\"color\": \"white\"}}, \"header\": {\"fill\": {\"color\": \"#C8D4E3\"}, \"line\": {\"color\": \"white\"}}, \"type\": \"table\"}]}, \"layout\": {\"annotationdefaults\": {\"arrowcolor\": \"#2a3f5f\", \"arrowhead\": 0, \"arrowwidth\": 1}, \"coloraxis\": {\"colorbar\": {\"outlinewidth\": 0, \"ticks\": \"\"}}, \"colorscale\": {\"diverging\": [[0, \"#8e0152\"], [0.1, \"#c51b7d\"], [0.2, \"#de77ae\"], [0.3, \"#f1b6da\"], [0.4, \"#fde0ef\"], [0.5, \"#f7f7f7\"], [0.6, \"#e6f5d0\"], [0.7, \"#b8e186\"], [0.8, \"#7fbc41\"], [0.9, \"#4d9221\"], [1, \"#276419\"]], \"sequential\": [[0.0, \"#0d0887\"], [0.1111111111111111, \"#46039f\"], [0.2222222222222222, \"#7201a8\"], [0.3333333333333333, \"#9c179e\"], [0.4444444444444444, \"#bd3786\"], [0.5555555555555556, \"#d8576b\"], [0.6666666666666666, \"#ed7953\"], [0.7777777777777778, \"#fb9f3a\"], [0.8888888888888888, \"#fdca26\"], [1.0, \"#f0f921\"]], \"sequentialminus\": [[0.0, \"#0d0887\"], [0.1111111111111111, \"#46039f\"], [0.2222222222222222, \"#7201a8\"], [0.3333333333333333, \"#9c179e\"], [0.4444444444444444, \"#bd3786\"], [0.5555555555555556, \"#d8576b\"], [0.6666666666666666, \"#ed7953\"], [0.7777777777777778, \"#fb9f3a\"], [0.8888888888888888, \"#fdca26\"], [1.0, \"#f0f921\"]]}, \"colorway\": [\"#636efa\", \"#EF553B\", \"#00cc96\", \"#ab63fa\", \"#FFA15A\", \"#19d3f3\", \"#FF6692\", \"#B6E880\", \"#FF97FF\", \"#FECB52\"], \"font\": {\"color\": \"#2a3f5f\"}, \"geo\": {\"bgcolor\": \"white\", \"lakecolor\": \"white\", \"landcolor\": \"#E5ECF6\", \"showlakes\": true, \"showland\": true, \"subunitcolor\": \"white\"}, \"hoverlabel\": {\"align\": \"left\"}, \"hovermode\": \"closest\", \"mapbox\": {\"style\": \"light\"}, \"paper_bgcolor\": \"white\", \"plot_bgcolor\": \"#E5ECF6\", \"polar\": {\"angularaxis\": {\"gridcolor\": \"white\", \"linecolor\": \"white\", \"ticks\": \"\"}, \"bgcolor\": \"#E5ECF6\", \"radialaxis\": {\"gridcolor\": \"white\", \"linecolor\": \"white\", \"ticks\": \"\"}}, \"scene\": {\"xaxis\": {\"backgroundcolor\": \"#E5ECF6\", \"gridcolor\": \"white\", \"gridwidth\": 2, \"linecolor\": \"white\", \"showbackground\": true, \"ticks\": \"\", \"zerolinecolor\": \"white\"}, \"yaxis\": {\"backgroundcolor\": \"#E5ECF6\", \"gridcolor\": \"white\", \"gridwidth\": 2, \"linecolor\": \"white\", \"showbackground\": true, \"ticks\": \"\", \"zerolinecolor\": \"white\"}, \"zaxis\": {\"backgroundcolor\": \"#E5ECF6\", \"gridcolor\": \"white\", \"gridwidth\": 2, \"linecolor\": \"white\", \"showbackground\": true, \"ticks\": \"\", \"zerolinecolor\": \"white\"}}, \"shapedefaults\": {\"line\": {\"color\": \"#2a3f5f\"}}, \"ternary\": {\"aaxis\": {\"gridcolor\": \"white\", \"linecolor\": \"white\", \"ticks\": \"\"}, \"baxis\": {\"gridcolor\": \"white\", \"linecolor\": \"white\", \"ticks\": \"\"}, \"bgcolor\": \"#E5ECF6\", \"caxis\": {\"gridcolor\": \"white\", \"linecolor\": \"white\", \"ticks\": \"\"}}, \"title\": {\"x\": 0.05}, \"xaxis\": {\"automargin\": true, \"gridcolor\": \"white\", \"linecolor\": \"white\", \"ticks\": \"\", \"title\": {\"standoff\": 15}, \"zerolinecolor\": \"white\", \"zerolinewidth\": 2}, \"yaxis\": {\"automargin\": true, \"gridcolor\": \"white\", \"linecolor\": \"white\", \"ticks\": \"\", \"title\": {\"standoff\": 15}, \"zerolinecolor\": \"white\", \"zerolinewidth\": 2}}}, \"title\": {\"text\": \"Cantidad de casos, porcentaje de errores y exactitud categ\\u00f3rica por umbral - modelo del exp. 2 (subconjunto)\"}, \"xaxis\": {\"anchor\": \"y\", \"domain\": [0.0, 0.94], \"title\": {\"text\": \"Umbral\"}}, \"yaxis\": {\"anchor\": \"x\", \"domain\": [0.0, 1.0], \"title\": {\"text\": \"Cantidad de casos que se predicen\"}}, \"yaxis2\": {\"anchor\": \"x\", \"overlaying\": \"y\", \"side\": \"right\", \"title\": {\"text\": \"Porcentaje\"}}},\n",
       "                        {\"responsive\": true}\n",
       "                    ).then(function(){\n",
       "                            \n",
       "var gd = document.getElementById('0a6a3cdc-6557-4616-bd49-0f6ce547898e');\n",
       "var x = new MutationObserver(function (mutations, observer) {{\n",
       "        var display = window.getComputedStyle(gd).display;\n",
       "        if (!display || display === 'none') {{\n",
       "            console.log([gd, 'removed!']);\n",
       "            Plotly.purge(gd);\n",
       "            observer.disconnect();\n",
       "        }}\n",
       "}});\n",
       "\n",
       "// Listen for the removal of the full notebook cells\n",
       "var notebookContainer = gd.closest('#notebook-container');\n",
       "if (notebookContainer) {{\n",
       "    x.observe(notebookContainer, {childList: true});\n",
       "}}\n",
       "\n",
       "// Listen for the clearing of the current output cell\n",
       "var outputEl = gd.closest('.output');\n",
       "if (outputEl) {{\n",
       "    x.observe(outputEl, {childList: true});\n",
       "}}\n",
       "\n",
       "                        })\n",
       "                };\n",
       "                });\n",
       "            </script>\n",
       "        </div>"
      ]
     },
     "metadata": {},
     "output_type": "display_data"
    },
    {
     "data": {
      "text/html": [
       "        <script type=\"text/javascript\">\n",
       "        window.PlotlyConfig = {MathJaxConfig: 'local'};\n",
       "        if (window.MathJax) {MathJax.Hub.Config({SVG: {font: \"STIX-Web\"}});}\n",
       "        if (typeof require !== 'undefined') {\n",
       "        require.undef(\"plotly\");\n",
       "        requirejs.config({\n",
       "            paths: {\n",
       "                'plotly': ['https://cdn.plot.ly/plotly-latest.min']\n",
       "            }\n",
       "        });\n",
       "        require(['plotly'], function(Plotly) {\n",
       "            window._Plotly = Plotly;\n",
       "        });\n",
       "        }\n",
       "        </script>\n",
       "        "
      ]
     },
     "metadata": {},
     "output_type": "display_data"
    },
    {
     "data": {
      "application/vnd.plotly.v1+json": {
       "config": {
        "plotlyServerURL": "https://plot.ly"
       },
       "data": [
        {
         "boxmean": true,
         "boxpoints": "all",
         "customdata": [
          [
           "bathroom",
           "bathroom",
           0.995134174823761,
           "00000139.jpg",
           true
          ],
          [
           "bathroom",
           "bathroom",
           0.9134564995765686,
           "00000332.jpg",
           true
          ],
          [
           "bathroom",
           "bathroom",
           0.9825860261917114,
           "00000393.jpg",
           true
          ],
          [
           "bathroom",
           "bathroom",
           0.9985244870185852,
           "00000497.jpg",
           true
          ],
          [
           "bathroom",
           "bathroom",
           0.7384682297706604,
           "00000655.jpg",
           true
          ],
          [
           "bathroom",
           "bathroom",
           0.9985598921775818,
           "00000681.jpg",
           true
          ],
          [
           "bathroom",
           "bathroom",
           0.9994955062866211,
           "00001342.jpg",
           true
          ],
          [
           "bathroom",
           "bathroom",
           0.9982730150222778,
           "00001489.jpg",
           true
          ],
          [
           "bathroom",
           "bathroom",
           0.9987457990646362,
           "00001645.jpg",
           true
          ],
          [
           "bathroom",
           "bathroom",
           0.8872119784355164,
           "00003103.jpg",
           true
          ],
          [
           "bathroom",
           "bathroom",
           0.9992572665214539,
           "00003240.jpg",
           true
          ],
          [
           "bathroom",
           "bathroom",
           0.9983842372894287,
           "00003321.jpg",
           true
          ],
          [
           "bathroom",
           "bathroom",
           0.9335922002792358,
           "00003526.jpg",
           true
          ],
          [
           "bathroom",
           "bathroom",
           0.8206669688224792,
           "11139172.jpg",
           true
          ],
          [
           "bathroom",
           "bathroom",
           0.986343502998352,
           "11865906.jpg",
           true
          ],
          [
           "bathroom",
           "bathroom",
           0.992715060710907,
           "13965910.jpg",
           true
          ],
          [
           "bathroom",
           "bathroom",
           0.981938898563385,
           "14231680.jpg",
           true
          ],
          [
           "bathroom",
           "bathroom",
           0.9369298219680786,
           "15320674.jpg",
           true
          ],
          [
           "bathroom",
           "bathroom",
           0.9524118304252625,
           "15757982.jpg",
           true
          ],
          [
           "bathroom",
           "bathroom",
           0.8933412432670593,
           "36117165.jpg",
           true
          ],
          [
           "bathroom",
           "bathroom",
           0.9932390451431274,
           "4284122.jpg",
           true
          ],
          [
           "bathroom",
           "bathroom",
           0.8005729913711548,
           "43122075.jpg",
           true
          ],
          [
           "bathroom",
           "bathroom",
           0.9793241620063782,
           "44019757.jpg",
           true
          ]
         ],
         "hovertemplate": "y_true=%{customdata[0]}<br>y_pred=%{customdata[1]}<br>y_pred_proba=%{customdata[2]}<br>filename=%{customdata[3]}<br>right_predicted=%{customdata[4]}",
         "jitter": 0.3,
         "marker": {
          "color": "green"
         },
         "name": "|label: bathroom - predicción correcta|",
         "pointpos": -1.8,
         "type": "box",
         "xaxis": "x",
         "y": [
          0.995134174823761,
          0.9134564995765686,
          0.9825860261917114,
          0.9985244870185852,
          0.7384682297706604,
          0.9985598921775818,
          0.9994955062866211,
          0.9982730150222778,
          0.9987457990646362,
          0.8872119784355164,
          0.9992572665214539,
          0.9983842372894287,
          0.9335922002792358,
          0.8206669688224792,
          0.986343502998352,
          0.992715060710907,
          0.981938898563385,
          0.9369298219680786,
          0.9524118304252625,
          0.8933412432670593,
          0.9932390451431274,
          0.8005729913711548,
          0.9793241620063782
         ],
         "yaxis": "y"
        },
        {
         "boxmean": true,
         "boxpoints": "all",
         "customdata": [],
         "hovertemplate": "y_true=%{customdata[0]}<br>y_pred=%{customdata[1]}<br>y_pred_proba=%{customdata[2]}<br>filename=%{customdata[3]}<br>right_predicted=%{customdata[4]}",
         "jitter": 0.3,
         "marker": {
          "color": "red"
         },
         "name": "|label: bathroom - predicción incorrecta|",
         "pointpos": -1.8,
         "type": "box",
         "xaxis": "x",
         "y": [],
         "yaxis": "y"
        },
        {
         "boxmean": true,
         "boxpoints": "all",
         "customdata": [
          [
           "bedroom",
           "bedroom",
           0.9822733998298645,
           "00000134.jpg",
           true
          ],
          [
           "bedroom",
           "bedroom",
           0.9867217540740967,
           "00000186.jpg",
           true
          ],
          [
           "bedroom",
           "bedroom",
           0.9988151788711548,
           "00000196.jpg",
           true
          ],
          [
           "bedroom",
           "bedroom",
           0.5689666867256165,
           "00000314.jpg",
           true
          ],
          [
           "bedroom",
           "bedroom",
           0.954168438911438,
           "00000661.jpg",
           true
          ],
          [
           "bedroom",
           "bedroom",
           0.8682509064674377,
           "00000905.jpg",
           true
          ],
          [
           "bedroom",
           "bedroom",
           0.9404844641685486,
           "00001242.jpg",
           true
          ],
          [
           "bedroom",
           "bedroom",
           0.8852699995040894,
           "00001261.jpg",
           true
          ],
          [
           "bedroom",
           "bedroom",
           0.9935626983642578,
           "00001267.jpg",
           true
          ],
          [
           "bedroom",
           "bedroom",
           0.9858654737472534,
           "00001452.jpg",
           true
          ],
          [
           "bedroom",
           "bedroom",
           0.8725112676620483,
           "00001465.jpg",
           true
          ],
          [
           "bedroom",
           "bedroom",
           0.8842245936393738,
           "00001624.jpg",
           true
          ],
          [
           "bedroom",
           "bedroom",
           0.9480714201927185,
           "00001751.jpg",
           true
          ],
          [
           "bedroom",
           "bedroom",
           0.9383764863014221,
           "00002102.jpg",
           true
          ],
          [
           "bedroom",
           "bedroom",
           0.9954550266265869,
           "00002457.jpg",
           true
          ],
          [
           "bedroom",
           "bedroom",
           0.975428581237793,
           "00002904.jpg",
           true
          ],
          [
           "bedroom",
           "bedroom",
           0.6744605898857117,
           "00003025.jpg",
           true
          ],
          [
           "bedroom",
           "bedroom",
           0.946209728717804,
           "00004989.jpg",
           true
          ],
          [
           "bedroom",
           "bedroom",
           0.8323161602020264,
           "11775058.jpg",
           true
          ],
          [
           "bedroom",
           "bedroom",
           0.9412071108818054,
           "21237851.jpg",
           true
          ],
          [
           "bedroom",
           "bedroom",
           0.9137022495269775,
           "33145669.jpg",
           true
          ],
          [
           "bedroom",
           "bedroom",
           0.8769371509552002,
           "9903849.jpg",
           true
          ]
         ],
         "hovertemplate": "y_true=%{customdata[0]}<br>y_pred=%{customdata[1]}<br>y_pred_proba=%{customdata[2]}<br>filename=%{customdata[3]}<br>right_predicted=%{customdata[4]}",
         "jitter": 0.3,
         "marker": {
          "color": "green"
         },
         "name": "|label: bedroom - predicción correcta|",
         "pointpos": -1.8,
         "type": "box",
         "xaxis": "x",
         "y": [
          0.9822733998298645,
          0.9867217540740967,
          0.9988151788711548,
          0.5689666867256165,
          0.954168438911438,
          0.8682509064674377,
          0.9404844641685486,
          0.8852699995040894,
          0.9935626983642578,
          0.9858654737472534,
          0.8725112676620483,
          0.8842245936393738,
          0.9480714201927185,
          0.9383764863014221,
          0.9954550266265869,
          0.975428581237793,
          0.6744605898857117,
          0.946209728717804,
          0.8323161602020264,
          0.9412071108818054,
          0.9137022495269775,
          0.8769371509552002
         ],
         "yaxis": "y"
        },
        {
         "boxmean": true,
         "boxpoints": "all",
         "customdata": [
          [
           "bathroom",
           "bedroom",
           0.7579103112220764,
           "00004213.jpg",
           false
          ],
          [
           "livingRoom",
           "bedroom",
           0.8048412799835205,
           "00000018.jpg",
           false
          ]
         ],
         "hovertemplate": "y_true=%{customdata[0]}<br>y_pred=%{customdata[1]}<br>y_pred_proba=%{customdata[2]}<br>filename=%{customdata[3]}<br>right_predicted=%{customdata[4]}",
         "jitter": 0.3,
         "marker": {
          "color": "red"
         },
         "name": "|label: bedroom - predicción incorrecta|",
         "pointpos": -1.8,
         "type": "box",
         "xaxis": "x",
         "y": [
          0.7579103112220764,
          0.8048412799835205
         ],
         "yaxis": "y"
        },
        {
         "boxmean": true,
         "boxpoints": "all",
         "customdata": [
          [
           "dining_room",
           "dining_room",
           0.998571515083313,
           "00000073.jpg",
           true
          ],
          [
           "dining_room",
           "dining_room",
           0.9995686411857605,
           "00000134.jpg",
           true
          ],
          [
           "dining_room",
           "dining_room",
           0.9884529709815979,
           "00000319.jpg",
           true
          ],
          [
           "dining_room",
           "dining_room",
           0.5283704400062561,
           "00000399.jpg",
           true
          ],
          [
           "dining_room",
           "dining_room",
           0.7509424686431885,
           "00000746.jpg",
           true
          ],
          [
           "dining_room",
           "dining_room",
           0.9663639068603516,
           "00000747.jpg",
           true
          ],
          [
           "dining_room",
           "dining_room",
           0.992440938949585,
           "00000879.jpg",
           true
          ],
          [
           "dining_room",
           "dining_room",
           0.9995026588439941,
           "00000881.jpg",
           true
          ],
          [
           "dining_room",
           "dining_room",
           0.997173547744751,
           "00000998.jpg",
           true
          ],
          [
           "dining_room",
           "dining_room",
           0.719039261341095,
           "00001010.jpg",
           true
          ],
          [
           "dining_room",
           "dining_room",
           0.992626965045929,
           "00001919.jpg",
           true
          ],
          [
           "dining_room",
           "dining_room",
           0.8570935726165771,
           "00002559.jpg",
           true
          ],
          [
           "dining_room",
           "dining_room",
           0.995707094669342,
           "00002683.jpg",
           true
          ],
          [
           "dining_room",
           "dining_room",
           0.996215283870697,
           "00002848.jpg",
           true
          ],
          [
           "dining_room",
           "dining_room",
           0.8219962120056152,
           "00003233.jpg",
           true
          ],
          [
           "dining_room",
           "dining_room",
           0.9412404894828796,
           "00003660.jpg",
           true
          ],
          [
           "dining_room",
           "dining_room",
           0.948894202709198,
           "00003795.jpg",
           true
          ],
          [
           "dining_room",
           "dining_room",
           0.9999233484268188,
           "00004096.jpg",
           true
          ],
          [
           "dining_room",
           "dining_room",
           0.9262451529502869,
           "00004314.jpg",
           true
          ],
          [
           "dining_room",
           "dining_room",
           0.9822385311126709,
           "00004469.jpg",
           true
          ],
          [
           "dining_room",
           "dining_room",
           0.9999620914459229,
           "00004691.jpg",
           true
          ],
          [
           "dining_room",
           "dining_room",
           0.999334990978241,
           "gsun_2f32c3b4991f47a4c12170880672c77d.jpg",
           true
          ],
          [
           "dining_room",
           "dining_room",
           0.9951452612876892,
           "gsun_8730b6bc8a9c25fe043d85992ad62db4.jpg",
           true
          ],
          [
           "dining_room",
           "dining_room",
           0.996415376663208,
           "gsun_b7170bfa135a0fc069e5445154c24b87.jpg",
           true
          ]
         ],
         "hovertemplate": "y_true=%{customdata[0]}<br>y_pred=%{customdata[1]}<br>y_pred_proba=%{customdata[2]}<br>filename=%{customdata[3]}<br>right_predicted=%{customdata[4]}",
         "jitter": 0.3,
         "marker": {
          "color": "green"
         },
         "name": "|label: dining_room - predicción correcta|",
         "pointpos": -1.8,
         "type": "box",
         "xaxis": "x",
         "y": [
          0.998571515083313,
          0.9995686411857605,
          0.9884529709815979,
          0.5283704400062561,
          0.7509424686431885,
          0.9663639068603516,
          0.992440938949585,
          0.9995026588439941,
          0.997173547744751,
          0.719039261341095,
          0.992626965045929,
          0.8570935726165771,
          0.995707094669342,
          0.996215283870697,
          0.8219962120056152,
          0.9412404894828796,
          0.948894202709198,
          0.9999233484268188,
          0.9262451529502869,
          0.9822385311126709,
          0.9999620914459229,
          0.999334990978241,
          0.9951452612876892,
          0.996415376663208
         ],
         "yaxis": "y"
        },
        {
         "boxmean": true,
         "boxpoints": "all",
         "customdata": [
          [
           "kitchen",
           "dining_room",
           0.610219419002533,
           "00000661.jpg",
           false
          ],
          [
           "livingRoom",
           "dining_room",
           0.9033045172691345,
           "gsun_2cc63cd9275da9896854baed640800fa.jpg",
           false
          ]
         ],
         "hovertemplate": "y_true=%{customdata[0]}<br>y_pred=%{customdata[1]}<br>y_pred_proba=%{customdata[2]}<br>filename=%{customdata[3]}<br>right_predicted=%{customdata[4]}",
         "jitter": 0.3,
         "marker": {
          "color": "red"
         },
         "name": "|label: dining_room - predicción incorrecta|",
         "pointpos": -1.8,
         "type": "box",
         "xaxis": "x",
         "y": [
          0.610219419002533,
          0.9033045172691345
         ],
         "yaxis": "y"
        },
        {
         "boxmean": true,
         "boxpoints": "all",
         "customdata": [
          [
           "frontyard",
           "frontyard",
           0.9999204874038696,
           "00002919.jpg",
           true
          ],
          [
           "frontyard",
           "frontyard",
           0.9999983310699463,
           "00002947.jpg",
           true
          ],
          [
           "frontyard",
           "frontyard",
           1,
           "00002964.jpg",
           true
          ],
          [
           "frontyard",
           "frontyard",
           1,
           "00002965.jpg",
           true
          ],
          [
           "frontyard",
           "frontyard",
           1,
           "00003008.jpg",
           true
          ],
          [
           "frontyard",
           "frontyard",
           0.9999972581863403,
           "00003018.jpg",
           true
          ],
          [
           "frontyard",
           "frontyard",
           0.9999998807907104,
           "00003020.jpg",
           true
          ],
          [
           "frontyard",
           "frontyard",
           1,
           "00003043.jpg",
           true
          ],
          [
           "frontyard",
           "frontyard",
           1,
           "00003054.jpg",
           true
          ],
          [
           "frontyard",
           "frontyard",
           0.9999874830245972,
           "00003063.jpg",
           true
          ],
          [
           "frontyard",
           "frontyard",
           0.9906322956085205,
           "00003146.jpg",
           true
          ],
          [
           "frontyard",
           "frontyard",
           0.9999896287918091,
           "00003172.jpg",
           true
          ],
          [
           "frontyard",
           "frontyard",
           0.9995224475860596,
           "00003174.jpg",
           true
          ],
          [
           "frontyard",
           "frontyard",
           0.999996542930603,
           "00003236.jpg",
           true
          ],
          [
           "frontyard",
           "frontyard",
           1,
           "00003258.jpg",
           true
          ],
          [
           "frontyard",
           "frontyard",
           1,
           "00003262.jpg",
           true
          ],
          [
           "frontyard",
           "frontyard",
           1,
           "00003282.jpg",
           true
          ],
          [
           "frontyard",
           "frontyard",
           0.9999767541885376,
           "00003313.jpg",
           true
          ],
          [
           "frontyard",
           "frontyard",
           1,
           "00003376.jpg",
           true
          ],
          [
           "frontyard",
           "frontyard",
           1,
           "00003401.jpg",
           true
          ],
          [
           "frontyard",
           "frontyard",
           0.9999796152114868,
           "00003586.jpg",
           true
          ],
          [
           "frontyard",
           "frontyard",
           0.9999997615814209,
           "00003610.jpg",
           true
          ],
          [
           "frontyard",
           "frontyard",
           0.9999967813491821,
           "00003709.jpg",
           true
          ],
          [
           "frontyard",
           "frontyard",
           0.98639315366745,
           "gsun_bcf6e124f7899c395cd95f00a9abe701.jpg",
           true
          ],
          [
           "frontyard",
           "frontyard",
           0.9997128844261169,
           "gsun_cb16558078e4f52877579122ec43bea3.jpg",
           true
          ]
         ],
         "hovertemplate": "y_true=%{customdata[0]}<br>y_pred=%{customdata[1]}<br>y_pred_proba=%{customdata[2]}<br>filename=%{customdata[3]}<br>right_predicted=%{customdata[4]}",
         "jitter": 0.3,
         "marker": {
          "color": "green"
         },
         "name": "|label: frontyard - predicción correcta|",
         "pointpos": -1.8,
         "type": "box",
         "xaxis": "x",
         "y": [
          0.9999204874038696,
          0.9999983310699463,
          1,
          1,
          1,
          0.9999972581863403,
          0.9999998807907104,
          1,
          1,
          0.9999874830245972,
          0.9906322956085205,
          0.9999896287918091,
          0.9995224475860596,
          0.999996542930603,
          1,
          1,
          1,
          0.9999767541885376,
          1,
          1,
          0.9999796152114868,
          0.9999997615814209,
          0.9999967813491821,
          0.98639315366745,
          0.9997128844261169
         ],
         "yaxis": "y"
        },
        {
         "boxmean": true,
         "boxpoints": "all",
         "customdata": [],
         "hovertemplate": "y_true=%{customdata[0]}<br>y_pred=%{customdata[1]}<br>y_pred_proba=%{customdata[2]}<br>filename=%{customdata[3]}<br>right_predicted=%{customdata[4]}",
         "jitter": 0.3,
         "marker": {
          "color": "red"
         },
         "name": "|label: frontyard - predicción incorrecta|",
         "pointpos": -1.8,
         "type": "box",
         "xaxis": "x",
         "y": [],
         "yaxis": "y"
        },
        {
         "boxmean": true,
         "boxpoints": "all",
         "customdata": [
          [
           "kitchen",
           "kitchen",
           0.9992508292198181,
           "00000316.jpg",
           true
          ],
          [
           "kitchen",
           "kitchen",
           0.9780853986740112,
           "00000494.jpg",
           true
          ],
          [
           "kitchen",
           "kitchen",
           0.9999871253967285,
           "00003030.jpg",
           true
          ],
          [
           "kitchen",
           "kitchen",
           0.9782673120498657,
           "00003167.jpg",
           true
          ],
          [
           "kitchen",
           "kitchen",
           0.9699109196662903,
           "00003774.jpg",
           true
          ],
          [
           "kitchen",
           "kitchen",
           0.977077841758728,
           "00004385.jpg",
           true
          ],
          [
           "kitchen",
           "kitchen",
           0.9878221154212952,
           "00004402.jpg",
           true
          ],
          [
           "kitchen",
           "kitchen",
           0.9986554384231567,
           "00004411.jpg",
           true
          ],
          [
           "kitchen",
           "kitchen",
           0.9997010827064514,
           "00004622.jpg",
           true
          ],
          [
           "kitchen",
           "kitchen",
           0.9942712783813477,
           "41903049.jpg",
           true
          ],
          [
           "kitchen",
           "kitchen",
           0.9993439316749573,
           "43121986.jpg",
           true
          ],
          [
           "kitchen",
           "kitchen",
           0.986771285533905,
           "48996081.jpg",
           true
          ],
          [
           "kitchen",
           "kitchen",
           0.9986037611961365,
           "gsun_0a5c6a8e880f721ccf500681741f8f06.jpg",
           true
          ],
          [
           "kitchen",
           "kitchen",
           0.9960280656814575,
           "gsun_bdd260f673ddea1614be04e77826f62a.jpg",
           true
          ],
          [
           "kitchen",
           "kitchen",
           0.9999940395355225,
           "gsun_d0596e69362e1ed8cce161cb79cd80a0.jpg",
           true
          ],
          [
           "kitchen",
           "kitchen",
           0.9970811009407043,
           "gsun_d17554e860fe591742c2ce791357a671.jpg",
           true
          ],
          [
           "kitchen",
           "kitchen",
           0.9850483536720276,
           "gsun_e357dbf7f82a2de005d8c3b5ef1ba69d.jpg",
           true
          ],
          [
           "kitchen",
           "kitchen",
           0.9999990463256836,
           "gsun_e8a69d1300eff4dd51e3c7a7f3f42da7.jpg",
           true
          ],
          [
           "kitchen",
           "kitchen",
           0.9999537467956543,
           "gsun_e8db166d55a16ab749cdd8d0bfc1145a.jpg",
           true
          ],
          [
           "kitchen",
           "kitchen",
           0.9329362511634827,
           "gsun_f0445d03107792d661eee314468f46d0.jpg",
           true
          ],
          [
           "kitchen",
           "kitchen",
           0.9283658266067505,
           "gsun_f787799e1ba5be0dc71a48dbb9c330db.jpg",
           true
          ],
          [
           "kitchen",
           "kitchen",
           0.9999791383743286,
           "gsun_ff1cb147e42b7bf2ab62e1ea5d5b3080.jpg",
           true
          ],
          [
           "kitchen",
           "kitchen",
           0.9402497410774231,
           "gsun_ff222a0c44b2c6465bc8eaa1bc74c0a5.jpg",
           true
          ],
          [
           "kitchen",
           "kitchen",
           0.9999839067459106,
           "gsun_ff390eefcf4918dc63b877eeb02fc7d3.jpg",
           true
          ]
         ],
         "hovertemplate": "y_true=%{customdata[0]}<br>y_pred=%{customdata[1]}<br>y_pred_proba=%{customdata[2]}<br>filename=%{customdata[3]}<br>right_predicted=%{customdata[4]}",
         "jitter": 0.3,
         "marker": {
          "color": "green"
         },
         "name": "|label: kitchen - predicción correcta|",
         "pointpos": -1.8,
         "type": "box",
         "xaxis": "x",
         "y": [
          0.9992508292198181,
          0.9780853986740112,
          0.9999871253967285,
          0.9782673120498657,
          0.9699109196662903,
          0.977077841758728,
          0.9878221154212952,
          0.9986554384231567,
          0.9997010827064514,
          0.9942712783813477,
          0.9993439316749573,
          0.986771285533905,
          0.9986037611961365,
          0.9960280656814575,
          0.9999940395355225,
          0.9970811009407043,
          0.9850483536720276,
          0.9999990463256836,
          0.9999537467956543,
          0.9329362511634827,
          0.9283658266067505,
          0.9999791383743286,
          0.9402497410774231,
          0.9999839067459106
         ],
         "yaxis": "y"
        },
        {
         "boxmean": true,
         "boxpoints": "all",
         "customdata": [
          [
           "bathroom",
           "kitchen",
           0.6585433483123779,
           "00001057.jpg",
           false
          ],
          [
           "dining_room",
           "kitchen",
           0.922092080116272,
           "00002422.jpg",
           false
          ]
         ],
         "hovertemplate": "y_true=%{customdata[0]}<br>y_pred=%{customdata[1]}<br>y_pred_proba=%{customdata[2]}<br>filename=%{customdata[3]}<br>right_predicted=%{customdata[4]}",
         "jitter": 0.3,
         "marker": {
          "color": "red"
         },
         "name": "|label: kitchen - predicción incorrecta|",
         "pointpos": -1.8,
         "type": "box",
         "xaxis": "x",
         "y": [
          0.6585433483123779,
          0.922092080116272
         ],
         "yaxis": "y"
        },
        {
         "boxmean": true,
         "boxpoints": "all",
         "customdata": [
          [
           "livingRoom",
           "livingRoom",
           0.8700037002563477,
           "00000100.jpg",
           true
          ],
          [
           "livingRoom",
           "livingRoom",
           0.9899047017097473,
           "00000155.jpg",
           true
          ],
          [
           "livingRoom",
           "livingRoom",
           0.9717211127281189,
           "00000580.jpg",
           true
          ],
          [
           "livingRoom",
           "livingRoom",
           0.8812835812568665,
           "00000621.jpg",
           true
          ],
          [
           "livingRoom",
           "livingRoom",
           0.8553421497344971,
           "31434025.jpg",
           true
          ],
          [
           "livingRoom",
           "livingRoom",
           0.9618880152702332,
           "41541703.jpg",
           true
          ],
          [
           "livingRoom",
           "livingRoom",
           0.9373024702072144,
           "47991206.jpg",
           true
          ],
          [
           "livingRoom",
           "livingRoom",
           0.8035869598388672,
           "55554347.jpg",
           true
          ],
          [
           "livingRoom",
           "livingRoom",
           0.990747332572937,
           "gsun_0ebc18c4cd8b6b52207613deff40d002.jpg",
           true
          ],
          [
           "livingRoom",
           "livingRoom",
           0.999958872795105,
           "gsun_0fea5f984f711b7208402786b9c32b5d.jpg",
           true
          ],
          [
           "livingRoom",
           "livingRoom",
           0.7403123378753662,
           "gsun_12633c2b7fd7802b7b532250e22d296e.jpg",
           true
          ],
          [
           "livingRoom",
           "livingRoom",
           0.7630687952041626,
           "gsun_1bdb22548de975b78c4657c8e39bf4da.jpg",
           true
          ],
          [
           "livingRoom",
           "livingRoom",
           0.8819600939750671,
           "gsun_1c8b627abba15eae357293b1b0de2655.jpg",
           true
          ],
          [
           "livingRoom",
           "livingRoom",
           0.6548550128936768,
           "gsun_1cc782a021199f296c618b792407a197.jpg",
           true
          ],
          [
           "livingRoom",
           "livingRoom",
           0.949600100517273,
           "gsun_1ff087de8ba7f152cbd6030cafcb627e.jpg",
           true
          ],
          [
           "livingRoom",
           "livingRoom",
           0.8093470931053162,
           "gsun_2daccfb415496c651efede69bd964ecb.jpg",
           true
          ],
          [
           "livingRoom",
           "livingRoom",
           0.8916350603103638,
           "gsun_2e1bb958c73173be22318a736a23a165.jpg",
           true
          ],
          [
           "livingRoom",
           "livingRoom",
           0.8886220455169678,
           "gsun_32771db87a919dc724e0fe778e46cc28.jpg",
           true
          ],
          [
           "livingRoom",
           "livingRoom",
           0.57889324426651,
           "gsun_3b596ca24a2045f2e8a176dbf94b03cf.jpg",
           true
          ],
          [
           "livingRoom",
           "livingRoom",
           0.4683959484100342,
           "gsun_3c6d543e0842ec253477432ad4604ed2.jpg",
           true
          ],
          [
           "livingRoom",
           "livingRoom",
           0.7644133567810059,
           "gsun_5aabdf5f2f711e993719102dc9753ec0.jpg",
           true
          ],
          [
           "livingRoom",
           "livingRoom",
           0.9890767335891724,
           "gsun_5cddbf0d660c2871dc3ed553189cfd47.jpg",
           true
          ],
          [
           "livingRoom",
           "livingRoom",
           0.9655367136001587,
           "gsun_64290f6d318ab90283f0f0d406e1b8a7.jpg",
           true
          ]
         ],
         "hovertemplate": "y_true=%{customdata[0]}<br>y_pred=%{customdata[1]}<br>y_pred_proba=%{customdata[2]}<br>filename=%{customdata[3]}<br>right_predicted=%{customdata[4]}",
         "jitter": 0.3,
         "marker": {
          "color": "green"
         },
         "name": "|label: livingRoom - predicción correcta|",
         "pointpos": -1.8,
         "type": "box",
         "xaxis": "x",
         "y": [
          0.8700037002563477,
          0.9899047017097473,
          0.9717211127281189,
          0.8812835812568665,
          0.8553421497344971,
          0.9618880152702332,
          0.9373024702072144,
          0.8035869598388672,
          0.990747332572937,
          0.999958872795105,
          0.7403123378753662,
          0.7630687952041626,
          0.8819600939750671,
          0.6548550128936768,
          0.949600100517273,
          0.8093470931053162,
          0.8916350603103638,
          0.8886220455169678,
          0.57889324426651,
          0.4683959484100342,
          0.7644133567810059,
          0.9890767335891724,
          0.9655367136001587
         ],
         "yaxis": "y"
        },
        {
         "boxmean": true,
         "boxpoints": "all",
         "customdata": [
          [
           "bedroom",
           "livingRoom",
           0.4189298152923584,
           "00000361.jpg",
           false
          ],
          [
           "bedroom",
           "livingRoom",
           0.5040424466133118,
           "11084870.jpg",
           false
          ],
          [
           "bedroom",
           "livingRoom",
           0.8469723463058472,
           "11867892.jpg",
           false
          ]
         ],
         "hovertemplate": "y_true=%{customdata[0]}<br>y_pred=%{customdata[1]}<br>y_pred_proba=%{customdata[2]}<br>filename=%{customdata[3]}<br>right_predicted=%{customdata[4]}",
         "jitter": 0.3,
         "marker": {
          "color": "red"
         },
         "name": "|label: livingRoom - predicción incorrecta|",
         "pointpos": -1.8,
         "type": "box",
         "xaxis": "x",
         "y": [
          0.4189298152923584,
          0.5040424466133118,
          0.8469723463058472
         ],
         "yaxis": "y"
        }
       ],
       "layout": {
        "annotations": [
         {
          "font": {
           "size": 16
          },
          "showarrow": false,
          "text": "Modelo del experimento 2 (subconjunto) - y_pred_proba",
          "x": 0.5,
          "xanchor": "center",
          "xref": "paper",
          "y": 1,
          "yanchor": "bottom",
          "yref": "paper"
         }
        ],
        "margin": {
         "b": 80,
         "l": 40,
         "r": 30,
         "t": 100
        },
        "showlegend": false,
        "template": {
         "data": {
          "bar": [
           {
            "error_x": {
             "color": "#2a3f5f"
            },
            "error_y": {
             "color": "#2a3f5f"
            },
            "marker": {
             "line": {
              "color": "#E5ECF6",
              "width": 0.5
             }
            },
            "type": "bar"
           }
          ],
          "barpolar": [
           {
            "marker": {
             "line": {
              "color": "#E5ECF6",
              "width": 0.5
             }
            },
            "type": "barpolar"
           }
          ],
          "carpet": [
           {
            "aaxis": {
             "endlinecolor": "#2a3f5f",
             "gridcolor": "white",
             "linecolor": "white",
             "minorgridcolor": "white",
             "startlinecolor": "#2a3f5f"
            },
            "baxis": {
             "endlinecolor": "#2a3f5f",
             "gridcolor": "white",
             "linecolor": "white",
             "minorgridcolor": "white",
             "startlinecolor": "#2a3f5f"
            },
            "type": "carpet"
           }
          ],
          "choropleth": [
           {
            "colorbar": {
             "outlinewidth": 0,
             "ticks": ""
            },
            "type": "choropleth"
           }
          ],
          "contour": [
           {
            "colorbar": {
             "outlinewidth": 0,
             "ticks": ""
            },
            "colorscale": [
             [
              0,
              "#0d0887"
             ],
             [
              0.1111111111111111,
              "#46039f"
             ],
             [
              0.2222222222222222,
              "#7201a8"
             ],
             [
              0.3333333333333333,
              "#9c179e"
             ],
             [
              0.4444444444444444,
              "#bd3786"
             ],
             [
              0.5555555555555556,
              "#d8576b"
             ],
             [
              0.6666666666666666,
              "#ed7953"
             ],
             [
              0.7777777777777778,
              "#fb9f3a"
             ],
             [
              0.8888888888888888,
              "#fdca26"
             ],
             [
              1,
              "#f0f921"
             ]
            ],
            "type": "contour"
           }
          ],
          "contourcarpet": [
           {
            "colorbar": {
             "outlinewidth": 0,
             "ticks": ""
            },
            "type": "contourcarpet"
           }
          ],
          "heatmap": [
           {
            "colorbar": {
             "outlinewidth": 0,
             "ticks": ""
            },
            "colorscale": [
             [
              0,
              "#0d0887"
             ],
             [
              0.1111111111111111,
              "#46039f"
             ],
             [
              0.2222222222222222,
              "#7201a8"
             ],
             [
              0.3333333333333333,
              "#9c179e"
             ],
             [
              0.4444444444444444,
              "#bd3786"
             ],
             [
              0.5555555555555556,
              "#d8576b"
             ],
             [
              0.6666666666666666,
              "#ed7953"
             ],
             [
              0.7777777777777778,
              "#fb9f3a"
             ],
             [
              0.8888888888888888,
              "#fdca26"
             ],
             [
              1,
              "#f0f921"
             ]
            ],
            "type": "heatmap"
           }
          ],
          "heatmapgl": [
           {
            "colorbar": {
             "outlinewidth": 0,
             "ticks": ""
            },
            "colorscale": [
             [
              0,
              "#0d0887"
             ],
             [
              0.1111111111111111,
              "#46039f"
             ],
             [
              0.2222222222222222,
              "#7201a8"
             ],
             [
              0.3333333333333333,
              "#9c179e"
             ],
             [
              0.4444444444444444,
              "#bd3786"
             ],
             [
              0.5555555555555556,
              "#d8576b"
             ],
             [
              0.6666666666666666,
              "#ed7953"
             ],
             [
              0.7777777777777778,
              "#fb9f3a"
             ],
             [
              0.8888888888888888,
              "#fdca26"
             ],
             [
              1,
              "#f0f921"
             ]
            ],
            "type": "heatmapgl"
           }
          ],
          "histogram": [
           {
            "marker": {
             "colorbar": {
              "outlinewidth": 0,
              "ticks": ""
             }
            },
            "type": "histogram"
           }
          ],
          "histogram2d": [
           {
            "colorbar": {
             "outlinewidth": 0,
             "ticks": ""
            },
            "colorscale": [
             [
              0,
              "#0d0887"
             ],
             [
              0.1111111111111111,
              "#46039f"
             ],
             [
              0.2222222222222222,
              "#7201a8"
             ],
             [
              0.3333333333333333,
              "#9c179e"
             ],
             [
              0.4444444444444444,
              "#bd3786"
             ],
             [
              0.5555555555555556,
              "#d8576b"
             ],
             [
              0.6666666666666666,
              "#ed7953"
             ],
             [
              0.7777777777777778,
              "#fb9f3a"
             ],
             [
              0.8888888888888888,
              "#fdca26"
             ],
             [
              1,
              "#f0f921"
             ]
            ],
            "type": "histogram2d"
           }
          ],
          "histogram2dcontour": [
           {
            "colorbar": {
             "outlinewidth": 0,
             "ticks": ""
            },
            "colorscale": [
             [
              0,
              "#0d0887"
             ],
             [
              0.1111111111111111,
              "#46039f"
             ],
             [
              0.2222222222222222,
              "#7201a8"
             ],
             [
              0.3333333333333333,
              "#9c179e"
             ],
             [
              0.4444444444444444,
              "#bd3786"
             ],
             [
              0.5555555555555556,
              "#d8576b"
             ],
             [
              0.6666666666666666,
              "#ed7953"
             ],
             [
              0.7777777777777778,
              "#fb9f3a"
             ],
             [
              0.8888888888888888,
              "#fdca26"
             ],
             [
              1,
              "#f0f921"
             ]
            ],
            "type": "histogram2dcontour"
           }
          ],
          "mesh3d": [
           {
            "colorbar": {
             "outlinewidth": 0,
             "ticks": ""
            },
            "type": "mesh3d"
           }
          ],
          "parcoords": [
           {
            "line": {
             "colorbar": {
              "outlinewidth": 0,
              "ticks": ""
             }
            },
            "type": "parcoords"
           }
          ],
          "pie": [
           {
            "automargin": true,
            "type": "pie"
           }
          ],
          "scatter": [
           {
            "marker": {
             "colorbar": {
              "outlinewidth": 0,
              "ticks": ""
             }
            },
            "type": "scatter"
           }
          ],
          "scatter3d": [
           {
            "line": {
             "colorbar": {
              "outlinewidth": 0,
              "ticks": ""
             }
            },
            "marker": {
             "colorbar": {
              "outlinewidth": 0,
              "ticks": ""
             }
            },
            "type": "scatter3d"
           }
          ],
          "scattercarpet": [
           {
            "marker": {
             "colorbar": {
              "outlinewidth": 0,
              "ticks": ""
             }
            },
            "type": "scattercarpet"
           }
          ],
          "scattergeo": [
           {
            "marker": {
             "colorbar": {
              "outlinewidth": 0,
              "ticks": ""
             }
            },
            "type": "scattergeo"
           }
          ],
          "scattergl": [
           {
            "marker": {
             "colorbar": {
              "outlinewidth": 0,
              "ticks": ""
             }
            },
            "type": "scattergl"
           }
          ],
          "scattermapbox": [
           {
            "marker": {
             "colorbar": {
              "outlinewidth": 0,
              "ticks": ""
             }
            },
            "type": "scattermapbox"
           }
          ],
          "scatterpolar": [
           {
            "marker": {
             "colorbar": {
              "outlinewidth": 0,
              "ticks": ""
             }
            },
            "type": "scatterpolar"
           }
          ],
          "scatterpolargl": [
           {
            "marker": {
             "colorbar": {
              "outlinewidth": 0,
              "ticks": ""
             }
            },
            "type": "scatterpolargl"
           }
          ],
          "scatterternary": [
           {
            "marker": {
             "colorbar": {
              "outlinewidth": 0,
              "ticks": ""
             }
            },
            "type": "scatterternary"
           }
          ],
          "surface": [
           {
            "colorbar": {
             "outlinewidth": 0,
             "ticks": ""
            },
            "colorscale": [
             [
              0,
              "#0d0887"
             ],
             [
              0.1111111111111111,
              "#46039f"
             ],
             [
              0.2222222222222222,
              "#7201a8"
             ],
             [
              0.3333333333333333,
              "#9c179e"
             ],
             [
              0.4444444444444444,
              "#bd3786"
             ],
             [
              0.5555555555555556,
              "#d8576b"
             ],
             [
              0.6666666666666666,
              "#ed7953"
             ],
             [
              0.7777777777777778,
              "#fb9f3a"
             ],
             [
              0.8888888888888888,
              "#fdca26"
             ],
             [
              1,
              "#f0f921"
             ]
            ],
            "type": "surface"
           }
          ],
          "table": [
           {
            "cells": {
             "fill": {
              "color": "#EBF0F8"
             },
             "line": {
              "color": "white"
             }
            },
            "header": {
             "fill": {
              "color": "#C8D4E3"
             },
             "line": {
              "color": "white"
             }
            },
            "type": "table"
           }
          ]
         },
         "layout": {
          "annotationdefaults": {
           "arrowcolor": "#2a3f5f",
           "arrowhead": 0,
           "arrowwidth": 1
          },
          "coloraxis": {
           "colorbar": {
            "outlinewidth": 0,
            "ticks": ""
           }
          },
          "colorscale": {
           "diverging": [
            [
             0,
             "#8e0152"
            ],
            [
             0.1,
             "#c51b7d"
            ],
            [
             0.2,
             "#de77ae"
            ],
            [
             0.3,
             "#f1b6da"
            ],
            [
             0.4,
             "#fde0ef"
            ],
            [
             0.5,
             "#f7f7f7"
            ],
            [
             0.6,
             "#e6f5d0"
            ],
            [
             0.7,
             "#b8e186"
            ],
            [
             0.8,
             "#7fbc41"
            ],
            [
             0.9,
             "#4d9221"
            ],
            [
             1,
             "#276419"
            ]
           ],
           "sequential": [
            [
             0,
             "#0d0887"
            ],
            [
             0.1111111111111111,
             "#46039f"
            ],
            [
             0.2222222222222222,
             "#7201a8"
            ],
            [
             0.3333333333333333,
             "#9c179e"
            ],
            [
             0.4444444444444444,
             "#bd3786"
            ],
            [
             0.5555555555555556,
             "#d8576b"
            ],
            [
             0.6666666666666666,
             "#ed7953"
            ],
            [
             0.7777777777777778,
             "#fb9f3a"
            ],
            [
             0.8888888888888888,
             "#fdca26"
            ],
            [
             1,
             "#f0f921"
            ]
           ],
           "sequentialminus": [
            [
             0,
             "#0d0887"
            ],
            [
             0.1111111111111111,
             "#46039f"
            ],
            [
             0.2222222222222222,
             "#7201a8"
            ],
            [
             0.3333333333333333,
             "#9c179e"
            ],
            [
             0.4444444444444444,
             "#bd3786"
            ],
            [
             0.5555555555555556,
             "#d8576b"
            ],
            [
             0.6666666666666666,
             "#ed7953"
            ],
            [
             0.7777777777777778,
             "#fb9f3a"
            ],
            [
             0.8888888888888888,
             "#fdca26"
            ],
            [
             1,
             "#f0f921"
            ]
           ]
          },
          "colorway": [
           "#636efa",
           "#EF553B",
           "#00cc96",
           "#ab63fa",
           "#FFA15A",
           "#19d3f3",
           "#FF6692",
           "#B6E880",
           "#FF97FF",
           "#FECB52"
          ],
          "font": {
           "color": "#2a3f5f"
          },
          "geo": {
           "bgcolor": "white",
           "lakecolor": "white",
           "landcolor": "#E5ECF6",
           "showlakes": true,
           "showland": true,
           "subunitcolor": "white"
          },
          "hoverlabel": {
           "align": "left"
          },
          "hovermode": "closest",
          "mapbox": {
           "style": "light"
          },
          "paper_bgcolor": "white",
          "plot_bgcolor": "#E5ECF6",
          "polar": {
           "angularaxis": {
            "gridcolor": "white",
            "linecolor": "white",
            "ticks": ""
           },
           "bgcolor": "#E5ECF6",
           "radialaxis": {
            "gridcolor": "white",
            "linecolor": "white",
            "ticks": ""
           }
          },
          "scene": {
           "xaxis": {
            "backgroundcolor": "#E5ECF6",
            "gridcolor": "white",
            "gridwidth": 2,
            "linecolor": "white",
            "showbackground": true,
            "ticks": "",
            "zerolinecolor": "white"
           },
           "yaxis": {
            "backgroundcolor": "#E5ECF6",
            "gridcolor": "white",
            "gridwidth": 2,
            "linecolor": "white",
            "showbackground": true,
            "ticks": "",
            "zerolinecolor": "white"
           },
           "zaxis": {
            "backgroundcolor": "#E5ECF6",
            "gridcolor": "white",
            "gridwidth": 2,
            "linecolor": "white",
            "showbackground": true,
            "ticks": "",
            "zerolinecolor": "white"
           }
          },
          "shapedefaults": {
           "line": {
            "color": "#2a3f5f"
           }
          },
          "ternary": {
           "aaxis": {
            "gridcolor": "white",
            "linecolor": "white",
            "ticks": ""
           },
           "baxis": {
            "gridcolor": "white",
            "linecolor": "white",
            "ticks": ""
           },
           "bgcolor": "#E5ECF6",
           "caxis": {
            "gridcolor": "white",
            "linecolor": "white",
            "ticks": ""
           }
          },
          "title": {
           "x": 0.05
          },
          "xaxis": {
           "automargin": true,
           "gridcolor": "white",
           "linecolor": "white",
           "ticks": "",
           "title": {
            "standoff": 15
           },
           "zerolinecolor": "white",
           "zerolinewidth": 2
          },
          "yaxis": {
           "automargin": true,
           "gridcolor": "white",
           "linecolor": "white",
           "ticks": "",
           "title": {
            "standoff": 15
           },
           "zerolinecolor": "white",
           "zerolinewidth": 2
          }
         }
        },
        "title": {
         "text": "Distribución de probabilidades asignadas a la categoría elegida para casos predichos correcta e incorrectamente"
        },
        "xaxis": {
         "anchor": "y",
         "domain": [
          0,
          1
         ],
         "title": {
          "text": "y_true"
         }
        },
        "yaxis": {
         "anchor": "x",
         "autorange": true,
         "domain": [
          0,
          1
         ],
         "gridcolor": "rgb(255, 255, 255)",
         "gridwidth": 1,
         "showgrid": true,
         "title": {
          "text": "y_pred_proba"
         },
         "zeroline": true,
         "zerolinecolor": "rgb(255, 255, 255)",
         "zerolinewidth": 2
        }
       }
      },
      "text/html": [
       "<div>\n",
       "        \n",
       "        \n",
       "            <div id=\"0384a0b7-182e-44a0-989f-f4ea5c4d4567\" class=\"plotly-graph-div\" style=\"height:525px; width:100%;\"></div>\n",
       "            <script type=\"text/javascript\">\n",
       "                require([\"plotly\"], function(Plotly) {\n",
       "                    window.PLOTLYENV=window.PLOTLYENV || {};\n",
       "                    \n",
       "                if (document.getElementById(\"0384a0b7-182e-44a0-989f-f4ea5c4d4567\")) {\n",
       "                    Plotly.newPlot(\n",
       "                        '0384a0b7-182e-44a0-989f-f4ea5c4d4567',\n",
       "                        [{\"boxmean\": true, \"boxpoints\": \"all\", \"customdata\": [[\"bathroom\", \"bathroom\", 0.995134174823761, \"00000139.jpg\", true], [\"bathroom\", \"bathroom\", 0.9134564995765686, \"00000332.jpg\", true], [\"bathroom\", \"bathroom\", 0.9825860261917114, \"00000393.jpg\", true], [\"bathroom\", \"bathroom\", 0.9985244870185852, \"00000497.jpg\", true], [\"bathroom\", \"bathroom\", 0.7384682297706604, \"00000655.jpg\", true], [\"bathroom\", \"bathroom\", 0.9985598921775818, \"00000681.jpg\", true], [\"bathroom\", \"bathroom\", 0.9994955062866211, \"00001342.jpg\", true], [\"bathroom\", \"bathroom\", 0.9982730150222778, \"00001489.jpg\", true], [\"bathroom\", \"bathroom\", 0.9987457990646362, \"00001645.jpg\", true], [\"bathroom\", \"bathroom\", 0.8872119784355164, \"00003103.jpg\", true], [\"bathroom\", \"bathroom\", 0.9992572665214539, \"00003240.jpg\", true], [\"bathroom\", \"bathroom\", 0.9983842372894287, \"00003321.jpg\", true], [\"bathroom\", \"bathroom\", 0.9335922002792358, \"00003526.jpg\", true], [\"bathroom\", \"bathroom\", 0.8206669688224792, \"11139172.jpg\", true], [\"bathroom\", \"bathroom\", 0.986343502998352, \"11865906.jpg\", true], [\"bathroom\", \"bathroom\", 0.992715060710907, \"13965910.jpg\", true], [\"bathroom\", \"bathroom\", 0.981938898563385, \"14231680.jpg\", true], [\"bathroom\", \"bathroom\", 0.9369298219680786, \"15320674.jpg\", true], [\"bathroom\", \"bathroom\", 0.9524118304252625, \"15757982.jpg\", true], [\"bathroom\", \"bathroom\", 0.8933412432670593, \"36117165.jpg\", true], [\"bathroom\", \"bathroom\", 0.9932390451431274, \"4284122.jpg\", true], [\"bathroom\", \"bathroom\", 0.8005729913711548, \"43122075.jpg\", true], [\"bathroom\", \"bathroom\", 0.9793241620063782, \"44019757.jpg\", true]], \"hovertemplate\": \"y_true=%{customdata[0]}<br>y_pred=%{customdata[1]}<br>y_pred_proba=%{customdata[2]}<br>filename=%{customdata[3]}<br>right_predicted=%{customdata[4]}\", \"jitter\": 0.3, \"marker\": {\"color\": \"green\"}, \"name\": \"|label: bathroom - predicci\\u00f3n correcta|\", \"pointpos\": -1.8, \"type\": \"box\", \"xaxis\": \"x\", \"y\": [0.995134174823761, 0.9134564995765686, 0.9825860261917114, 0.9985244870185852, 0.7384682297706604, 0.9985598921775818, 0.9994955062866211, 0.9982730150222778, 0.9987457990646362, 0.8872119784355164, 0.9992572665214539, 0.9983842372894287, 0.9335922002792358, 0.8206669688224792, 0.986343502998352, 0.992715060710907, 0.981938898563385, 0.9369298219680786, 0.9524118304252625, 0.8933412432670593, 0.9932390451431274, 0.8005729913711548, 0.9793241620063782], \"yaxis\": \"y\"}, {\"boxmean\": true, \"boxpoints\": \"all\", \"customdata\": [], \"hovertemplate\": \"y_true=%{customdata[0]}<br>y_pred=%{customdata[1]}<br>y_pred_proba=%{customdata[2]}<br>filename=%{customdata[3]}<br>right_predicted=%{customdata[4]}\", \"jitter\": 0.3, \"marker\": {\"color\": \"red\"}, \"name\": \"|label: bathroom - predicci\\u00f3n incorrecta|\", \"pointpos\": -1.8, \"type\": \"box\", \"xaxis\": \"x\", \"y\": [], \"yaxis\": \"y\"}, {\"boxmean\": true, \"boxpoints\": \"all\", \"customdata\": [[\"bedroom\", \"bedroom\", 0.9822733998298645, \"00000134.jpg\", true], [\"bedroom\", \"bedroom\", 0.9867217540740967, \"00000186.jpg\", true], [\"bedroom\", \"bedroom\", 0.9988151788711548, \"00000196.jpg\", true], [\"bedroom\", \"bedroom\", 0.5689666867256165, \"00000314.jpg\", true], [\"bedroom\", \"bedroom\", 0.954168438911438, \"00000661.jpg\", true], [\"bedroom\", \"bedroom\", 0.8682509064674377, \"00000905.jpg\", true], [\"bedroom\", \"bedroom\", 0.9404844641685486, \"00001242.jpg\", true], [\"bedroom\", \"bedroom\", 0.8852699995040894, \"00001261.jpg\", true], [\"bedroom\", \"bedroom\", 0.9935626983642578, \"00001267.jpg\", true], [\"bedroom\", \"bedroom\", 0.9858654737472534, \"00001452.jpg\", true], [\"bedroom\", \"bedroom\", 0.8725112676620483, \"00001465.jpg\", true], [\"bedroom\", \"bedroom\", 0.8842245936393738, \"00001624.jpg\", true], [\"bedroom\", \"bedroom\", 0.9480714201927185, \"00001751.jpg\", true], [\"bedroom\", \"bedroom\", 0.9383764863014221, \"00002102.jpg\", true], [\"bedroom\", \"bedroom\", 0.9954550266265869, \"00002457.jpg\", true], [\"bedroom\", \"bedroom\", 0.975428581237793, \"00002904.jpg\", true], [\"bedroom\", \"bedroom\", 0.6744605898857117, \"00003025.jpg\", true], [\"bedroom\", \"bedroom\", 0.946209728717804, \"00004989.jpg\", true], [\"bedroom\", \"bedroom\", 0.8323161602020264, \"11775058.jpg\", true], [\"bedroom\", \"bedroom\", 0.9412071108818054, \"21237851.jpg\", true], [\"bedroom\", \"bedroom\", 0.9137022495269775, \"33145669.jpg\", true], [\"bedroom\", \"bedroom\", 0.8769371509552002, \"9903849.jpg\", true]], \"hovertemplate\": \"y_true=%{customdata[0]}<br>y_pred=%{customdata[1]}<br>y_pred_proba=%{customdata[2]}<br>filename=%{customdata[3]}<br>right_predicted=%{customdata[4]}\", \"jitter\": 0.3, \"marker\": {\"color\": \"green\"}, \"name\": \"|label: bedroom - predicci\\u00f3n correcta|\", \"pointpos\": -1.8, \"type\": \"box\", \"xaxis\": \"x\", \"y\": [0.9822733998298645, 0.9867217540740967, 0.9988151788711548, 0.5689666867256165, 0.954168438911438, 0.8682509064674377, 0.9404844641685486, 0.8852699995040894, 0.9935626983642578, 0.9858654737472534, 0.8725112676620483, 0.8842245936393738, 0.9480714201927185, 0.9383764863014221, 0.9954550266265869, 0.975428581237793, 0.6744605898857117, 0.946209728717804, 0.8323161602020264, 0.9412071108818054, 0.9137022495269775, 0.8769371509552002], \"yaxis\": \"y\"}, {\"boxmean\": true, \"boxpoints\": \"all\", \"customdata\": [[\"bathroom\", \"bedroom\", 0.7579103112220764, \"00004213.jpg\", false], [\"livingRoom\", \"bedroom\", 0.8048412799835205, \"00000018.jpg\", false]], \"hovertemplate\": \"y_true=%{customdata[0]}<br>y_pred=%{customdata[1]}<br>y_pred_proba=%{customdata[2]}<br>filename=%{customdata[3]}<br>right_predicted=%{customdata[4]}\", \"jitter\": 0.3, \"marker\": {\"color\": \"red\"}, \"name\": \"|label: bedroom - predicci\\u00f3n incorrecta|\", \"pointpos\": -1.8, \"type\": \"box\", \"xaxis\": \"x\", \"y\": [0.7579103112220764, 0.8048412799835205], \"yaxis\": \"y\"}, {\"boxmean\": true, \"boxpoints\": \"all\", \"customdata\": [[\"dining_room\", \"dining_room\", 0.998571515083313, \"00000073.jpg\", true], [\"dining_room\", \"dining_room\", 0.9995686411857605, \"00000134.jpg\", true], [\"dining_room\", \"dining_room\", 0.9884529709815979, \"00000319.jpg\", true], [\"dining_room\", \"dining_room\", 0.5283704400062561, \"00000399.jpg\", true], [\"dining_room\", \"dining_room\", 0.7509424686431885, \"00000746.jpg\", true], [\"dining_room\", \"dining_room\", 0.9663639068603516, \"00000747.jpg\", true], [\"dining_room\", \"dining_room\", 0.992440938949585, \"00000879.jpg\", true], [\"dining_room\", \"dining_room\", 0.9995026588439941, \"00000881.jpg\", true], [\"dining_room\", \"dining_room\", 0.997173547744751, \"00000998.jpg\", true], [\"dining_room\", \"dining_room\", 0.719039261341095, \"00001010.jpg\", true], [\"dining_room\", \"dining_room\", 0.992626965045929, \"00001919.jpg\", true], [\"dining_room\", \"dining_room\", 0.8570935726165771, \"00002559.jpg\", true], [\"dining_room\", \"dining_room\", 0.995707094669342, \"00002683.jpg\", true], [\"dining_room\", \"dining_room\", 0.996215283870697, \"00002848.jpg\", true], [\"dining_room\", \"dining_room\", 0.8219962120056152, \"00003233.jpg\", true], [\"dining_room\", \"dining_room\", 0.9412404894828796, \"00003660.jpg\", true], [\"dining_room\", \"dining_room\", 0.948894202709198, \"00003795.jpg\", true], [\"dining_room\", \"dining_room\", 0.9999233484268188, \"00004096.jpg\", true], [\"dining_room\", \"dining_room\", 0.9262451529502869, \"00004314.jpg\", true], [\"dining_room\", \"dining_room\", 0.9822385311126709, \"00004469.jpg\", true], [\"dining_room\", \"dining_room\", 0.9999620914459229, \"00004691.jpg\", true], [\"dining_room\", \"dining_room\", 0.999334990978241, \"gsun_2f32c3b4991f47a4c12170880672c77d.jpg\", true], [\"dining_room\", \"dining_room\", 0.9951452612876892, \"gsun_8730b6bc8a9c25fe043d85992ad62db4.jpg\", true], [\"dining_room\", \"dining_room\", 0.996415376663208, \"gsun_b7170bfa135a0fc069e5445154c24b87.jpg\", true]], \"hovertemplate\": \"y_true=%{customdata[0]}<br>y_pred=%{customdata[1]}<br>y_pred_proba=%{customdata[2]}<br>filename=%{customdata[3]}<br>right_predicted=%{customdata[4]}\", \"jitter\": 0.3, \"marker\": {\"color\": \"green\"}, \"name\": \"|label: dining_room - predicci\\u00f3n correcta|\", \"pointpos\": -1.8, \"type\": \"box\", \"xaxis\": \"x\", \"y\": [0.998571515083313, 0.9995686411857605, 0.9884529709815979, 0.5283704400062561, 0.7509424686431885, 0.9663639068603516, 0.992440938949585, 0.9995026588439941, 0.997173547744751, 0.719039261341095, 0.992626965045929, 0.8570935726165771, 0.995707094669342, 0.996215283870697, 0.8219962120056152, 0.9412404894828796, 0.948894202709198, 0.9999233484268188, 0.9262451529502869, 0.9822385311126709, 0.9999620914459229, 0.999334990978241, 0.9951452612876892, 0.996415376663208], \"yaxis\": \"y\"}, {\"boxmean\": true, \"boxpoints\": \"all\", \"customdata\": [[\"kitchen\", \"dining_room\", 0.610219419002533, \"00000661.jpg\", false], [\"livingRoom\", \"dining_room\", 0.9033045172691345, \"gsun_2cc63cd9275da9896854baed640800fa.jpg\", false]], \"hovertemplate\": \"y_true=%{customdata[0]}<br>y_pred=%{customdata[1]}<br>y_pred_proba=%{customdata[2]}<br>filename=%{customdata[3]}<br>right_predicted=%{customdata[4]}\", \"jitter\": 0.3, \"marker\": {\"color\": \"red\"}, \"name\": \"|label: dining_room - predicci\\u00f3n incorrecta|\", \"pointpos\": -1.8, \"type\": \"box\", \"xaxis\": \"x\", \"y\": [0.610219419002533, 0.9033045172691345], \"yaxis\": \"y\"}, {\"boxmean\": true, \"boxpoints\": \"all\", \"customdata\": [[\"frontyard\", \"frontyard\", 0.9999204874038696, \"00002919.jpg\", true], [\"frontyard\", \"frontyard\", 0.9999983310699463, \"00002947.jpg\", true], [\"frontyard\", \"frontyard\", 1.0, \"00002964.jpg\", true], [\"frontyard\", \"frontyard\", 1.0, \"00002965.jpg\", true], [\"frontyard\", \"frontyard\", 1.0, \"00003008.jpg\", true], [\"frontyard\", \"frontyard\", 0.9999972581863403, \"00003018.jpg\", true], [\"frontyard\", \"frontyard\", 0.9999998807907104, \"00003020.jpg\", true], [\"frontyard\", \"frontyard\", 1.0, \"00003043.jpg\", true], [\"frontyard\", \"frontyard\", 1.0, \"00003054.jpg\", true], [\"frontyard\", \"frontyard\", 0.9999874830245972, \"00003063.jpg\", true], [\"frontyard\", \"frontyard\", 0.9906322956085205, \"00003146.jpg\", true], [\"frontyard\", \"frontyard\", 0.9999896287918091, \"00003172.jpg\", true], [\"frontyard\", \"frontyard\", 0.9995224475860596, \"00003174.jpg\", true], [\"frontyard\", \"frontyard\", 0.999996542930603, \"00003236.jpg\", true], [\"frontyard\", \"frontyard\", 1.0, \"00003258.jpg\", true], [\"frontyard\", \"frontyard\", 1.0, \"00003262.jpg\", true], [\"frontyard\", \"frontyard\", 1.0, \"00003282.jpg\", true], [\"frontyard\", \"frontyard\", 0.9999767541885376, \"00003313.jpg\", true], [\"frontyard\", \"frontyard\", 1.0, \"00003376.jpg\", true], [\"frontyard\", \"frontyard\", 1.0, \"00003401.jpg\", true], [\"frontyard\", \"frontyard\", 0.9999796152114868, \"00003586.jpg\", true], [\"frontyard\", \"frontyard\", 0.9999997615814209, \"00003610.jpg\", true], [\"frontyard\", \"frontyard\", 0.9999967813491821, \"00003709.jpg\", true], [\"frontyard\", \"frontyard\", 0.98639315366745, \"gsun_bcf6e124f7899c395cd95f00a9abe701.jpg\", true], [\"frontyard\", \"frontyard\", 0.9997128844261169, \"gsun_cb16558078e4f52877579122ec43bea3.jpg\", true]], \"hovertemplate\": \"y_true=%{customdata[0]}<br>y_pred=%{customdata[1]}<br>y_pred_proba=%{customdata[2]}<br>filename=%{customdata[3]}<br>right_predicted=%{customdata[4]}\", \"jitter\": 0.3, \"marker\": {\"color\": \"green\"}, \"name\": \"|label: frontyard - predicci\\u00f3n correcta|\", \"pointpos\": -1.8, \"type\": \"box\", \"xaxis\": \"x\", \"y\": [0.9999204874038696, 0.9999983310699463, 1.0, 1.0, 1.0, 0.9999972581863403, 0.9999998807907104, 1.0, 1.0, 0.9999874830245972, 0.9906322956085205, 0.9999896287918091, 0.9995224475860596, 0.999996542930603, 1.0, 1.0, 1.0, 0.9999767541885376, 1.0, 1.0, 0.9999796152114868, 0.9999997615814209, 0.9999967813491821, 0.98639315366745, 0.9997128844261169], \"yaxis\": \"y\"}, {\"boxmean\": true, \"boxpoints\": \"all\", \"customdata\": [], \"hovertemplate\": \"y_true=%{customdata[0]}<br>y_pred=%{customdata[1]}<br>y_pred_proba=%{customdata[2]}<br>filename=%{customdata[3]}<br>right_predicted=%{customdata[4]}\", \"jitter\": 0.3, \"marker\": {\"color\": \"red\"}, \"name\": \"|label: frontyard - predicci\\u00f3n incorrecta|\", \"pointpos\": -1.8, \"type\": \"box\", \"xaxis\": \"x\", \"y\": [], \"yaxis\": \"y\"}, {\"boxmean\": true, \"boxpoints\": \"all\", \"customdata\": [[\"kitchen\", \"kitchen\", 0.9992508292198181, \"00000316.jpg\", true], [\"kitchen\", \"kitchen\", 0.9780853986740112, \"00000494.jpg\", true], [\"kitchen\", \"kitchen\", 0.9999871253967285, \"00003030.jpg\", true], [\"kitchen\", \"kitchen\", 0.9782673120498657, \"00003167.jpg\", true], [\"kitchen\", \"kitchen\", 0.9699109196662903, \"00003774.jpg\", true], [\"kitchen\", \"kitchen\", 0.977077841758728, \"00004385.jpg\", true], [\"kitchen\", \"kitchen\", 0.9878221154212952, \"00004402.jpg\", true], [\"kitchen\", \"kitchen\", 0.9986554384231567, \"00004411.jpg\", true], [\"kitchen\", \"kitchen\", 0.9997010827064514, \"00004622.jpg\", true], [\"kitchen\", \"kitchen\", 0.9942712783813477, \"41903049.jpg\", true], [\"kitchen\", \"kitchen\", 0.9993439316749573, \"43121986.jpg\", true], [\"kitchen\", \"kitchen\", 0.986771285533905, \"48996081.jpg\", true], [\"kitchen\", \"kitchen\", 0.9986037611961365, \"gsun_0a5c6a8e880f721ccf500681741f8f06.jpg\", true], [\"kitchen\", \"kitchen\", 0.9960280656814575, \"gsun_bdd260f673ddea1614be04e77826f62a.jpg\", true], [\"kitchen\", \"kitchen\", 0.9999940395355225, \"gsun_d0596e69362e1ed8cce161cb79cd80a0.jpg\", true], [\"kitchen\", \"kitchen\", 0.9970811009407043, \"gsun_d17554e860fe591742c2ce791357a671.jpg\", true], [\"kitchen\", \"kitchen\", 0.9850483536720276, \"gsun_e357dbf7f82a2de005d8c3b5ef1ba69d.jpg\", true], [\"kitchen\", \"kitchen\", 0.9999990463256836, \"gsun_e8a69d1300eff4dd51e3c7a7f3f42da7.jpg\", true], [\"kitchen\", \"kitchen\", 0.9999537467956543, \"gsun_e8db166d55a16ab749cdd8d0bfc1145a.jpg\", true], [\"kitchen\", \"kitchen\", 0.9329362511634827, \"gsun_f0445d03107792d661eee314468f46d0.jpg\", true], [\"kitchen\", \"kitchen\", 0.9283658266067505, \"gsun_f787799e1ba5be0dc71a48dbb9c330db.jpg\", true], [\"kitchen\", \"kitchen\", 0.9999791383743286, \"gsun_ff1cb147e42b7bf2ab62e1ea5d5b3080.jpg\", true], [\"kitchen\", \"kitchen\", 0.9402497410774231, \"gsun_ff222a0c44b2c6465bc8eaa1bc74c0a5.jpg\", true], [\"kitchen\", \"kitchen\", 0.9999839067459106, \"gsun_ff390eefcf4918dc63b877eeb02fc7d3.jpg\", true]], \"hovertemplate\": \"y_true=%{customdata[0]}<br>y_pred=%{customdata[1]}<br>y_pred_proba=%{customdata[2]}<br>filename=%{customdata[3]}<br>right_predicted=%{customdata[4]}\", \"jitter\": 0.3, \"marker\": {\"color\": \"green\"}, \"name\": \"|label: kitchen - predicci\\u00f3n correcta|\", \"pointpos\": -1.8, \"type\": \"box\", \"xaxis\": \"x\", \"y\": [0.9992508292198181, 0.9780853986740112, 0.9999871253967285, 0.9782673120498657, 0.9699109196662903, 0.977077841758728, 0.9878221154212952, 0.9986554384231567, 0.9997010827064514, 0.9942712783813477, 0.9993439316749573, 0.986771285533905, 0.9986037611961365, 0.9960280656814575, 0.9999940395355225, 0.9970811009407043, 0.9850483536720276, 0.9999990463256836, 0.9999537467956543, 0.9329362511634827, 0.9283658266067505, 0.9999791383743286, 0.9402497410774231, 0.9999839067459106], \"yaxis\": \"y\"}, {\"boxmean\": true, \"boxpoints\": \"all\", \"customdata\": [[\"bathroom\", \"kitchen\", 0.6585433483123779, \"00001057.jpg\", false], [\"dining_room\", \"kitchen\", 0.922092080116272, \"00002422.jpg\", false]], \"hovertemplate\": \"y_true=%{customdata[0]}<br>y_pred=%{customdata[1]}<br>y_pred_proba=%{customdata[2]}<br>filename=%{customdata[3]}<br>right_predicted=%{customdata[4]}\", \"jitter\": 0.3, \"marker\": {\"color\": \"red\"}, \"name\": \"|label: kitchen - predicci\\u00f3n incorrecta|\", \"pointpos\": -1.8, \"type\": \"box\", \"xaxis\": \"x\", \"y\": [0.6585433483123779, 0.922092080116272], \"yaxis\": \"y\"}, {\"boxmean\": true, \"boxpoints\": \"all\", \"customdata\": [[\"livingRoom\", \"livingRoom\", 0.8700037002563477, \"00000100.jpg\", true], [\"livingRoom\", \"livingRoom\", 0.9899047017097473, \"00000155.jpg\", true], [\"livingRoom\", \"livingRoom\", 0.9717211127281189, \"00000580.jpg\", true], [\"livingRoom\", \"livingRoom\", 0.8812835812568665, \"00000621.jpg\", true], [\"livingRoom\", \"livingRoom\", 0.8553421497344971, \"31434025.jpg\", true], [\"livingRoom\", \"livingRoom\", 0.9618880152702332, \"41541703.jpg\", true], [\"livingRoom\", \"livingRoom\", 0.9373024702072144, \"47991206.jpg\", true], [\"livingRoom\", \"livingRoom\", 0.8035869598388672, \"55554347.jpg\", true], [\"livingRoom\", \"livingRoom\", 0.990747332572937, \"gsun_0ebc18c4cd8b6b52207613deff40d002.jpg\", true], [\"livingRoom\", \"livingRoom\", 0.999958872795105, \"gsun_0fea5f984f711b7208402786b9c32b5d.jpg\", true], [\"livingRoom\", \"livingRoom\", 0.7403123378753662, \"gsun_12633c2b7fd7802b7b532250e22d296e.jpg\", true], [\"livingRoom\", \"livingRoom\", 0.7630687952041626, \"gsun_1bdb22548de975b78c4657c8e39bf4da.jpg\", true], [\"livingRoom\", \"livingRoom\", 0.8819600939750671, \"gsun_1c8b627abba15eae357293b1b0de2655.jpg\", true], [\"livingRoom\", \"livingRoom\", 0.6548550128936768, \"gsun_1cc782a021199f296c618b792407a197.jpg\", true], [\"livingRoom\", \"livingRoom\", 0.949600100517273, \"gsun_1ff087de8ba7f152cbd6030cafcb627e.jpg\", true], [\"livingRoom\", \"livingRoom\", 0.8093470931053162, \"gsun_2daccfb415496c651efede69bd964ecb.jpg\", true], [\"livingRoom\", \"livingRoom\", 0.8916350603103638, \"gsun_2e1bb958c73173be22318a736a23a165.jpg\", true], [\"livingRoom\", \"livingRoom\", 0.8886220455169678, \"gsun_32771db87a919dc724e0fe778e46cc28.jpg\", true], [\"livingRoom\", \"livingRoom\", 0.57889324426651, \"gsun_3b596ca24a2045f2e8a176dbf94b03cf.jpg\", true], [\"livingRoom\", \"livingRoom\", 0.4683959484100342, \"gsun_3c6d543e0842ec253477432ad4604ed2.jpg\", true], [\"livingRoom\", \"livingRoom\", 0.7644133567810059, \"gsun_5aabdf5f2f711e993719102dc9753ec0.jpg\", true], [\"livingRoom\", \"livingRoom\", 0.9890767335891724, \"gsun_5cddbf0d660c2871dc3ed553189cfd47.jpg\", true], [\"livingRoom\", \"livingRoom\", 0.9655367136001587, \"gsun_64290f6d318ab90283f0f0d406e1b8a7.jpg\", true]], \"hovertemplate\": \"y_true=%{customdata[0]}<br>y_pred=%{customdata[1]}<br>y_pred_proba=%{customdata[2]}<br>filename=%{customdata[3]}<br>right_predicted=%{customdata[4]}\", \"jitter\": 0.3, \"marker\": {\"color\": \"green\"}, \"name\": \"|label: livingRoom - predicci\\u00f3n correcta|\", \"pointpos\": -1.8, \"type\": \"box\", \"xaxis\": \"x\", \"y\": [0.8700037002563477, 0.9899047017097473, 0.9717211127281189, 0.8812835812568665, 0.8553421497344971, 0.9618880152702332, 0.9373024702072144, 0.8035869598388672, 0.990747332572937, 0.999958872795105, 0.7403123378753662, 0.7630687952041626, 0.8819600939750671, 0.6548550128936768, 0.949600100517273, 0.8093470931053162, 0.8916350603103638, 0.8886220455169678, 0.57889324426651, 0.4683959484100342, 0.7644133567810059, 0.9890767335891724, 0.9655367136001587], \"yaxis\": \"y\"}, {\"boxmean\": true, \"boxpoints\": \"all\", \"customdata\": [[\"bedroom\", \"livingRoom\", 0.4189298152923584, \"00000361.jpg\", false], [\"bedroom\", \"livingRoom\", 0.5040424466133118, \"11084870.jpg\", false], [\"bedroom\", \"livingRoom\", 0.8469723463058472, \"11867892.jpg\", false]], \"hovertemplate\": \"y_true=%{customdata[0]}<br>y_pred=%{customdata[1]}<br>y_pred_proba=%{customdata[2]}<br>filename=%{customdata[3]}<br>right_predicted=%{customdata[4]}\", \"jitter\": 0.3, \"marker\": {\"color\": \"red\"}, \"name\": \"|label: livingRoom - predicci\\u00f3n incorrecta|\", \"pointpos\": -1.8, \"type\": \"box\", \"xaxis\": \"x\", \"y\": [0.4189298152923584, 0.5040424466133118, 0.8469723463058472], \"yaxis\": \"y\"}],\n",
       "                        {\"annotations\": [{\"font\": {\"size\": 16}, \"showarrow\": false, \"text\": \"Modelo del experimento 2 (subconjunto) - y_pred_proba\", \"x\": 0.5, \"xanchor\": \"center\", \"xref\": \"paper\", \"y\": 1.0, \"yanchor\": \"bottom\", \"yref\": \"paper\"}], \"margin\": {\"b\": 80, \"l\": 40, \"r\": 30, \"t\": 100}, \"showlegend\": false, \"template\": {\"data\": {\"bar\": [{\"error_x\": {\"color\": \"#2a3f5f\"}, \"error_y\": {\"color\": \"#2a3f5f\"}, \"marker\": {\"line\": {\"color\": \"#E5ECF6\", \"width\": 0.5}}, \"type\": \"bar\"}], \"barpolar\": [{\"marker\": {\"line\": {\"color\": \"#E5ECF6\", \"width\": 0.5}}, \"type\": \"barpolar\"}], \"carpet\": [{\"aaxis\": {\"endlinecolor\": \"#2a3f5f\", \"gridcolor\": \"white\", \"linecolor\": \"white\", \"minorgridcolor\": \"white\", \"startlinecolor\": \"#2a3f5f\"}, \"baxis\": {\"endlinecolor\": \"#2a3f5f\", \"gridcolor\": \"white\", \"linecolor\": \"white\", \"minorgridcolor\": \"white\", \"startlinecolor\": \"#2a3f5f\"}, \"type\": \"carpet\"}], \"choropleth\": [{\"colorbar\": {\"outlinewidth\": 0, \"ticks\": \"\"}, \"type\": \"choropleth\"}], \"contour\": [{\"colorbar\": {\"outlinewidth\": 0, \"ticks\": \"\"}, \"colorscale\": [[0.0, \"#0d0887\"], [0.1111111111111111, \"#46039f\"], [0.2222222222222222, \"#7201a8\"], [0.3333333333333333, \"#9c179e\"], [0.4444444444444444, \"#bd3786\"], [0.5555555555555556, \"#d8576b\"], [0.6666666666666666, \"#ed7953\"], [0.7777777777777778, \"#fb9f3a\"], [0.8888888888888888, \"#fdca26\"], [1.0, \"#f0f921\"]], \"type\": \"contour\"}], \"contourcarpet\": [{\"colorbar\": {\"outlinewidth\": 0, \"ticks\": \"\"}, \"type\": \"contourcarpet\"}], \"heatmap\": [{\"colorbar\": {\"outlinewidth\": 0, \"ticks\": \"\"}, \"colorscale\": [[0.0, \"#0d0887\"], [0.1111111111111111, \"#46039f\"], [0.2222222222222222, \"#7201a8\"], [0.3333333333333333, \"#9c179e\"], [0.4444444444444444, \"#bd3786\"], [0.5555555555555556, \"#d8576b\"], [0.6666666666666666, \"#ed7953\"], [0.7777777777777778, \"#fb9f3a\"], [0.8888888888888888, \"#fdca26\"], [1.0, \"#f0f921\"]], \"type\": \"heatmap\"}], \"heatmapgl\": [{\"colorbar\": {\"outlinewidth\": 0, \"ticks\": \"\"}, \"colorscale\": [[0.0, \"#0d0887\"], [0.1111111111111111, \"#46039f\"], [0.2222222222222222, \"#7201a8\"], [0.3333333333333333, \"#9c179e\"], [0.4444444444444444, \"#bd3786\"], [0.5555555555555556, \"#d8576b\"], [0.6666666666666666, \"#ed7953\"], [0.7777777777777778, \"#fb9f3a\"], [0.8888888888888888, \"#fdca26\"], [1.0, \"#f0f921\"]], \"type\": \"heatmapgl\"}], \"histogram\": [{\"marker\": {\"colorbar\": {\"outlinewidth\": 0, \"ticks\": \"\"}}, \"type\": \"histogram\"}], \"histogram2d\": [{\"colorbar\": {\"outlinewidth\": 0, \"ticks\": \"\"}, \"colorscale\": [[0.0, \"#0d0887\"], [0.1111111111111111, \"#46039f\"], [0.2222222222222222, \"#7201a8\"], [0.3333333333333333, \"#9c179e\"], [0.4444444444444444, \"#bd3786\"], [0.5555555555555556, \"#d8576b\"], [0.6666666666666666, \"#ed7953\"], [0.7777777777777778, \"#fb9f3a\"], [0.8888888888888888, \"#fdca26\"], [1.0, \"#f0f921\"]], \"type\": \"histogram2d\"}], \"histogram2dcontour\": [{\"colorbar\": {\"outlinewidth\": 0, \"ticks\": \"\"}, \"colorscale\": [[0.0, \"#0d0887\"], [0.1111111111111111, \"#46039f\"], [0.2222222222222222, \"#7201a8\"], [0.3333333333333333, \"#9c179e\"], [0.4444444444444444, \"#bd3786\"], [0.5555555555555556, \"#d8576b\"], [0.6666666666666666, \"#ed7953\"], [0.7777777777777778, \"#fb9f3a\"], [0.8888888888888888, \"#fdca26\"], [1.0, \"#f0f921\"]], \"type\": \"histogram2dcontour\"}], \"mesh3d\": [{\"colorbar\": {\"outlinewidth\": 0, \"ticks\": \"\"}, \"type\": \"mesh3d\"}], \"parcoords\": [{\"line\": {\"colorbar\": {\"outlinewidth\": 0, \"ticks\": \"\"}}, \"type\": \"parcoords\"}], \"pie\": [{\"automargin\": true, \"type\": \"pie\"}], \"scatter\": [{\"marker\": {\"colorbar\": {\"outlinewidth\": 0, \"ticks\": \"\"}}, \"type\": \"scatter\"}], \"scatter3d\": [{\"line\": {\"colorbar\": {\"outlinewidth\": 0, \"ticks\": \"\"}}, \"marker\": {\"colorbar\": {\"outlinewidth\": 0, \"ticks\": \"\"}}, \"type\": \"scatter3d\"}], \"scattercarpet\": [{\"marker\": {\"colorbar\": {\"outlinewidth\": 0, \"ticks\": \"\"}}, \"type\": \"scattercarpet\"}], \"scattergeo\": [{\"marker\": {\"colorbar\": {\"outlinewidth\": 0, \"ticks\": \"\"}}, \"type\": \"scattergeo\"}], \"scattergl\": [{\"marker\": {\"colorbar\": {\"outlinewidth\": 0, \"ticks\": \"\"}}, \"type\": \"scattergl\"}], \"scattermapbox\": [{\"marker\": {\"colorbar\": {\"outlinewidth\": 0, \"ticks\": \"\"}}, \"type\": \"scattermapbox\"}], \"scatterpolar\": [{\"marker\": {\"colorbar\": {\"outlinewidth\": 0, \"ticks\": \"\"}}, \"type\": \"scatterpolar\"}], \"scatterpolargl\": [{\"marker\": {\"colorbar\": {\"outlinewidth\": 0, \"ticks\": \"\"}}, \"type\": \"scatterpolargl\"}], \"scatterternary\": [{\"marker\": {\"colorbar\": {\"outlinewidth\": 0, \"ticks\": \"\"}}, \"type\": \"scatterternary\"}], \"surface\": [{\"colorbar\": {\"outlinewidth\": 0, \"ticks\": \"\"}, \"colorscale\": [[0.0, \"#0d0887\"], [0.1111111111111111, \"#46039f\"], [0.2222222222222222, \"#7201a8\"], [0.3333333333333333, \"#9c179e\"], [0.4444444444444444, \"#bd3786\"], [0.5555555555555556, \"#d8576b\"], [0.6666666666666666, \"#ed7953\"], [0.7777777777777778, \"#fb9f3a\"], [0.8888888888888888, \"#fdca26\"], [1.0, \"#f0f921\"]], \"type\": \"surface\"}], \"table\": [{\"cells\": {\"fill\": {\"color\": \"#EBF0F8\"}, \"line\": {\"color\": \"white\"}}, \"header\": {\"fill\": {\"color\": \"#C8D4E3\"}, \"line\": {\"color\": \"white\"}}, \"type\": \"table\"}]}, \"layout\": {\"annotationdefaults\": {\"arrowcolor\": \"#2a3f5f\", \"arrowhead\": 0, \"arrowwidth\": 1}, \"coloraxis\": {\"colorbar\": {\"outlinewidth\": 0, \"ticks\": \"\"}}, \"colorscale\": {\"diverging\": [[0, \"#8e0152\"], [0.1, \"#c51b7d\"], [0.2, \"#de77ae\"], [0.3, \"#f1b6da\"], [0.4, \"#fde0ef\"], [0.5, \"#f7f7f7\"], [0.6, \"#e6f5d0\"], [0.7, \"#b8e186\"], [0.8, \"#7fbc41\"], [0.9, \"#4d9221\"], [1, \"#276419\"]], \"sequential\": [[0.0, \"#0d0887\"], [0.1111111111111111, \"#46039f\"], [0.2222222222222222, \"#7201a8\"], [0.3333333333333333, \"#9c179e\"], [0.4444444444444444, \"#bd3786\"], [0.5555555555555556, \"#d8576b\"], [0.6666666666666666, \"#ed7953\"], [0.7777777777777778, \"#fb9f3a\"], [0.8888888888888888, \"#fdca26\"], [1.0, \"#f0f921\"]], \"sequentialminus\": [[0.0, \"#0d0887\"], [0.1111111111111111, \"#46039f\"], [0.2222222222222222, \"#7201a8\"], [0.3333333333333333, \"#9c179e\"], [0.4444444444444444, \"#bd3786\"], [0.5555555555555556, \"#d8576b\"], [0.6666666666666666, \"#ed7953\"], [0.7777777777777778, \"#fb9f3a\"], [0.8888888888888888, \"#fdca26\"], [1.0, \"#f0f921\"]]}, \"colorway\": [\"#636efa\", \"#EF553B\", \"#00cc96\", \"#ab63fa\", \"#FFA15A\", \"#19d3f3\", \"#FF6692\", \"#B6E880\", \"#FF97FF\", \"#FECB52\"], \"font\": {\"color\": \"#2a3f5f\"}, \"geo\": {\"bgcolor\": \"white\", \"lakecolor\": \"white\", \"landcolor\": \"#E5ECF6\", \"showlakes\": true, \"showland\": true, \"subunitcolor\": \"white\"}, \"hoverlabel\": {\"align\": \"left\"}, \"hovermode\": \"closest\", \"mapbox\": {\"style\": \"light\"}, \"paper_bgcolor\": \"white\", \"plot_bgcolor\": \"#E5ECF6\", \"polar\": {\"angularaxis\": {\"gridcolor\": \"white\", \"linecolor\": \"white\", \"ticks\": \"\"}, \"bgcolor\": \"#E5ECF6\", \"radialaxis\": {\"gridcolor\": \"white\", \"linecolor\": \"white\", \"ticks\": \"\"}}, \"scene\": {\"xaxis\": {\"backgroundcolor\": \"#E5ECF6\", \"gridcolor\": \"white\", \"gridwidth\": 2, \"linecolor\": \"white\", \"showbackground\": true, \"ticks\": \"\", \"zerolinecolor\": \"white\"}, \"yaxis\": {\"backgroundcolor\": \"#E5ECF6\", \"gridcolor\": \"white\", \"gridwidth\": 2, \"linecolor\": \"white\", \"showbackground\": true, \"ticks\": \"\", \"zerolinecolor\": \"white\"}, \"zaxis\": {\"backgroundcolor\": \"#E5ECF6\", \"gridcolor\": \"white\", \"gridwidth\": 2, \"linecolor\": \"white\", \"showbackground\": true, \"ticks\": \"\", \"zerolinecolor\": \"white\"}}, \"shapedefaults\": {\"line\": {\"color\": \"#2a3f5f\"}}, \"ternary\": {\"aaxis\": {\"gridcolor\": \"white\", \"linecolor\": \"white\", \"ticks\": \"\"}, \"baxis\": {\"gridcolor\": \"white\", \"linecolor\": \"white\", \"ticks\": \"\"}, \"bgcolor\": \"#E5ECF6\", \"caxis\": {\"gridcolor\": \"white\", \"linecolor\": \"white\", \"ticks\": \"\"}}, \"title\": {\"x\": 0.05}, \"xaxis\": {\"automargin\": true, \"gridcolor\": \"white\", \"linecolor\": \"white\", \"ticks\": \"\", \"title\": {\"standoff\": 15}, \"zerolinecolor\": \"white\", \"zerolinewidth\": 2}, \"yaxis\": {\"automargin\": true, \"gridcolor\": \"white\", \"linecolor\": \"white\", \"ticks\": \"\", \"title\": {\"standoff\": 15}, \"zerolinecolor\": \"white\", \"zerolinewidth\": 2}}}, \"title\": {\"text\": \"Distribuci\\u00f3n de probabilidades asignadas a la categor\\u00eda elegida para casos predichos correcta e incorrectamente\"}, \"xaxis\": {\"anchor\": \"y\", \"domain\": [0.0, 1.0], \"title\": {\"text\": \"y_true\"}}, \"yaxis\": {\"anchor\": \"x\", \"autorange\": true, \"domain\": [0.0, 1.0], \"gridcolor\": \"rgb(255, 255, 255)\", \"gridwidth\": 1, \"showgrid\": true, \"title\": {\"text\": \"y_pred_proba\"}, \"zeroline\": true, \"zerolinecolor\": \"rgb(255, 255, 255)\", \"zerolinewidth\": 2}},\n",
       "                        {\"responsive\": true}\n",
       "                    ).then(function(){\n",
       "                            \n",
       "var gd = document.getElementById('0384a0b7-182e-44a0-989f-f4ea5c4d4567');\n",
       "var x = new MutationObserver(function (mutations, observer) {{\n",
       "        var display = window.getComputedStyle(gd).display;\n",
       "        if (!display || display === 'none') {{\n",
       "            console.log([gd, 'removed!']);\n",
       "            Plotly.purge(gd);\n",
       "            observer.disconnect();\n",
       "        }}\n",
       "}});\n",
       "\n",
       "// Listen for the removal of the full notebook cells\n",
       "var notebookContainer = gd.closest('#notebook-container');\n",
       "if (notebookContainer) {{\n",
       "    x.observe(notebookContainer, {childList: true});\n",
       "}}\n",
       "\n",
       "// Listen for the clearing of the current output cell\n",
       "var outputEl = gd.closest('.output');\n",
       "if (outputEl) {{\n",
       "    x.observe(outputEl, {childList: true});\n",
       "}}\n",
       "\n",
       "                        })\n",
       "                };\n",
       "                });\n",
       "            </script>\n",
       "        </div>"
      ]
     },
     "metadata": {},
     "output_type": "display_data"
    },
    {
     "name": "stdout",
     "output_type": "stream",
     "text": [
      "\n",
      "\n",
      "\n",
      "\n",
      "Found 150 images belonging to 6 classes.\n",
      "Found 114355 images belonging to 6 classes.\n",
      "model best weights file >> weights.33-1.03.hdf5\n",
      "Evaluating generator with 150 images\n",
      "Scores: [0.7146287262439728, 0.7866667]\n",
      "\n",
      "Found 6305 images belonging to 6 classes.\n",
      "2.0\n",
      "\\begin{tabular}{lrrrrr}\n",
      "\\toprule\n",
      "      y\\_true & \\multicolumn{5}{l}{y\\_pred\\_proba} \\\\\n",
      "             &         mean & median &   std &   min &   max \\\\\n",
      "\\midrule\n",
      "    bathroom &         0.54 &   0.51 &  0.20 &  0.35 &  0.77 \\\\\n",
      "     bedroom &         0.51 &   0.48 &  0.18 &  0.28 &  0.89 \\\\\n",
      " dining\\_room &         0.50 &   0.45 &  0.17 &  0.33 &  0.78 \\\\\n",
      "   frontyard &         0.51 &   0.51 &   NaN &  0.51 &  0.51 \\\\\n",
      "     kitchen &         0.65 &   0.61 &  0.24 &  0.42 &  0.89 \\\\\n",
      "  livingRoom &         0.56 &   0.55 &  0.10 &  0.43 &  0.70 \\\\\n",
      "\\bottomrule\n",
      "\\end{tabular}\n",
      "\n",
      "\\begin{tabular}{lrr}\n",
      "\\toprule\n",
      "      y\\_true &  0 &      pct \\\\\n",
      "\\midrule\n",
      "   frontyard &  1 &  0.03125 \\\\\n",
      "    bathroom &  4 &  0.12500 \\\\\n",
      " dining\\_room &  5 &  0.15625 \\\\\n",
      "     kitchen &  5 &  0.15625 \\\\\n",
      "     bedroom &  8 &  0.25000 \\\\\n",
      "  livingRoom &  9 &  0.28125 \\\\\n",
      "\\bottomrule\n",
      "\\end{tabular}\n",
      "\n",
      "['sandybrown' 'slategrey' 'orangered']\n"
     ]
    },
    {
     "data": {
      "application/vnd.plotly.v1+json": {
       "config": {
        "plotlyServerURL": "https://plot.ly"
       },
       "data": [
        {
         "line": {
          "color": "sandybrown",
          "width": 2.5
         },
         "name": "Cantidad de casos que se predicen",
         "opacity": 1,
         "showlegend": true,
         "type": "scatter",
         "x": [
          0,
          0.05,
          0.1,
          0.15000000000000002,
          0.2,
          0.25,
          0.30000000000000004,
          0.35000000000000003,
          0.4,
          0.45,
          0.5,
          0.55,
          0.6000000000000001,
          0.65,
          0.7000000000000001,
          0.75,
          0.8,
          0.8500000000000001,
          0.9,
          0.9500000000000001
         ],
         "y": [
          150,
          150,
          150,
          150,
          150,
          150,
          149,
          146,
          144,
          137,
          130,
          124,
          117,
          110,
          105,
          98,
          95,
          91,
          77,
          66
         ]
        },
        {
         "line": {
          "color": "slategrey",
          "width": 2.5
         },
         "name": "Exactitud categórica",
         "opacity": 1,
         "showlegend": true,
         "type": "scatter",
         "x": [
          0,
          0.05,
          0.1,
          0.15000000000000002,
          0.2,
          0.25,
          0.30000000000000004,
          0.35000000000000003,
          0.4,
          0.45,
          0.5,
          0.55,
          0.6000000000000001,
          0.65,
          0.7000000000000001,
          0.75,
          0.8,
          0.8500000000000001,
          0.9,
          0.9500000000000001
         ],
         "xaxis": "x",
         "y": [
          0.7866666666666666,
          0.7866666666666666,
          0.7866666666666666,
          0.7866666666666666,
          0.7866666666666666,
          0.7866666666666666,
          0.7919463087248322,
          0.8013698630136986,
          0.8125,
          0.8467153284671532,
          0.8769230769230769,
          0.8951612903225806,
          0.9145299145299145,
          0.9363636363636364,
          0.9428571428571428,
          0.9489795918367347,
          0.968421052631579,
          0.967032967032967,
          1,
          1
         ],
         "yaxis": "y2"
        },
        {
         "line": {
          "color": "orangered",
          "width": 2.5
         },
         "name": "Porcentaje sobre el total de errores",
         "opacity": 1,
         "showlegend": true,
         "type": "scatter",
         "x": [
          0,
          0.05,
          0.1,
          0.15000000000000002,
          0.2,
          0.25,
          0.30000000000000004,
          0.35000000000000003,
          0.4,
          0.45,
          0.5,
          0.55,
          0.6000000000000001,
          0.65,
          0.7000000000000001,
          0.75,
          0.8,
          0.8500000000000001,
          0.9,
          0.9500000000000001
         ],
         "xaxis": "x",
         "y": [
          1,
          1,
          1,
          1,
          1,
          1,
          0.96875,
          0.90625,
          0.84375,
          0.65625,
          0.5,
          0.40625,
          0.3125,
          0.21875,
          0.1875,
          0.15625,
          0.09375,
          0.09375,
          0,
          0
         ],
         "yaxis": "y2"
        }
       ],
       "layout": {
        "template": {
         "data": {
          "bar": [
           {
            "error_x": {
             "color": "#2a3f5f"
            },
            "error_y": {
             "color": "#2a3f5f"
            },
            "marker": {
             "line": {
              "color": "#E5ECF6",
              "width": 0.5
             }
            },
            "type": "bar"
           }
          ],
          "barpolar": [
           {
            "marker": {
             "line": {
              "color": "#E5ECF6",
              "width": 0.5
             }
            },
            "type": "barpolar"
           }
          ],
          "carpet": [
           {
            "aaxis": {
             "endlinecolor": "#2a3f5f",
             "gridcolor": "white",
             "linecolor": "white",
             "minorgridcolor": "white",
             "startlinecolor": "#2a3f5f"
            },
            "baxis": {
             "endlinecolor": "#2a3f5f",
             "gridcolor": "white",
             "linecolor": "white",
             "minorgridcolor": "white",
             "startlinecolor": "#2a3f5f"
            },
            "type": "carpet"
           }
          ],
          "choropleth": [
           {
            "colorbar": {
             "outlinewidth": 0,
             "ticks": ""
            },
            "type": "choropleth"
           }
          ],
          "contour": [
           {
            "colorbar": {
             "outlinewidth": 0,
             "ticks": ""
            },
            "colorscale": [
             [
              0,
              "#0d0887"
             ],
             [
              0.1111111111111111,
              "#46039f"
             ],
             [
              0.2222222222222222,
              "#7201a8"
             ],
             [
              0.3333333333333333,
              "#9c179e"
             ],
             [
              0.4444444444444444,
              "#bd3786"
             ],
             [
              0.5555555555555556,
              "#d8576b"
             ],
             [
              0.6666666666666666,
              "#ed7953"
             ],
             [
              0.7777777777777778,
              "#fb9f3a"
             ],
             [
              0.8888888888888888,
              "#fdca26"
             ],
             [
              1,
              "#f0f921"
             ]
            ],
            "type": "contour"
           }
          ],
          "contourcarpet": [
           {
            "colorbar": {
             "outlinewidth": 0,
             "ticks": ""
            },
            "type": "contourcarpet"
           }
          ],
          "heatmap": [
           {
            "colorbar": {
             "outlinewidth": 0,
             "ticks": ""
            },
            "colorscale": [
             [
              0,
              "#0d0887"
             ],
             [
              0.1111111111111111,
              "#46039f"
             ],
             [
              0.2222222222222222,
              "#7201a8"
             ],
             [
              0.3333333333333333,
              "#9c179e"
             ],
             [
              0.4444444444444444,
              "#bd3786"
             ],
             [
              0.5555555555555556,
              "#d8576b"
             ],
             [
              0.6666666666666666,
              "#ed7953"
             ],
             [
              0.7777777777777778,
              "#fb9f3a"
             ],
             [
              0.8888888888888888,
              "#fdca26"
             ],
             [
              1,
              "#f0f921"
             ]
            ],
            "type": "heatmap"
           }
          ],
          "heatmapgl": [
           {
            "colorbar": {
             "outlinewidth": 0,
             "ticks": ""
            },
            "colorscale": [
             [
              0,
              "#0d0887"
             ],
             [
              0.1111111111111111,
              "#46039f"
             ],
             [
              0.2222222222222222,
              "#7201a8"
             ],
             [
              0.3333333333333333,
              "#9c179e"
             ],
             [
              0.4444444444444444,
              "#bd3786"
             ],
             [
              0.5555555555555556,
              "#d8576b"
             ],
             [
              0.6666666666666666,
              "#ed7953"
             ],
             [
              0.7777777777777778,
              "#fb9f3a"
             ],
             [
              0.8888888888888888,
              "#fdca26"
             ],
             [
              1,
              "#f0f921"
             ]
            ],
            "type": "heatmapgl"
           }
          ],
          "histogram": [
           {
            "marker": {
             "colorbar": {
              "outlinewidth": 0,
              "ticks": ""
             }
            },
            "type": "histogram"
           }
          ],
          "histogram2d": [
           {
            "colorbar": {
             "outlinewidth": 0,
             "ticks": ""
            },
            "colorscale": [
             [
              0,
              "#0d0887"
             ],
             [
              0.1111111111111111,
              "#46039f"
             ],
             [
              0.2222222222222222,
              "#7201a8"
             ],
             [
              0.3333333333333333,
              "#9c179e"
             ],
             [
              0.4444444444444444,
              "#bd3786"
             ],
             [
              0.5555555555555556,
              "#d8576b"
             ],
             [
              0.6666666666666666,
              "#ed7953"
             ],
             [
              0.7777777777777778,
              "#fb9f3a"
             ],
             [
              0.8888888888888888,
              "#fdca26"
             ],
             [
              1,
              "#f0f921"
             ]
            ],
            "type": "histogram2d"
           }
          ],
          "histogram2dcontour": [
           {
            "colorbar": {
             "outlinewidth": 0,
             "ticks": ""
            },
            "colorscale": [
             [
              0,
              "#0d0887"
             ],
             [
              0.1111111111111111,
              "#46039f"
             ],
             [
              0.2222222222222222,
              "#7201a8"
             ],
             [
              0.3333333333333333,
              "#9c179e"
             ],
             [
              0.4444444444444444,
              "#bd3786"
             ],
             [
              0.5555555555555556,
              "#d8576b"
             ],
             [
              0.6666666666666666,
              "#ed7953"
             ],
             [
              0.7777777777777778,
              "#fb9f3a"
             ],
             [
              0.8888888888888888,
              "#fdca26"
             ],
             [
              1,
              "#f0f921"
             ]
            ],
            "type": "histogram2dcontour"
           }
          ],
          "mesh3d": [
           {
            "colorbar": {
             "outlinewidth": 0,
             "ticks": ""
            },
            "type": "mesh3d"
           }
          ],
          "parcoords": [
           {
            "line": {
             "colorbar": {
              "outlinewidth": 0,
              "ticks": ""
             }
            },
            "type": "parcoords"
           }
          ],
          "pie": [
           {
            "automargin": true,
            "type": "pie"
           }
          ],
          "scatter": [
           {
            "marker": {
             "colorbar": {
              "outlinewidth": 0,
              "ticks": ""
             }
            },
            "type": "scatter"
           }
          ],
          "scatter3d": [
           {
            "line": {
             "colorbar": {
              "outlinewidth": 0,
              "ticks": ""
             }
            },
            "marker": {
             "colorbar": {
              "outlinewidth": 0,
              "ticks": ""
             }
            },
            "type": "scatter3d"
           }
          ],
          "scattercarpet": [
           {
            "marker": {
             "colorbar": {
              "outlinewidth": 0,
              "ticks": ""
             }
            },
            "type": "scattercarpet"
           }
          ],
          "scattergeo": [
           {
            "marker": {
             "colorbar": {
              "outlinewidth": 0,
              "ticks": ""
             }
            },
            "type": "scattergeo"
           }
          ],
          "scattergl": [
           {
            "marker": {
             "colorbar": {
              "outlinewidth": 0,
              "ticks": ""
             }
            },
            "type": "scattergl"
           }
          ],
          "scattermapbox": [
           {
            "marker": {
             "colorbar": {
              "outlinewidth": 0,
              "ticks": ""
             }
            },
            "type": "scattermapbox"
           }
          ],
          "scatterpolar": [
           {
            "marker": {
             "colorbar": {
              "outlinewidth": 0,
              "ticks": ""
             }
            },
            "type": "scatterpolar"
           }
          ],
          "scatterpolargl": [
           {
            "marker": {
             "colorbar": {
              "outlinewidth": 0,
              "ticks": ""
             }
            },
            "type": "scatterpolargl"
           }
          ],
          "scatterternary": [
           {
            "marker": {
             "colorbar": {
              "outlinewidth": 0,
              "ticks": ""
             }
            },
            "type": "scatterternary"
           }
          ],
          "surface": [
           {
            "colorbar": {
             "outlinewidth": 0,
             "ticks": ""
            },
            "colorscale": [
             [
              0,
              "#0d0887"
             ],
             [
              0.1111111111111111,
              "#46039f"
             ],
             [
              0.2222222222222222,
              "#7201a8"
             ],
             [
              0.3333333333333333,
              "#9c179e"
             ],
             [
              0.4444444444444444,
              "#bd3786"
             ],
             [
              0.5555555555555556,
              "#d8576b"
             ],
             [
              0.6666666666666666,
              "#ed7953"
             ],
             [
              0.7777777777777778,
              "#fb9f3a"
             ],
             [
              0.8888888888888888,
              "#fdca26"
             ],
             [
              1,
              "#f0f921"
             ]
            ],
            "type": "surface"
           }
          ],
          "table": [
           {
            "cells": {
             "fill": {
              "color": "#EBF0F8"
             },
             "line": {
              "color": "white"
             }
            },
            "header": {
             "fill": {
              "color": "#C8D4E3"
             },
             "line": {
              "color": "white"
             }
            },
            "type": "table"
           }
          ]
         },
         "layout": {
          "annotationdefaults": {
           "arrowcolor": "#2a3f5f",
           "arrowhead": 0,
           "arrowwidth": 1
          },
          "coloraxis": {
           "colorbar": {
            "outlinewidth": 0,
            "ticks": ""
           }
          },
          "colorscale": {
           "diverging": [
            [
             0,
             "#8e0152"
            ],
            [
             0.1,
             "#c51b7d"
            ],
            [
             0.2,
             "#de77ae"
            ],
            [
             0.3,
             "#f1b6da"
            ],
            [
             0.4,
             "#fde0ef"
            ],
            [
             0.5,
             "#f7f7f7"
            ],
            [
             0.6,
             "#e6f5d0"
            ],
            [
             0.7,
             "#b8e186"
            ],
            [
             0.8,
             "#7fbc41"
            ],
            [
             0.9,
             "#4d9221"
            ],
            [
             1,
             "#276419"
            ]
           ],
           "sequential": [
            [
             0,
             "#0d0887"
            ],
            [
             0.1111111111111111,
             "#46039f"
            ],
            [
             0.2222222222222222,
             "#7201a8"
            ],
            [
             0.3333333333333333,
             "#9c179e"
            ],
            [
             0.4444444444444444,
             "#bd3786"
            ],
            [
             0.5555555555555556,
             "#d8576b"
            ],
            [
             0.6666666666666666,
             "#ed7953"
            ],
            [
             0.7777777777777778,
             "#fb9f3a"
            ],
            [
             0.8888888888888888,
             "#fdca26"
            ],
            [
             1,
             "#f0f921"
            ]
           ],
           "sequentialminus": [
            [
             0,
             "#0d0887"
            ],
            [
             0.1111111111111111,
             "#46039f"
            ],
            [
             0.2222222222222222,
             "#7201a8"
            ],
            [
             0.3333333333333333,
             "#9c179e"
            ],
            [
             0.4444444444444444,
             "#bd3786"
            ],
            [
             0.5555555555555556,
             "#d8576b"
            ],
            [
             0.6666666666666666,
             "#ed7953"
            ],
            [
             0.7777777777777778,
             "#fb9f3a"
            ],
            [
             0.8888888888888888,
             "#fdca26"
            ],
            [
             1,
             "#f0f921"
            ]
           ]
          },
          "colorway": [
           "#636efa",
           "#EF553B",
           "#00cc96",
           "#ab63fa",
           "#FFA15A",
           "#19d3f3",
           "#FF6692",
           "#B6E880",
           "#FF97FF",
           "#FECB52"
          ],
          "font": {
           "color": "#2a3f5f"
          },
          "geo": {
           "bgcolor": "white",
           "lakecolor": "white",
           "landcolor": "#E5ECF6",
           "showlakes": true,
           "showland": true,
           "subunitcolor": "white"
          },
          "hoverlabel": {
           "align": "left"
          },
          "hovermode": "closest",
          "mapbox": {
           "style": "light"
          },
          "paper_bgcolor": "white",
          "plot_bgcolor": "#E5ECF6",
          "polar": {
           "angularaxis": {
            "gridcolor": "white",
            "linecolor": "white",
            "ticks": ""
           },
           "bgcolor": "#E5ECF6",
           "radialaxis": {
            "gridcolor": "white",
            "linecolor": "white",
            "ticks": ""
           }
          },
          "scene": {
           "xaxis": {
            "backgroundcolor": "#E5ECF6",
            "gridcolor": "white",
            "gridwidth": 2,
            "linecolor": "white",
            "showbackground": true,
            "ticks": "",
            "zerolinecolor": "white"
           },
           "yaxis": {
            "backgroundcolor": "#E5ECF6",
            "gridcolor": "white",
            "gridwidth": 2,
            "linecolor": "white",
            "showbackground": true,
            "ticks": "",
            "zerolinecolor": "white"
           },
           "zaxis": {
            "backgroundcolor": "#E5ECF6",
            "gridcolor": "white",
            "gridwidth": 2,
            "linecolor": "white",
            "showbackground": true,
            "ticks": "",
            "zerolinecolor": "white"
           }
          },
          "shapedefaults": {
           "line": {
            "color": "#2a3f5f"
           }
          },
          "ternary": {
           "aaxis": {
            "gridcolor": "white",
            "linecolor": "white",
            "ticks": ""
           },
           "baxis": {
            "gridcolor": "white",
            "linecolor": "white",
            "ticks": ""
           },
           "bgcolor": "#E5ECF6",
           "caxis": {
            "gridcolor": "white",
            "linecolor": "white",
            "ticks": ""
           }
          },
          "title": {
           "x": 0.05
          },
          "xaxis": {
           "automargin": true,
           "gridcolor": "white",
           "linecolor": "white",
           "ticks": "",
           "title": {
            "standoff": 15
           },
           "zerolinecolor": "white",
           "zerolinewidth": 2
          },
          "yaxis": {
           "automargin": true,
           "gridcolor": "white",
           "linecolor": "white",
           "ticks": "",
           "title": {
            "standoff": 15
           },
           "zerolinecolor": "white",
           "zerolinewidth": 2
          }
         }
        },
        "title": {
         "text": "Cantidad de casos, porcentaje de errores y exactitud categórica por umbral - modelo del exp. 6 (subconjunto)"
        },
        "xaxis": {
         "anchor": "y",
         "domain": [
          0,
          0.94
         ],
         "title": {
          "text": "Umbral"
         }
        },
        "yaxis": {
         "anchor": "x",
         "domain": [
          0,
          1
         ],
         "title": {
          "text": "Cantidad de casos que se predicen"
         }
        },
        "yaxis2": {
         "anchor": "x",
         "overlaying": "y",
         "side": "right",
         "title": {
          "text": "Porcentaje"
         }
        }
       }
      },
      "text/html": [
       "<div>\n",
       "        \n",
       "        \n",
       "            <div id=\"7354dcd8-c16d-48b8-a3b4-4d2f99d6e403\" class=\"plotly-graph-div\" style=\"height:525px; width:100%;\"></div>\n",
       "            <script type=\"text/javascript\">\n",
       "                require([\"plotly\"], function(Plotly) {\n",
       "                    window.PLOTLYENV=window.PLOTLYENV || {};\n",
       "                    \n",
       "                if (document.getElementById(\"7354dcd8-c16d-48b8-a3b4-4d2f99d6e403\")) {\n",
       "                    Plotly.newPlot(\n",
       "                        '7354dcd8-c16d-48b8-a3b4-4d2f99d6e403',\n",
       "                        [{\"line\": {\"color\": \"sandybrown\", \"width\": 2.5}, \"name\": \"Cantidad de casos que se predicen\", \"opacity\": 1, \"showlegend\": true, \"type\": \"scatter\", \"x\": [0.0, 0.05, 0.1, 0.15000000000000002, 0.2, 0.25, 0.30000000000000004, 0.35000000000000003, 0.4, 0.45, 0.5, 0.55, 0.6000000000000001, 0.65, 0.7000000000000001, 0.75, 0.8, 0.8500000000000001, 0.9, 0.9500000000000001], \"y\": [150, 150, 150, 150, 150, 150, 149, 146, 144, 137, 130, 124, 117, 110, 105, 98, 95, 91, 77, 66]}, {\"line\": {\"color\": \"slategrey\", \"width\": 2.5}, \"name\": \"Exactitud categ\\u00f3rica\", \"opacity\": 1, \"showlegend\": true, \"type\": \"scatter\", \"x\": [0.0, 0.05, 0.1, 0.15000000000000002, 0.2, 0.25, 0.30000000000000004, 0.35000000000000003, 0.4, 0.45, 0.5, 0.55, 0.6000000000000001, 0.65, 0.7000000000000001, 0.75, 0.8, 0.8500000000000001, 0.9, 0.9500000000000001], \"xaxis\": \"x\", \"y\": [0.7866666666666666, 0.7866666666666666, 0.7866666666666666, 0.7866666666666666, 0.7866666666666666, 0.7866666666666666, 0.7919463087248322, 0.8013698630136986, 0.8125, 0.8467153284671532, 0.8769230769230769, 0.8951612903225806, 0.9145299145299145, 0.9363636363636364, 0.9428571428571428, 0.9489795918367347, 0.968421052631579, 0.967032967032967, 1.0, 1.0], \"yaxis\": \"y2\"}, {\"line\": {\"color\": \"orangered\", \"width\": 2.5}, \"name\": \"Porcentaje sobre el total de errores\", \"opacity\": 1, \"showlegend\": true, \"type\": \"scatter\", \"x\": [0.0, 0.05, 0.1, 0.15000000000000002, 0.2, 0.25, 0.30000000000000004, 0.35000000000000003, 0.4, 0.45, 0.5, 0.55, 0.6000000000000001, 0.65, 0.7000000000000001, 0.75, 0.8, 0.8500000000000001, 0.9, 0.9500000000000001], \"xaxis\": \"x\", \"y\": [1.0, 1.0, 1.0, 1.0, 1.0, 1.0, 0.96875, 0.90625, 0.84375, 0.65625, 0.5, 0.40625, 0.3125, 0.21875, 0.1875, 0.15625, 0.09375, 0.09375, 0.0, 0.0], \"yaxis\": \"y2\"}],\n",
       "                        {\"template\": {\"data\": {\"bar\": [{\"error_x\": {\"color\": \"#2a3f5f\"}, \"error_y\": {\"color\": \"#2a3f5f\"}, \"marker\": {\"line\": {\"color\": \"#E5ECF6\", \"width\": 0.5}}, \"type\": \"bar\"}], \"barpolar\": [{\"marker\": {\"line\": {\"color\": \"#E5ECF6\", \"width\": 0.5}}, \"type\": \"barpolar\"}], \"carpet\": [{\"aaxis\": {\"endlinecolor\": \"#2a3f5f\", \"gridcolor\": \"white\", \"linecolor\": \"white\", \"minorgridcolor\": \"white\", \"startlinecolor\": \"#2a3f5f\"}, \"baxis\": {\"endlinecolor\": \"#2a3f5f\", \"gridcolor\": \"white\", \"linecolor\": \"white\", \"minorgridcolor\": \"white\", \"startlinecolor\": \"#2a3f5f\"}, \"type\": \"carpet\"}], \"choropleth\": [{\"colorbar\": {\"outlinewidth\": 0, \"ticks\": \"\"}, \"type\": \"choropleth\"}], \"contour\": [{\"colorbar\": {\"outlinewidth\": 0, \"ticks\": \"\"}, \"colorscale\": [[0.0, \"#0d0887\"], [0.1111111111111111, \"#46039f\"], [0.2222222222222222, \"#7201a8\"], [0.3333333333333333, \"#9c179e\"], [0.4444444444444444, \"#bd3786\"], [0.5555555555555556, \"#d8576b\"], [0.6666666666666666, \"#ed7953\"], [0.7777777777777778, \"#fb9f3a\"], [0.8888888888888888, \"#fdca26\"], [1.0, \"#f0f921\"]], \"type\": \"contour\"}], \"contourcarpet\": [{\"colorbar\": {\"outlinewidth\": 0, \"ticks\": \"\"}, \"type\": \"contourcarpet\"}], \"heatmap\": [{\"colorbar\": {\"outlinewidth\": 0, \"ticks\": \"\"}, \"colorscale\": [[0.0, \"#0d0887\"], [0.1111111111111111, \"#46039f\"], [0.2222222222222222, \"#7201a8\"], [0.3333333333333333, \"#9c179e\"], [0.4444444444444444, \"#bd3786\"], [0.5555555555555556, \"#d8576b\"], [0.6666666666666666, \"#ed7953\"], [0.7777777777777778, \"#fb9f3a\"], [0.8888888888888888, \"#fdca26\"], [1.0, \"#f0f921\"]], \"type\": \"heatmap\"}], \"heatmapgl\": [{\"colorbar\": {\"outlinewidth\": 0, \"ticks\": \"\"}, \"colorscale\": [[0.0, \"#0d0887\"], [0.1111111111111111, \"#46039f\"], [0.2222222222222222, \"#7201a8\"], [0.3333333333333333, \"#9c179e\"], [0.4444444444444444, \"#bd3786\"], [0.5555555555555556, \"#d8576b\"], [0.6666666666666666, \"#ed7953\"], [0.7777777777777778, \"#fb9f3a\"], [0.8888888888888888, \"#fdca26\"], [1.0, \"#f0f921\"]], \"type\": \"heatmapgl\"}], \"histogram\": [{\"marker\": {\"colorbar\": {\"outlinewidth\": 0, \"ticks\": \"\"}}, \"type\": \"histogram\"}], \"histogram2d\": [{\"colorbar\": {\"outlinewidth\": 0, \"ticks\": \"\"}, \"colorscale\": [[0.0, \"#0d0887\"], [0.1111111111111111, \"#46039f\"], [0.2222222222222222, \"#7201a8\"], [0.3333333333333333, \"#9c179e\"], [0.4444444444444444, \"#bd3786\"], [0.5555555555555556, \"#d8576b\"], [0.6666666666666666, \"#ed7953\"], [0.7777777777777778, \"#fb9f3a\"], [0.8888888888888888, \"#fdca26\"], [1.0, \"#f0f921\"]], \"type\": \"histogram2d\"}], \"histogram2dcontour\": [{\"colorbar\": {\"outlinewidth\": 0, \"ticks\": \"\"}, \"colorscale\": [[0.0, \"#0d0887\"], [0.1111111111111111, \"#46039f\"], [0.2222222222222222, \"#7201a8\"], [0.3333333333333333, \"#9c179e\"], [0.4444444444444444, \"#bd3786\"], [0.5555555555555556, \"#d8576b\"], [0.6666666666666666, \"#ed7953\"], [0.7777777777777778, \"#fb9f3a\"], [0.8888888888888888, \"#fdca26\"], [1.0, \"#f0f921\"]], \"type\": \"histogram2dcontour\"}], \"mesh3d\": [{\"colorbar\": {\"outlinewidth\": 0, \"ticks\": \"\"}, \"type\": \"mesh3d\"}], \"parcoords\": [{\"line\": {\"colorbar\": {\"outlinewidth\": 0, \"ticks\": \"\"}}, \"type\": \"parcoords\"}], \"pie\": [{\"automargin\": true, \"type\": \"pie\"}], \"scatter\": [{\"marker\": {\"colorbar\": {\"outlinewidth\": 0, \"ticks\": \"\"}}, \"type\": \"scatter\"}], \"scatter3d\": [{\"line\": {\"colorbar\": {\"outlinewidth\": 0, \"ticks\": \"\"}}, \"marker\": {\"colorbar\": {\"outlinewidth\": 0, \"ticks\": \"\"}}, \"type\": \"scatter3d\"}], \"scattercarpet\": [{\"marker\": {\"colorbar\": {\"outlinewidth\": 0, \"ticks\": \"\"}}, \"type\": \"scattercarpet\"}], \"scattergeo\": [{\"marker\": {\"colorbar\": {\"outlinewidth\": 0, \"ticks\": \"\"}}, \"type\": \"scattergeo\"}], \"scattergl\": [{\"marker\": {\"colorbar\": {\"outlinewidth\": 0, \"ticks\": \"\"}}, \"type\": \"scattergl\"}], \"scattermapbox\": [{\"marker\": {\"colorbar\": {\"outlinewidth\": 0, \"ticks\": \"\"}}, \"type\": \"scattermapbox\"}], \"scatterpolar\": [{\"marker\": {\"colorbar\": {\"outlinewidth\": 0, \"ticks\": \"\"}}, \"type\": \"scatterpolar\"}], \"scatterpolargl\": [{\"marker\": {\"colorbar\": {\"outlinewidth\": 0, \"ticks\": \"\"}}, \"type\": \"scatterpolargl\"}], \"scatterternary\": [{\"marker\": {\"colorbar\": {\"outlinewidth\": 0, \"ticks\": \"\"}}, \"type\": \"scatterternary\"}], \"surface\": [{\"colorbar\": {\"outlinewidth\": 0, \"ticks\": \"\"}, \"colorscale\": [[0.0, \"#0d0887\"], [0.1111111111111111, \"#46039f\"], [0.2222222222222222, \"#7201a8\"], [0.3333333333333333, \"#9c179e\"], [0.4444444444444444, \"#bd3786\"], [0.5555555555555556, \"#d8576b\"], [0.6666666666666666, \"#ed7953\"], [0.7777777777777778, \"#fb9f3a\"], [0.8888888888888888, \"#fdca26\"], [1.0, \"#f0f921\"]], \"type\": \"surface\"}], \"table\": [{\"cells\": {\"fill\": {\"color\": \"#EBF0F8\"}, \"line\": {\"color\": \"white\"}}, \"header\": {\"fill\": {\"color\": \"#C8D4E3\"}, \"line\": {\"color\": \"white\"}}, \"type\": \"table\"}]}, \"layout\": {\"annotationdefaults\": {\"arrowcolor\": \"#2a3f5f\", \"arrowhead\": 0, \"arrowwidth\": 1}, \"coloraxis\": {\"colorbar\": {\"outlinewidth\": 0, \"ticks\": \"\"}}, \"colorscale\": {\"diverging\": [[0, \"#8e0152\"], [0.1, \"#c51b7d\"], [0.2, \"#de77ae\"], [0.3, \"#f1b6da\"], [0.4, \"#fde0ef\"], [0.5, \"#f7f7f7\"], [0.6, \"#e6f5d0\"], [0.7, \"#b8e186\"], [0.8, \"#7fbc41\"], [0.9, \"#4d9221\"], [1, \"#276419\"]], \"sequential\": [[0.0, \"#0d0887\"], [0.1111111111111111, \"#46039f\"], [0.2222222222222222, \"#7201a8\"], [0.3333333333333333, \"#9c179e\"], [0.4444444444444444, \"#bd3786\"], [0.5555555555555556, \"#d8576b\"], [0.6666666666666666, \"#ed7953\"], [0.7777777777777778, \"#fb9f3a\"], [0.8888888888888888, \"#fdca26\"], [1.0, \"#f0f921\"]], \"sequentialminus\": [[0.0, \"#0d0887\"], [0.1111111111111111, \"#46039f\"], [0.2222222222222222, \"#7201a8\"], [0.3333333333333333, \"#9c179e\"], [0.4444444444444444, \"#bd3786\"], [0.5555555555555556, \"#d8576b\"], [0.6666666666666666, \"#ed7953\"], [0.7777777777777778, \"#fb9f3a\"], [0.8888888888888888, \"#fdca26\"], [1.0, \"#f0f921\"]]}, \"colorway\": [\"#636efa\", \"#EF553B\", \"#00cc96\", \"#ab63fa\", \"#FFA15A\", \"#19d3f3\", \"#FF6692\", \"#B6E880\", \"#FF97FF\", \"#FECB52\"], \"font\": {\"color\": \"#2a3f5f\"}, \"geo\": {\"bgcolor\": \"white\", \"lakecolor\": \"white\", \"landcolor\": \"#E5ECF6\", \"showlakes\": true, \"showland\": true, \"subunitcolor\": \"white\"}, \"hoverlabel\": {\"align\": \"left\"}, \"hovermode\": \"closest\", \"mapbox\": {\"style\": \"light\"}, \"paper_bgcolor\": \"white\", \"plot_bgcolor\": \"#E5ECF6\", \"polar\": {\"angularaxis\": {\"gridcolor\": \"white\", \"linecolor\": \"white\", \"ticks\": \"\"}, \"bgcolor\": \"#E5ECF6\", \"radialaxis\": {\"gridcolor\": \"white\", \"linecolor\": \"white\", \"ticks\": \"\"}}, \"scene\": {\"xaxis\": {\"backgroundcolor\": \"#E5ECF6\", \"gridcolor\": \"white\", \"gridwidth\": 2, \"linecolor\": \"white\", \"showbackground\": true, \"ticks\": \"\", \"zerolinecolor\": \"white\"}, \"yaxis\": {\"backgroundcolor\": \"#E5ECF6\", \"gridcolor\": \"white\", \"gridwidth\": 2, \"linecolor\": \"white\", \"showbackground\": true, \"ticks\": \"\", \"zerolinecolor\": \"white\"}, \"zaxis\": {\"backgroundcolor\": \"#E5ECF6\", \"gridcolor\": \"white\", \"gridwidth\": 2, \"linecolor\": \"white\", \"showbackground\": true, \"ticks\": \"\", \"zerolinecolor\": \"white\"}}, \"shapedefaults\": {\"line\": {\"color\": \"#2a3f5f\"}}, \"ternary\": {\"aaxis\": {\"gridcolor\": \"white\", \"linecolor\": \"white\", \"ticks\": \"\"}, \"baxis\": {\"gridcolor\": \"white\", \"linecolor\": \"white\", \"ticks\": \"\"}, \"bgcolor\": \"#E5ECF6\", \"caxis\": {\"gridcolor\": \"white\", \"linecolor\": \"white\", \"ticks\": \"\"}}, \"title\": {\"x\": 0.05}, \"xaxis\": {\"automargin\": true, \"gridcolor\": \"white\", \"linecolor\": \"white\", \"ticks\": \"\", \"title\": {\"standoff\": 15}, \"zerolinecolor\": \"white\", \"zerolinewidth\": 2}, \"yaxis\": {\"automargin\": true, \"gridcolor\": \"white\", \"linecolor\": \"white\", \"ticks\": \"\", \"title\": {\"standoff\": 15}, \"zerolinecolor\": \"white\", \"zerolinewidth\": 2}}}, \"title\": {\"text\": \"Cantidad de casos, porcentaje de errores y exactitud categ\\u00f3rica por umbral - modelo del exp. 6 (subconjunto)\"}, \"xaxis\": {\"anchor\": \"y\", \"domain\": [0.0, 0.94], \"title\": {\"text\": \"Umbral\"}}, \"yaxis\": {\"anchor\": \"x\", \"domain\": [0.0, 1.0], \"title\": {\"text\": \"Cantidad de casos que se predicen\"}}, \"yaxis2\": {\"anchor\": \"x\", \"overlaying\": \"y\", \"side\": \"right\", \"title\": {\"text\": \"Porcentaje\"}}},\n",
       "                        {\"responsive\": true}\n",
       "                    ).then(function(){\n",
       "                            \n",
       "var gd = document.getElementById('7354dcd8-c16d-48b8-a3b4-4d2f99d6e403');\n",
       "var x = new MutationObserver(function (mutations, observer) {{\n",
       "        var display = window.getComputedStyle(gd).display;\n",
       "        if (!display || display === 'none') {{\n",
       "            console.log([gd, 'removed!']);\n",
       "            Plotly.purge(gd);\n",
       "            observer.disconnect();\n",
       "        }}\n",
       "}});\n",
       "\n",
       "// Listen for the removal of the full notebook cells\n",
       "var notebookContainer = gd.closest('#notebook-container');\n",
       "if (notebookContainer) {{\n",
       "    x.observe(notebookContainer, {childList: true});\n",
       "}}\n",
       "\n",
       "// Listen for the clearing of the current output cell\n",
       "var outputEl = gd.closest('.output');\n",
       "if (outputEl) {{\n",
       "    x.observe(outputEl, {childList: true});\n",
       "}}\n",
       "\n",
       "                        })\n",
       "                };\n",
       "                });\n",
       "            </script>\n",
       "        </div>"
      ]
     },
     "metadata": {},
     "output_type": "display_data"
    },
    {
     "data": {
      "text/html": [
       "        <script type=\"text/javascript\">\n",
       "        window.PlotlyConfig = {MathJaxConfig: 'local'};\n",
       "        if (window.MathJax) {MathJax.Hub.Config({SVG: {font: \"STIX-Web\"}});}\n",
       "        if (typeof require !== 'undefined') {\n",
       "        require.undef(\"plotly\");\n",
       "        requirejs.config({\n",
       "            paths: {\n",
       "                'plotly': ['https://cdn.plot.ly/plotly-latest.min']\n",
       "            }\n",
       "        });\n",
       "        require(['plotly'], function(Plotly) {\n",
       "            window._Plotly = Plotly;\n",
       "        });\n",
       "        }\n",
       "        </script>\n",
       "        "
      ]
     },
     "metadata": {},
     "output_type": "display_data"
    },
    {
     "data": {
      "application/vnd.plotly.v1+json": {
       "config": {
        "plotlyServerURL": "https://plot.ly"
       },
       "data": [
        {
         "boxmean": true,
         "boxpoints": "all",
         "customdata": [
          [
           "bathroom",
           "bathroom",
           0.9961991906166077,
           "00000139.jpg",
           true
          ],
          [
           "bathroom",
           "bathroom",
           0.8970264196395874,
           "00000393.jpg",
           true
          ],
          [
           "bathroom",
           "bathroom",
           0.7137749791145325,
           "00000655.jpg",
           true
          ],
          [
           "bathroom",
           "bathroom",
           0.6782466769218445,
           "00000681.jpg",
           true
          ],
          [
           "bathroom",
           "bathroom",
           0.9988466501235962,
           "00001057.jpg",
           true
          ],
          [
           "bathroom",
           "bathroom",
           0.9966754913330078,
           "00001342.jpg",
           true
          ],
          [
           "bathroom",
           "bathroom",
           0.9652833938598633,
           "00001489.jpg",
           true
          ],
          [
           "bathroom",
           "bathroom",
           0.9977645874023438,
           "00001645.jpg",
           true
          ],
          [
           "bathroom",
           "bathroom",
           0.9387685060501099,
           "00003103.jpg",
           true
          ],
          [
           "bathroom",
           "bathroom",
           0.9881522059440613,
           "00003240.jpg",
           true
          ],
          [
           "bathroom",
           "bathroom",
           0.9973560571670532,
           "00003321.jpg",
           true
          ],
          [
           "bathroom",
           "bathroom",
           0.8050761222839355,
           "00003526.jpg",
           true
          ],
          [
           "bathroom",
           "bathroom",
           0.8626729846000671,
           "11139172.jpg",
           true
          ],
          [
           "bathroom",
           "bathroom",
           0.9863970875740051,
           "11865906.jpg",
           true
          ],
          [
           "bathroom",
           "bathroom",
           0.8759991526603699,
           "13965910.jpg",
           true
          ],
          [
           "bathroom",
           "bathroom",
           0.9213120341300964,
           "14231680.jpg",
           true
          ],
          [
           "bathroom",
           "bathroom",
           0.9829618334770203,
           "15757982.jpg",
           true
          ],
          [
           "bathroom",
           "bathroom",
           0.9757248163223267,
           "36117165.jpg",
           true
          ],
          [
           "bathroom",
           "bathroom",
           0.9713026881217957,
           "4284122.jpg",
           true
          ],
          [
           "bathroom",
           "bathroom",
           0.9977689981460571,
           "43122075.jpg",
           true
          ],
          [
           "bathroom",
           "bathroom",
           0.9663233160972595,
           "44019757.jpg",
           true
          ]
         ],
         "hovertemplate": "y_true=%{customdata[0]}<br>y_pred=%{customdata[1]}<br>y_pred_proba=%{customdata[2]}<br>filename=%{customdata[3]}<br>right_predicted=%{customdata[4]}",
         "jitter": 0.3,
         "marker": {
          "color": "green"
         },
         "name": "|label: bathroom - predicción correcta|",
         "pointpos": -1.8,
         "type": "box",
         "xaxis": "x",
         "y": [
          0.9961991906166077,
          0.8970264196395874,
          0.7137749791145325,
          0.6782466769218445,
          0.9988466501235962,
          0.9966754913330078,
          0.9652833938598633,
          0.9977645874023438,
          0.9387685060501099,
          0.9881522059440613,
          0.9973560571670532,
          0.8050761222839355,
          0.8626729846000671,
          0.9863970875740051,
          0.8759991526603699,
          0.9213120341300964,
          0.9829618334770203,
          0.9757248163223267,
          0.9713026881217957,
          0.9977689981460571,
          0.9663233160972595
         ],
         "yaxis": "y"
        },
        {
         "boxmean": true,
         "boxpoints": "all",
         "customdata": [
          [
           "bedroom",
           "bathroom",
           0.8886272311210632,
           "11775058.jpg",
           false
          ],
          [
           "bedroom",
           "bathroom",
           0.474337100982666,
           "21237851.jpg",
           false
          ],
          [
           "kitchen",
           "bathroom",
           0.8922523856163025,
           "48996081.jpg",
           false
          ],
          [
           "livingRoom",
           "bathroom",
           0.534672737121582,
           "31434025.jpg",
           false
          ],
          [
           "livingRoom",
           "bathroom",
           0.5467072129249573,
           "55554347.jpg",
           false
          ]
         ],
         "hovertemplate": "y_true=%{customdata[0]}<br>y_pred=%{customdata[1]}<br>y_pred_proba=%{customdata[2]}<br>filename=%{customdata[3]}<br>right_predicted=%{customdata[4]}",
         "jitter": 0.3,
         "marker": {
          "color": "red"
         },
         "name": "|label: bathroom - predicción incorrecta|",
         "pointpos": -1.8,
         "type": "box",
         "xaxis": "x",
         "y": [
          0.8886272311210632,
          0.474337100982666,
          0.8922523856163025,
          0.534672737121582,
          0.5467072129249573
         ],
         "yaxis": "y"
        },
        {
         "boxmean": true,
         "boxpoints": "all",
         "customdata": [
          [
           "bedroom",
           "bedroom",
           0.9833312630653381,
           "00000134.jpg",
           true
          ],
          [
           "bedroom",
           "bedroom",
           0.5988254547119141,
           "00000186.jpg",
           true
          ],
          [
           "bedroom",
           "bedroom",
           0.9929314851760864,
           "00000196.jpg",
           true
          ],
          [
           "bedroom",
           "bedroom",
           0.9986974596977234,
           "00000661.jpg",
           true
          ],
          [
           "bedroom",
           "bedroom",
           0.9978698492050171,
           "00000905.jpg",
           true
          ],
          [
           "bedroom",
           "bedroom",
           0.9083989262580872,
           "00001261.jpg",
           true
          ],
          [
           "bedroom",
           "bedroom",
           0.9834186434745789,
           "00001267.jpg",
           true
          ],
          [
           "bedroom",
           "bedroom",
           0.8992171287536621,
           "00001465.jpg",
           true
          ],
          [
           "bedroom",
           "bedroom",
           0.6907017230987549,
           "00001624.jpg",
           true
          ],
          [
           "bedroom",
           "bedroom",
           0.9655563831329346,
           "00002102.jpg",
           true
          ],
          [
           "bedroom",
           "bedroom",
           0.9980601668357849,
           "00002457.jpg",
           true
          ],
          [
           "bedroom",
           "bedroom",
           0.9979304075241089,
           "00002904.jpg",
           true
          ],
          [
           "bedroom",
           "bedroom",
           0.9719760417938232,
           "00003025.jpg",
           true
          ],
          [
           "bedroom",
           "bedroom",
           0.9184511303901672,
           "00004989.jpg",
           true
          ],
          [
           "bedroom",
           "bedroom",
           0.9556879997253418,
           "11084870.jpg",
           true
          ],
          [
           "bedroom",
           "bedroom",
           0.8764070272445679,
           "11867892.jpg",
           true
          ],
          [
           "bedroom",
           "bedroom",
           0.8260867595672607,
           "9903849.jpg",
           true
          ]
         ],
         "hovertemplate": "y_true=%{customdata[0]}<br>y_pred=%{customdata[1]}<br>y_pred_proba=%{customdata[2]}<br>filename=%{customdata[3]}<br>right_predicted=%{customdata[4]}",
         "jitter": 0.3,
         "marker": {
          "color": "green"
         },
         "name": "|label: bedroom - predicción correcta|",
         "pointpos": -1.8,
         "type": "box",
         "xaxis": "x",
         "y": [
          0.9833312630653381,
          0.5988254547119141,
          0.9929314851760864,
          0.9986974596977234,
          0.9978698492050171,
          0.9083989262580872,
          0.9834186434745789,
          0.8992171287536621,
          0.6907017230987549,
          0.9655563831329346,
          0.9980601668357849,
          0.9979304075241089,
          0.9719760417938232,
          0.9184511303901672,
          0.9556879997253418,
          0.8764070272445679,
          0.8260867595672607
         ],
         "yaxis": "y"
        },
        {
         "boxmean": true,
         "boxpoints": "all",
         "customdata": [
          [
           "bathroom",
           "bedroom",
           0.6431183218955994,
           "00000497.jpg",
           false
          ],
          [
           "frontyard",
           "bedroom",
           0.5060346722602844,
           "00003146.jpg",
           false
          ],
          [
           "livingRoom",
           "bedroom",
           0.5942956209182739,
           "gsun_1bdb22548de975b78c4657c8e39bf4da.jpg",
           false
          ]
         ],
         "hovertemplate": "y_true=%{customdata[0]}<br>y_pred=%{customdata[1]}<br>y_pred_proba=%{customdata[2]}<br>filename=%{customdata[3]}<br>right_predicted=%{customdata[4]}",
         "jitter": 0.3,
         "marker": {
          "color": "red"
         },
         "name": "|label: bedroom - predicción incorrecta|",
         "pointpos": -1.8,
         "type": "box",
         "xaxis": "x",
         "y": [
          0.6431183218955994,
          0.5060346722602844,
          0.5942956209182739
         ],
         "yaxis": "y"
        },
        {
         "boxmean": true,
         "boxpoints": "all",
         "customdata": [
          [
           "dining_room",
           "dining_room",
           0.9964596629142761,
           "00000073.jpg",
           true
          ],
          [
           "dining_room",
           "dining_room",
           0.9903661012649536,
           "00000134.jpg",
           true
          ],
          [
           "dining_room",
           "dining_room",
           0.8980693221092224,
           "00000319.jpg",
           true
          ],
          [
           "dining_room",
           "dining_room",
           0.7161125540733337,
           "00000399.jpg",
           true
          ],
          [
           "dining_room",
           "dining_room",
           0.700242280960083,
           "00000747.jpg",
           true
          ],
          [
           "dining_room",
           "dining_room",
           0.8932020664215088,
           "00000879.jpg",
           true
          ],
          [
           "dining_room",
           "dining_room",
           0.9850066304206848,
           "00000881.jpg",
           true
          ],
          [
           "dining_room",
           "dining_room",
           0.9515904784202576,
           "00000998.jpg",
           true
          ],
          [
           "dining_room",
           "dining_room",
           0.9943349957466125,
           "00001010.jpg",
           true
          ],
          [
           "dining_room",
           "dining_room",
           0.6061009168624878,
           "00002559.jpg",
           true
          ],
          [
           "dining_room",
           "dining_room",
           0.9438377618789673,
           "00002683.jpg",
           true
          ],
          [
           "dining_room",
           "dining_room",
           0.8832095861434937,
           "00002848.jpg",
           true
          ],
          [
           "dining_room",
           "dining_room",
           0.6002535223960876,
           "00003660.jpg",
           true
          ],
          [
           "dining_room",
           "dining_room",
           0.7183650135993958,
           "00003795.jpg",
           true
          ],
          [
           "dining_room",
           "dining_room",
           0.9917964935302734,
           "00004096.jpg",
           true
          ],
          [
           "dining_room",
           "dining_room",
           0.9856696724891663,
           "00004314.jpg",
           true
          ],
          [
           "dining_room",
           "dining_room",
           0.9194492101669312,
           "00004691.jpg",
           true
          ],
          [
           "dining_room",
           "dining_room",
           0.9471878409385681,
           "gsun_2f32c3b4991f47a4c12170880672c77d.jpg",
           true
          ],
          [
           "dining_room",
           "dining_room",
           0.9335323572158813,
           "gsun_8730b6bc8a9c25fe043d85992ad62db4.jpg",
           true
          ],
          [
           "dining_room",
           "dining_room",
           0.9832964539527893,
           "gsun_b7170bfa135a0fc069e5445154c24b87.jpg",
           true
          ]
         ],
         "hovertemplate": "y_true=%{customdata[0]}<br>y_pred=%{customdata[1]}<br>y_pred_proba=%{customdata[2]}<br>filename=%{customdata[3]}<br>right_predicted=%{customdata[4]}",
         "jitter": 0.3,
         "marker": {
          "color": "green"
         },
         "name": "|label: dining_room - predicción correcta|",
         "pointpos": -1.8,
         "type": "box",
         "xaxis": "x",
         "y": [
          0.9964596629142761,
          0.9903661012649536,
          0.8980693221092224,
          0.7161125540733337,
          0.700242280960083,
          0.8932020664215088,
          0.9850066304206848,
          0.9515904784202576,
          0.9943349957466125,
          0.6061009168624878,
          0.9438377618789673,
          0.8832095861434937,
          0.6002535223960876,
          0.7183650135993958,
          0.9917964935302734,
          0.9856696724891663,
          0.9194492101669312,
          0.9471878409385681,
          0.9335323572158813,
          0.9832964539527893
         ],
         "yaxis": "y"
        },
        {
         "boxmean": true,
         "boxpoints": "all",
         "customdata": [
          [
           "bedroom",
           "dining_room",
           0.346824049949646,
           "00000314.jpg",
           false
          ],
          [
           "bedroom",
           "dining_room",
           0.5884542465209961,
           "00000361.jpg",
           false
          ],
          [
           "kitchen",
           "dining_room",
           0.4241105318069458,
           "gsun_f787799e1ba5be0dc71a48dbb9c330db.jpg",
           false
          ],
          [
           "kitchen",
           "dining_room",
           0.8943784236907959,
           "gsun_ff1cb147e42b7bf2ab62e1ea5d5b3080.jpg",
           false
          ],
          [
           "livingRoom",
           "dining_room",
           0.7035929560661316,
           "gsun_12633c2b7fd7802b7b532250e22d296e.jpg",
           false
          ],
          [
           "livingRoom",
           "dining_room",
           0.49425846338272095,
           "gsun_3b596ca24a2045f2e8a176dbf94b03cf.jpg",
           false
          ],
          [
           "livingRoom",
           "dining_room",
           0.6757645606994629,
           "gsun_3c6d543e0842ec253477432ad4604ed2.jpg",
           false
          ]
         ],
         "hovertemplate": "y_true=%{customdata[0]}<br>y_pred=%{customdata[1]}<br>y_pred_proba=%{customdata[2]}<br>filename=%{customdata[3]}<br>right_predicted=%{customdata[4]}",
         "jitter": 0.3,
         "marker": {
          "color": "red"
         },
         "name": "|label: dining_room - predicción incorrecta|",
         "pointpos": -1.8,
         "type": "box",
         "xaxis": "x",
         "y": [
          0.346824049949646,
          0.5884542465209961,
          0.4241105318069458,
          0.8943784236907959,
          0.7035929560661316,
          0.49425846338272095,
          0.6757645606994629
         ],
         "yaxis": "y"
        },
        {
         "boxmean": true,
         "boxpoints": "all",
         "customdata": [
          [
           "frontyard",
           "frontyard",
           0.9996697902679443,
           "00002919.jpg",
           true
          ],
          [
           "frontyard",
           "frontyard",
           0.9999957084655762,
           "00002947.jpg",
           true
          ],
          [
           "frontyard",
           "frontyard",
           0.9999997615814209,
           "00002964.jpg",
           true
          ],
          [
           "frontyard",
           "frontyard",
           0.9999997615814209,
           "00002965.jpg",
           true
          ],
          [
           "frontyard",
           "frontyard",
           1,
           "00003008.jpg",
           true
          ],
          [
           "frontyard",
           "frontyard",
           0.9995653033256531,
           "00003018.jpg",
           true
          ],
          [
           "frontyard",
           "frontyard",
           0.9999934434890747,
           "00003020.jpg",
           true
          ],
          [
           "frontyard",
           "frontyard",
           0.9999953508377075,
           "00003043.jpg",
           true
          ],
          [
           "frontyard",
           "frontyard",
           1,
           "00003054.jpg",
           true
          ],
          [
           "frontyard",
           "frontyard",
           0.9075428247451782,
           "00003063.jpg",
           true
          ],
          [
           "frontyard",
           "frontyard",
           0.9995158910751343,
           "00003172.jpg",
           true
          ],
          [
           "frontyard",
           "frontyard",
           0.9999994039535522,
           "00003174.jpg",
           true
          ],
          [
           "frontyard",
           "frontyard",
           0.9999980926513672,
           "00003236.jpg",
           true
          ],
          [
           "frontyard",
           "frontyard",
           1,
           "00003258.jpg",
           true
          ],
          [
           "frontyard",
           "frontyard",
           1,
           "00003262.jpg",
           true
          ],
          [
           "frontyard",
           "frontyard",
           1,
           "00003282.jpg",
           true
          ],
          [
           "frontyard",
           "frontyard",
           0.9999996423721313,
           "00003313.jpg",
           true
          ],
          [
           "frontyard",
           "frontyard",
           0.9999827146530151,
           "00003376.jpg",
           true
          ],
          [
           "frontyard",
           "frontyard",
           1,
           "00003401.jpg",
           true
          ],
          [
           "frontyard",
           "frontyard",
           0.9999990463256836,
           "00003586.jpg",
           true
          ],
          [
           "frontyard",
           "frontyard",
           0.9999991655349731,
           "00003610.jpg",
           true
          ],
          [
           "frontyard",
           "frontyard",
           0.997687578201294,
           "00003709.jpg",
           true
          ],
          [
           "frontyard",
           "frontyard",
           0.9994787573814392,
           "gsun_bcf6e124f7899c395cd95f00a9abe701.jpg",
           true
          ],
          [
           "frontyard",
           "frontyard",
           0.9903910160064697,
           "gsun_cb16558078e4f52877579122ec43bea3.jpg",
           true
          ]
         ],
         "hovertemplate": "y_true=%{customdata[0]}<br>y_pred=%{customdata[1]}<br>y_pred_proba=%{customdata[2]}<br>filename=%{customdata[3]}<br>right_predicted=%{customdata[4]}",
         "jitter": 0.3,
         "marker": {
          "color": "green"
         },
         "name": "|label: frontyard - predicción correcta|",
         "pointpos": -1.8,
         "type": "box",
         "xaxis": "x",
         "y": [
          0.9996697902679443,
          0.9999957084655762,
          0.9999997615814209,
          0.9999997615814209,
          1,
          0.9995653033256531,
          0.9999934434890747,
          0.9999953508377075,
          1,
          0.9075428247451782,
          0.9995158910751343,
          0.9999994039535522,
          0.9999980926513672,
          1,
          1,
          1,
          0.9999996423721313,
          0.9999827146530151,
          1,
          0.9999990463256836,
          0.9999991655349731,
          0.997687578201294,
          0.9994787573814392,
          0.9903910160064697
         ],
         "yaxis": "y"
        },
        {
         "boxmean": true,
         "boxpoints": "all",
         "customdata": [
          [
           "livingRoom",
           "frontyard",
           0.6386154890060425,
           "00000100.jpg",
           false
          ],
          [
           "livingRoom",
           "frontyard",
           0.42964795231819153,
           "gsun_1cc782a021199f296c618b792407a197.jpg",
           false
          ]
         ],
         "hovertemplate": "y_true=%{customdata[0]}<br>y_pred=%{customdata[1]}<br>y_pred_proba=%{customdata[2]}<br>filename=%{customdata[3]}<br>right_predicted=%{customdata[4]}",
         "jitter": 0.3,
         "marker": {
          "color": "red"
         },
         "name": "|label: frontyard - predicción incorrecta|",
         "pointpos": -1.8,
         "type": "box",
         "xaxis": "x",
         "y": [
          0.6386154890060425,
          0.42964795231819153
         ],
         "yaxis": "y"
        },
        {
         "boxmean": true,
         "boxpoints": "all",
         "customdata": [
          [
           "kitchen",
           "kitchen",
           0.9646100401878357,
           "00000316.jpg",
           true
          ],
          [
           "kitchen",
           "kitchen",
           0.9346297979354858,
           "00000494.jpg",
           true
          ],
          [
           "kitchen",
           "kitchen",
           0.4257659614086151,
           "00000661.jpg",
           true
          ],
          [
           "kitchen",
           "kitchen",
           0.9926500916481018,
           "00003030.jpg",
           true
          ],
          [
           "kitchen",
           "kitchen",
           0.9929203391075134,
           "00003167.jpg",
           true
          ],
          [
           "kitchen",
           "kitchen",
           0.8158180713653564,
           "00003774.jpg",
           true
          ],
          [
           "kitchen",
           "kitchen",
           0.5334001183509827,
           "00004385.jpg",
           true
          ],
          [
           "kitchen",
           "kitchen",
           0.9954482913017273,
           "00004402.jpg",
           true
          ],
          [
           "kitchen",
           "kitchen",
           0.9422082304954529,
           "00004411.jpg",
           true
          ],
          [
           "kitchen",
           "kitchen",
           0.8681457042694092,
           "00004622.jpg",
           true
          ],
          [
           "kitchen",
           "kitchen",
           0.33187979459762573,
           "41903049.jpg",
           true
          ],
          [
           "kitchen",
           "kitchen",
           0.49469175934791565,
           "43121986.jpg",
           true
          ],
          [
           "kitchen",
           "kitchen",
           0.9500651955604553,
           "gsun_bdd260f673ddea1614be04e77826f62a.jpg",
           true
          ],
          [
           "kitchen",
           "kitchen",
           0.9905763864517212,
           "gsun_d0596e69362e1ed8cce161cb79cd80a0.jpg",
           true
          ],
          [
           "kitchen",
           "kitchen",
           0.5282705426216125,
           "gsun_d17554e860fe591742c2ce791357a671.jpg",
           true
          ],
          [
           "kitchen",
           "kitchen",
           0.9710137248039246,
           "gsun_e357dbf7f82a2de005d8c3b5ef1ba69d.jpg",
           true
          ],
          [
           "kitchen",
           "kitchen",
           0.9952322840690613,
           "gsun_e8a69d1300eff4dd51e3c7a7f3f42da7.jpg",
           true
          ],
          [
           "kitchen",
           "kitchen",
           0.9997544884681702,
           "gsun_e8db166d55a16ab749cdd8d0bfc1145a.jpg",
           true
          ],
          [
           "kitchen",
           "kitchen",
           0.555195152759552,
           "gsun_f0445d03107792d661eee314468f46d0.jpg",
           true
          ],
          [
           "kitchen",
           "kitchen",
           0.9504398703575134,
           "gsun_ff390eefcf4918dc63b877eeb02fc7d3.jpg",
           true
          ]
         ],
         "hovertemplate": "y_true=%{customdata[0]}<br>y_pred=%{customdata[1]}<br>y_pred_proba=%{customdata[2]}<br>filename=%{customdata[3]}<br>right_predicted=%{customdata[4]}",
         "jitter": 0.3,
         "marker": {
          "color": "green"
         },
         "name": "|label: kitchen - predicción correcta|",
         "pointpos": -1.8,
         "type": "box",
         "xaxis": "x",
         "y": [
          0.9646100401878357,
          0.9346297979354858,
          0.4257659614086151,
          0.9926500916481018,
          0.9929203391075134,
          0.8158180713653564,
          0.5334001183509827,
          0.9954482913017273,
          0.9422082304954529,
          0.8681457042694092,
          0.33187979459762573,
          0.49469175934791565,
          0.9500651955604553,
          0.9905763864517212,
          0.5282705426216125,
          0.9710137248039246,
          0.9952322840690613,
          0.9997544884681702,
          0.555195152759552,
          0.9504398703575134
         ],
         "yaxis": "y"
        },
        {
         "boxmean": true,
         "boxpoints": "all",
         "customdata": [
          [
           "bathroom",
           "kitchen",
           0.3521263599395752,
           "00000332.jpg",
           false
          ],
          [
           "bedroom",
           "kitchen",
           0.4820428490638733,
           "00001242.jpg",
           false
          ],
          [
           "bedroom",
           "kitchen",
           0.28364792466163635,
           "33145669.jpg",
           false
          ],
          [
           "dining_room",
           "kitchen",
           0.7820748090744019,
           "00002422.jpg",
           false
          ],
          [
           "dining_room",
           "kitchen",
           0.49896466732025146,
           "00004469.jpg",
           false
          ],
          [
           "livingRoom",
           "kitchen",
           0.44605791568756104,
           "gsun_0ebc18c4cd8b6b52207613deff40d002.jpg",
           false
          ]
         ],
         "hovertemplate": "y_true=%{customdata[0]}<br>y_pred=%{customdata[1]}<br>y_pred_proba=%{customdata[2]}<br>filename=%{customdata[3]}<br>right_predicted=%{customdata[4]}",
         "jitter": 0.3,
         "marker": {
          "color": "red"
         },
         "name": "|label: kitchen - predicción incorrecta|",
         "pointpos": -1.8,
         "type": "box",
         "xaxis": "x",
         "y": [
          0.3521263599395752,
          0.4820428490638733,
          0.28364792466163635,
          0.7820748090744019,
          0.49896466732025146,
          0.44605791568756104
         ],
         "yaxis": "y"
        },
        {
         "boxmean": true,
         "boxpoints": "all",
         "customdata": [
          [
           "livingRoom",
           "livingRoom",
           0.4825163185596466,
           "00000018.jpg",
           true
          ],
          [
           "livingRoom",
           "livingRoom",
           0.7809885144233704,
           "00000155.jpg",
           true
          ],
          [
           "livingRoom",
           "livingRoom",
           0.6347987651824951,
           "00000580.jpg",
           true
          ],
          [
           "livingRoom",
           "livingRoom",
           0.7247256636619568,
           "00000621.jpg",
           true
          ],
          [
           "livingRoom",
           "livingRoom",
           0.8214568495750427,
           "41541703.jpg",
           true
          ],
          [
           "livingRoom",
           "livingRoom",
           0.9852789640426636,
           "47991206.jpg",
           true
          ],
          [
           "livingRoom",
           "livingRoom",
           0.8526445627212524,
           "gsun_0fea5f984f711b7208402786b9c32b5d.jpg",
           true
          ],
          [
           "livingRoom",
           "livingRoom",
           0.6750929951667786,
           "gsun_1c8b627abba15eae357293b1b0de2655.jpg",
           true
          ],
          [
           "livingRoom",
           "livingRoom",
           0.5545932650566101,
           "gsun_1ff087de8ba7f152cbd6030cafcb627e.jpg",
           true
          ],
          [
           "livingRoom",
           "livingRoom",
           0.6734118461608887,
           "gsun_2cc63cd9275da9896854baed640800fa.jpg",
           true
          ],
          [
           "livingRoom",
           "livingRoom",
           0.5896442532539368,
           "gsun_2daccfb415496c651efede69bd964ecb.jpg",
           true
          ],
          [
           "livingRoom",
           "livingRoom",
           0.624638557434082,
           "gsun_2e1bb958c73173be22318a736a23a165.jpg",
           true
          ],
          [
           "livingRoom",
           "livingRoom",
           0.7318979501724243,
           "gsun_32771db87a919dc724e0fe778e46cc28.jpg",
           true
          ],
          [
           "livingRoom",
           "livingRoom",
           0.970832884311676,
           "gsun_5aabdf5f2f711e993719102dc9753ec0.jpg",
           true
          ],
          [
           "livingRoom",
           "livingRoom",
           0.8945325613021851,
           "gsun_5cddbf0d660c2871dc3ed553189cfd47.jpg",
           true
          ],
          [
           "livingRoom",
           "livingRoom",
           0.5445095300674438,
           "gsun_64290f6d318ab90283f0f0d406e1b8a7.jpg",
           true
          ]
         ],
         "hovertemplate": "y_true=%{customdata[0]}<br>y_pred=%{customdata[1]}<br>y_pred_proba=%{customdata[2]}<br>filename=%{customdata[3]}<br>right_predicted=%{customdata[4]}",
         "jitter": 0.3,
         "marker": {
          "color": "green"
         },
         "name": "|label: livingRoom - predicción correcta|",
         "pointpos": -1.8,
         "type": "box",
         "xaxis": "x",
         "y": [
          0.4825163185596466,
          0.7809885144233704,
          0.6347987651824951,
          0.7247256636619568,
          0.8214568495750427,
          0.9852789640426636,
          0.8526445627212524,
          0.6750929951667786,
          0.5545932650566101,
          0.6734118461608887,
          0.5896442532539368,
          0.624638557434082,
          0.7318979501724243,
          0.970832884311676,
          0.8945325613021851,
          0.5445095300674438
         ],
         "yaxis": "y"
        },
        {
         "boxmean": true,
         "boxpoints": "all",
         "customdata": [
          [
           "bathroom",
           "livingRoom",
           0.3858843147754669,
           "00004213.jpg",
           false
          ],
          [
           "bathroom",
           "livingRoom",
           0.7700446844100952,
           "15320674.jpg",
           false
          ],
          [
           "bedroom",
           "livingRoom",
           0.43324771523475647,
           "00001452.jpg",
           false
          ],
          [
           "bedroom",
           "livingRoom",
           0.5565676093101501,
           "00001751.jpg",
           false
          ],
          [
           "dining_room",
           "livingRoom",
           0.4252321720123291,
           "00000746.jpg",
           false
          ],
          [
           "dining_room",
           "livingRoom",
           0.45161938667297363,
           "00001919.jpg",
           false
          ],
          [
           "dining_room",
           "livingRoom",
           0.328448086977005,
           "00003233.jpg",
           false
          ],
          [
           "kitchen",
           "livingRoom",
           0.6069079637527466,
           "gsun_0a5c6a8e880f721ccf500681741f8f06.jpg",
           false
          ],
          [
           "kitchen",
           "livingRoom",
           0.4201137125492096,
           "gsun_ff222a0c44b2c6465bc8eaa1bc74c0a5.jpg",
           false
          ]
         ],
         "hovertemplate": "y_true=%{customdata[0]}<br>y_pred=%{customdata[1]}<br>y_pred_proba=%{customdata[2]}<br>filename=%{customdata[3]}<br>right_predicted=%{customdata[4]}",
         "jitter": 0.3,
         "marker": {
          "color": "red"
         },
         "name": "|label: livingRoom - predicción incorrecta|",
         "pointpos": -1.8,
         "type": "box",
         "xaxis": "x",
         "y": [
          0.3858843147754669,
          0.7700446844100952,
          0.43324771523475647,
          0.5565676093101501,
          0.4252321720123291,
          0.45161938667297363,
          0.328448086977005,
          0.6069079637527466,
          0.4201137125492096
         ],
         "yaxis": "y"
        }
       ],
       "layout": {
        "annotations": [
         {
          "font": {
           "size": 16
          },
          "showarrow": false,
          "text": "Modelo del experimento 6 (subconjunto) - y_pred_proba",
          "x": 0.5,
          "xanchor": "center",
          "xref": "paper",
          "y": 1,
          "yanchor": "bottom",
          "yref": "paper"
         }
        ],
        "margin": {
         "b": 80,
         "l": 40,
         "r": 30,
         "t": 100
        },
        "showlegend": false,
        "template": {
         "data": {
          "bar": [
           {
            "error_x": {
             "color": "#2a3f5f"
            },
            "error_y": {
             "color": "#2a3f5f"
            },
            "marker": {
             "line": {
              "color": "#E5ECF6",
              "width": 0.5
             }
            },
            "type": "bar"
           }
          ],
          "barpolar": [
           {
            "marker": {
             "line": {
              "color": "#E5ECF6",
              "width": 0.5
             }
            },
            "type": "barpolar"
           }
          ],
          "carpet": [
           {
            "aaxis": {
             "endlinecolor": "#2a3f5f",
             "gridcolor": "white",
             "linecolor": "white",
             "minorgridcolor": "white",
             "startlinecolor": "#2a3f5f"
            },
            "baxis": {
             "endlinecolor": "#2a3f5f",
             "gridcolor": "white",
             "linecolor": "white",
             "minorgridcolor": "white",
             "startlinecolor": "#2a3f5f"
            },
            "type": "carpet"
           }
          ],
          "choropleth": [
           {
            "colorbar": {
             "outlinewidth": 0,
             "ticks": ""
            },
            "type": "choropleth"
           }
          ],
          "contour": [
           {
            "colorbar": {
             "outlinewidth": 0,
             "ticks": ""
            },
            "colorscale": [
             [
              0,
              "#0d0887"
             ],
             [
              0.1111111111111111,
              "#46039f"
             ],
             [
              0.2222222222222222,
              "#7201a8"
             ],
             [
              0.3333333333333333,
              "#9c179e"
             ],
             [
              0.4444444444444444,
              "#bd3786"
             ],
             [
              0.5555555555555556,
              "#d8576b"
             ],
             [
              0.6666666666666666,
              "#ed7953"
             ],
             [
              0.7777777777777778,
              "#fb9f3a"
             ],
             [
              0.8888888888888888,
              "#fdca26"
             ],
             [
              1,
              "#f0f921"
             ]
            ],
            "type": "contour"
           }
          ],
          "contourcarpet": [
           {
            "colorbar": {
             "outlinewidth": 0,
             "ticks": ""
            },
            "type": "contourcarpet"
           }
          ],
          "heatmap": [
           {
            "colorbar": {
             "outlinewidth": 0,
             "ticks": ""
            },
            "colorscale": [
             [
              0,
              "#0d0887"
             ],
             [
              0.1111111111111111,
              "#46039f"
             ],
             [
              0.2222222222222222,
              "#7201a8"
             ],
             [
              0.3333333333333333,
              "#9c179e"
             ],
             [
              0.4444444444444444,
              "#bd3786"
             ],
             [
              0.5555555555555556,
              "#d8576b"
             ],
             [
              0.6666666666666666,
              "#ed7953"
             ],
             [
              0.7777777777777778,
              "#fb9f3a"
             ],
             [
              0.8888888888888888,
              "#fdca26"
             ],
             [
              1,
              "#f0f921"
             ]
            ],
            "type": "heatmap"
           }
          ],
          "heatmapgl": [
           {
            "colorbar": {
             "outlinewidth": 0,
             "ticks": ""
            },
            "colorscale": [
             [
              0,
              "#0d0887"
             ],
             [
              0.1111111111111111,
              "#46039f"
             ],
             [
              0.2222222222222222,
              "#7201a8"
             ],
             [
              0.3333333333333333,
              "#9c179e"
             ],
             [
              0.4444444444444444,
              "#bd3786"
             ],
             [
              0.5555555555555556,
              "#d8576b"
             ],
             [
              0.6666666666666666,
              "#ed7953"
             ],
             [
              0.7777777777777778,
              "#fb9f3a"
             ],
             [
              0.8888888888888888,
              "#fdca26"
             ],
             [
              1,
              "#f0f921"
             ]
            ],
            "type": "heatmapgl"
           }
          ],
          "histogram": [
           {
            "marker": {
             "colorbar": {
              "outlinewidth": 0,
              "ticks": ""
             }
            },
            "type": "histogram"
           }
          ],
          "histogram2d": [
           {
            "colorbar": {
             "outlinewidth": 0,
             "ticks": ""
            },
            "colorscale": [
             [
              0,
              "#0d0887"
             ],
             [
              0.1111111111111111,
              "#46039f"
             ],
             [
              0.2222222222222222,
              "#7201a8"
             ],
             [
              0.3333333333333333,
              "#9c179e"
             ],
             [
              0.4444444444444444,
              "#bd3786"
             ],
             [
              0.5555555555555556,
              "#d8576b"
             ],
             [
              0.6666666666666666,
              "#ed7953"
             ],
             [
              0.7777777777777778,
              "#fb9f3a"
             ],
             [
              0.8888888888888888,
              "#fdca26"
             ],
             [
              1,
              "#f0f921"
             ]
            ],
            "type": "histogram2d"
           }
          ],
          "histogram2dcontour": [
           {
            "colorbar": {
             "outlinewidth": 0,
             "ticks": ""
            },
            "colorscale": [
             [
              0,
              "#0d0887"
             ],
             [
              0.1111111111111111,
              "#46039f"
             ],
             [
              0.2222222222222222,
              "#7201a8"
             ],
             [
              0.3333333333333333,
              "#9c179e"
             ],
             [
              0.4444444444444444,
              "#bd3786"
             ],
             [
              0.5555555555555556,
              "#d8576b"
             ],
             [
              0.6666666666666666,
              "#ed7953"
             ],
             [
              0.7777777777777778,
              "#fb9f3a"
             ],
             [
              0.8888888888888888,
              "#fdca26"
             ],
             [
              1,
              "#f0f921"
             ]
            ],
            "type": "histogram2dcontour"
           }
          ],
          "mesh3d": [
           {
            "colorbar": {
             "outlinewidth": 0,
             "ticks": ""
            },
            "type": "mesh3d"
           }
          ],
          "parcoords": [
           {
            "line": {
             "colorbar": {
              "outlinewidth": 0,
              "ticks": ""
             }
            },
            "type": "parcoords"
           }
          ],
          "pie": [
           {
            "automargin": true,
            "type": "pie"
           }
          ],
          "scatter": [
           {
            "marker": {
             "colorbar": {
              "outlinewidth": 0,
              "ticks": ""
             }
            },
            "type": "scatter"
           }
          ],
          "scatter3d": [
           {
            "line": {
             "colorbar": {
              "outlinewidth": 0,
              "ticks": ""
             }
            },
            "marker": {
             "colorbar": {
              "outlinewidth": 0,
              "ticks": ""
             }
            },
            "type": "scatter3d"
           }
          ],
          "scattercarpet": [
           {
            "marker": {
             "colorbar": {
              "outlinewidth": 0,
              "ticks": ""
             }
            },
            "type": "scattercarpet"
           }
          ],
          "scattergeo": [
           {
            "marker": {
             "colorbar": {
              "outlinewidth": 0,
              "ticks": ""
             }
            },
            "type": "scattergeo"
           }
          ],
          "scattergl": [
           {
            "marker": {
             "colorbar": {
              "outlinewidth": 0,
              "ticks": ""
             }
            },
            "type": "scattergl"
           }
          ],
          "scattermapbox": [
           {
            "marker": {
             "colorbar": {
              "outlinewidth": 0,
              "ticks": ""
             }
            },
            "type": "scattermapbox"
           }
          ],
          "scatterpolar": [
           {
            "marker": {
             "colorbar": {
              "outlinewidth": 0,
              "ticks": ""
             }
            },
            "type": "scatterpolar"
           }
          ],
          "scatterpolargl": [
           {
            "marker": {
             "colorbar": {
              "outlinewidth": 0,
              "ticks": ""
             }
            },
            "type": "scatterpolargl"
           }
          ],
          "scatterternary": [
           {
            "marker": {
             "colorbar": {
              "outlinewidth": 0,
              "ticks": ""
             }
            },
            "type": "scatterternary"
           }
          ],
          "surface": [
           {
            "colorbar": {
             "outlinewidth": 0,
             "ticks": ""
            },
            "colorscale": [
             [
              0,
              "#0d0887"
             ],
             [
              0.1111111111111111,
              "#46039f"
             ],
             [
              0.2222222222222222,
              "#7201a8"
             ],
             [
              0.3333333333333333,
              "#9c179e"
             ],
             [
              0.4444444444444444,
              "#bd3786"
             ],
             [
              0.5555555555555556,
              "#d8576b"
             ],
             [
              0.6666666666666666,
              "#ed7953"
             ],
             [
              0.7777777777777778,
              "#fb9f3a"
             ],
             [
              0.8888888888888888,
              "#fdca26"
             ],
             [
              1,
              "#f0f921"
             ]
            ],
            "type": "surface"
           }
          ],
          "table": [
           {
            "cells": {
             "fill": {
              "color": "#EBF0F8"
             },
             "line": {
              "color": "white"
             }
            },
            "header": {
             "fill": {
              "color": "#C8D4E3"
             },
             "line": {
              "color": "white"
             }
            },
            "type": "table"
           }
          ]
         },
         "layout": {
          "annotationdefaults": {
           "arrowcolor": "#2a3f5f",
           "arrowhead": 0,
           "arrowwidth": 1
          },
          "coloraxis": {
           "colorbar": {
            "outlinewidth": 0,
            "ticks": ""
           }
          },
          "colorscale": {
           "diverging": [
            [
             0,
             "#8e0152"
            ],
            [
             0.1,
             "#c51b7d"
            ],
            [
             0.2,
             "#de77ae"
            ],
            [
             0.3,
             "#f1b6da"
            ],
            [
             0.4,
             "#fde0ef"
            ],
            [
             0.5,
             "#f7f7f7"
            ],
            [
             0.6,
             "#e6f5d0"
            ],
            [
             0.7,
             "#b8e186"
            ],
            [
             0.8,
             "#7fbc41"
            ],
            [
             0.9,
             "#4d9221"
            ],
            [
             1,
             "#276419"
            ]
           ],
           "sequential": [
            [
             0,
             "#0d0887"
            ],
            [
             0.1111111111111111,
             "#46039f"
            ],
            [
             0.2222222222222222,
             "#7201a8"
            ],
            [
             0.3333333333333333,
             "#9c179e"
            ],
            [
             0.4444444444444444,
             "#bd3786"
            ],
            [
             0.5555555555555556,
             "#d8576b"
            ],
            [
             0.6666666666666666,
             "#ed7953"
            ],
            [
             0.7777777777777778,
             "#fb9f3a"
            ],
            [
             0.8888888888888888,
             "#fdca26"
            ],
            [
             1,
             "#f0f921"
            ]
           ],
           "sequentialminus": [
            [
             0,
             "#0d0887"
            ],
            [
             0.1111111111111111,
             "#46039f"
            ],
            [
             0.2222222222222222,
             "#7201a8"
            ],
            [
             0.3333333333333333,
             "#9c179e"
            ],
            [
             0.4444444444444444,
             "#bd3786"
            ],
            [
             0.5555555555555556,
             "#d8576b"
            ],
            [
             0.6666666666666666,
             "#ed7953"
            ],
            [
             0.7777777777777778,
             "#fb9f3a"
            ],
            [
             0.8888888888888888,
             "#fdca26"
            ],
            [
             1,
             "#f0f921"
            ]
           ]
          },
          "colorway": [
           "#636efa",
           "#EF553B",
           "#00cc96",
           "#ab63fa",
           "#FFA15A",
           "#19d3f3",
           "#FF6692",
           "#B6E880",
           "#FF97FF",
           "#FECB52"
          ],
          "font": {
           "color": "#2a3f5f"
          },
          "geo": {
           "bgcolor": "white",
           "lakecolor": "white",
           "landcolor": "#E5ECF6",
           "showlakes": true,
           "showland": true,
           "subunitcolor": "white"
          },
          "hoverlabel": {
           "align": "left"
          },
          "hovermode": "closest",
          "mapbox": {
           "style": "light"
          },
          "paper_bgcolor": "white",
          "plot_bgcolor": "#E5ECF6",
          "polar": {
           "angularaxis": {
            "gridcolor": "white",
            "linecolor": "white",
            "ticks": ""
           },
           "bgcolor": "#E5ECF6",
           "radialaxis": {
            "gridcolor": "white",
            "linecolor": "white",
            "ticks": ""
           }
          },
          "scene": {
           "xaxis": {
            "backgroundcolor": "#E5ECF6",
            "gridcolor": "white",
            "gridwidth": 2,
            "linecolor": "white",
            "showbackground": true,
            "ticks": "",
            "zerolinecolor": "white"
           },
           "yaxis": {
            "backgroundcolor": "#E5ECF6",
            "gridcolor": "white",
            "gridwidth": 2,
            "linecolor": "white",
            "showbackground": true,
            "ticks": "",
            "zerolinecolor": "white"
           },
           "zaxis": {
            "backgroundcolor": "#E5ECF6",
            "gridcolor": "white",
            "gridwidth": 2,
            "linecolor": "white",
            "showbackground": true,
            "ticks": "",
            "zerolinecolor": "white"
           }
          },
          "shapedefaults": {
           "line": {
            "color": "#2a3f5f"
           }
          },
          "ternary": {
           "aaxis": {
            "gridcolor": "white",
            "linecolor": "white",
            "ticks": ""
           },
           "baxis": {
            "gridcolor": "white",
            "linecolor": "white",
            "ticks": ""
           },
           "bgcolor": "#E5ECF6",
           "caxis": {
            "gridcolor": "white",
            "linecolor": "white",
            "ticks": ""
           }
          },
          "title": {
           "x": 0.05
          },
          "xaxis": {
           "automargin": true,
           "gridcolor": "white",
           "linecolor": "white",
           "ticks": "",
           "title": {
            "standoff": 15
           },
           "zerolinecolor": "white",
           "zerolinewidth": 2
          },
          "yaxis": {
           "automargin": true,
           "gridcolor": "white",
           "linecolor": "white",
           "ticks": "",
           "title": {
            "standoff": 15
           },
           "zerolinecolor": "white",
           "zerolinewidth": 2
          }
         }
        },
        "title": {
         "text": "Distribución de probabilidades asignadas a la categoría elegida para casos predichos correcta e incorrectamente"
        },
        "xaxis": {
         "anchor": "y",
         "domain": [
          0,
          1
         ],
         "title": {
          "text": "y_true"
         }
        },
        "yaxis": {
         "anchor": "x",
         "autorange": true,
         "domain": [
          0,
          1
         ],
         "gridcolor": "rgb(255, 255, 255)",
         "gridwidth": 1,
         "showgrid": true,
         "title": {
          "text": "y_pred_proba"
         },
         "zeroline": true,
         "zerolinecolor": "rgb(255, 255, 255)",
         "zerolinewidth": 2
        }
       }
      },
      "text/html": [
       "<div>\n",
       "        \n",
       "        \n",
       "            <div id=\"29615fb9-8bb0-41cd-a06b-2f4c3882ca6f\" class=\"plotly-graph-div\" style=\"height:525px; width:100%;\"></div>\n",
       "            <script type=\"text/javascript\">\n",
       "                require([\"plotly\"], function(Plotly) {\n",
       "                    window.PLOTLYENV=window.PLOTLYENV || {};\n",
       "                    \n",
       "                if (document.getElementById(\"29615fb9-8bb0-41cd-a06b-2f4c3882ca6f\")) {\n",
       "                    Plotly.newPlot(\n",
       "                        '29615fb9-8bb0-41cd-a06b-2f4c3882ca6f',\n",
       "                        [{\"boxmean\": true, \"boxpoints\": \"all\", \"customdata\": [[\"bathroom\", \"bathroom\", 0.9961991906166077, \"00000139.jpg\", true], [\"bathroom\", \"bathroom\", 0.8970264196395874, \"00000393.jpg\", true], [\"bathroom\", \"bathroom\", 0.7137749791145325, \"00000655.jpg\", true], [\"bathroom\", \"bathroom\", 0.6782466769218445, \"00000681.jpg\", true], [\"bathroom\", \"bathroom\", 0.9988466501235962, \"00001057.jpg\", true], [\"bathroom\", \"bathroom\", 0.9966754913330078, \"00001342.jpg\", true], [\"bathroom\", \"bathroom\", 0.9652833938598633, \"00001489.jpg\", true], [\"bathroom\", \"bathroom\", 0.9977645874023438, \"00001645.jpg\", true], [\"bathroom\", \"bathroom\", 0.9387685060501099, \"00003103.jpg\", true], [\"bathroom\", \"bathroom\", 0.9881522059440613, \"00003240.jpg\", true], [\"bathroom\", \"bathroom\", 0.9973560571670532, \"00003321.jpg\", true], [\"bathroom\", \"bathroom\", 0.8050761222839355, \"00003526.jpg\", true], [\"bathroom\", \"bathroom\", 0.8626729846000671, \"11139172.jpg\", true], [\"bathroom\", \"bathroom\", 0.9863970875740051, \"11865906.jpg\", true], [\"bathroom\", \"bathroom\", 0.8759991526603699, \"13965910.jpg\", true], [\"bathroom\", \"bathroom\", 0.9213120341300964, \"14231680.jpg\", true], [\"bathroom\", \"bathroom\", 0.9829618334770203, \"15757982.jpg\", true], [\"bathroom\", \"bathroom\", 0.9757248163223267, \"36117165.jpg\", true], [\"bathroom\", \"bathroom\", 0.9713026881217957, \"4284122.jpg\", true], [\"bathroom\", \"bathroom\", 0.9977689981460571, \"43122075.jpg\", true], [\"bathroom\", \"bathroom\", 0.9663233160972595, \"44019757.jpg\", true]], \"hovertemplate\": \"y_true=%{customdata[0]}<br>y_pred=%{customdata[1]}<br>y_pred_proba=%{customdata[2]}<br>filename=%{customdata[3]}<br>right_predicted=%{customdata[4]}\", \"jitter\": 0.3, \"marker\": {\"color\": \"green\"}, \"name\": \"|label: bathroom - predicci\\u00f3n correcta|\", \"pointpos\": -1.8, \"type\": \"box\", \"xaxis\": \"x\", \"y\": [0.9961991906166077, 0.8970264196395874, 0.7137749791145325, 0.6782466769218445, 0.9988466501235962, 0.9966754913330078, 0.9652833938598633, 0.9977645874023438, 0.9387685060501099, 0.9881522059440613, 0.9973560571670532, 0.8050761222839355, 0.8626729846000671, 0.9863970875740051, 0.8759991526603699, 0.9213120341300964, 0.9829618334770203, 0.9757248163223267, 0.9713026881217957, 0.9977689981460571, 0.9663233160972595], \"yaxis\": \"y\"}, {\"boxmean\": true, \"boxpoints\": \"all\", \"customdata\": [[\"bedroom\", \"bathroom\", 0.8886272311210632, \"11775058.jpg\", false], [\"bedroom\", \"bathroom\", 0.474337100982666, \"21237851.jpg\", false], [\"kitchen\", \"bathroom\", 0.8922523856163025, \"48996081.jpg\", false], [\"livingRoom\", \"bathroom\", 0.534672737121582, \"31434025.jpg\", false], [\"livingRoom\", \"bathroom\", 0.5467072129249573, \"55554347.jpg\", false]], \"hovertemplate\": \"y_true=%{customdata[0]}<br>y_pred=%{customdata[1]}<br>y_pred_proba=%{customdata[2]}<br>filename=%{customdata[3]}<br>right_predicted=%{customdata[4]}\", \"jitter\": 0.3, \"marker\": {\"color\": \"red\"}, \"name\": \"|label: bathroom - predicci\\u00f3n incorrecta|\", \"pointpos\": -1.8, \"type\": \"box\", \"xaxis\": \"x\", \"y\": [0.8886272311210632, 0.474337100982666, 0.8922523856163025, 0.534672737121582, 0.5467072129249573], \"yaxis\": \"y\"}, {\"boxmean\": true, \"boxpoints\": \"all\", \"customdata\": [[\"bedroom\", \"bedroom\", 0.9833312630653381, \"00000134.jpg\", true], [\"bedroom\", \"bedroom\", 0.5988254547119141, \"00000186.jpg\", true], [\"bedroom\", \"bedroom\", 0.9929314851760864, \"00000196.jpg\", true], [\"bedroom\", \"bedroom\", 0.9986974596977234, \"00000661.jpg\", true], [\"bedroom\", \"bedroom\", 0.9978698492050171, \"00000905.jpg\", true], [\"bedroom\", \"bedroom\", 0.9083989262580872, \"00001261.jpg\", true], [\"bedroom\", \"bedroom\", 0.9834186434745789, \"00001267.jpg\", true], [\"bedroom\", \"bedroom\", 0.8992171287536621, \"00001465.jpg\", true], [\"bedroom\", \"bedroom\", 0.6907017230987549, \"00001624.jpg\", true], [\"bedroom\", \"bedroom\", 0.9655563831329346, \"00002102.jpg\", true], [\"bedroom\", \"bedroom\", 0.9980601668357849, \"00002457.jpg\", true], [\"bedroom\", \"bedroom\", 0.9979304075241089, \"00002904.jpg\", true], [\"bedroom\", \"bedroom\", 0.9719760417938232, \"00003025.jpg\", true], [\"bedroom\", \"bedroom\", 0.9184511303901672, \"00004989.jpg\", true], [\"bedroom\", \"bedroom\", 0.9556879997253418, \"11084870.jpg\", true], [\"bedroom\", \"bedroom\", 0.8764070272445679, \"11867892.jpg\", true], [\"bedroom\", \"bedroom\", 0.8260867595672607, \"9903849.jpg\", true]], \"hovertemplate\": \"y_true=%{customdata[0]}<br>y_pred=%{customdata[1]}<br>y_pred_proba=%{customdata[2]}<br>filename=%{customdata[3]}<br>right_predicted=%{customdata[4]}\", \"jitter\": 0.3, \"marker\": {\"color\": \"green\"}, \"name\": \"|label: bedroom - predicci\\u00f3n correcta|\", \"pointpos\": -1.8, \"type\": \"box\", \"xaxis\": \"x\", \"y\": [0.9833312630653381, 0.5988254547119141, 0.9929314851760864, 0.9986974596977234, 0.9978698492050171, 0.9083989262580872, 0.9834186434745789, 0.8992171287536621, 0.6907017230987549, 0.9655563831329346, 0.9980601668357849, 0.9979304075241089, 0.9719760417938232, 0.9184511303901672, 0.9556879997253418, 0.8764070272445679, 0.8260867595672607], \"yaxis\": \"y\"}, {\"boxmean\": true, \"boxpoints\": \"all\", \"customdata\": [[\"bathroom\", \"bedroom\", 0.6431183218955994, \"00000497.jpg\", false], [\"frontyard\", \"bedroom\", 0.5060346722602844, \"00003146.jpg\", false], [\"livingRoom\", \"bedroom\", 0.5942956209182739, \"gsun_1bdb22548de975b78c4657c8e39bf4da.jpg\", false]], \"hovertemplate\": \"y_true=%{customdata[0]}<br>y_pred=%{customdata[1]}<br>y_pred_proba=%{customdata[2]}<br>filename=%{customdata[3]}<br>right_predicted=%{customdata[4]}\", \"jitter\": 0.3, \"marker\": {\"color\": \"red\"}, \"name\": \"|label: bedroom - predicci\\u00f3n incorrecta|\", \"pointpos\": -1.8, \"type\": \"box\", \"xaxis\": \"x\", \"y\": [0.6431183218955994, 0.5060346722602844, 0.5942956209182739], \"yaxis\": \"y\"}, {\"boxmean\": true, \"boxpoints\": \"all\", \"customdata\": [[\"dining_room\", \"dining_room\", 0.9964596629142761, \"00000073.jpg\", true], [\"dining_room\", \"dining_room\", 0.9903661012649536, \"00000134.jpg\", true], [\"dining_room\", \"dining_room\", 0.8980693221092224, \"00000319.jpg\", true], [\"dining_room\", \"dining_room\", 0.7161125540733337, \"00000399.jpg\", true], [\"dining_room\", \"dining_room\", 0.700242280960083, \"00000747.jpg\", true], [\"dining_room\", \"dining_room\", 0.8932020664215088, \"00000879.jpg\", true], [\"dining_room\", \"dining_room\", 0.9850066304206848, \"00000881.jpg\", true], [\"dining_room\", \"dining_room\", 0.9515904784202576, \"00000998.jpg\", true], [\"dining_room\", \"dining_room\", 0.9943349957466125, \"00001010.jpg\", true], [\"dining_room\", \"dining_room\", 0.6061009168624878, \"00002559.jpg\", true], [\"dining_room\", \"dining_room\", 0.9438377618789673, \"00002683.jpg\", true], [\"dining_room\", \"dining_room\", 0.8832095861434937, \"00002848.jpg\", true], [\"dining_room\", \"dining_room\", 0.6002535223960876, \"00003660.jpg\", true], [\"dining_room\", \"dining_room\", 0.7183650135993958, \"00003795.jpg\", true], [\"dining_room\", \"dining_room\", 0.9917964935302734, \"00004096.jpg\", true], [\"dining_room\", \"dining_room\", 0.9856696724891663, \"00004314.jpg\", true], [\"dining_room\", \"dining_room\", 0.9194492101669312, \"00004691.jpg\", true], [\"dining_room\", \"dining_room\", 0.9471878409385681, \"gsun_2f32c3b4991f47a4c12170880672c77d.jpg\", true], [\"dining_room\", \"dining_room\", 0.9335323572158813, \"gsun_8730b6bc8a9c25fe043d85992ad62db4.jpg\", true], [\"dining_room\", \"dining_room\", 0.9832964539527893, \"gsun_b7170bfa135a0fc069e5445154c24b87.jpg\", true]], \"hovertemplate\": \"y_true=%{customdata[0]}<br>y_pred=%{customdata[1]}<br>y_pred_proba=%{customdata[2]}<br>filename=%{customdata[3]}<br>right_predicted=%{customdata[4]}\", \"jitter\": 0.3, \"marker\": {\"color\": \"green\"}, \"name\": \"|label: dining_room - predicci\\u00f3n correcta|\", \"pointpos\": -1.8, \"type\": \"box\", \"xaxis\": \"x\", \"y\": [0.9964596629142761, 0.9903661012649536, 0.8980693221092224, 0.7161125540733337, 0.700242280960083, 0.8932020664215088, 0.9850066304206848, 0.9515904784202576, 0.9943349957466125, 0.6061009168624878, 0.9438377618789673, 0.8832095861434937, 0.6002535223960876, 0.7183650135993958, 0.9917964935302734, 0.9856696724891663, 0.9194492101669312, 0.9471878409385681, 0.9335323572158813, 0.9832964539527893], \"yaxis\": \"y\"}, {\"boxmean\": true, \"boxpoints\": \"all\", \"customdata\": [[\"bedroom\", \"dining_room\", 0.346824049949646, \"00000314.jpg\", false], [\"bedroom\", \"dining_room\", 0.5884542465209961, \"00000361.jpg\", false], [\"kitchen\", \"dining_room\", 0.4241105318069458, \"gsun_f787799e1ba5be0dc71a48dbb9c330db.jpg\", false], [\"kitchen\", \"dining_room\", 0.8943784236907959, \"gsun_ff1cb147e42b7bf2ab62e1ea5d5b3080.jpg\", false], [\"livingRoom\", \"dining_room\", 0.7035929560661316, \"gsun_12633c2b7fd7802b7b532250e22d296e.jpg\", false], [\"livingRoom\", \"dining_room\", 0.49425846338272095, \"gsun_3b596ca24a2045f2e8a176dbf94b03cf.jpg\", false], [\"livingRoom\", \"dining_room\", 0.6757645606994629, \"gsun_3c6d543e0842ec253477432ad4604ed2.jpg\", false]], \"hovertemplate\": \"y_true=%{customdata[0]}<br>y_pred=%{customdata[1]}<br>y_pred_proba=%{customdata[2]}<br>filename=%{customdata[3]}<br>right_predicted=%{customdata[4]}\", \"jitter\": 0.3, \"marker\": {\"color\": \"red\"}, \"name\": \"|label: dining_room - predicci\\u00f3n incorrecta|\", \"pointpos\": -1.8, \"type\": \"box\", \"xaxis\": \"x\", \"y\": [0.346824049949646, 0.5884542465209961, 0.4241105318069458, 0.8943784236907959, 0.7035929560661316, 0.49425846338272095, 0.6757645606994629], \"yaxis\": \"y\"}, {\"boxmean\": true, \"boxpoints\": \"all\", \"customdata\": [[\"frontyard\", \"frontyard\", 0.9996697902679443, \"00002919.jpg\", true], [\"frontyard\", \"frontyard\", 0.9999957084655762, \"00002947.jpg\", true], [\"frontyard\", \"frontyard\", 0.9999997615814209, \"00002964.jpg\", true], [\"frontyard\", \"frontyard\", 0.9999997615814209, \"00002965.jpg\", true], [\"frontyard\", \"frontyard\", 1.0, \"00003008.jpg\", true], [\"frontyard\", \"frontyard\", 0.9995653033256531, \"00003018.jpg\", true], [\"frontyard\", \"frontyard\", 0.9999934434890747, \"00003020.jpg\", true], [\"frontyard\", \"frontyard\", 0.9999953508377075, \"00003043.jpg\", true], [\"frontyard\", \"frontyard\", 1.0, \"00003054.jpg\", true], [\"frontyard\", \"frontyard\", 0.9075428247451782, \"00003063.jpg\", true], [\"frontyard\", \"frontyard\", 0.9995158910751343, \"00003172.jpg\", true], [\"frontyard\", \"frontyard\", 0.9999994039535522, \"00003174.jpg\", true], [\"frontyard\", \"frontyard\", 0.9999980926513672, \"00003236.jpg\", true], [\"frontyard\", \"frontyard\", 1.0, \"00003258.jpg\", true], [\"frontyard\", \"frontyard\", 1.0, \"00003262.jpg\", true], [\"frontyard\", \"frontyard\", 1.0, \"00003282.jpg\", true], [\"frontyard\", \"frontyard\", 0.9999996423721313, \"00003313.jpg\", true], [\"frontyard\", \"frontyard\", 0.9999827146530151, \"00003376.jpg\", true], [\"frontyard\", \"frontyard\", 1.0, \"00003401.jpg\", true], [\"frontyard\", \"frontyard\", 0.9999990463256836, \"00003586.jpg\", true], [\"frontyard\", \"frontyard\", 0.9999991655349731, \"00003610.jpg\", true], [\"frontyard\", \"frontyard\", 0.997687578201294, \"00003709.jpg\", true], [\"frontyard\", \"frontyard\", 0.9994787573814392, \"gsun_bcf6e124f7899c395cd95f00a9abe701.jpg\", true], [\"frontyard\", \"frontyard\", 0.9903910160064697, \"gsun_cb16558078e4f52877579122ec43bea3.jpg\", true]], \"hovertemplate\": \"y_true=%{customdata[0]}<br>y_pred=%{customdata[1]}<br>y_pred_proba=%{customdata[2]}<br>filename=%{customdata[3]}<br>right_predicted=%{customdata[4]}\", \"jitter\": 0.3, \"marker\": {\"color\": \"green\"}, \"name\": \"|label: frontyard - predicci\\u00f3n correcta|\", \"pointpos\": -1.8, \"type\": \"box\", \"xaxis\": \"x\", \"y\": [0.9996697902679443, 0.9999957084655762, 0.9999997615814209, 0.9999997615814209, 1.0, 0.9995653033256531, 0.9999934434890747, 0.9999953508377075, 1.0, 0.9075428247451782, 0.9995158910751343, 0.9999994039535522, 0.9999980926513672, 1.0, 1.0, 1.0, 0.9999996423721313, 0.9999827146530151, 1.0, 0.9999990463256836, 0.9999991655349731, 0.997687578201294, 0.9994787573814392, 0.9903910160064697], \"yaxis\": \"y\"}, {\"boxmean\": true, \"boxpoints\": \"all\", \"customdata\": [[\"livingRoom\", \"frontyard\", 0.6386154890060425, \"00000100.jpg\", false], [\"livingRoom\", \"frontyard\", 0.42964795231819153, \"gsun_1cc782a021199f296c618b792407a197.jpg\", false]], \"hovertemplate\": \"y_true=%{customdata[0]}<br>y_pred=%{customdata[1]}<br>y_pred_proba=%{customdata[2]}<br>filename=%{customdata[3]}<br>right_predicted=%{customdata[4]}\", \"jitter\": 0.3, \"marker\": {\"color\": \"red\"}, \"name\": \"|label: frontyard - predicci\\u00f3n incorrecta|\", \"pointpos\": -1.8, \"type\": \"box\", \"xaxis\": \"x\", \"y\": [0.6386154890060425, 0.42964795231819153], \"yaxis\": \"y\"}, {\"boxmean\": true, \"boxpoints\": \"all\", \"customdata\": [[\"kitchen\", \"kitchen\", 0.9646100401878357, \"00000316.jpg\", true], [\"kitchen\", \"kitchen\", 0.9346297979354858, \"00000494.jpg\", true], [\"kitchen\", \"kitchen\", 0.4257659614086151, \"00000661.jpg\", true], [\"kitchen\", \"kitchen\", 0.9926500916481018, \"00003030.jpg\", true], [\"kitchen\", \"kitchen\", 0.9929203391075134, \"00003167.jpg\", true], [\"kitchen\", \"kitchen\", 0.8158180713653564, \"00003774.jpg\", true], [\"kitchen\", \"kitchen\", 0.5334001183509827, \"00004385.jpg\", true], [\"kitchen\", \"kitchen\", 0.9954482913017273, \"00004402.jpg\", true], [\"kitchen\", \"kitchen\", 0.9422082304954529, \"00004411.jpg\", true], [\"kitchen\", \"kitchen\", 0.8681457042694092, \"00004622.jpg\", true], [\"kitchen\", \"kitchen\", 0.33187979459762573, \"41903049.jpg\", true], [\"kitchen\", \"kitchen\", 0.49469175934791565, \"43121986.jpg\", true], [\"kitchen\", \"kitchen\", 0.9500651955604553, \"gsun_bdd260f673ddea1614be04e77826f62a.jpg\", true], [\"kitchen\", \"kitchen\", 0.9905763864517212, \"gsun_d0596e69362e1ed8cce161cb79cd80a0.jpg\", true], [\"kitchen\", \"kitchen\", 0.5282705426216125, \"gsun_d17554e860fe591742c2ce791357a671.jpg\", true], [\"kitchen\", \"kitchen\", 0.9710137248039246, \"gsun_e357dbf7f82a2de005d8c3b5ef1ba69d.jpg\", true], [\"kitchen\", \"kitchen\", 0.9952322840690613, \"gsun_e8a69d1300eff4dd51e3c7a7f3f42da7.jpg\", true], [\"kitchen\", \"kitchen\", 0.9997544884681702, \"gsun_e8db166d55a16ab749cdd8d0bfc1145a.jpg\", true], [\"kitchen\", \"kitchen\", 0.555195152759552, \"gsun_f0445d03107792d661eee314468f46d0.jpg\", true], [\"kitchen\", \"kitchen\", 0.9504398703575134, \"gsun_ff390eefcf4918dc63b877eeb02fc7d3.jpg\", true]], \"hovertemplate\": \"y_true=%{customdata[0]}<br>y_pred=%{customdata[1]}<br>y_pred_proba=%{customdata[2]}<br>filename=%{customdata[3]}<br>right_predicted=%{customdata[4]}\", \"jitter\": 0.3, \"marker\": {\"color\": \"green\"}, \"name\": \"|label: kitchen - predicci\\u00f3n correcta|\", \"pointpos\": -1.8, \"type\": \"box\", \"xaxis\": \"x\", \"y\": [0.9646100401878357, 0.9346297979354858, 0.4257659614086151, 0.9926500916481018, 0.9929203391075134, 0.8158180713653564, 0.5334001183509827, 0.9954482913017273, 0.9422082304954529, 0.8681457042694092, 0.33187979459762573, 0.49469175934791565, 0.9500651955604553, 0.9905763864517212, 0.5282705426216125, 0.9710137248039246, 0.9952322840690613, 0.9997544884681702, 0.555195152759552, 0.9504398703575134], \"yaxis\": \"y\"}, {\"boxmean\": true, \"boxpoints\": \"all\", \"customdata\": [[\"bathroom\", \"kitchen\", 0.3521263599395752, \"00000332.jpg\", false], [\"bedroom\", \"kitchen\", 0.4820428490638733, \"00001242.jpg\", false], [\"bedroom\", \"kitchen\", 0.28364792466163635, \"33145669.jpg\", false], [\"dining_room\", \"kitchen\", 0.7820748090744019, \"00002422.jpg\", false], [\"dining_room\", \"kitchen\", 0.49896466732025146, \"00004469.jpg\", false], [\"livingRoom\", \"kitchen\", 0.44605791568756104, \"gsun_0ebc18c4cd8b6b52207613deff40d002.jpg\", false]], \"hovertemplate\": \"y_true=%{customdata[0]}<br>y_pred=%{customdata[1]}<br>y_pred_proba=%{customdata[2]}<br>filename=%{customdata[3]}<br>right_predicted=%{customdata[4]}\", \"jitter\": 0.3, \"marker\": {\"color\": \"red\"}, \"name\": \"|label: kitchen - predicci\\u00f3n incorrecta|\", \"pointpos\": -1.8, \"type\": \"box\", \"xaxis\": \"x\", \"y\": [0.3521263599395752, 0.4820428490638733, 0.28364792466163635, 0.7820748090744019, 0.49896466732025146, 0.44605791568756104], \"yaxis\": \"y\"}, {\"boxmean\": true, \"boxpoints\": \"all\", \"customdata\": [[\"livingRoom\", \"livingRoom\", 0.4825163185596466, \"00000018.jpg\", true], [\"livingRoom\", \"livingRoom\", 0.7809885144233704, \"00000155.jpg\", true], [\"livingRoom\", \"livingRoom\", 0.6347987651824951, \"00000580.jpg\", true], [\"livingRoom\", \"livingRoom\", 0.7247256636619568, \"00000621.jpg\", true], [\"livingRoom\", \"livingRoom\", 0.8214568495750427, \"41541703.jpg\", true], [\"livingRoom\", \"livingRoom\", 0.9852789640426636, \"47991206.jpg\", true], [\"livingRoom\", \"livingRoom\", 0.8526445627212524, \"gsun_0fea5f984f711b7208402786b9c32b5d.jpg\", true], [\"livingRoom\", \"livingRoom\", 0.6750929951667786, \"gsun_1c8b627abba15eae357293b1b0de2655.jpg\", true], [\"livingRoom\", \"livingRoom\", 0.5545932650566101, \"gsun_1ff087de8ba7f152cbd6030cafcb627e.jpg\", true], [\"livingRoom\", \"livingRoom\", 0.6734118461608887, \"gsun_2cc63cd9275da9896854baed640800fa.jpg\", true], [\"livingRoom\", \"livingRoom\", 0.5896442532539368, \"gsun_2daccfb415496c651efede69bd964ecb.jpg\", true], [\"livingRoom\", \"livingRoom\", 0.624638557434082, \"gsun_2e1bb958c73173be22318a736a23a165.jpg\", true], [\"livingRoom\", \"livingRoom\", 0.7318979501724243, \"gsun_32771db87a919dc724e0fe778e46cc28.jpg\", true], [\"livingRoom\", \"livingRoom\", 0.970832884311676, \"gsun_5aabdf5f2f711e993719102dc9753ec0.jpg\", true], [\"livingRoom\", \"livingRoom\", 0.8945325613021851, \"gsun_5cddbf0d660c2871dc3ed553189cfd47.jpg\", true], [\"livingRoom\", \"livingRoom\", 0.5445095300674438, \"gsun_64290f6d318ab90283f0f0d406e1b8a7.jpg\", true]], \"hovertemplate\": \"y_true=%{customdata[0]}<br>y_pred=%{customdata[1]}<br>y_pred_proba=%{customdata[2]}<br>filename=%{customdata[3]}<br>right_predicted=%{customdata[4]}\", \"jitter\": 0.3, \"marker\": {\"color\": \"green\"}, \"name\": \"|label: livingRoom - predicci\\u00f3n correcta|\", \"pointpos\": -1.8, \"type\": \"box\", \"xaxis\": \"x\", \"y\": [0.4825163185596466, 0.7809885144233704, 0.6347987651824951, 0.7247256636619568, 0.8214568495750427, 0.9852789640426636, 0.8526445627212524, 0.6750929951667786, 0.5545932650566101, 0.6734118461608887, 0.5896442532539368, 0.624638557434082, 0.7318979501724243, 0.970832884311676, 0.8945325613021851, 0.5445095300674438], \"yaxis\": \"y\"}, {\"boxmean\": true, \"boxpoints\": \"all\", \"customdata\": [[\"bathroom\", \"livingRoom\", 0.3858843147754669, \"00004213.jpg\", false], [\"bathroom\", \"livingRoom\", 0.7700446844100952, \"15320674.jpg\", false], [\"bedroom\", \"livingRoom\", 0.43324771523475647, \"00001452.jpg\", false], [\"bedroom\", \"livingRoom\", 0.5565676093101501, \"00001751.jpg\", false], [\"dining_room\", \"livingRoom\", 0.4252321720123291, \"00000746.jpg\", false], [\"dining_room\", \"livingRoom\", 0.45161938667297363, \"00001919.jpg\", false], [\"dining_room\", \"livingRoom\", 0.328448086977005, \"00003233.jpg\", false], [\"kitchen\", \"livingRoom\", 0.6069079637527466, \"gsun_0a5c6a8e880f721ccf500681741f8f06.jpg\", false], [\"kitchen\", \"livingRoom\", 0.4201137125492096, \"gsun_ff222a0c44b2c6465bc8eaa1bc74c0a5.jpg\", false]], \"hovertemplate\": \"y_true=%{customdata[0]}<br>y_pred=%{customdata[1]}<br>y_pred_proba=%{customdata[2]}<br>filename=%{customdata[3]}<br>right_predicted=%{customdata[4]}\", \"jitter\": 0.3, \"marker\": {\"color\": \"red\"}, \"name\": \"|label: livingRoom - predicci\\u00f3n incorrecta|\", \"pointpos\": -1.8, \"type\": \"box\", \"xaxis\": \"x\", \"y\": [0.3858843147754669, 0.7700446844100952, 0.43324771523475647, 0.5565676093101501, 0.4252321720123291, 0.45161938667297363, 0.328448086977005, 0.6069079637527466, 0.4201137125492096], \"yaxis\": \"y\"}],\n",
       "                        {\"annotations\": [{\"font\": {\"size\": 16}, \"showarrow\": false, \"text\": \"Modelo del experimento 6 (subconjunto) - y_pred_proba\", \"x\": 0.5, \"xanchor\": \"center\", \"xref\": \"paper\", \"y\": 1.0, \"yanchor\": \"bottom\", \"yref\": \"paper\"}], \"margin\": {\"b\": 80, \"l\": 40, \"r\": 30, \"t\": 100}, \"showlegend\": false, \"template\": {\"data\": {\"bar\": [{\"error_x\": {\"color\": \"#2a3f5f\"}, \"error_y\": {\"color\": \"#2a3f5f\"}, \"marker\": {\"line\": {\"color\": \"#E5ECF6\", \"width\": 0.5}}, \"type\": \"bar\"}], \"barpolar\": [{\"marker\": {\"line\": {\"color\": \"#E5ECF6\", \"width\": 0.5}}, \"type\": \"barpolar\"}], \"carpet\": [{\"aaxis\": {\"endlinecolor\": \"#2a3f5f\", \"gridcolor\": \"white\", \"linecolor\": \"white\", \"minorgridcolor\": \"white\", \"startlinecolor\": \"#2a3f5f\"}, \"baxis\": {\"endlinecolor\": \"#2a3f5f\", \"gridcolor\": \"white\", \"linecolor\": \"white\", \"minorgridcolor\": \"white\", \"startlinecolor\": \"#2a3f5f\"}, \"type\": \"carpet\"}], \"choropleth\": [{\"colorbar\": {\"outlinewidth\": 0, \"ticks\": \"\"}, \"type\": \"choropleth\"}], \"contour\": [{\"colorbar\": {\"outlinewidth\": 0, \"ticks\": \"\"}, \"colorscale\": [[0.0, \"#0d0887\"], [0.1111111111111111, \"#46039f\"], [0.2222222222222222, \"#7201a8\"], [0.3333333333333333, \"#9c179e\"], [0.4444444444444444, \"#bd3786\"], [0.5555555555555556, \"#d8576b\"], [0.6666666666666666, \"#ed7953\"], [0.7777777777777778, \"#fb9f3a\"], [0.8888888888888888, \"#fdca26\"], [1.0, \"#f0f921\"]], \"type\": \"contour\"}], \"contourcarpet\": [{\"colorbar\": {\"outlinewidth\": 0, \"ticks\": \"\"}, \"type\": \"contourcarpet\"}], \"heatmap\": [{\"colorbar\": {\"outlinewidth\": 0, \"ticks\": \"\"}, \"colorscale\": [[0.0, \"#0d0887\"], [0.1111111111111111, \"#46039f\"], [0.2222222222222222, \"#7201a8\"], [0.3333333333333333, \"#9c179e\"], [0.4444444444444444, \"#bd3786\"], [0.5555555555555556, \"#d8576b\"], [0.6666666666666666, \"#ed7953\"], [0.7777777777777778, \"#fb9f3a\"], [0.8888888888888888, \"#fdca26\"], [1.0, \"#f0f921\"]], \"type\": \"heatmap\"}], \"heatmapgl\": [{\"colorbar\": {\"outlinewidth\": 0, \"ticks\": \"\"}, \"colorscale\": [[0.0, \"#0d0887\"], [0.1111111111111111, \"#46039f\"], [0.2222222222222222, \"#7201a8\"], [0.3333333333333333, \"#9c179e\"], [0.4444444444444444, \"#bd3786\"], [0.5555555555555556, \"#d8576b\"], [0.6666666666666666, \"#ed7953\"], [0.7777777777777778, \"#fb9f3a\"], [0.8888888888888888, \"#fdca26\"], [1.0, \"#f0f921\"]], \"type\": \"heatmapgl\"}], \"histogram\": [{\"marker\": {\"colorbar\": {\"outlinewidth\": 0, \"ticks\": \"\"}}, \"type\": \"histogram\"}], \"histogram2d\": [{\"colorbar\": {\"outlinewidth\": 0, \"ticks\": \"\"}, \"colorscale\": [[0.0, \"#0d0887\"], [0.1111111111111111, \"#46039f\"], [0.2222222222222222, \"#7201a8\"], [0.3333333333333333, \"#9c179e\"], [0.4444444444444444, \"#bd3786\"], [0.5555555555555556, \"#d8576b\"], [0.6666666666666666, \"#ed7953\"], [0.7777777777777778, \"#fb9f3a\"], [0.8888888888888888, \"#fdca26\"], [1.0, \"#f0f921\"]], \"type\": \"histogram2d\"}], \"histogram2dcontour\": [{\"colorbar\": {\"outlinewidth\": 0, \"ticks\": \"\"}, \"colorscale\": [[0.0, \"#0d0887\"], [0.1111111111111111, \"#46039f\"], [0.2222222222222222, \"#7201a8\"], [0.3333333333333333, \"#9c179e\"], [0.4444444444444444, \"#bd3786\"], [0.5555555555555556, \"#d8576b\"], [0.6666666666666666, \"#ed7953\"], [0.7777777777777778, \"#fb9f3a\"], [0.8888888888888888, \"#fdca26\"], [1.0, \"#f0f921\"]], \"type\": \"histogram2dcontour\"}], \"mesh3d\": [{\"colorbar\": {\"outlinewidth\": 0, \"ticks\": \"\"}, \"type\": \"mesh3d\"}], \"parcoords\": [{\"line\": {\"colorbar\": {\"outlinewidth\": 0, \"ticks\": \"\"}}, \"type\": \"parcoords\"}], \"pie\": [{\"automargin\": true, \"type\": \"pie\"}], \"scatter\": [{\"marker\": {\"colorbar\": {\"outlinewidth\": 0, \"ticks\": \"\"}}, \"type\": \"scatter\"}], \"scatter3d\": [{\"line\": {\"colorbar\": {\"outlinewidth\": 0, \"ticks\": \"\"}}, \"marker\": {\"colorbar\": {\"outlinewidth\": 0, \"ticks\": \"\"}}, \"type\": \"scatter3d\"}], \"scattercarpet\": [{\"marker\": {\"colorbar\": {\"outlinewidth\": 0, \"ticks\": \"\"}}, \"type\": \"scattercarpet\"}], \"scattergeo\": [{\"marker\": {\"colorbar\": {\"outlinewidth\": 0, \"ticks\": \"\"}}, \"type\": \"scattergeo\"}], \"scattergl\": [{\"marker\": {\"colorbar\": {\"outlinewidth\": 0, \"ticks\": \"\"}}, \"type\": \"scattergl\"}], \"scattermapbox\": [{\"marker\": {\"colorbar\": {\"outlinewidth\": 0, \"ticks\": \"\"}}, \"type\": \"scattermapbox\"}], \"scatterpolar\": [{\"marker\": {\"colorbar\": {\"outlinewidth\": 0, \"ticks\": \"\"}}, \"type\": \"scatterpolar\"}], \"scatterpolargl\": [{\"marker\": {\"colorbar\": {\"outlinewidth\": 0, \"ticks\": \"\"}}, \"type\": \"scatterpolargl\"}], \"scatterternary\": [{\"marker\": {\"colorbar\": {\"outlinewidth\": 0, \"ticks\": \"\"}}, \"type\": \"scatterternary\"}], \"surface\": [{\"colorbar\": {\"outlinewidth\": 0, \"ticks\": \"\"}, \"colorscale\": [[0.0, \"#0d0887\"], [0.1111111111111111, \"#46039f\"], [0.2222222222222222, \"#7201a8\"], [0.3333333333333333, \"#9c179e\"], [0.4444444444444444, \"#bd3786\"], [0.5555555555555556, \"#d8576b\"], [0.6666666666666666, \"#ed7953\"], [0.7777777777777778, \"#fb9f3a\"], [0.8888888888888888, \"#fdca26\"], [1.0, \"#f0f921\"]], \"type\": \"surface\"}], \"table\": [{\"cells\": {\"fill\": {\"color\": \"#EBF0F8\"}, \"line\": {\"color\": \"white\"}}, \"header\": {\"fill\": {\"color\": \"#C8D4E3\"}, \"line\": {\"color\": \"white\"}}, \"type\": \"table\"}]}, \"layout\": {\"annotationdefaults\": {\"arrowcolor\": \"#2a3f5f\", \"arrowhead\": 0, \"arrowwidth\": 1}, \"coloraxis\": {\"colorbar\": {\"outlinewidth\": 0, \"ticks\": \"\"}}, \"colorscale\": {\"diverging\": [[0, \"#8e0152\"], [0.1, \"#c51b7d\"], [0.2, \"#de77ae\"], [0.3, \"#f1b6da\"], [0.4, \"#fde0ef\"], [0.5, \"#f7f7f7\"], [0.6, \"#e6f5d0\"], [0.7, \"#b8e186\"], [0.8, \"#7fbc41\"], [0.9, \"#4d9221\"], [1, \"#276419\"]], \"sequential\": [[0.0, \"#0d0887\"], [0.1111111111111111, \"#46039f\"], [0.2222222222222222, \"#7201a8\"], [0.3333333333333333, \"#9c179e\"], [0.4444444444444444, \"#bd3786\"], [0.5555555555555556, \"#d8576b\"], [0.6666666666666666, \"#ed7953\"], [0.7777777777777778, \"#fb9f3a\"], [0.8888888888888888, \"#fdca26\"], [1.0, \"#f0f921\"]], \"sequentialminus\": [[0.0, \"#0d0887\"], [0.1111111111111111, \"#46039f\"], [0.2222222222222222, \"#7201a8\"], [0.3333333333333333, \"#9c179e\"], [0.4444444444444444, \"#bd3786\"], [0.5555555555555556, \"#d8576b\"], [0.6666666666666666, \"#ed7953\"], [0.7777777777777778, \"#fb9f3a\"], [0.8888888888888888, \"#fdca26\"], [1.0, \"#f0f921\"]]}, \"colorway\": [\"#636efa\", \"#EF553B\", \"#00cc96\", \"#ab63fa\", \"#FFA15A\", \"#19d3f3\", \"#FF6692\", \"#B6E880\", \"#FF97FF\", \"#FECB52\"], \"font\": {\"color\": \"#2a3f5f\"}, \"geo\": {\"bgcolor\": \"white\", \"lakecolor\": \"white\", \"landcolor\": \"#E5ECF6\", \"showlakes\": true, \"showland\": true, \"subunitcolor\": \"white\"}, \"hoverlabel\": {\"align\": \"left\"}, \"hovermode\": \"closest\", \"mapbox\": {\"style\": \"light\"}, \"paper_bgcolor\": \"white\", \"plot_bgcolor\": \"#E5ECF6\", \"polar\": {\"angularaxis\": {\"gridcolor\": \"white\", \"linecolor\": \"white\", \"ticks\": \"\"}, \"bgcolor\": \"#E5ECF6\", \"radialaxis\": {\"gridcolor\": \"white\", \"linecolor\": \"white\", \"ticks\": \"\"}}, \"scene\": {\"xaxis\": {\"backgroundcolor\": \"#E5ECF6\", \"gridcolor\": \"white\", \"gridwidth\": 2, \"linecolor\": \"white\", \"showbackground\": true, \"ticks\": \"\", \"zerolinecolor\": \"white\"}, \"yaxis\": {\"backgroundcolor\": \"#E5ECF6\", \"gridcolor\": \"white\", \"gridwidth\": 2, \"linecolor\": \"white\", \"showbackground\": true, \"ticks\": \"\", \"zerolinecolor\": \"white\"}, \"zaxis\": {\"backgroundcolor\": \"#E5ECF6\", \"gridcolor\": \"white\", \"gridwidth\": 2, \"linecolor\": \"white\", \"showbackground\": true, \"ticks\": \"\", \"zerolinecolor\": \"white\"}}, \"shapedefaults\": {\"line\": {\"color\": \"#2a3f5f\"}}, \"ternary\": {\"aaxis\": {\"gridcolor\": \"white\", \"linecolor\": \"white\", \"ticks\": \"\"}, \"baxis\": {\"gridcolor\": \"white\", \"linecolor\": \"white\", \"ticks\": \"\"}, \"bgcolor\": \"#E5ECF6\", \"caxis\": {\"gridcolor\": \"white\", \"linecolor\": \"white\", \"ticks\": \"\"}}, \"title\": {\"x\": 0.05}, \"xaxis\": {\"automargin\": true, \"gridcolor\": \"white\", \"linecolor\": \"white\", \"ticks\": \"\", \"title\": {\"standoff\": 15}, \"zerolinecolor\": \"white\", \"zerolinewidth\": 2}, \"yaxis\": {\"automargin\": true, \"gridcolor\": \"white\", \"linecolor\": \"white\", \"ticks\": \"\", \"title\": {\"standoff\": 15}, \"zerolinecolor\": \"white\", \"zerolinewidth\": 2}}}, \"title\": {\"text\": \"Distribuci\\u00f3n de probabilidades asignadas a la categor\\u00eda elegida para casos predichos correcta e incorrectamente\"}, \"xaxis\": {\"anchor\": \"y\", \"domain\": [0.0, 1.0], \"title\": {\"text\": \"y_true\"}}, \"yaxis\": {\"anchor\": \"x\", \"autorange\": true, \"domain\": [0.0, 1.0], \"gridcolor\": \"rgb(255, 255, 255)\", \"gridwidth\": 1, \"showgrid\": true, \"title\": {\"text\": \"y_pred_proba\"}, \"zeroline\": true, \"zerolinecolor\": \"rgb(255, 255, 255)\", \"zerolinewidth\": 2}},\n",
       "                        {\"responsive\": true}\n",
       "                    ).then(function(){\n",
       "                            \n",
       "var gd = document.getElementById('29615fb9-8bb0-41cd-a06b-2f4c3882ca6f');\n",
       "var x = new MutationObserver(function (mutations, observer) {{\n",
       "        var display = window.getComputedStyle(gd).display;\n",
       "        if (!display || display === 'none') {{\n",
       "            console.log([gd, 'removed!']);\n",
       "            Plotly.purge(gd);\n",
       "            observer.disconnect();\n",
       "        }}\n",
       "}});\n",
       "\n",
       "// Listen for the removal of the full notebook cells\n",
       "var notebookContainer = gd.closest('#notebook-container');\n",
       "if (notebookContainer) {{\n",
       "    x.observe(notebookContainer, {childList: true});\n",
       "}}\n",
       "\n",
       "// Listen for the clearing of the current output cell\n",
       "var outputEl = gd.closest('.output');\n",
       "if (outputEl) {{\n",
       "    x.observe(outputEl, {childList: true});\n",
       "}}\n",
       "\n",
       "                        })\n",
       "                };\n",
       "                });\n",
       "            </script>\n",
       "        </div>"
      ]
     },
     "metadata": {},
     "output_type": "display_data"
    },
    {
     "name": "stdout",
     "output_type": "stream",
     "text": [
      "\n",
      "\n",
      "\n",
      "\n"
     ]
    }
   ],
   "source": [
    "for path, dataset, exp in [(path1, dataset1, '2 (subconjunto)'), (path2, dataset2, '6 (subconjunto)')]:\n",
    "    model, test_generator, validation_generator, test_dataset_path = load_model(path, dataset)\n",
    "\n",
    "    df_pred_test = get_df_pred(model, test_generator, test_dataset_path)\n",
    "\n",
    "    d = print_pred_proba_error_by_category(df_pred_test)\n",
    "\n",
    "    d = print_error_by_category(df_pred_test)\n",
    "\n",
    "    errors, pct, rights, counts = get_error_by_threshold(df_pred_test)\n",
    "\n",
    "    plot_errors_and_pct_series(pct, rights, counts, exp)\n",
    "    \n",
    "    plot_distribution_of_features_by_label(df_pred_test, features=['y_pred_proba'], exp=exp)\n",
    "    \n",
    "    print()\n",
    "    print()\n",
    "    print()\n",
    "    print()"
   ]
  }
 ],
 "metadata": {
  "kernelspec": {
   "display_name": "Python 3",
   "language": "python",
   "name": "python3"
  },
  "language_info": {
   "codemirror_mode": {
    "name": "ipython",
    "version": 3
   },
   "file_extension": ".py",
   "mimetype": "text/x-python",
   "name": "python",
   "nbconvert_exporter": "python",
   "pygments_lexer": "ipython3",
   "version": "3.6.8"
  }
 },
 "nbformat": 4,
 "nbformat_minor": 2
}
