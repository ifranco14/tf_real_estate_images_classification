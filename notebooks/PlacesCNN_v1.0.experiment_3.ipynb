{
 "cells": [
  {
   "cell_type": "code",
   "execution_count": 1,
   "metadata": {},
   "outputs": [
    {
     "name": "stderr",
     "output_type": "stream",
     "text": [
      "Using TensorFlow backend.\n"
     ]
    }
   ],
   "source": [
    "from src.models.keras_VGG16_places365.vgg16_places_365 import VGG16_Places365"
   ]
  },
  {
   "cell_type": "code",
   "execution_count": 2,
   "metadata": {},
   "outputs": [],
   "source": [
    "from urllib.request import urlopen"
   ]
  },
  {
   "cell_type": "code",
   "execution_count": 2,
   "metadata": {},
   "outputs": [
    {
     "ename": "NameError",
     "evalue": "name 'urlopen' is not defined",
     "output_type": "error",
     "traceback": [
      "\u001b[0;31m---------------------------------------------------------------------------\u001b[0m",
      "\u001b[0;31mNameError\u001b[0m                                 Traceback (most recent call last)",
      "\u001b[0;32m<ipython-input-2-737868ba46ed>\u001b[0m in \u001b[0;36m<module>\u001b[0;34m\u001b[0m\n\u001b[1;32m      8\u001b[0m \u001b[0mTEST_IMAGE_URL\u001b[0m \u001b[0;34m=\u001b[0m \u001b[0;34m'http://places2.csail.mit.edu/imgs/demo/6.jpg'\u001b[0m\u001b[0;34m\u001b[0m\u001b[0;34m\u001b[0m\u001b[0m\n\u001b[1;32m      9\u001b[0m \u001b[0;34m\u001b[0m\u001b[0m\n\u001b[0;32m---> 10\u001b[0;31m \u001b[0mimage\u001b[0m \u001b[0;34m=\u001b[0m \u001b[0mImage\u001b[0m\u001b[0;34m.\u001b[0m\u001b[0mopen\u001b[0m\u001b[0;34m(\u001b[0m\u001b[0murlopen\u001b[0m\u001b[0;34m(\u001b[0m\u001b[0mTEST_IMAGE_URL\u001b[0m\u001b[0;34m)\u001b[0m\u001b[0;34m)\u001b[0m\u001b[0;34m\u001b[0m\u001b[0;34m\u001b[0m\u001b[0m\n\u001b[0m\u001b[1;32m     11\u001b[0m \u001b[0mimage\u001b[0m \u001b[0;34m=\u001b[0m \u001b[0mnp\u001b[0m\u001b[0;34m.\u001b[0m\u001b[0marray\u001b[0m\u001b[0;34m(\u001b[0m\u001b[0mimage\u001b[0m\u001b[0;34m,\u001b[0m \u001b[0mdtype\u001b[0m\u001b[0;34m=\u001b[0m\u001b[0mnp\u001b[0m\u001b[0;34m.\u001b[0m\u001b[0muint8\u001b[0m\u001b[0;34m)\u001b[0m\u001b[0;34m\u001b[0m\u001b[0;34m\u001b[0m\u001b[0m\n\u001b[1;32m     12\u001b[0m \u001b[0mimage\u001b[0m \u001b[0;34m=\u001b[0m \u001b[0mresize\u001b[0m\u001b[0;34m(\u001b[0m\u001b[0mimage\u001b[0m\u001b[0;34m,\u001b[0m \u001b[0;34m(\u001b[0m\u001b[0;36m224\u001b[0m\u001b[0;34m,\u001b[0m \u001b[0;36m224\u001b[0m\u001b[0;34m)\u001b[0m\u001b[0;34m)\u001b[0m\u001b[0;34m\u001b[0m\u001b[0;34m\u001b[0m\u001b[0m\n",
      "\u001b[0;31mNameError\u001b[0m: name 'urlopen' is not defined"
     ]
    }
   ],
   "source": [
    "import os\n",
    "import numpy as np\n",
    "from PIL import Image\n",
    "from cv2 import resize\n",
    "\n",
    "# from vgg16_places_365 import VGG16_Places365\n",
    "\n",
    "TEST_IMAGE_URL = 'http://places2.csail.mit.edu/imgs/demo/6.jpg'\n",
    "\n",
    "image = Image.open(urlopen(TEST_IMAGE_URL))\n",
    "image = np.array(image, dtype=np.uint8)\n",
    "image = resize(image, (224, 224))\n",
    "image = np.expand_dims(image, 0)\n",
    "\n"
   ]
  },
  {
   "cell_type": "code",
   "execution_count": 5,
   "metadata": {},
   "outputs": [],
   "source": [
    "from src.models import base_model"
   ]
  },
  {
   "cell_type": "code",
   "execution_count": 9,
   "metadata": {},
   "outputs": [],
   "source": [
    "from src.data import data"
   ]
  },
  {
   "cell_type": "code",
   "execution_count": 58,
   "metadata": {},
   "outputs": [],
   "source": [
    "paths = data.PATH()\n",
    "dataset_path = f'{paths.PROCESSED_DATA_PATH}/'\n",
    "dataset = 'vision_based_for_places_cnn'\n",
    "test_dataset_path = f'{dataset_path}/{dataset}/'"
   ]
  },
  {
   "cell_type": "code",
   "execution_count": 59,
   "metadata": {},
   "outputs": [],
   "source": [
    "batch_size = 64\n",
    "n_classes = 365\n",
    "epochs = 100\n",
    "img_size = 224\n",
    "n_channels = 3"
   ]
  },
  {
   "cell_type": "code",
   "execution_count": 60,
   "metadata": {},
   "outputs": [],
   "source": [
    "model = base_model.BaseModel(batch_size, n_classes, epochs, img_size, n_channels, experiment_name=f'exp_3')"
   ]
  },
  {
   "cell_type": "code",
   "execution_count": 61,
   "metadata": {},
   "outputs": [],
   "source": [
    "model.model = VGG16_Places365(weights='places')"
   ]
  },
  {
   "cell_type": "code",
   "execution_count": 64,
   "metadata": {},
   "outputs": [
    {
     "name": "stdout",
     "output_type": "stream",
     "text": [
      "Found 5162 images belonging to 365 classes.\n",
      "Found 6328 images belonging to 365 classes.\n"
     ]
    }
   ],
   "source": [
    "validation_generator, test_generator = model.get_image_data_generator(test_dataset_path, train=False, validation=True, test=True, class_mode_test='categorical')"
   ]
  },
  {
   "cell_type": "code",
   "execution_count": 65,
   "metadata": {},
   "outputs": [
    {
     "data": {
      "text/plain": [
       "dict_keys(['0', '1', '10', '100', '101', '102', '103', '104', '105', '106', '107', '108', '109', '11', '110', '111', '112', '113', '114', '115', '116', '117', '118', '119', '12', '120', '121', '122', '123', '124', '125', '126', '127', '128', '129', '13', '130', '131', '132', '133', '134', '135', '136', '137', '138', '139', '14', '140', '141', '142', '143', '144', '145', '146', '147', '148', '149', '15', '150', '151', '152', '153', '154', '155', '156', '157', '158', '159', '16', '160', '161', '162', '163', '164', '165', '166', '167', '168', '169', '17', '170', '171', '172', '173', '174', '175', '176', '177', '178', '179', '18', '180', '181', '182', '183', '184', '185', '186', '187', '188', '189', '19', '190', '191', '192', '193', '194', '195', '196', '197', '198', '199', '2', '20', '200', '201', '202', '203', '204', '205', '206', '207', '208', '209', '21', '210', '211', '212', '213', '214', '215', '216', '217', '218', '219', '22', '220', '221', '222', '223', '224', '225', '226', '227', '228', '229', '23', '230', '231', '232', '233', '234', '235', '236', '237', '238', '239', '24', '240', '241', '242', '243', '244', '245', '246', '247', '248', '249', '25', '250', '251', '252', '253', '254', '255', '256', '257', '258', '259', '26', '260', '261', '262', '263', '264', '265', '266', '267', '268', '269', '27', '270', '271', '272', '273', '274', '275', '276', '277', '278', '279', '28', '280', '281', '282', '283', '284', '285', '286', '287', '288', '289', '29', '290', '291', '292', '293', '294', '295', '296', '297', '298', '299', '3', '30', '300', '301', '302', '303', '304', '305', '306', '307', '308', '309', '31', '310', '311', '312', '313', '314', '315', '316', '317', '318', '319', '32', '320', '321', '322', '323', '324', '325', '326', '327', '328', '329', '33', '330', '331', '332', '333', '334', '335', '336', '337', '338', '339', '34', '340', '341', '342', '343', '344', '345', '346', '347', '348', '349', '35', '350', '351', '352', '353', '354', '355', '356', '357', '358', '359', '36', '360', '361', '362', '363', '364', '37', '38', '39', '4', '40', '41', '42', '43', '44', '45', '46', '47', '48', '49', '5', '50', '51', '52', '53', '54', '55', '56', '57', '58', '59', '6', '60', '61', '62', '63', '64', '65', '66', '67', '68', '69', '7', '70', '71', '72', '73', '74', '75', '76', '77', '78', '79', '8', '80', '81', '82', '83', '84', '85', '86', '87', '88', '89', '9', '90', '91', '92', '93', '94', '95', '96', '97', '98', '99'])"
      ]
     },
     "execution_count": 65,
     "metadata": {},
     "output_type": "execute_result"
    }
   ],
   "source": [
    "validation_generator.class_indices.keys()"
   ]
  },
  {
   "cell_type": "code",
   "execution_count": 66,
   "metadata": {},
   "outputs": [],
   "source": [
    "model.model.compile(optimizer='Adam',loss='categorical_crossentropy',metrics=['accuracy'])"
   ]
  },
  {
   "cell_type": "code",
   "execution_count": 67,
   "metadata": {},
   "outputs": [
    {
     "name": "stdout",
     "output_type": "stream",
     "text": [
      "Found 5162 images belonging to 365 classes.\n",
      "Evaluating generator with 5162 images\n",
      "Scores: [10.517712593078613, 0.0013560635270550847]\n",
      "\n"
     ]
    },
    {
     "data": {
      "text/plain": [
       "[10.517712593078613, 0.0013560635270550847]"
      ]
     },
     "execution_count": 67,
     "metadata": {},
     "output_type": "execute_result"
    }
   ],
   "source": [
    "model.evaluate_from_generator(test_dataset_path)"
   ]
  },
  {
   "cell_type": "code",
   "execution_count": null,
   "metadata": {},
   "outputs": [],
   "source": [
    "model.predict_from_generator(test_dataset_path, test_generator, validation_generator, )"
   ]
  },
  {
   "cell_type": "code",
   "execution_count": null,
   "metadata": {},
   "outputs": [],
   "source": []
  },
  {
   "cell_type": "code",
   "execution_count": 46,
   "metadata": {},
   "outputs": [],
   "source": [
    "p = '/home/ifranco/Documents/facultad/tesis/tf_real_estate_images_classification//data//processed/vision_based_for_places_cnn/'"
   ]
  },
  {
   "cell_type": "code",
   "execution_count": 48,
   "metadata": {},
   "outputs": [],
   "source": [
    "import os"
   ]
  },
  {
   "cell_type": "code",
   "execution_count": 63,
   "metadata": {},
   "outputs": [],
   "source": [
    "for i in range(0, 365):\n",
    "    os.makedirs(f'{p}/validation/{i}/')"
   ]
  },
  {
   "cell_type": "code",
   "execution_count": 50,
   "metadata": {},
   "outputs": [
    {
     "data": {
      "text/plain": [
       "['262',\n",
       " '104',\n",
       " '295',\n",
       " '126',\n",
       " '245',\n",
       " '191',\n",
       " '127',\n",
       " '281',\n",
       " '219',\n",
       " '120',\n",
       " '193',\n",
       " '289',\n",
       " '61',\n",
       " '107',\n",
       " '310',\n",
       " '360',\n",
       " '170',\n",
       " '52',\n",
       " '336',\n",
       " '215',\n",
       " '186',\n",
       " '55',\n",
       " '138',\n",
       " '73',\n",
       " '306',\n",
       " '74',\n",
       " '345',\n",
       " '152',\n",
       " '11',\n",
       " '112',\n",
       " '232',\n",
       " '357',\n",
       " '113',\n",
       " '48',\n",
       " '37',\n",
       " '97',\n",
       " '133',\n",
       " '154',\n",
       " '141',\n",
       " '96',\n",
       " '217',\n",
       " '35',\n",
       " '9',\n",
       " '253',\n",
       " '333',\n",
       " '94',\n",
       " '207',\n",
       " '21',\n",
       " '241',\n",
       " '81',\n",
       " '167',\n",
       " '210',\n",
       " '362',\n",
       " '252',\n",
       " '301',\n",
       " '122',\n",
       " '358',\n",
       " '10',\n",
       " '264',\n",
       " '197',\n",
       " '147',\n",
       " '175',\n",
       " '356',\n",
       " '57',\n",
       " '36',\n",
       " '54',\n",
       " '279',\n",
       " '180',\n",
       " '182',\n",
       " '227',\n",
       " '338',\n",
       " '257',\n",
       " '78',\n",
       " '77',\n",
       " '174',\n",
       " '353',\n",
       " '195',\n",
       " '166',\n",
       " '364',\n",
       " '142',\n",
       " '239',\n",
       " '66',\n",
       " '85',\n",
       " '213',\n",
       " '87',\n",
       " '115',\n",
       " '40',\n",
       " '337',\n",
       " '272',\n",
       " '283',\n",
       " '168',\n",
       " '42',\n",
       " '26',\n",
       " '187',\n",
       " '332',\n",
       " '148',\n",
       " '64',\n",
       " '190',\n",
       " '34',\n",
       " '145',\n",
       " '318',\n",
       " '171',\n",
       " '165',\n",
       " '128',\n",
       " '309',\n",
       " '137',\n",
       " '72',\n",
       " '230',\n",
       " '59',\n",
       " '265',\n",
       " '249',\n",
       " '44',\n",
       " '313',\n",
       " '319',\n",
       " '256',\n",
       " '292',\n",
       " '291',\n",
       " '298',\n",
       " '4',\n",
       " '192',\n",
       " '158',\n",
       " '159',\n",
       " '236',\n",
       " '343',\n",
       " '244',\n",
       " '177',\n",
       " '70',\n",
       " '49',\n",
       " '84',\n",
       " '28',\n",
       " '331',\n",
       " '160',\n",
       " '361',\n",
       " '51',\n",
       " '58',\n",
       " '45',\n",
       " '363',\n",
       " '206',\n",
       " '16',\n",
       " '293',\n",
       " '80',\n",
       " '8',\n",
       " '110',\n",
       " '335',\n",
       " '276',\n",
       " 'test',\n",
       " '33',\n",
       " '30',\n",
       " '317',\n",
       " '32',\n",
       " '5',\n",
       " '330',\n",
       " '118',\n",
       " '18',\n",
       " '163',\n",
       " '235',\n",
       " '114',\n",
       " '209',\n",
       " '146',\n",
       " '285',\n",
       " '258',\n",
       " '240',\n",
       " '176',\n",
       " '111',\n",
       " '150',\n",
       " '153',\n",
       " '140',\n",
       " '129',\n",
       " '125',\n",
       " '93',\n",
       " '246',\n",
       " '136',\n",
       " '131',\n",
       " '181',\n",
       " '194',\n",
       " '196',\n",
       " '172',\n",
       " '339',\n",
       " '288',\n",
       " '76',\n",
       " '303',\n",
       " '314',\n",
       " '92',\n",
       " '270',\n",
       " '98',\n",
       " '346',\n",
       " '169',\n",
       " '275',\n",
       " '340',\n",
       " '311',\n",
       " '286',\n",
       " '224',\n",
       " '323',\n",
       " '6',\n",
       " '24',\n",
       " '23',\n",
       " '354',\n",
       " '46',\n",
       " '162',\n",
       " '254',\n",
       " '135',\n",
       " '188',\n",
       " '82',\n",
       " '95',\n",
       " '299',\n",
       " '277',\n",
       " '83',\n",
       " '352',\n",
       " '287',\n",
       " '351',\n",
       " '268',\n",
       " '185',\n",
       " '359',\n",
       " '184',\n",
       " '201',\n",
       " '322',\n",
       " '178',\n",
       " '50',\n",
       " '274',\n",
       " '56',\n",
       " '271',\n",
       " '144',\n",
       " '223',\n",
       " '308',\n",
       " '261',\n",
       " '143',\n",
       " '350',\n",
       " '39',\n",
       " '208',\n",
       " '173',\n",
       " '324',\n",
       " '203',\n",
       " '248',\n",
       " '251',\n",
       " '25',\n",
       " '29',\n",
       " '27',\n",
       " '156',\n",
       " '20',\n",
       " '278',\n",
       " '273',\n",
       " '198',\n",
       " '329',\n",
       " '238',\n",
       " '103',\n",
       " '89',\n",
       " '222',\n",
       " '348',\n",
       " '1',\n",
       " '90',\n",
       " '325',\n",
       " '243',\n",
       " '139',\n",
       " '225',\n",
       " '123',\n",
       " '149',\n",
       " '86',\n",
       " '161',\n",
       " '255',\n",
       " '221',\n",
       " '119',\n",
       " '260',\n",
       " '267',\n",
       " '189',\n",
       " '91',\n",
       " '121',\n",
       " '290',\n",
       " '344',\n",
       " '229',\n",
       " '19',\n",
       " '157',\n",
       " '355',\n",
       " '315',\n",
       " '250',\n",
       " '316',\n",
       " 'validation',\n",
       " '71',\n",
       " '3',\n",
       " '15',\n",
       " '349',\n",
       " '296',\n",
       " '106',\n",
       " '62',\n",
       " '216',\n",
       " '347',\n",
       " '67',\n",
       " '341',\n",
       " '38',\n",
       " '300',\n",
       " '218',\n",
       " '205',\n",
       " '7',\n",
       " '259',\n",
       " '280',\n",
       " '294',\n",
       " '200',\n",
       " '342',\n",
       " '69',\n",
       " '0',\n",
       " '22',\n",
       " '101',\n",
       " '305',\n",
       " '220',\n",
       " '304',\n",
       " '155',\n",
       " '151',\n",
       " '2',\n",
       " '134',\n",
       " '202',\n",
       " '13',\n",
       " '88',\n",
       " '326',\n",
       " '263',\n",
       " '307',\n",
       " '302',\n",
       " '47',\n",
       " '228',\n",
       " '269',\n",
       " '60',\n",
       " '242',\n",
       " '183',\n",
       " '105',\n",
       " '17',\n",
       " '312',\n",
       " '117',\n",
       " '266',\n",
       " '226',\n",
       " '179',\n",
       " '237',\n",
       " '321',\n",
       " '124',\n",
       " '100',\n",
       " '109',\n",
       " '43',\n",
       " '204',\n",
       " '102',\n",
       " '31',\n",
       " '328',\n",
       " '132',\n",
       " '53',\n",
       " '75',\n",
       " '65',\n",
       " '247',\n",
       " '282',\n",
       " '41',\n",
       " '234',\n",
       " '214',\n",
       " '12',\n",
       " '284',\n",
       " '233',\n",
       " '334',\n",
       " '212',\n",
       " '99',\n",
       " '130',\n",
       " '79',\n",
       " '211',\n",
       " '199',\n",
       " '297',\n",
       " '320',\n",
       " '116',\n",
       " '63',\n",
       " '108',\n",
       " '14',\n",
       " '327',\n",
       " '68',\n",
       " '164',\n",
       " '231']"
      ]
     },
     "execution_count": 50,
     "metadata": {},
     "output_type": "execute_result"
    }
   ],
   "source": [
    "os.listdir(p)"
   ]
  },
  {
   "cell_type": "code",
   "execution_count": 44,
   "metadata": {},
   "outputs": [
    {
     "data": {
      "text/plain": [
       "[(45, 'bathroom', 'bathroom'),\n",
       " (52, 'bedroom', 'bedroom'),\n",
       " (120, 'dining_hall', 'dining'),\n",
       " (121, 'dining_room', 'dining'),\n",
       " (203, 'kitchen', 'kitchen'),\n",
       " (215, 'living_room', 'living')]"
      ]
     },
     "execution_count": 44,
     "metadata": {},
     "output_type": "execute_result"
    }
   ],
   "source": [
    "[(idx, c, k) for k in ['bathroom', 'bedroom', 'dining', 'frontyard', 'kitchen', 'living'] for idx, c in enumerate(classes) if c.startswith(k) ]"
   ]
  },
  {
   "cell_type": "code",
   "execution_count": null,
   "metadata": {},
   "outputs": [],
   "source": []
  },
  {
   "cell_type": "code",
   "execution_count": 51,
   "metadata": {},
   "outputs": [
    {
     "data": {
      "text/plain": [
       "[(45, 'bathroom', 'bathroom'),\n",
       " (52, 'bedroom', 'bedroom'),\n",
       " (120, 'dining_hall', 'dining'),\n",
       " (121, 'dining_room', 'dining'),\n",
       " (203, 'kitchen', 'kitchen'),\n",
       " (215, 'living_room', 'living')]"
      ]
     },
     "execution_count": 51,
     "metadata": {},
     "output_type": "execute_result"
    }
   ],
   "source": [
    "[(idx, c, k) for k in ['bathroom', 'bedroom', 'dining', 'front', 'kitchen', 'living'] for idx, c in enumerate(classes) if c.startswith(k) ]"
   ]
  },
  {
   "cell_type": "code",
   "execution_count": 56,
   "metadata": {},
   "outputs": [
    {
     "data": {
      "text/plain": [
       "[(8, 'apartment_building/outdoor', 'out'),\n",
       " (24, 'athletic_field/outdoor', 'out'),\n",
       " (47, 'bazaar/outdoor', 'out'),\n",
       " (74, 'cabin/outdoor', 'out'),\n",
       " (91, 'church/outdoor', 'out'),\n",
       " (119, 'diner/outdoor', 'out'),\n",
       " (123, 'doorway/outdoor', 'out'),\n",
       " (157, 'garage/outdoor', 'out'),\n",
       " (161, 'general_store/outdoor', 'out'),\n",
       " (166, 'greenhouse/outdoor', 'out'),\n",
       " (170, 'hangar/outdoor', 'out'),\n",
       " (181, 'hotel/outdoor', 'out'),\n",
       " (184, 'hunting_lodge/outdoor', 'out'),\n",
       " (189, 'ice_skating_rink/outdoor', 'out'),\n",
       " (193, 'inn/outdoor', 'out'),\n",
       " (201, 'kennel/outdoor', 'out'),\n",
       " (213, 'library/outdoor', 'out'),\n",
       " (223, 'market/outdoor', 'out'),\n",
       " (230, 'mosque/outdoor', 'out'),\n",
       " (237, 'museum/outdoor', 'out'),\n",
       " (256, 'parking_garage/outdoor', 'out'),\n",
       " (316, 'stage/outdoor', 'out'),\n",
       " (326, 'swimming_pool/outdoor', 'out'),\n",
       " (327, 'synagogue/outdoor', 'out'),\n",
       " (351, 'volleyball_court/outdoor', 'out'),\n",
       " (363, 'youth_hostel', 'out'),\n",
       " (301, 'shopfront', 'front'),\n",
       " (109, 'courtyard', 'yard'),\n",
       " (199, 'junkyard', 'yard'),\n",
       " (349, 'vineyard', 'yard'),\n",
       " (362, 'yard', 'yard')]"
      ]
     },
     "execution_count": 56,
     "metadata": {},
     "output_type": "execute_result"
    }
   ],
   "source": [
    "[(idx, c, k) for k in ['out', 'front', 'yard'] for idx, c in enumerate(classes) if k in c]"
   ]
  },
  {
   "cell_type": "code",
   "execution_count": 47,
   "metadata": {},
   "outputs": [
    {
     "data": {
      "text/plain": [
       "365"
      ]
     },
     "execution_count": 47,
     "metadata": {},
     "output_type": "execute_result"
    }
   ],
   "source": [
    "len(classes)"
   ]
  },
  {
   "cell_type": "code",
   "execution_count": null,
   "metadata": {},
   "outputs": [],
   "source": [
    "predictions_to_return = 5\n",
    "preds = model.predict(image)[0]\n",
    "top_preds = np.argsort(preds)[::-1][0:predictions_to_return]\n",
    "\n",
    "print(top_preds)\n",
    "# load the class label\n",
    "file_name = 'categories_places365.txt'\n",
    "if not os.access(file_name, os.W_OK):\n",
    "    synset_url = 'https://raw.githubusercontent.com/csailvision/places365/master/categories_places365.txt'\n",
    "    os.system('wget ' + synset_url)\n",
    "classes = list()\n",
    "\n",
    "with open(file_name) as class_file:\n",
    "    for line in class_file:\n",
    "        classes.append(line.strip().split(' ')[0][3:])\n",
    "        \n",
    "classes = tuple(classes)\n",
    "\n",
    "print('--SCENE CATEGORIES:')\n",
    "# output the prediction\n",
    "for i in range(0, 5):\n",
    "    print(classes[top_preds[i]])\n",
    "\n",
    "# --PREDICTED SCENE CATEGORIES:\n",
    "# cafeteria\n",
    "# food_court\n",
    "# restaurant_patio\n",
    "# banquet_hall"
   ]
  }
 ],
 "metadata": {
  "kernelspec": {
   "display_name": "Python 3",
   "language": "python",
   "name": "python3"
  },
  "language_info": {
   "codemirror_mode": {
    "name": "ipython",
    "version": 3
   },
   "file_extension": ".py",
   "mimetype": "text/x-python",
   "name": "python",
   "nbconvert_exporter": "python",
   "pygments_lexer": "ipython3",
   "version": "3.6.8"
  }
 },
 "nbformat": 4,
 "nbformat_minor": 2
}
