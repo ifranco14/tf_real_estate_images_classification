{
 "cells": [
  {
   "cell_type": "code",
   "execution_count": 1,
   "metadata": {},
   "outputs": [],
   "source": [
    "from __future__ import absolute_import, division, print_function, unicode_literals\n",
    "\n",
    "import tensorflow as tf\n",
    "from tensorflow import keras\n",
    "\n",
    "tf.keras.backend.clear_session()"
   ]
  },
  {
   "cell_type": "code",
   "execution_count": 2,
   "metadata": {},
   "outputs": [
    {
     "name": "stderr",
     "output_type": "stream",
     "text": [
      "Using TensorFlow backend.\n"
     ]
    }
   ],
   "source": [
    "from src.models import base_model, cnn_model\n",
    "from src import custom_losses, custom_metrics, optimizers\n",
    "from src.data import data"
   ]
  },
  {
   "cell_type": "code",
   "execution_count": 3,
   "metadata": {},
   "outputs": [],
   "source": [
    "from importlib import reload"
   ]
  },
  {
   "cell_type": "code",
   "execution_count": 4,
   "metadata": {},
   "outputs": [],
   "source": [
    "paths = data.PATH()"
   ]
  },
  {
   "cell_type": "code",
   "execution_count": 5,
   "metadata": {},
   "outputs": [],
   "source": [
    "dataset_path = f'{paths.PROCESSED_DATA_PATH}/REI-Dataset/'"
   ]
  },
  {
   "cell_type": "code",
   "execution_count": 6,
   "metadata": {},
   "outputs": [],
   "source": [
    "model_path = '/home/ifranco/Documents/facultad/tesis/tf_real_estate_images_classification//models/CNN_Model/2019-11-17__21_10'"
   ]
  },
  {
   "cell_type": "code",
   "execution_count": 7,
   "metadata": {},
   "outputs": [],
   "source": [
    "batch_size = 64\n",
    "n_classes = 6\n",
    "epochs = 100\n",
    "img_size = 128\n",
    "n_channels = 3"
   ]
  },
  {
   "cell_type": "code",
   "execution_count": 8,
   "metadata": {},
   "outputs": [
    {
     "name": "stderr",
     "output_type": "stream",
     "text": [
      "WARNING: Logging before flag parsing goes to stderr.\n",
      "W1119 17:01:22.453907 140444158392128 deprecation_wrapper.py:119] From /home/ifranco/Documents/facultad/tesis/tesis_env/lib/python3.6/site-packages/keras/backend/tensorflow_backend.py:4070: The name tf.nn.max_pool is deprecated. Please use tf.nn.max_pool2d instead.\n",
      "\n"
     ]
    }
   ],
   "source": [
    "model = cnn_model.CNN_Model(batch_size, n_classes, epochs, img_size, n_channels)"
   ]
  },
  {
   "cell_type": "code",
   "execution_count": 9,
   "metadata": {},
   "outputs": [],
   "source": [
    "steps_per_epoch = 4700\n",
    "validation_steps = int(steps_per_epoch*0.1 )"
   ]
  },
  {
   "cell_type": "code",
   "execution_count": 10,
   "metadata": {},
   "outputs": [
    {
     "name": "stdout",
     "output_type": "stream",
     "text": [
      "Found 6 images belonging to 6 classes.\n",
      "Found 6 images belonging to 6 classes.\n"
     ]
    }
   ],
   "source": [
    "train_generator, validation_generator = model.get_image_data_generator(dataset_path, train=True, validation=True)\n",
    "weights = model.get_class_weights(train_generator.classes, model)\n",
    "model.compile(loss=custom_losses.weighted_categorical_crossentropy(weights), metrics=['categorical_accuracy'],)\n",
    "#model.compile(loss='categorical_crossentropy', metrics=['categorical_accuracy'],)"
   ]
  },
  {
   "cell_type": "code",
   "execution_count": 11,
   "metadata": {},
   "outputs": [],
   "source": [
    "steps_per_epoch = len(train_generator.classes)"
   ]
  },
  {
   "cell_type": "code",
   "execution_count": 12,
   "metadata": {},
   "outputs": [],
   "source": [
    "validation_steps = len(validation_generator.classes)"
   ]
  },
  {
   "cell_type": "code",
   "execution_count": 13,
   "metadata": {
    "scrolled": false
   },
   "outputs": [
    {
     "name": "stderr",
     "output_type": "stream",
     "text": [
      "W1119 17:01:23.124614 140444158392128 deprecation_wrapper.py:119] From /home/ifranco/Documents/facultad/tesis/tf_real_estate_images_classification/src/models/base_model.py:372: The name tf.global_variables_initializer is deprecated. Please use tf.compat.v1.global_variables_initializer instead.\n",
      "\n",
      "W1119 17:01:23.127651 140444158392128 deprecation_wrapper.py:119] From /home/ifranco/Documents/facultad/tesis/tf_real_estate_images_classification/src/models/base_model.py:373: The name tf.local_variables_initializer is deprecated. Please use tf.compat.v1.local_variables_initializer instead.\n",
      "\n",
      "W1119 17:01:23.129563 140444158392128 deprecation_wrapper.py:119] From /home/ifranco/Documents/facultad/tesis/tf_real_estate_images_classification/src/models/base_model.py:374: The name tf.keras.backend.get_session is deprecated. Please use tf.compat.v1.keras.backend.get_session instead.\n",
      "\n"
     ]
    },
    {
     "name": "stdout",
     "output_type": "stream",
     "text": [
      "class_weights [1. 1. 1. 1. 1. 1.]\n",
      "**** Class weights ****\n",
      "[1. 1. 1. 1. 1. 1.]\n",
      "*** ** *** *** *** ** ***\n"
     ]
    },
    {
     "name": "stderr",
     "output_type": "stream",
     "text": [
      "W1119 17:01:24.311380 140444158392128 deprecation.py:323] From /home/ifranco/Documents/facultad/tesis/tesis_env/lib/python3.6/site-packages/tensorflow/python/ops/math_grad.py:1250: add_dispatch_support.<locals>.wrapper (from tensorflow.python.ops.array_ops) is deprecated and will be removed in a future version.\n",
      "Instructions for updating:\n",
      "Use tf.where in 2.0, which has the same broadcast rule as np.where\n",
      "W1119 17:01:26.293156 140444158392128 deprecation_wrapper.py:119] From /home/ifranco/Documents/facultad/tesis/tesis_env/lib/python3.6/site-packages/keras/backend/tensorflow_backend.py:422: The name tf.global_variables is deprecated. Please use tf.compat.v1.global_variables instead.\n",
      "\n"
     ]
    },
    {
     "name": "stdout",
     "output_type": "stream",
     "text": [
      "Epoch 1/100\n",
      "6/6 [==============================] - 3s 453ms/step - loss: 2.7051 - categorical_accuracy: 0.1944 - val_loss: 1.7574 - val_categorical_accuracy: 0.6667\n",
      "Epoch 2/100\n",
      "6/6 [==============================] - 1s 167ms/step - loss: 1.3624 - categorical_accuracy: 0.6111 - val_loss: 0.9090 - val_categorical_accuracy: 0.5000\n",
      "Epoch 3/100\n",
      "6/6 [==============================] - 1s 175ms/step - loss: 0.1943 - categorical_accuracy: 0.9167 - val_loss: 5.9356e-04 - val_categorical_accuracy: 1.0000\n",
      "Epoch 4/100\n",
      "6/6 [==============================] - 1s 166ms/step - loss: 1.6915e-04 - categorical_accuracy: 1.0000 - val_loss: 4.7579e-04 - val_categorical_accuracy: 1.0000\n",
      "Epoch 5/100\n",
      "6/6 [==============================] - 1s 169ms/step - loss: 1.0963e-04 - categorical_accuracy: 1.0000 - val_loss: 4.3477e-05 - val_categorical_accuracy: 1.0000\n",
      "Epoch 6/100\n",
      "6/6 [==============================] - 1s 178ms/step - loss: 8.6271e-06 - categorical_accuracy: 1.0000 - val_loss: 1.1921e-07 - val_categorical_accuracy: 1.0000\n",
      "Epoch 7/100\n",
      "6/6 [==============================] - 1s 179ms/step - loss: 1.1921e-07 - categorical_accuracy: 1.0000 - val_loss: 1.1921e-07 - val_categorical_accuracy: 1.0000\n",
      "Epoch 8/100\n",
      "6/6 [==============================] - 1s 186ms/step - loss: 1.1921e-07 - categorical_accuracy: 1.0000 - val_loss: 1.1921e-07 - val_categorical_accuracy: 1.0000\n",
      "Epoch 9/100\n",
      "6/6 [==============================] - 1s 187ms/step - loss: 1.1921e-07 - categorical_accuracy: 1.0000 - val_loss: 1.1921e-07 - val_categorical_accuracy: 1.0000\n",
      "Epoch 10/100\n",
      "6/6 [==============================] - 1s 180ms/step - loss: 1.1921e-07 - categorical_accuracy: 1.0000 - val_loss: 1.1921e-07 - val_categorical_accuracy: 1.0000\n",
      "Epoch 11/100\n",
      "6/6 [==============================] - 1s 168ms/step - loss: 1.1921e-07 - categorical_accuracy: 1.0000 - val_loss: 1.1921e-07 - val_categorical_accuracy: 1.0000\n",
      "Found 6 images belonging to 6 classes.\n",
      "Found 6 images belonging to 1 classes.\n",
      "Found 6 images belonging to 6 classes.\n",
      "Scores: [1.1920930376163597e-07, 1.0]\n"
     ]
    }
   ],
   "source": [
    "model.fit_from_generator(path=dataset_path,\n",
    "                         train_steps_per_epoch=steps_per_epoch, validation_steps_per_epoch=validation_steps, \n",
    "                         train_generator=train_generator, validation_generator=validation_generator,\n",
    "                         evaluate_net=True, use_model_check_point=False, use_early_stop=True, weighted=True)"
   ]
  },
  {
   "cell_type": "code",
   "execution_count": null,
   "metadata": {},
   "outputs": [],
   "source": []
  },
  {
   "cell_type": "code",
   "execution_count": null,
   "metadata": {},
   "outputs": [],
   "source": []
  },
  {
   "cell_type": "code",
   "execution_count": null,
   "metadata": {},
   "outputs": [],
   "source": [
    "model.model_path"
   ]
  },
  {
   "cell_type": "code",
   "execution_count": 14,
   "metadata": {},
   "outputs": [
    {
     "name": "stdout",
     "output_type": "stream",
     "text": [
      "weights-improvement-05-13.87.hdf5  weights-improvement-10-13.86.hdf5\r\n"
     ]
    }
   ],
   "source": [
    "!ls '/home/ifranco/Documents/facultad/tesis/tf_real_estate_images_classification//models/MLP_Model/2019-11-16__18_00/'"
   ]
  },
  {
   "cell_type": "code",
   "execution_count": null,
   "metadata": {},
   "outputs": [],
   "source": [
    "model.scores"
   ]
  },
  {
   "cell_type": "code",
   "execution_count": null,
   "metadata": {},
   "outputs": [],
   "source": [
    "m = model.load_model(model.model_path)"
   ]
  },
  {
   "cell_type": "code",
   "execution_count": null,
   "metadata": {},
   "outputs": [],
   "source": [
    "m.evaluate_from_generator(dataset_path)"
   ]
  }
 ],
 "metadata": {
  "kernelspec": {
   "display_name": "Python 3",
   "language": "python",
   "name": "python3"
  },
  "language_info": {
   "codemirror_mode": {
    "name": "ipython",
    "version": 3
   },
   "file_extension": ".py",
   "mimetype": "text/x-python",
   "name": "python",
   "nbconvert_exporter": "python",
   "pygments_lexer": "ipython3",
   "version": "3.6.8"
  }
 },
 "nbformat": 4,
 "nbformat_minor": 2
}
